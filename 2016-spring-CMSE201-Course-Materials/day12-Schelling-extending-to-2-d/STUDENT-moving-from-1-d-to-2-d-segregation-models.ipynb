{
 "cells": [
  {
   "cell_type": "markdown",
   "metadata": {},
   "source": [
    "# Extending Dynamic Models of Segregation to 2-D\n",
    "\n",
    "Today we're going to use a game-based simulation by **Nicky Case** to try to see how small-scale individual preferences can have larger effects on society."
   ]
  },
  {
   "cell_type": "markdown",
   "metadata": {},
   "source": [
    "## Group members"
   ]
  },
  {
   "cell_type": "markdown",
   "metadata": {},
   "source": [
    "// Put Group Members Here"
   ]
  },
  {
   "cell_type": "markdown",
   "metadata": {},
   "source": [
    "# Learning Goals\n",
    "\n",
    "We want you to:\n",
    "\n",
    "- Continue to develop your intuition about emergent phenomena\n",
    "- Think about how they play out at larger scales\n",
    "- Build your own version of this simulation"
   ]
  },
  {
   "cell_type": "markdown",
   "metadata": {},
   "source": [
    "# Move shapes manually to make them happier\n",
    "\n",
    "Last time, we worked with a one-dimensional line of coins. This time, we're [knockin' it up a notch](https://youtu.be/o4BOZcDMw_A) by adding a second dimension.\n",
    "\n",
    "## [Click Here to play several rounds of the 2-d game game](http://ncase.me/polygons/)\n",
    "\n",
    "![Knock it up a notch](http://i138.photobucket.com/albums/q267/SpaceMaNy0/elzarBAM.jpg)"
   ]
  },
  {
   "cell_type": "markdown",
   "metadata": {
    "collapsed": true
   },
   "source": [
    "# Running 2-d simulations"
   ]
  },
  {
   "cell_type": "markdown",
   "metadata": {
    "collapsed": true
   },
   "source": [
    "In this next bit, code (instead of you) tries to move move unhappy shapes to empty spots. There's also a graph that tracks how much segregation there is over time.\n",
    "\n",
    "## [Click Here to run some 2-dimensional simulations](http://ncase.me/polygons#mini_neighborhood):"
   ]
  },
  {
   "cell_type": "markdown",
   "metadata": {},
   "source": [
    "# Adjusting individual shape preferences during the simulation"
   ]
  },
  {
   "cell_type": "markdown",
   "metadata": {},
   "source": [
    "Now we have the ability to adjust the \"bias\" of individual shapes using a slider. The rule is, a shape wants to move if fewer than $x\\%$ of its neighbors are like it.\n",
    "\n",
    "## [Click Here to run simulations with different biases](http://ncase.me/polygons#mini_checkerboard)"
   ]
  },
  {
   "cell_type": "markdown",
   "metadata": {},
   "source": [
    "# Start with a segregated world\n",
    "\n",
    "As the site's creator Nicky Case says:\n",
    "\n",
    "> So yeah, just turn everyone's bias down to zero, right? Haha, NOPE. The real world doesn't start anew with a random shuffling of citizens every day. Everyday, you're not shuffling.\n",
    "\n",
    "## [Click Here to run simulations where you start with a segregated world](http://ncase.me/polygons/#mini_bias_1)"
   ]
  },
  {
   "cell_type": "markdown",
   "metadata": {},
   "source": [
    "# Introducing Anti-Bias\n",
    "\n",
    "We've until now talked about moving if **not enough people are like you**. But what if we added another constraint: moving if **too many people are like you**?\n",
    "\n"
   ]
  },
  {
   "cell_type": "markdown",
   "metadata": {},
   "source": [
    "## BEFORE YOU PLAY - predict what you think will happen\n",
    "\n",
    "- Predict what you think will happen when you set the bias and anti-bias to particular values\n",
    "- Run the simulation\n",
    "- Observe the result\n",
    "- Reflect on how your prediction played out"
   ]
  },
  {
   "cell_type": "markdown",
   "metadata": {},
   "source": [
    "## [Click Here to play with anti-bias](http://ncase.me/polygons/#mini_nonconform)"
   ]
  },
  {
   "cell_type": "markdown",
   "metadata": {},
   "source": [
    "## Explain why this is happening\n",
    "\n",
    "![What is this I don't even](https://s-media-cache-ak0.pinimg.com/236x/62/e9/a5/62e9a5ef4462d20ef3c65053e0a17626.jpg)\n",
    "\n",
    "It seems like adding this one additional complication (an extra slider endpoint) changed the dynamics of the system. Can you try to explain why?"
   ]
  },
  {
   "cell_type": "markdown",
   "metadata": {},
   "source": [
    "// Put your explanation here."
   ]
  },
  {
   "cell_type": "markdown",
   "metadata": {
    "collapsed": true
   },
   "source": [
    "# Homework: Make a 2-d simulation of your own in Python\n",
    "\n",
    "Your next homework assignment will be to make a 2D version of this simulation in Python."
   ]
  },
  {
   "cell_type": "markdown",
   "metadata": {},
   "source": [
    "# Wrapup\n",
    "\n",
    "**Question:** After this assignment, do you have any remaining questions?"
   ]
  },
  {
   "cell_type": "markdown",
   "metadata": {},
   "source": [
    "// Put your questions here."
   ]
  },
  {
   "cell_type": "markdown",
   "metadata": {
    "collapsed": true
   },
   "source": [
    "# Submitting this assignment\n",
    "\n",
    "Submit this assignment by uploading it to the course Desire2Learn web page.  Go to the \"In-Class-Activities\" folder, find the dropbox link for Day 12, and upload it there.\n",
    "\n",
    "Have a Great Day!"
   ]
  }
 ],
 "metadata": {
  "kernelspec": {
   "display_name": "Python 3",
   "language": "python",
   "name": "python3"
  },
  "language_info": {
   "codemirror_mode": {
    "name": "ipython",
    "version": 3
   },
   "file_extension": ".py",
   "mimetype": "text/x-python",
   "name": "python",
   "nbconvert_exporter": "python",
   "pygments_lexer": "ipython3",
   "version": "3.5.1"
  },
  "toc": {
   "toc_cell": false,
   "toc_number_sections": true,
   "toc_threshold": 4,
   "toc_window_display": false
  },
  "toc_position": {
   "left": "1088px",
   "right": "20px",
   "top": "120px",
   "width": "300px"
  }
 },
 "nbformat": 4,
 "nbformat_minor": 0
}
