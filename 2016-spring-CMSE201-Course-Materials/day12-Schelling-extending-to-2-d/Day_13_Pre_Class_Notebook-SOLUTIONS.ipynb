{
 "cells": [
  {
   "cell_type": "markdown",
   "metadata": {},
   "source": [
    "# Pre-class assignment for Monday, Feb. 29th\n",
    "\n",
    "In today's pre-class assignment, you are going to create a function that determines whether or not an element in a list is \"happy\" according to the Schelling criteria defined this past week.  \n",
    "\n",
    "**Schelling's model for happiness:** Recall that in a 1D line of stars and zeros (to use Schelling's terminology), an element is \"happy\" if at least half of its neighbors (defined as the four elements to the left and four elements to the right) are like it, and \"unhappy\" otherwise.  For those near the end of the line the rule is that, of the four neighbors on the side toward the center plus the one, two or three outborad neighbors, at least half must be like oneself.\n",
    "\n",
    "Your goal is to create a function called ```is_happy``` that takes in:\n",
    "\n",
    "1. A list of zeros and ones that is N elements long, which corresponds to the two \n",
    "2. An integer that corresponds to a position ```I``` in that list (```I``` can range from 0 to N-1, since those are the legal elements in the list.)\n",
    "\n",
    "This function will return ```True``` if the element at position ```I``` is happy, and ```False``` if not.\n",
    "\n",
    "You should demonstrate that the function returns the correct value for several elements in the list provided below (```test_list```), including list values near both ends!"
   ]
  },
  {
   "cell_type": "code",
   "execution_count": 3,
   "metadata": {
    "collapsed": false
   },
   "outputs": [
    {
     "name": "stdout",
     "output_type": "stream",
     "text": [
      "[1, 0, 1, 0, 1, 0, 0, 1, 1, 1, 0, 0, 1, 1, 0, 0, 1, 1, 0, 0, 1, 0, 1, 0, 0, 1, 0, 0, 0, 0, 1, 1] list size: 32\n"
     ]
    }
   ],
   "source": [
    "# this code generates a list called test_list that will be the same every time!\n",
    "import random\n",
    "\n",
    "# can change this to get different sized lists\n",
    "size_of_list = 32 \n",
    "\n",
    "# random seed is set manually to ensure that the list is always the same\n",
    "random.seed(8675309)\n",
    "\n",
    "test_list = []\n",
    "\n",
    "for i in range(size_of_list):\n",
    "    test_list.append(random.randint(0,1))\n",
    "\n",
    "print(test_list, \"list size:\", len(test_list))"
   ]
  },
  {
   "cell_type": "code",
   "execution_count": 20,
   "metadata": {
    "collapsed": false
   },
   "outputs": [],
   "source": [
    "# Our function will loop over a range between start and end, checking neighbors.  This includes\n",
    "# the value at position \"index\" as well, so for something to be happy more than half of the\n",
    "# neighbors need to be like the value at position \"index\"\n",
    "\n",
    "def is_happy(list, index):\n",
    "\n",
    "    # do some error-checking (is the index within the allowed range?)\n",
    "    if index < 0 or index > len(list)-1:\n",
    "        print(\"you've made an indexing error!\")\n",
    "    \n",
    "    start = index-4  # start 4 to the left\n",
    "    end = index+5  # end 5 to the right (since the range() goes to 1 before end)\n",
    "    \n",
    "    # if the starting value is out of bounds, fix it\n",
    "    if start < 0:\n",
    "        start = 0\n",
    "    \n",
    "    # if the ending value is out of bounds, fix it.  note that we want to go to \n",
    "    # len(list), not len(list)-1, because range() goes to 1 before the end of \n",
    "    # the range!\n",
    "    if end > len(list):\n",
    "        end = len(list)\n",
    "\n",
    "    # keep track of the neighbors that are like me\n",
    "    neighbors_like_me = 0\n",
    "    \n",
    "    # keep track of total neighbors\n",
    "    total_neighbors = 0\n",
    "    \n",
    "    # loop over the specified range\n",
    "    for i in range(start,end):\n",
    "        if list[i] == list[index]:  # if this neighbor is like me, keep track of that\n",
    "            neighbors_like_me += 1\n",
    "        total_neighbors+=1  # also keep track of total neighbors\n",
    "    \n",
    "    # happy if more than half are like me, unhappy otherwise\n",
    "    if neighbors_like_me/total_neighbors > 0.5:\n",
    "        return True\n",
    "    else:\n",
    "        return False\n",
    "    "
   ]
  },
  {
   "cell_type": "code",
   "execution_count": 21,
   "metadata": {
    "collapsed": false
   },
   "outputs": [
    {
     "name": "stdout",
     "output_type": "stream",
     "text": [
      "[1, 0, 1, 0, 1, 0, 0, 1, 1, 1, 0, 0, 1, 1, 0, 0, 1, 1, 0, 0, 1, 0, 1, 0, 0, 1, 0, 0, 0, 0, 1, 1]\n",
      "index 0: True\n",
      "index 1: False\n",
      "index 2: False\n",
      "index 3: False\n",
      "index 4: True\n",
      "index 5: False\n",
      "index 10: False\n",
      "index 15: True\n",
      "index 20: False\n",
      "index 26 : True\n",
      "index 27 : True\n",
      "index 28 : True\n",
      "index 29 : True\n",
      "index 30 : False\n",
      "index 31 : False\n"
     ]
    }
   ],
   "source": [
    "# test your function here!  Test several indices, including those near and exactly at the ends!\n",
    "# you should look at the list provided above and determine by hand if each of the elements should\n",
    "# be happy or not.\n",
    "\n",
    "print(test_list)\n",
    "print(\"index 0:\", is_happy(test_list,0))\n",
    "print(\"index 1:\", is_happy(test_list,1))\n",
    "print(\"index 2:\", is_happy(test_list,2))\n",
    "print(\"index 3:\", is_happy(test_list,3))\n",
    "print(\"index 4:\", is_happy(test_list,4))\n",
    "print(\"index 5:\", is_happy(test_list,5))\n",
    "print(\"index 10:\", is_happy(test_list,10))\n",
    "print(\"index 15:\", is_happy(test_list,15))\n",
    "print(\"index 20:\", is_happy(test_list,20))\n",
    "print(\"index\",len(test_list)-6,\":\", is_happy(test_list,len(test_list)-6))\n",
    "print(\"index\",len(test_list)-5,\":\", is_happy(test_list,len(test_list)-5))\n",
    "print(\"index\",len(test_list)-4,\":\", is_happy(test_list,len(test_list)-4))\n",
    "print(\"index\",len(test_list)-3,\":\", is_happy(test_list,len(test_list)-3))\n",
    "print(\"index\",len(test_list)-2,\":\", is_happy(test_list,len(test_list)-2))\n",
    "print(\"index\",len(test_list)-1,\":\", is_happy(test_list,len(test_list)-1))\n"
   ]
  }
 ],
 "metadata": {
  "kernelspec": {
   "display_name": "Python 3",
   "language": "python",
   "name": "python3"
  },
  "language_info": {
   "codemirror_mode": {
    "name": "ipython",
    "version": 3
   },
   "file_extension": ".py",
   "mimetype": "text/x-python",
   "name": "python",
   "nbconvert_exporter": "python",
   "pygments_lexer": "ipython3",
   "version": "3.5.1"
  }
 },
 "nbformat": 4,
 "nbformat_minor": 0
}
