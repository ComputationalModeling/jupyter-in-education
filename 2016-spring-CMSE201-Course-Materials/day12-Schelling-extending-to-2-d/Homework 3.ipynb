{
 "cells": [
  {
   "cell_type": "markdown",
   "metadata": {},
   "source": [
    "## Create Python code that can do **ALL** of the following things:\n",
    "\n",
    "### Setup\n",
    "\n",
    "- Create a 20 x 20 board\n",
    "- Put a starting configuration of shapes on the board\n",
    "- Make sure you leave empty slots so shapes can move\n",
    "- Plot the board (we'll need to see it so we can see what's happening)\n",
    "\n",
    "### Run\n",
    "\n",
    "- Determine when a shape is unhappy\n",
    "- Move unhappy shapes\n",
    "- Continue to update the plot so the user can always see the current state of the board\n",
    "\n",
    "### Stop\n",
    "\n",
    "- Your simulation needs to be able to stop. It's up to you to decide what the stop condition is, and to figure out how to make sure that your code doesn't run forever."
   ]
  },
  {
   "cell_type": "code",
   "execution_count": null,
   "metadata": {
    "collapsed": true
   },
   "outputs": [],
   "source": []
  }
 ],
 "metadata": {
  "kernelspec": {
   "display_name": "Python 3",
   "language": "python",
   "name": "python3"
  },
  "language_info": {
   "codemirror_mode": {
    "name": "ipython",
    "version": 3
   },
   "file_extension": ".py",
   "mimetype": "text/x-python",
   "name": "python",
   "nbconvert_exporter": "python",
   "pygments_lexer": "ipython3",
   "version": "3.5.1"
  }
 },
 "nbformat": 4,
 "nbformat_minor": 0
}
