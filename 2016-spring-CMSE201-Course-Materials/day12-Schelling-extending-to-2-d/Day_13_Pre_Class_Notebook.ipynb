{
 "cells": [
  {
   "cell_type": "markdown",
   "metadata": {},
   "source": [
    "# Pre-class assignment for Monday, Feb. 29th\n",
    "\n",
    "In today's pre-class assignment, you are going to create a function that determines whether or not an element in a list is \"happy\" according to the Schelling criteria defined this past week.  \n",
    "\n",
    "**Schelling's model for happiness:** Recall that in a 1D line of stars and zeros (to use Schelling's terminology), an element is \"happy\" if at least half of its neighbors (defined as the four elements to the left and four elements to the right) are like it, and \"unhappy\" otherwise.  For those near the end of the line the rule is that, of the four neighbors on the side toward the center plus the one, two or three outborad neighbors, at least half must be like oneself.\n",
    "\n",
    "Your goal is to create a function called ```is_happy``` that takes in:\n",
    "\n",
    "1. A list of zeros and ones that is N elements long, which corresponds to the two \n",
    "2. An integer that corresponds to a position ```I``` in that list (```I``` can range from 0 to N-1, since those are the legal elements in the list.)\n",
    "\n",
    "This function will return ```True``` if the element at position ```I``` is happy, and ```False``` if not.\n",
    "\n",
    "You should demonstrate that the function returns the correct value for several elements in the list provided below (```test_list```), including list values near both ends!"
   ]
  },
  {
   "cell_type": "code",
   "execution_count": null,
   "metadata": {
    "collapsed": false
   },
   "outputs": [],
   "source": [
    "# this code generates a list called test_list that will be the same every time!\n",
    "import random\n",
    "\n",
    "# can change this to get different sized lists\n",
    "size_of_list = 32 \n",
    "\n",
    "# random seed is set manually to ensure that the list is always the same\n",
    "random.seed(8675309)\n",
    "\n",
    "test_list = []\n",
    "\n",
    "for i in range(size_of_list):\n",
    "    test_list.append(random.randint(0,1))\n",
    "\n",
    "print(test_list, \"list size:\", len(test_list))"
   ]
  },
  {
   "cell_type": "code",
   "execution_count": null,
   "metadata": {
    "collapsed": false
   },
   "outputs": [],
   "source": [
    "# create your function here!\n",
    "\n",
    "def is_happy(list, index):\n",
    "    # put your code here!\n",
    "\n",
    "    return False  # you will want to change this!\n",
    "\n"
   ]
  },
  {
   "cell_type": "code",
   "execution_count": null,
   "metadata": {
    "collapsed": false
   },
   "outputs": [],
   "source": [
    "# test your function here!  Test several indices, including those near and exactly at the ends!\n",
    "# you should look at the list provided above and determine by hand if each of the elements should\n",
    "# be happy or not.\n",
    "\n",
    "print(\"index 0:\", is_happy(test_list,0))\n",
    "print(\"index 1:\", is_happy(test_list,1))\n",
    "print(\"index 2:\", is_happy(test_list,2))\n",
    "print(\"index 3:\", is_happy(test_list,3))\n",
    "print(\"index 4:\", is_happy(test_list,4))\n",
    "print(\"index 5:\", is_happy(test_list,5))\n",
    "print(\"index 10:\", is_happy(test_list,10))\n",
    "print(\"index 15:\", is_happy(test_list,15))\n",
    "print(\"index 20:\", is_happy(test_list,20))\n",
    "print(\"index\",len(test_list)-6,\":\", is_happy(test_list,len(test_list)-6))\n",
    "print(\"index\",len(test_list)-5,\":\", is_happy(test_list,len(test_list)-5))\n",
    "print(\"index\",len(test_list)-4,\":\", is_happy(test_list,len(test_list)-4))\n",
    "print(\"index\",len(test_list)-3,\":\", is_happy(test_list,len(test_list)-3))\n",
    "print(\"index\",len(test_list)-2,\":\", is_happy(test_list,len(test_list)-2))\n",
    "print(\"index\",len(test_list)-1,\":\", is_happy(test_list,len(test_list)-1))\n"
   ]
  }
 ],
 "metadata": {
  "kernelspec": {
   "display_name": "Python 3",
   "language": "python",
   "name": "python3"
  },
  "language_info": {
   "codemirror_mode": {
    "name": "ipython",
    "version": 3
   },
   "file_extension": ".py",
   "mimetype": "text/x-python",
   "name": "python",
   "nbconvert_exporter": "python",
   "pygments_lexer": "ipython3",
   "version": "3.5.1"
  }
 },
 "nbformat": 4,
 "nbformat_minor": 0
}
