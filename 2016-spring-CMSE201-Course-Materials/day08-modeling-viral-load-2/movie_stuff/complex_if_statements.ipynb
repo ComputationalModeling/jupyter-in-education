{
 "cells": [
  {
   "cell_type": "code",
   "execution_count": null,
   "metadata": {
    "collapsed": false
   },
   "outputs": [],
   "source": [
    "x = -10\n",
    "\n",
    "if x < -2:\n",
    "    print(\"x less than -2!\")\n",
    "else: \n",
    "    print(\"x greater than or equal to -2\")\n",
    "    "
   ]
  },
  {
   "cell_type": "code",
   "execution_count": null,
   "metadata": {
    "collapsed": false
   },
   "outputs": [],
   "source": [
    "x = -1\n",
    "\n",
    "if x >= -10 and x <= -2:\n",
    "    print(\"x is between -10 and -2, inclusive\",x)\n",
    "else:\n",
    "    print(\"x is another number!\",x)"
   ]
  },
  {
   "cell_type": "code",
   "execution_count": null,
   "metadata": {
    "collapsed": true
   },
   "outputs": [],
   "source": [
    "animals = ['dog','cat','mouse','velociraptor','snake','Dog','Cat']"
   ]
  },
  {
   "cell_type": "code",
   "execution_count": null,
   "metadata": {
    "collapsed": false
   },
   "outputs": [],
   "source": [
    "for animal in animals:\n",
    "    print(animal)\n",
    "    if animal == 'dog' or animal == 'Dog':\n",
    "        print(\"woof!\")\n",
    "    elif animal == 'cat' or animal == 'Cat':\n",
    "        print(\"meow!\")\n",
    "    elif animal == 'mouse':\n",
    "        print(\"I like cheese!\")\n",
    "    elif animal == 'velociraptor':\n",
    "        print(\"you are extinct!\")\n",
    "    else:\n",
    "        print(\"you don't belong in my house!\")"
   ]
  },
  {
   "cell_type": "code",
   "execution_count": null,
   "metadata": {
    "collapsed": true
   },
   "outputs": [],
   "source": []
  }
 ],
 "metadata": {
  "kernelspec": {
   "display_name": "Python 3",
   "language": "python",
   "name": "python3"
  },
  "language_info": {
   "codemirror_mode": {
    "name": "ipython",
    "version": 3
   },
   "file_extension": ".py",
   "mimetype": "text/x-python",
   "name": "python",
   "nbconvert_exporter": "python",
   "pygments_lexer": "ipython3",
   "version": "3.5.1"
  }
 },
 "nbformat": 4,
 "nbformat_minor": 0
}
