{
 "cells": [
  {
   "cell_type": "code",
   "execution_count": null,
   "metadata": {
    "collapsed": false
   },
   "outputs": [],
   "source": [
    "my_list = ['deer','t-rex','dog','cat','fish','monkey','cow']\n",
    "\n",
    "animals_combined = \"\"  # this is an empty string\n",
    "\n",
    "for item in my_list:\n",
    "    if item == 'emu':\n",
    "        break\n",
    "    print(\"this animal is a\", item)\n",
    "    animals_combined += item + ' '\n",
    "else: \n",
    "    print(\"this is not the animal you are looking for\")\n",
    "\n",
    "print(animals_combined)"
   ]
  },
  {
   "cell_type": "code",
   "execution_count": null,
   "metadata": {
    "collapsed": true
   },
   "outputs": [],
   "source": []
  }
 ],
 "metadata": {
  "kernelspec": {
   "display_name": "Python 3",
   "language": "python",
   "name": "python3"
  },
  "language_info": {
   "codemirror_mode": {
    "name": "ipython",
    "version": 3
   },
   "file_extension": ".py",
   "mimetype": "text/x-python",
   "name": "python",
   "nbconvert_exporter": "python",
   "pygments_lexer": "ipython3",
   "version": "3.5.1"
  }
 },
 "nbformat": 4,
 "nbformat_minor": 0
}
