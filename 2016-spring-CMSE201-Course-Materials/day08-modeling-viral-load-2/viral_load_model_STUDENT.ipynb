{
 "cells": [
  {
   "cell_type": "markdown",
   "metadata": {},
   "source": [
    "# Viral load modeling - the predictive version"
   ]
  },
  {
   "cell_type": "markdown",
   "metadata": {},
   "source": [
    "## Names of group members"
   ]
  },
  {
   "cell_type": "markdown",
   "metadata": {},
   "source": [
    "put your names here!"
   ]
  },
  {
   "cell_type": "markdown",
   "metadata": {},
   "source": [
    "## Goal of this assignment\n",
    "\n",
    "The main goal of this assignment is to model a biological process (namely, the competition between viruses and the human body's immune system) in a mathematical way, and in doing so reproduce the data points that your group was empirically fitting in the last assignment."
   ]
  },
  {
   "cell_type": "markdown",
   "metadata": {},
   "source": [
    "## Some background knowledge we need for this model\n",
    "\n",
    "Viruses multiply in more than one way.  One of the most common is called the [Lytic Cycle](https://en.wikipedia.org/wiki/Lytic_cycle), and the other is the [Lysogenic Cycle](https://en.wikipedia.org/wiki/Lysogenic_cycle).  Both cycles are similar in that the virus takes cells hostage and use the cell's resources to multiply, making many copies of itself.  Once enough new viruses are produced inside the cell it bursts, and the newly-created viruses then are released into the bloodstream to carry on the process and search for new host cells to invade.\n",
    "\n",
    "[Antiviral drugs](https://en.wikipedia.org/wiki/Antiviral_drug) behave differently than [antibiotics](https://en.wikipedia.org/wiki/Antibiotics) - rather than directly destroying the virus population in a patient, they instead generally inhibit the creation of new viruses by preventing viruses from entering target cells, by preventing the viruses from synthesizing new viruses once they have invaded new cells, or by preventing the release of newly-created viruses from the host cell.\n",
    "\n",
    "In general, we can think of what happenes to an infected patient that has been administered an antiviral drug using a simple model.  The key points are:\n",
    "\n",
    "* Viruses multiply rapidly if uninhibited by the body's immune system and infect cells at a rate that is proportional to the number of virions (virus particles), $N_v$, that are in the bloodstream. In other words, $\\frac{dN_I}{dt}$, the rate at which the number of cells that are infected ($N_I$) changes, depends on $N_v$ and the time scale for multiplication $t_{mul}$.  $N_v$ in turn depends on the number of infected cells and the number of virions produced per infected cell, $\\gamma$.\n",
    "* As antiviral drugs are administered at a constant rate, it takes some amount of time $T_{crit}$ for the amount of drug in the bloodstream to reach a high enough level that it suppresses the formation of new viruses.  (This time varies from patient to patient, but is typically one day to a few days.)\n",
    "* After the drug takes effect, we can assume that cell infection immediately stops.  After infection stops, the number of infected cells $N_I$ decreases at a rate $\\frac{dN_I}{dt} = -N_{I}/t_{rel}$, where $t_{rel}$ is the time scale on which infected cells release virions into the bloodstream and die.\n",
    "* Once cells can no longer be infected, virions are released into the bloodstream through the death of previously infected cells.  The rate at which these virions are released  behaves as $\\frac{dN_v}{dt} = \\gamma N_{I}/t_{rel}$.\n",
    "* The body clears virions out of the body at a rate that depends on the amount of virions that are in the bloodstream, $\\frac{dN_v}{dt} = -N_v/t_{clr}$  ($N_v$ is the number of virions in the bloodstream and $t_{clr}$ is the time scale on which virions are cleared from the body).\n"
   ]
  },
  {
   "cell_type": "markdown",
   "metadata": {},
   "source": [
    "## Your mission\n",
    "\n",
    "You have a mission that will take place in three parts:\n",
    "\n",
    "1. Using the information above and your whiteboards, create a mathematical model for how the viral load in the bloodstream, $N_v$, varies as a function of time.  Don't use numbers - just symbols!\n",
    "2. After you are happy with your model (and after you've talked to one of the instructors about it), figure out how to implement it as a computer program.  Do so below! \n",
    "3. Compare the shape of the plot created by your model to the data from the HIV viral load project you just completed.  How do they compare?  (Suggestion: assume that all of the time scales in your model are roughly equal, and roughly a day, and vary them from there.)"
   ]
  },
  {
   "cell_type": "code",
   "execution_count": null,
   "metadata": {
    "collapsed": true
   },
   "outputs": [],
   "source": [
    "# put your computer program here!"
   ]
  },
  {
   "cell_type": "markdown",
   "metadata": {},
   "source": [
    "## wrapup\n",
    "\n",
    "Do you have any lingering questions that remain after this project?"
   ]
  },
  {
   "cell_type": "markdown",
   "metadata": {},
   "source": [
    "put your answers here!"
   ]
  },
  {
   "cell_type": "markdown",
   "metadata": {},
   "source": [
    "## Turn it in!\n",
    "\n",
    "Whether you've completed it or not, turn this assignment in to the Day 8 dropbox in the \"in-class activities\" folder."
   ]
  },
  {
   "cell_type": "markdown",
   "metadata": {},
   "source": [
    "Note:  this assignment (as with the previous assignment) was inspired by Nelson's __Physical models of Living Systems__, Chapter 1, and Kinder and Nelson's __A Student's Guide to Python for Physical Modeling__, Chapter 4."
   ]
  }
 ],
 "metadata": {
  "kernelspec": {
   "display_name": "Python 3",
   "language": "python",
   "name": "python3"
  },
  "language_info": {
   "codemirror_mode": {
    "name": "ipython",
    "version": 3
   },
   "file_extension": ".py",
   "mimetype": "text/x-python",
   "name": "python",
   "nbconvert_exporter": "python",
   "pygments_lexer": "ipython3",
   "version": "3.5.1"
  }
 },
 "nbformat": 4,
 "nbformat_minor": 0
}
