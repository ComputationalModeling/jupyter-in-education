{
 "cells": [
  {
   "cell_type": "markdown",
   "metadata": {},
   "source": [
    "# Day 8 - pre-class assignment **SOLUTIONS**\n",
    "\n",
    "## Goals for today's pre-class assignment\n",
    "\n",
    "* Use complex if statements and loops to make decisions in a computer program"
   ]
  },
  {
   "cell_type": "markdown",
   "metadata": {},
   "source": [
    "## Assignment instructions\n",
    "\n",
    "Watch the videos below, read through Sections 4.1, 4.4, and 4.5 of the [Python Tutorial](https://docs.python.org/3/tutorial/controlflow.html), and complete the programming problems assigned below.\n",
    "\n",
    "**This assignment is due by 11:59 p.m. the day before class,** and should be uploaded into the \"Pre-class assignments\" dropbox folder for Day 8.  Submission instructions can be found at the end of the notebook."
   ]
  },
  {
   "cell_type": "code",
   "execution_count": null,
   "metadata": {
    "collapsed": true
   },
   "outputs": [],
   "source": [
    "# Imports the functionality that we need to display YouTube videos in a Jupyter Notebook.  \n",
    "# You need to run this cell before you run ANY of the YouTube videos.\n",
    "\n",
    "from IPython.display import YouTubeVideo "
   ]
  },
  {
   "cell_type": "code",
   "execution_count": null,
   "metadata": {
    "collapsed": false
   },
   "outputs": [],
   "source": [
    "# WATCH THE VIDEO IN FULL-SCREEN MODE\n",
    "\n",
    "YouTubeVideo(\"8_wSb927nH0\",width=640,height=360)  # Complex 'if' statements"
   ]
  },
  {
   "cell_type": "markdown",
   "metadata": {},
   "source": [
    "**Question 1:**  In the cell below, use numpy's 'arange' method to create an array filled with all of the integers between 1 and 10 (inclusive).  Loop through the array, and use if/elif/else to:\n",
    "\n",
    "1. Print out if the number is even or odd.\n",
    "2. Print out if the number is divisible by 3.\n",
    "3. Print out if the number is divisible by 5.\n",
    "4. If the number is not divisible by either 3 or 5, print out \"wow, that's disappointing.\" \n",
    "\n",
    "**Note 1:** You may need more than one if/elif/else statement to do this!\n",
    "\n",
    "**Note 2:** If you have a numpy array named ```my_numpy_array```, you don't necessarily have to use the numpy ```nditer``` method.  You can loop using the standard python syntax as well.  In other words:\n",
    "\n",
    "```\n",
    "for val in my_numpy_array:\n",
    "    print(val)\n",
    "```\n",
    "\n",
    "will work just fine."
   ]
  },
  {
   "cell_type": "code",
   "execution_count": null,
   "metadata": {
    "collapsed": false
   },
   "outputs": [],
   "source": [
    "# put your code here.\n",
    "\n",
    "import numpy as np\n",
    "\n",
    "my_array = np.arange(1,11)\n",
    "\n",
    "for val in my_array:\n",
    "    if val%2 == 0:\n",
    "        print(val, \"is even\")\n",
    "    else:\n",
    "        print(val, \"is odd\")\n",
    "    \n",
    "    if val%3 == 0:\n",
    "        print(val, \"is divisible by 3\")\n",
    "    elif val%5 == 0:\n",
    "        print(val, \"is divisible by 5\")\n",
    "    else:\n",
    "        print(val, \"wow, that's disappointing\")\n",
    "\n"
   ]
  },
  {
   "cell_type": "code",
   "execution_count": null,
   "metadata": {
    "collapsed": false
   },
   "outputs": [],
   "source": [
    "# WATCH THE VIDEO IN FULL-SCREEN MODE\n",
    "\n",
    "YouTubeVideo(\"MzZCeHB0CbE\",width=640,height=360)  # Complex 'if' statements"
   ]
  },
  {
   "cell_type": "markdown",
   "metadata": {},
   "source": [
    "**Question 2:**  In the space below, loop through the given array, breaking when you get to the first negative number.  Print out the value you're examining *after* you check for negative numbers.  Create a variable and set it to zero before the loop, and add each number in the list to it *after* the check for negative numbers.  What is that variable equal to after the loop?"
   ]
  },
  {
   "cell_type": "code",
   "execution_count": null,
   "metadata": {
    "collapsed": false
   },
   "outputs": [],
   "source": [
    "# put your code here.\n",
    "\n",
    "my_list = [1,3,17,23,9,-4,2,2,11,4,-7]\n",
    "\n",
    "sum = 0\n",
    "\n",
    "for val in my_list:\n",
    "    if val < 0:\n",
    "        break\n",
    "    print(val)\n",
    "    sum += val\n",
    "\n",
    "print(\"the sum after the loop is:\", sum)"
   ]
  },
  {
   "cell_type": "markdown",
   "metadata": {
    "collapsed": false
   },
   "source": [
    "**Question 3:**  In the space below, loop through the array given above, skipping every even number with the continue statement.  Print out the value you're examining *after* you check for even numbers.   Create a variable and set it to zero before the loop, and add each number in the list to it *after* the check for even numbers.  What is that variable equal to after the loop?"
   ]
  },
  {
   "cell_type": "code",
   "execution_count": null,
   "metadata": {
    "collapsed": false
   },
   "outputs": [],
   "source": [
    "# put your code here\n",
    "\n",
    "# put your code here.\n",
    "\n",
    "my_list = [1,3,17,23,9,-4,2,2,11,4,-7]\n",
    "\n",
    "sum = 0\n",
    "\n",
    "for val in my_list:\n",
    "    if val % 2 == 0:\n",
    "        continue\n",
    "    print(val)\n",
    "    sum += val\n",
    "\n",
    "print(\"the sum after the loop is:\", sum)"
   ]
  },
  {
   "cell_type": "markdown",
   "metadata": {},
   "source": [
    "**Question 4:** Copy and paste your code from question #2 above and change it in two ways:\n",
    "\n",
    "1. Modify the numbers in the array so the if/break statement is never called.\n",
    "2. There is an ```else``` clause after the end of the loop (*not* the end of the ```if``` statement!) that prints out \"yay, success!\" if the loop completes successfully, but not if it breaks.\n",
    "\n",
    "Verify that if you use the original array, the print statement in the ```else``` clause doesn't work!"
   ]
  },
  {
   "cell_type": "code",
   "execution_count": null,
   "metadata": {
    "collapsed": false
   },
   "outputs": [],
   "source": [
    "# put your code here!\n",
    "\n",
    "\n",
    "my_list = [1,3,17,23,9,-4,2,2,11,4,-7]\n",
    "\n",
    "sum = 0\n",
    "\n",
    "for val in my_list:\n",
    "    if val > 99:   # should never be called, because the values are too small!\n",
    "        break\n",
    "    print(val)\n",
    "    sum += val\n",
    "else:\n",
    "    print(\"yay, success!\")\n",
    "\n",
    "print(\"the sum after the loop is:\", sum)"
   ]
  },
  {
   "cell_type": "markdown",
   "metadata": {},
   "source": [
    "### Assignment wrapup\n",
    "\n",
    "**Question 5:** What questions do you have, if any, about any of the topics discussed in this assignment \n",
    "after watching the videos, reading the link to the Python tutorial, and trying to write the programs?"
   ]
  },
  {
   "cell_type": "markdown",
   "metadata": {},
   "source": [
    "Put your answer here!"
   ]
  },
  {
   "cell_type": "markdown",
   "metadata": {},
   "source": [
    "**Question 6:**  Do you have any further questions or comments about this material, or anything else that's going on in class?"
   ]
  },
  {
   "cell_type": "markdown",
   "metadata": {},
   "source": [
    "Put your answer here!"
   ]
  },
  {
   "cell_type": "markdown",
   "metadata": {},
   "source": [
    "**Question 7:**  How long did this assignment take you to complete?"
   ]
  },
  {
   "cell_type": "markdown",
   "metadata": {},
   "source": [
    "Put your answer here!"
   ]
  },
  {
   "cell_type": "markdown",
   "metadata": {},
   "source": [
    "### Congratulations, you're done!\n",
    "\n",
    "Submit this assignment by uploading it to the course Desire2Learn web page.  Go to the \"Pre-class assignments\" folder, find the dropbox link for Day 8, and upload it there.\n",
    "\n",
    "See you in class!"
   ]
  }
 ],
 "metadata": {
  "kernelspec": {
   "display_name": "Python 3",
   "language": "python",
   "name": "python3"
  },
  "language_info": {
   "codemirror_mode": {
    "name": "ipython",
    "version": 3
   },
   "file_extension": ".py",
   "mimetype": "text/x-python",
   "name": "python",
   "nbconvert_exporter": "python",
   "pygments_lexer": "ipython3",
   "version": "3.5.1"
  }
 },
 "nbformat": 4,
 "nbformat_minor": 0
}
