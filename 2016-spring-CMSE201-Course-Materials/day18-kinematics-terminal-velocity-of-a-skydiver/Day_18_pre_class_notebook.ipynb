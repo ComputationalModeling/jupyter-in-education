{
 "cells": [
  {
   "cell_type": "markdown",
   "metadata": {},
   "source": [
    "# Day 18 Pre-class assignment\n",
    "\n",
    "## Goals for today's pre-class assignment\n",
    "\n",
    "In this pre-class assignment, you are going to learn how to:\n",
    "\n",
    "* Numerically integrate a function\n",
    "* Numerically differentiate a function\n",
    "* Get a sense of how the result depends on the step size you use."
   ]
  },
  {
   "cell_type": "markdown",
   "metadata": {},
   "source": [
    "## Assignment instructions\n",
    "\n",
    "Watch the videos below and complete the assigned programming problems."
   ]
  },
  {
   "cell_type": "code",
   "execution_count": null,
   "metadata": {
    "collapsed": true
   },
   "outputs": [],
   "source": [
    "from IPython.display import YouTubeVideo "
   ]
  },
  {
   "cell_type": "code",
   "execution_count": null,
   "metadata": {
    "collapsed": false
   },
   "outputs": [],
   "source": [
    "# WATCH THE VIDEO IN FULL-SCREEN MODE\n",
    "\n",
    "YouTubeVideo(\"JXJQYpgFAyc\",width=640,height=360)  # Numerical integration"
   ]
  },
  {
   "cell_type": "markdown",
   "metadata": {},
   "source": [
    "**Question 1:**  Write a function that uses the rectangle rule to integrates $f(x) = \\sin(x)$ from $x_{beg}= 0$ to $x_{end} = \\pi$ by taking $N_{step}$ equal-sized steps $\\Delta x = \\frac{x_{beg} - x_{end}}{N_{step}}$.  Allow $N_{step}$ and the beginning and ending of the range to be defined by user-set parameters.  For values of $N_{step} = 10, 100$, and $1000$, how close are you to the true answer?  (In other words, calculate the error as defined above.)\n",
    "\n",
    "Note 1:  $\\int_{0}^{\\pi} \\sin(x) dx = \\left. -\\cos(x) \\right|_0^\\pi = 2$\n",
    "\n",
    "Note 2:  The \"error\" is defined as $\\epsilon = |\\frac{I - T}{T}|$, where I is the integrated answer, T is the true (i.e., analytic) answer, and the vertical bars denote that you take the absolute value."
   ]
  },
  {
   "cell_type": "code",
   "execution_count": null,
   "metadata": {
    "collapsed": false
   },
   "outputs": [],
   "source": [
    "# Put your code here\n",
    "\n"
   ]
  },
  {
   "cell_type": "code",
   "execution_count": null,
   "metadata": {
    "collapsed": false
   },
   "outputs": [],
   "source": [
    "# WATCH THE VIDEO IN FULL-SCREEN MODE\n",
    "\n",
    "YouTubeVideo(\"b0K8LiHyrBg\",width=640,height=360)  # Numerical differentiation"
   ]
  },
  {
   "cell_type": "markdown",
   "metadata": {},
   "source": [
    "**Question 2:**   Write a function that calculates the derivative of $f(x) = e^{-2x}$ at several points between -3.0 and 3.0, using two points that are a distance $\\Delta x$ from the point, x, where we want the value of the derivative. Calculate the difference between this value and the answer to the analytic solution, $\\frac{df}{dx} = -2 e^{-2x}$, for $\\Delta x$ = 0.1, 0.01 and 0.001 (in other words, calculate the error as defined above).\n",
    "\n",
    "**Hint:**  use ```np.linspace()``` to create a range of values of x that are regularly-spaced, create functions that correspond to $f(x)$ and $\\frac{df}{dx}$, and use numpy to calculate the derivatives and the error.  Note that if ```x``` is a numpy array, a function f(x) that returns a value will also be a numpy array.  In other words, the function:\n",
    "\n",
    "```\n",
    "def f(x):\n",
    "    return np.exp(-2.0*x)\n",
    "```\n",
    "\n",
    "will return an array of values corresponding to the function $f(x)$ defined above if given an array of x values."
   ]
  },
  {
   "cell_type": "code",
   "execution_count": null,
   "metadata": {
    "collapsed": false
   },
   "outputs": [],
   "source": [
    "# Put your code here\n"
   ]
  },
  {
   "cell_type": "markdown",
   "metadata": {},
   "source": [
    "**Question 3:**  For the two programs above, approximately how much does the error go down as you change the step size $\\Delta x$ by factors of 10?"
   ]
  },
  {
   "cell_type": "markdown",
   "metadata": {},
   "source": [
    "// put your answer here\n",
    "\n"
   ]
  },
  {
   "cell_type": "markdown",
   "metadata": {},
   "source": [
    "### Assignment wrapup\n",
    "\n",
    "**Question 4:** What questions do you have, if any, about any of the topics discussed in this assignment \n",
    "after watching the videos and trying to write the programs?"
   ]
  },
  {
   "cell_type": "markdown",
   "metadata": {},
   "source": [
    "// put your answer here"
   ]
  },
  {
   "cell_type": "markdown",
   "metadata": {},
   "source": [
    "**Question 5:**  How long did this assignment take you to complete?"
   ]
  },
  {
   "cell_type": "markdown",
   "metadata": {},
   "source": [
    "// put your answer here"
   ]
  },
  {
   "cell_type": "markdown",
   "metadata": {},
   "source": [
    "### Congratulations, you're done!\n",
    "\n",
    "Submit this assignment by uploading it to the course Desire2Learn web page.  Go to the \"Pre-class assignments\" folder, find the dropbox link for Day 18, and upload it there.\n",
    "\n",
    "See you in class!"
   ]
  }
 ],
 "metadata": {
  "kernelspec": {
   "display_name": "Python 3",
   "language": "python",
   "name": "python3"
  },
  "language_info": {
   "codemirror_mode": {
    "name": "ipython",
    "version": 3
   },
   "file_extension": ".py",
   "mimetype": "text/x-python",
   "name": "python",
   "nbconvert_exporter": "python",
   "pygments_lexer": "ipython3",
   "version": "3.5.1"
  }
 },
 "nbformat": 4,
 "nbformat_minor": 0
}
