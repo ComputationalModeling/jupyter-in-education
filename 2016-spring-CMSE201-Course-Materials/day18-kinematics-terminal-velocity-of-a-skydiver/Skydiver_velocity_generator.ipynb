{
 "cells": [
  {
   "cell_type": "markdown",
   "metadata": {},
   "source": [
    "This notebook calculates the position, velocity, and acceleration for a skydiver (really, a skydiving human, mouse, and elephant... don't ask) as a function of time and writes the velocity data out to a numpy data file.  This is for use with the \"skydiver\" in-class assignment.  Some extra code is in here to plot stuff, which is mostly for debugging purposes.\n",
    "\n",
    "It assumes that the skydiver steps out of a stationary object (i.e., helicopter) at $t=0$, and thus has zero velocity at that time.  For simplicity, we assume that the objects in question are a short cylinder, which has a lot of air resistance and gives values that are approximately right based on some fairly cursory web searches."
   ]
  },
  {
   "cell_type": "code",
   "execution_count": null,
   "metadata": {
    "collapsed": true
   },
   "outputs": [],
   "source": [
    "import math\n",
    "\n",
    "human_mass = 80.0       # human male (in kg)\n",
    "elephant_mass = 6000.0  # african bush elephant (in kg)\n",
    "mouse_mass = 0.02       # house mouse (in kg)\n",
    "\n",
    "starting_height = 2000.0  # meters\n",
    "\n",
    "def calc_accel(mass, velocity):\n",
    "    C = 1.15  # short cylinder (person w/arms spread)\n",
    "    rho_water = 1000.0  # kg/m^3\n",
    "    rho_air = 1.225     # kg/m^3\n",
    "    \n",
    "    # estimate radius of the object assuming they are a sphere and the density of water.\n",
    "    # (slightly inconsistent w/assumption of the person being a short cylinder, but \n",
    "    # whatever)\n",
    "    R = ((3.0*mass)/(4.0*rho_water*math.pi))**(1.0/3.0)\n",
    "    \n",
    "    # calculates acceleration based on two forces: gravity downward, air resistance upward.\n",
    "    # F_air = 0.5 * C * rho * A * v^2\n",
    "    # C = constant based on shape\n",
    "    # rho = density of air\n",
    "    # A = cross-sectional area\n",
    "    # v = velocity (speed, really)\n",
    "    accel = -0.5 * (C/mass) * rho_air * math.pi * R**2 * velocity * math.fabs(velocity) - 9.81\n",
    "    \n",
    "    return accel"
   ]
  },
  {
   "cell_type": "code",
   "execution_count": null,
   "metadata": {
    "collapsed": true
   },
   "outputs": [],
   "source": [
    "# Put your code here!\n",
    "\n",
    "def calc_PVAT(mass, starting_height):\n",
    "    pos_now = starting_height\n",
    "    vel_now = 0.0\n",
    "    time_now = 0.0\n",
    "\n",
    "    pos = [pos_now]\n",
    "    vel = [vel_now]\n",
    "    accel = [calc_accel(mass,vel_now)]\n",
    "    time = [time_now]\n",
    "\n",
    "    dt = 0.01\n",
    "\n",
    "    # do simple forward euler integration by updating the velocity and time using the acceleration at \n",
    "    # any given point.  Save pos, vel, accel, time because we want it for later.\n",
    "    while(pos_now >= 0.0):\n",
    "        accel_now = calc_accel(mass,vel_now)\n",
    "        vel_now += dt*accel_now\n",
    "        pos_now += dt*vel_now\n",
    "        time_now += dt\n",
    "\n",
    "        pos.append(pos_now)\n",
    "        vel.append(vel_now)\n",
    "        accel.append(accel_now)\n",
    "        time.append(time_now)\n",
    "\n",
    "    return pos, vel, accel, time\n"
   ]
  },
  {
   "cell_type": "code",
   "execution_count": null,
   "metadata": {
    "collapsed": false
   },
   "outputs": [],
   "source": [
    "%matplotlib inline\n",
    "import matplotlib.pyplot as plt\n",
    "\n",
    "pos_mouse,vel_mouse,accel_mouse,time_mouse = calc_PVAT(mouse_mass,starting_height)\n",
    "pos_human,vel_human,accel_human,time_human = calc_PVAT(human_mass,starting_height)\n",
    "pos_elephant,vel_elephant,accel_elephant,time_elephant = calc_PVAT(elephant_mass,starting_height)\n",
    "\n",
    "plt.plot(time_mouse,pos_mouse,time_human,pos_human,time_elephant,pos_elephant)"
   ]
  },
  {
   "cell_type": "code",
   "execution_count": null,
   "metadata": {
    "collapsed": false
   },
   "outputs": [],
   "source": [
    "plt.plot(time_mouse,vel_mouse,time_human,vel_human,time_elephant,vel_elephant)"
   ]
  },
  {
   "cell_type": "code",
   "execution_count": null,
   "metadata": {
    "collapsed": false
   },
   "outputs": [],
   "source": [
    "plt.plot(time_mouse,accel_mouse,time_human,accel_human,time_elephant,accel_elephant)"
   ]
  },
  {
   "cell_type": "code",
   "execution_count": null,
   "metadata": {
    "collapsed": false
   },
   "outputs": [],
   "source": [
    "# write all of the velocity and time arrays out into a numpy array file\n",
    "\n",
    "import numpy as np\n",
    "vel_elephant = np.array(vel_elephant,dtype='float64')\n",
    "time_elephant = np.array(time_elephant,dtype='float64')\n",
    "\n",
    "vel_human = np.array(vel_human,dtype='float64')\n",
    "time_human = np.array(time_human,dtype='float64')\n",
    "\n",
    "vel_mouse = np.array(vel_mouse,dtype='float64')\n",
    "time_mouse = np.array(time_mouse,dtype='float64')\n",
    "\n",
    "\n",
    "np.savez(\"velocities_times\",time_elephant=time_elephant, vel_elephant=vel_elephant,\n",
    "        time_human=time_human, vel_human=vel_human,\n",
    "         time_mouse=time_mouse, vel_mouse=vel_mouse)"
   ]
  },
  {
   "cell_type": "code",
   "execution_count": null,
   "metadata": {
    "collapsed": false
   },
   "outputs": [],
   "source": [
    "# quick experiment\n",
    "npzfile = np.load(\"velocities_times.npz\")\n",
    "npzfile.files"
   ]
  },
  {
   "cell_type": "code",
   "execution_count": null,
   "metadata": {
    "collapsed": false
   },
   "outputs": [],
   "source": [
    "npzfile['vel_mouse'][0:10]"
   ]
  },
  {
   "cell_type": "code",
   "execution_count": null,
   "metadata": {
    "collapsed": false
   },
   "outputs": [],
   "source": [
    "npzfile['vel_mouse'][-10:]"
   ]
  },
  {
   "cell_type": "code",
   "execution_count": null,
   "metadata": {
    "collapsed": true
   },
   "outputs": [],
   "source": []
  }
 ],
 "metadata": {
  "kernelspec": {
   "display_name": "Python 3",
   "language": "python",
   "name": "python3"
  },
  "language_info": {
   "codemirror_mode": {
    "name": "ipython",
    "version": 3
   },
   "file_extension": ".py",
   "mimetype": "text/x-python",
   "name": "python",
   "nbconvert_exporter": "python",
   "pygments_lexer": "ipython3",
   "version": "3.5.1"
  }
 },
 "nbformat": 4,
 "nbformat_minor": 0
}
