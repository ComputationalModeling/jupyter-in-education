{
 "cells": [
  {
   "cell_type": "markdown",
   "metadata": {},
   "source": [
    "This notebook calculates an example function that we'll be using in our videos of numerical integration and differentiation!"
   ]
  },
  {
   "cell_type": "code",
   "execution_count": null,
   "metadata": {
    "collapsed": false
   },
   "outputs": [],
   "source": [
    "%matplotlib inline\n",
    "import matplotlib.pyplot as plt\n",
    "import numpy as np\n",
    "\n",
    "x = np.linspace(-10.0,10.0,1000)\n",
    "y = 1.0 + 3.0*x + 2.0*x**2*np.sin(8.0*x)"
   ]
  },
  {
   "cell_type": "code",
   "execution_count": null,
   "metadata": {
    "collapsed": false
   },
   "outputs": [],
   "source": [
    "plt.plot([0,2],[0,0],'k-')\n",
    "plt.plot(x,y,linewidth=3)\n",
    "plt.xlim(0,2.0)\n",
    "plt.ylim(0.0,15.0)\n",
    "plt.xticks(np.linspace(0.0,2.0,11),fontsize=12)\n",
    "plt.xlabel('x',fontsize=18)\n",
    "plt.ylabel('f(x)',fontsize=18)\n",
    "plt.text(0.2,12,r'$f(x) = 1 + 3\\mathrm{x}+ 2\\mathrm{x}^2\\sin(\\mathrm{8x})$',fontsize=14)\n",
    "plt.savefig('example_function.png',dpi=300)"
   ]
  }
 ],
 "metadata": {
  "kernelspec": {
   "display_name": "Python 3",
   "language": "python",
   "name": "python3"
  },
  "language_info": {
   "codemirror_mode": {
    "name": "ipython",
    "version": 3
   },
   "file_extension": ".py",
   "mimetype": "text/x-python",
   "name": "python",
   "nbconvert_exporter": "python",
   "pygments_lexer": "ipython3",
   "version": "3.5.1"
  }
 },
 "nbformat": 4,
 "nbformat_minor": 0
}
