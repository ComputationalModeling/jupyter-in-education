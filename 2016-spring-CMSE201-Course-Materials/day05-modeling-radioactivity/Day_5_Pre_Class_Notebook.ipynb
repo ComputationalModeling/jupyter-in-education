{
 "cells": [
  {
   "cell_type": "markdown",
   "metadata": {},
   "source": [
    "# Day 5 - pre-class assignment\n",
    "\n",
    "## Goals for today's pre-class assignment\n",
    "\n",
    "* Write a program using if statements and Boolean logic\n",
    "* Create loops that use the for and while statements"
   ]
  },
  {
   "cell_type": "markdown",
   "metadata": {},
   "source": [
    "## Assignment instructions\n",
    "\n",
    "Watch the videos below, read through Section 4.1 through 4.3 of the [Python Tutorial](https://docs.python.org/3/tutorial/controlflow.html), and complete the assigned programming problems.  Please get started early, and come to office hours if you have any questions!\n",
    "\n",
    "Recall that to make notebook cells that have Python code in them do something, hold down the 'shift' key and then press the 'enter' key (you'll have to do this to get the YouTube videos to run).  To edit a cell (to add answers, for example) you double-click on the cell, add your text, and then enter it by holding down 'shift' and pressing 'enter'\n",
    "\n",
    "**This assignment is due by 11:59 p.m. the day before class,** and should be uploaded into the \"Pre-class assignments\" dropbox folder for Day 3.  Submission instructions can be found at the end of the notebook."
   ]
  },
  {
   "cell_type": "code",
   "execution_count": null,
   "metadata": {
    "collapsed": true
   },
   "outputs": [],
   "source": [
    "# Imports the functionality that we need to display YouTube videos in a Jupyter Notebook.  \n",
    "# You need to run this cell before you run ANY of the YouTube videos.\n",
    "\n",
    "from IPython.display import YouTubeVideo  "
   ]
  },
  {
   "cell_type": "code",
   "execution_count": null,
   "metadata": {
    "collapsed": false
   },
   "outputs": [],
   "source": [
    "# Display a specific YouTube video, with a given width and height.  \n",
    "# WE STRONGLY RECOMMEND that you can watch the video in full-screen mode\n",
    "# (much higher resolution) by clicking the little box in the bottom-right \n",
    "# corner of the video.\n",
    "\n",
    "YouTubeVideo(\"cozbOliNwSs\",width=640,height=360)  # Boolean logic and if statements"
   ]
  },
  {
   "cell_type": "markdown",
   "metadata": {},
   "source": [
    "### Potentially useful links\n",
    "\n",
    "* [WikiBooks Python Programming - conditional statements]()\n",
    "* [Learn Python the Hard Way - Boolean Logic](http://learnpythonthehardway.org/book/ex28.html)\n",
    "\n",
    "* [How To Think Like a Computer Scientist: Conditionals](http://openbookproject.net/thinkcs/python/english3e/conditionals.html)\n",
    "* [Python logical operators](http://www.tutorialspoint.com/python/logical_operators_example.htm)\n",
    "* [Python comparison operators](http://www.tutorialspoint.com/python/comparison_operators_example.htm)"
   ]
  },
  {
   "cell_type": "markdown",
   "metadata": {},
   "source": [
    "**Question 1:** Write a program that compares three variables v1, v2, and v3 (not necessarily the variable names) and does the following using if statements:\n",
    "\n",
    "1. If v1 is equal to v2, print \"woohoo!\"\n",
    "2. If v1 has the smallest value of the three (i.e., v1 is less than both v2 and v3), print out \"v1 is tiny!\"\n",
    "3. As with (2), but add a nested if statement to print out a statement saying whether v2 or v3 is the largest value.\n",
    "\n",
    "Try several values of v1, v2 and v3 and ensure that you see the correct behavior. "
   ]
  },
  {
   "cell_type": "code",
   "execution_count": null,
   "metadata": {
    "collapsed": true
   },
   "outputs": [],
   "source": [
    "# write your program here, using multiple cells if necessary (adding extra cells using\n",
    "# the 'Cell' menu at the top of this notebook).  Don't forget that you can execute \n",
    "# your program by holding down 'shift' and pressing 'enter' in each cell!\n",
    "\n",
    "\n",
    "\n"
   ]
  },
  {
   "cell_type": "code",
   "execution_count": null,
   "metadata": {
    "collapsed": false
   },
   "outputs": [],
   "source": [
    "# Don't forget to watch the video in full-screen mode!\n",
    "\n",
    "YouTubeVideo(\"VnTN5sFIPD0\",width=640,height=360)  # loops in python"
   ]
  },
  {
   "cell_type": "markdown",
   "metadata": {},
   "source": [
    "### Potentially useful links\n",
    "\n",
    "* [WikiBooks Python Programming - loops](https://en.wikibooks.org/wiki/Python_Programming/Loops)\n",
    "* [Hands-on Python - loops and sequences](http://anh.cs.luc.edu/python/hands-on/3.1/handsonHtml/loops.html)\n",
    "* [Numpy - nditer reference](http://docs.scipy.org/doc/numpy/reference/arrays.nditer.html)\n"
   ]
  },
  {
   "cell_type": "markdown",
   "metadata": {},
   "source": [
    "**Question 2:** Write two small programs that do the following:\n",
    "\n",
    "1.  Using range() and a for loop, print out the numbers from 4 to 16 by steps of two (i.e., 2, 4, ... 16), adding up all of the numbers you have printed out.\n",
    "2.  Write a while loop that does exactly the same thing.\n",
    "3.  Create two numpy arrays with 10 elements, one using np.arange() and one using np.ones(), and use np.nditer() to iterate over the two arrays and print out their values."
   ]
  },
  {
   "cell_type": "code",
   "execution_count": null,
   "metadata": {
    "collapsed": true
   },
   "outputs": [],
   "source": [
    "# Program 1 here\n",
    "\n",
    "\n"
   ]
  },
  {
   "cell_type": "code",
   "execution_count": null,
   "metadata": {
    "collapsed": true
   },
   "outputs": [],
   "source": [
    "# Program 2 here\n",
    "\n",
    "\n"
   ]
  },
  {
   "cell_type": "code",
   "execution_count": null,
   "metadata": {
    "collapsed": true
   },
   "outputs": [],
   "source": [
    "# Program 3 here\n",
    "\n",
    "\n"
   ]
  },
  {
   "cell_type": "markdown",
   "metadata": {},
   "source": [
    "### Assignment wrapup\n",
    "\n",
    "**Question 3:** What questions do you have, if any, about any of the topics discussed in this assignment \n",
    "after watching the videos, reading the link to the Python tutorial, and trying to write the programs?"
   ]
  },
  {
   "cell_type": "markdown",
   "metadata": {},
   "source": [
    "Put your answer here!"
   ]
  },
  {
   "cell_type": "markdown",
   "metadata": {},
   "source": [
    "**Question 4:**  Do you have any further questions or comments about this material, or anything else that's going on in class?"
   ]
  },
  {
   "cell_type": "markdown",
   "metadata": {},
   "source": [
    "Put your answer here!"
   ]
  },
  {
   "cell_type": "markdown",
   "metadata": {},
   "source": [
    "**Question 5:**  How long did this assignment take you to complete?"
   ]
  },
  {
   "cell_type": "markdown",
   "metadata": {},
   "source": [
    "Put your answer here!"
   ]
  },
  {
   "cell_type": "markdown",
   "metadata": {},
   "source": [
    "### Congratulations, you're done!\n",
    "\n",
    "Submit this assignment by uploading it to the course Desire2Learn web page.  Go to the \"Pre-class assignments\" folder, find the dropbox link for Day 5, and upload it there.\n",
    "\n",
    "See you in class!"
   ]
  },
  {
   "cell_type": "code",
   "execution_count": null,
   "metadata": {
    "collapsed": true
   },
   "outputs": [],
   "source": []
  }
 ],
 "metadata": {
  "kernelspec": {
   "display_name": "Python 3",
   "language": "python",
   "name": "python3"
  },
  "language_info": {
   "codemirror_mode": {
    "name": "ipython",
    "version": 3
   },
   "file_extension": ".py",
   "mimetype": "text/x-python",
   "name": "python",
   "nbconvert_exporter": "python",
   "pygments_lexer": "ipython3",
   "version": "3.5.1"
  }
 },
 "nbformat": 4,
 "nbformat_minor": 0
}
