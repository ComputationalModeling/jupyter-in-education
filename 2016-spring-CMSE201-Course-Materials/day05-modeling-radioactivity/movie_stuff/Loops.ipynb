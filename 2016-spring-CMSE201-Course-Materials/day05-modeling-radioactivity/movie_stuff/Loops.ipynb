{
 "cells": [
  {
   "cell_type": "code",
   "execution_count": null,
   "metadata": {
    "collapsed": false
   },
   "outputs": [],
   "source": [
    "count_up = 0\n",
    "\n",
    "for i in range(2,17,2):\n",
    "    count_up -= i   # count_up = count_up - i\n",
    "    print(i, count_up)"
   ]
  },
  {
   "cell_type": "code",
   "execution_count": null,
   "metadata": {
    "collapsed": false
   },
   "outputs": [],
   "source": [
    "mylist = [1,6,2,19,-4,27,3]\n",
    "\n",
    "accumulate = 0\n",
    "\n",
    "for val in mylist:\n",
    "    accumulate += val\n",
    "    print(val, accumulate)\n"
   ]
  },
  {
   "cell_type": "code",
   "execution_count": null,
   "metadata": {
    "collapsed": true
   },
   "outputs": [],
   "source": [
    "import numpy as np"
   ]
  },
  {
   "cell_type": "code",
   "execution_count": null,
   "metadata": {
    "collapsed": true
   },
   "outputs": [],
   "source": [
    "my_array = np.arange(15)\n",
    "array_2 = np.arange(2,17,1)"
   ]
  },
  {
   "cell_type": "code",
   "execution_count": null,
   "metadata": {
    "collapsed": false
   },
   "outputs": [],
   "source": [
    "print(my_array, array_2)"
   ]
  },
  {
   "cell_type": "code",
   "execution_count": null,
   "metadata": {
    "collapsed": false
   },
   "outputs": [],
   "source": [
    "for val1, val2 in np.nditer([my_array, array_2]):\n",
    "    print(val1, val2, val1+val2)"
   ]
  },
  {
   "cell_type": "code",
   "execution_count": null,
   "metadata": {
    "collapsed": false
   },
   "outputs": [],
   "source": [
    "x = -3.0\n",
    "\n",
    "while x < 9.3:\n",
    "    print(x)\n",
    "    x += 1.5\n",
    "    \n",
    "print(\"after the loop, x =\", x)"
   ]
  },
  {
   "cell_type": "markdown",
   "metadata": {},
   "source": [
    "## what have we learned?\n",
    "\n",
    "* Loops are one way that a computer program does a bunch of things over and over again\n",
    "* In python: for and while loops\n",
    "* For loops - loop over a range, a list, or an array (nditer in numpy)\n",
    "* While loops go until some condition is met\n",
    "* Choose for vs. while for looping depending on circumstance"
   ]
  },
  {
   "cell_type": "code",
   "execution_count": null,
   "metadata": {
    "collapsed": true
   },
   "outputs": [],
   "source": []
  }
 ],
 "metadata": {
  "kernelspec": {
   "display_name": "Python 3",
   "language": "python",
   "name": "python3"
  },
  "language_info": {
   "codemirror_mode": {
    "name": "ipython",
    "version": 3
   },
   "file_extension": ".py",
   "mimetype": "text/x-python",
   "name": "python",
   "nbconvert_exporter": "python",
   "pygments_lexer": "ipython3",
   "version": "3.5.1"
  }
 },
 "nbformat": 4,
 "nbformat_minor": 0
}
