{
 "cells": [
  {
   "cell_type": "markdown",
   "metadata": {},
   "source": [
    "This is an **instructor notebook** (written by BWO, 1/26/2016) that mocks up a radioactive decay of some substance including a background, and writes out two files: one containing count rates as a function of time (count\\_rates.txt) and the other containing a much smaller estimate of the amount of radioactive substance as a function of time (sample\\_amount.txt).  The count rate includes the expected radioactive decay plus an arbitrary positive noise background, and the sample amount has an arbitrary measurement error built in (no offset, just noise).\n",
    "\n",
    "The point of this notebook is that the actual assignment has students calculating radioactive decay by hand, and then reading some data, looking at it, and trying to figure out what is going on in the data (i.e., why there is noise, and if the amount of stuff you'd expect based on the measured count rate actually lines up with the measured amount of stuff)."
   ]
  },
  {
   "cell_type": "code",
   "execution_count": null,
   "metadata": {
    "collapsed": false
   },
   "outputs": [],
   "source": [
    "%matplotlib inline\n",
    "import matplotlib.pyplot as plt\n",
    "import numpy as np\n",
    "import numpy.random as rdm\n",
    "import math\n",
    "\n",
    "initial_amount = 1.0e+6  # initial number of atoms\n",
    "half_life = 1712.0       # half-life in seconds (or whatever units)\n",
    "\n",
    "stop_time = 20000.0      # stop time for data output; make this several half-lives\n",
    "\n",
    "# create a value that is sensible for the noise rate (i.e., not dominating but not negligible)\n",
    "noise_norm = initial_amount/half_life/10.0\n",
    "\n",
    "# interval between measurements (same units as half_life)\n",
    "dt = 5.0\n",
    "\n",
    "# subsampling of outputs\n",
    "subsample = 180\n",
    "\n",
    "time = np.arange(0.0,stop_time,dt)"
   ]
  },
  {
   "cell_type": "code",
   "execution_count": null,
   "metadata": {
    "collapsed": false
   },
   "outputs": [],
   "source": [
    "# expected amount of stuff as f(t)(no noise)  (float)\n",
    "amount_of_stuff = initial_amount * 0.5**(time/half_life)   \n",
    "\n",
    "# expected count rate per dt, as f(t) (no noise)  (float)\n",
    "count_rate = initial_amount / half_life * math.log(2.0) * 0.5**(time/half_life) * dt"
   ]
  },
  {
   "cell_type": "code",
   "execution_count": null,
   "metadata": {
    "collapsed": false
   },
   "outputs": [],
   "source": [
    "# calculate the background count rate per dt.  (float; scale of 4.0 is arbitrary)\n",
    "background_counts = rdm.normal(noise_norm,scale=noise_norm/4.0,size=time.size)*dt \n",
    "\n",
    "# make sure background counts are always positive\n",
    "background_counts[background_counts<0] = np.abs(background_counts[background_counts<0.0])\n",
    "\n",
    "# add noise to the amount of stuff; basically just mocking up poisson sampling error\n",
    "# (This really doesn't show up, it's just amusing to do)\n",
    "noisy_amount = amount_of_stuff + rdm.normal(0.0,scale=np.sqrt(amount_of_stuff),size=time.size) \n",
    "\n",
    "# add noise to the count rate to make it look real(ish), and convert to ints\n",
    "noisy_counts = (count_rate + background_counts).astype(dtype=int)\n",
    "\n",
    "# convert non-noisy counts to integers as well (since counts have to be ints in our output)\n",
    "count_rate = count_rate.astype(dtype=int)\n",
    "\n",
    "# some sanity checks\n",
    "plt.plot(time,background_counts,'b.')#,x,noise,'r.')\n",
    "plt.plot(time,noisy_counts,'r-')\n",
    "plt.plot(time,count_rate,'g-',linewidth=3)\n",
    "\n",
    "print(noisy_counts.min(), noisy_counts.max(), noisy_counts.mean())"
   ]
  },
  {
   "cell_type": "code",
   "execution_count": null,
   "metadata": {
    "collapsed": false
   },
   "outputs": [],
   "source": [
    "# What does the background look like?  Just checking...  (histogram of counts per interval)\n",
    "\n",
    "n,bins,patches=plt.hist(background_counts,100)"
   ]
  },
  {
   "cell_type": "code",
   "execution_count": null,
   "metadata": {
    "collapsed": false
   },
   "outputs": [],
   "source": [
    "# convert amount of stuff to ints\n",
    "\n",
    "noisy_amount = noisy_amount.astype(dtype=int)\n",
    "amount_of_stuff = amount_of_stuff.astype(dtype=int)\n",
    "\n",
    "plt.plot(time,noisy_amount,'r-',time,amount_of_stuff,'b-')\n",
    "print(\"noisy amount:\", noisy_amount.min(),noisy_amount.max(),noisy_amount.mean())\n",
    "\n",
    "\n"
   ]
  },
  {
   "cell_type": "code",
   "execution_count": null,
   "metadata": {
    "collapsed": false
   },
   "outputs": [],
   "source": [
    "# subsample time and noisy_amount, because we don't want to make the students' lives too easy and\n",
    "# give them everything with the same number of elements on the x-axis!\n",
    "\n",
    "# note: subsample defined up at the top.\n",
    "time_cut = time[::subsample].astype(dtype=int)\n",
    "noisy_amt_cut = noisy_amount[::subsample]  # already an int\n"
   ]
  },
  {
   "cell_type": "code",
   "execution_count": null,
   "metadata": {
    "collapsed": false
   },
   "outputs": [],
   "source": [
    "# do a quick test to make sure that when you naively remove counts from \n",
    "# the total amount of stuff it ends up being negative (est_amount)\n",
    "# also do a simple integration of the noiseless solution (calc_amount)\n",
    "# to double-check we're doing things right.\n",
    "\n",
    "mytime = np.arange(0,stop_time,dt)\n",
    "est_amount = np.zeros_like(mytime)\n",
    "\n",
    "calc_amount = np.zeros_like(mytime)\n",
    "\n",
    "print(mytime.size, est_amount.size, noisy_counts.size)\n",
    "\n",
    "est_amount[0] = noisy_amount[0]\n",
    "\n",
    "calc_amount[0] = initial_amount \n",
    "\n",
    "\n",
    "for i in range(1,mytime.size-2):\n",
    "    est_amount[i] = est_amount[i-1] - noisy_counts[i-1]  # noisy_counts already has a dt in it\n",
    "    calc_amount[i] = calc_amount[i-1] - initial_amount / half_life * math.log(2.0) * 0.5**(mytime[i]/half_life) * dt\n",
    "    \n",
    "# wow, that sure looks bad, doesn't it?\n",
    "plt.plot(mytime,est_amount,'b.',time_cut,noisy_amt_cut,'r-',mytime,calc_amount,'k--',linewidth=3)\n"
   ]
  },
  {
   "cell_type": "code",
   "execution_count": null,
   "metadata": {
    "collapsed": false
   },
   "outputs": [],
   "source": [
    "# write out count rates vs. time\n",
    "combined_array = np.array([time,noisy_counts])\n",
    "np.savetxt(\"count_rates.txt\", combined_array, fmt='%d', \n",
    "           delimiter=' ', newline='\\n', header='', footer='', comments='# ')\n",
    "\n",
    "# write out amount of sample vs. time\n",
    "combined_array_2 = np.array([time_cut,noisy_amt_cut])\n",
    "np.savetxt(\"sample_amount.txt\", combined_array_2, fmt='%d', \n",
    "           delimiter=' ', newline='\\n', header='', footer='', comments='# ')\n",
    "\n",
    "\n"
   ]
  },
  {
   "cell_type": "code",
   "execution_count": null,
   "metadata": {
    "collapsed": false
   },
   "outputs": [],
   "source": [
    "# just checking to make sure this works.\n",
    "\n",
    "x = np.loadtxt(\"sample_amount.txt\", dtype=int)[0]\n",
    "y = np.loadtxt(\"sample_amount.txt\", dtype=int)[1]\n",
    "\n",
    "plt.plot(x,y,'ro')"
   ]
  },
  {
   "cell_type": "code",
   "execution_count": null,
   "metadata": {
    "collapsed": true
   },
   "outputs": [],
   "source": []
  }
 ],
 "metadata": {
  "kernelspec": {
   "display_name": "Python 3",
   "language": "python",
   "name": "python3"
  },
  "language_info": {
   "codemirror_mode": {
    "name": "ipython",
    "version": 3
   },
   "file_extension": ".py",
   "mimetype": "text/x-python",
   "name": "python",
   "nbconvert_exporter": "python",
   "pygments_lexer": "ipython3",
   "version": "3.5.1"
  }
 },
 "nbformat": 4,
 "nbformat_minor": 0
}
