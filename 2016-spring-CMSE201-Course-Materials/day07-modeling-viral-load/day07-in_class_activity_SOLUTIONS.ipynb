{
 "cells": [
  {
   "cell_type": "markdown",
   "metadata": {
    "toc": "true"
   },
   "source": [
    "# Table of Contents\n",
    " <p><div class=\"lev1\"><a href=\"#Understanding-Parameter-Fitting-by-Exploring-Viral-Load\"><span class=\"toc-item-num\">1 - </span>Understanding Parameter-Fitting by Exploring Viral Load</a></div><div class=\"lev2\"><a href=\"#Student-names\"><span class=\"toc-item-num\">1.1 - </span>Student names</a></div><div class=\"lev2\"><a href=\"#Learning-Goals-(Why-Are-We-Asking-You-To-Do-This?)\"><span class=\"toc-item-num\">1.2 - </span>Learning Goals (Why Are We Asking You To Do This?)</a></div><div class=\"lev2\"><a href=\"#Understanding-How-We-Treat-the-Human-Immunodeficiency-Virus-(HIV)\"><span class=\"toc-item-num\">1.3 - </span>Understanding How We Treat the <a href=\"https://www.aids.gov/hiv-aids-basics/hiv-aids-101/what-is-hiv-aids/\" target=\"_blank\">Human Immunodeficiency Virus (HIV)</a></a></div><div class=\"lev2\"><a href=\"#Setting-options-and-loading-modules\"><span class=\"toc-item-num\">1.4 - </span>Setting options and loading modules</a></div><div class=\"lev2\"><a href=\"#Making-intervals-in-time\"><span class=\"toc-item-num\">1.5 - </span>Making intervals in time</a></div><div class=\"lev3\"><a href=\"#We-can-use-np.linspace-to-make-time-intervals\"><span class=\"toc-item-num\">1.5.1 - </span>We can use <code>np.linspace</code> to make time intervals</a></div><div class=\"lev3\"><a href=\"#We-can-assign-time-intervals-to-variables\"><span class=\"toc-item-num\">1.5.2 - </span>We can assign time intervals to variables</a></div><div class=\"lev3\"><a href=\"#Your-Turn---'Use-np.linspace()-to-make-a-time-interval-for-our-model\"><span class=\"toc-item-num\">1.5.3 - </span>Your Turn - 'Use <code>np.linspace()</code> to make a time interval for our model</a></div><div class=\"lev2\"><a href=\"#We-can-set-and-change-parameter-values-to-see-how-the-model-behaves\"><span class=\"toc-item-num\">1.6 - </span>We can set and change parameter values to see how the model behaves</a></div><div class=\"lev3\"><a href=\"#PREDICT-BEFORE-YOU-PLOT\"><span class=\"toc-item-num\">1.6.1 - </span>PREDICT BEFORE YOU PLOT</a></div><div class=\"lev4\"><a href=\"#Your-Prediction\"><span class=\"toc-item-num\">1.6.1.1 - </span>Your Prediction</a></div><div class=\"lev2\"><a href=\"#Explore-the-model\"><span class=\"toc-item-num\">1.7 - </span>Explore the model</a></div><div class=\"lev3\"><a href=\"#Explore-the-model-by-evaluating-the-equation\"><span class=\"toc-item-num\">1.7.1 - </span>Explore the model by evaluating the equation</a></div><div class=\"lev3\"><a href=\"#Explore-the-model-by-visualizing-it\"><span class=\"toc-item-num\">1.7.2 - </span>Explore the model by visualizing it</a></div><div class=\"lev3\"><a href=\"#Explore-the-model-by-changing-parameter-values\"><span class=\"toc-item-num\">1.7.3 - </span>Explore the model by changing parameter values</a></div><div class=\"lev2\"><a href=\"#Loading-and-Examining-Experimental-Data\"><span class=\"toc-item-num\">1.8 - </span>Loading and Examining Experimental Data</a></div><div class=\"lev3\"><a href=\"#What-is-this-data?\"><span class=\"toc-item-num\">1.8.1 - </span>What is this data?</a></div><div class=\"lev3\"><a href=\"#Use-pandas.read_csv()-to-Load-the-Data\"><span class=\"toc-item-num\">1.8.2 - </span>Use <code>pandas.read_csv()</code> to Load the Data</a></div><div class=\"lev3\"><a href=\"#You-Can-View-a-Pandas-DataFrame-by-Executing-It\"><span class=\"toc-item-num\">1.8.3 - </span>You Can View a Pandas DataFrame by Executing It</a></div><div class=\"lev3\"><a href=\"#You-can-view-the-first/last-few-rows-of-data-with-.head()-and-.tail()-functions\"><span class=\"toc-item-num\">1.8.4 - </span>You can view the first/last few rows of data with <code>.head()</code> and <code>.tail()</code> functions</a></div><div class=\"lev3\"><a href=\"#Use-data[&quot;column_name&quot;]-to-View-or-Refer-to-a-Column-of-Data\"><span class=\"toc-item-num\">1.8.5 - </span>Use <code>data[\"column_name\"]</code> to View or Refer to a Column of Data</a></div><div class=\"lev3\"><a href=\"#Pandas-DataFrame-Columns-Behave-Like-Numpy-Arrays\"><span class=\"toc-item-num\">1.8.6 - </span>Pandas DataFrame Columns Behave Like Numpy Arrays</a></div><div class=\"lev3\"><a href=\"#Plotting-the-Experimental-Data\"><span class=\"toc-item-num\">1.8.7 - </span>Plotting the Experimental Data</a></div><div class=\"lev2\"><a href=\"#Fitting-Our-Model-To-Experimental-Data\"><span class=\"toc-item-num\">1.9 - </span>Fitting Our Model To Experimental Data</a></div><div class=\"lev3\"><a href=\"#Plot-the-Data-and-Model-Together\"><span class=\"toc-item-num\">1.9.1 - </span>Plot the Data and Model Together</a></div><div class=\"lev3\"><a href=\"#THINK-about-Tuning-the-Model-Parameters-to-Fit-the-Model-to-Data\"><span class=\"toc-item-num\">1.9.2 - </span>THINK about Tuning the Model Parameters to Fit the Model to Data</a></div><div class=\"lev3\"><a href=\"#Make-and-Plot-Multiple-Models-to-Find-Model-Parameters-that-Best-Fit-the-Model-to-the-Data\"><span class=\"toc-item-num\">1.9.3 - </span>Make and Plot Multiple Models to Find Model Parameters that Best Fit the Model to the Data</a></div><div class=\"lev2\"><a href=\"#Please-Give-Feedback-on-this-assignment\"><span class=\"toc-item-num\">1.10 - </span>Please <a href=\"http://goo.gl/forms/v8oZUSLDaa\" target=\"_blank\">Give Feedback</a> on this assignment</a></div><div class=\"lev2\"><a href=\"#How-to-submit-this-assignment\"><span class=\"toc-item-num\">1.11 - </span>How to submit this assignment</a></div><div class=\"lev2\"><a href=\"#Source\"><span class=\"toc-item-num\">1.12 - </span>Source</a></div>"
   ]
  },
  {
   "cell_type": "markdown",
   "metadata": {},
   "source": [
    "# Understanding Parameter-Fitting by Exploring Viral Load"
   ]
  },
  {
   "cell_type": "markdown",
   "metadata": {},
   "source": [
    "## Student names"
   ]
  },
  {
   "cell_type": "markdown",
   "metadata": {},
   "source": [
    "Work in pairs, and put the names of both people in your group here!  (If you're in a group of 3, just move your chairs so you can work together.)"
   ]
  },
  {
   "cell_type": "markdown",
   "metadata": {},
   "source": [
    "## Learning Goals (Why Are We Asking You To Do This?)\n",
    "\n",
    "- To develop an intuition about how equation-based models work\n",
    "- To understand how to evaluate models by plotting them together with experimental data\n",
    "- To practice predicting what the effect will be when we change the parameters of a model\n",
    "- To learn how we can iterate to improve the fit of a model\n"
   ]
  },
  {
   "cell_type": "markdown",
   "metadata": {},
   "source": [
    "## Understanding How We Treat the [Human Immunodeficiency Virus (HIV)](https://www.aids.gov/hiv-aids-basics/hiv-aids-101/what-is-hiv-aids/)"
   ]
  },
  {
   "cell_type": "markdown",
   "metadata": {},
   "source": [
    "Here we explore a model of the **viral load**—the number of virions in the blood of a patient infected with [HIV](https://www.aids.gov/hiv-aids-basics/hiv-aids-101/what-is-hiv-aids/)—after the administration of an antiretroviral drug. One model for the viral load predicts that the concentration $V (t)$ of HIV in the blood at time t after the start of treatment will be:\n",
    "\n",
    "$$ \\begin{equation} V(t) = A \\cdot \\mathrm{exp}(-\\alpha t) + B \\cdot \\mathrm{exp}(-\\beta t) \\end{equation}$$ \n",
    "\n",
    "When we write mathematics, $\\mathrm{exp}(\\dots)$ is notational shorthand for $e^{(\\dots)}$. So, we can rewrite the viral load model this way:\n",
    "\n",
    "$$  \n",
    "\\begin{equation}\n",
    "V(t) = A e^{(-\\alpha t)} + B e^{(-\\beta t)}  \n",
    "\\end{equation}\n",
    "$$\n",
    "\n",
    "Two things to note about this particular model: \n",
    "\n",
    "1. Viral load **is a function of time $t$**. That's why we're writing it as $V(t) = \\dots$. \n",
    "2. There are four modeling parameters (numbers) we can vary: $(A, \\alpha, B, \\beta )$.:\n",
    "\n",
    "\n",
    "$$  \n",
    "\\begin{equation}\n",
    "V(t) = \\textbf{A} e^{(-\\boldsymbol{\\alpha} t)} + \\textbf{B} e^{(- \\boldsymbol{\\beta} t)}  \n",
    "\\end{equation}\n",
    "$$\n",
    "\n",
    "**Note**: \n",
    "\n",
    "> You probably know that there are black-box software packages that do such “curve fitting” automatically. In this lab, you should do it manually, just to see how the curves respond to changes in the parameters.]\n",
    "> \n",
    "> Kinder, Jesse M.; Nelson, Philip (2015-07-01). A Student's Guide to Python for Physical Modeling (Page 63). Princeton University Press. Kindle Edition. \n",
    "\n",
    "\n",
    "Doing it manually also helps build our intuition for how mathematical models behave when we visualize them.\n",
    "\n",
    "Let's get started by setting some options and loading the modules we'll need."
   ]
  },
  {
   "cell_type": "markdown",
   "metadata": {},
   "source": [
    "## Setting options and loading modules"
   ]
  },
  {
   "cell_type": "code",
   "execution_count": null,
   "metadata": {
    "collapsed": true
   },
   "outputs": [],
   "source": [
    "# Make plots inline\n",
    "%matplotlib inline\n",
    "\n",
    "# Make inline plots vector graphics instead of raster graphics\n",
    "from IPython.display import set_matplotlib_formats\n",
    "set_matplotlib_formats('pdf', 'svg')\n",
    "\n",
    "# import modules for plotting and data analysis\n",
    "import matplotlib.pyplot as plt\n",
    "import numpy as np\n",
    "import pandas"
   ]
  },
  {
   "cell_type": "markdown",
   "metadata": {},
   "source": [
    "Now, we'll tackle the \"function in time\" part of this model by learning how to make and use arrays to represent time."
   ]
  },
  {
   "cell_type": "markdown",
   "metadata": {},
   "source": [
    "## Making intervals in time\n",
    "\n",
    "Using `numpy`, we can conveniently make arrays that would represent slices in time. We'll use the `np.linspace` command, which takes three arguments (inputs):\n",
    "\n",
    "- Where you want the interval to *start*\n",
    "- Where you want the interval to *end*\n",
    "- *How many steps* there should be in the interval"
   ]
  },
  {
   "cell_type": "markdown",
   "metadata": {},
   "source": [
    "### We can use `np.linspace` to make time intervals"
   ]
  },
  {
   "cell_type": "code",
   "execution_count": null,
   "metadata": {
    "collapsed": false
   },
   "outputs": [],
   "source": [
    "import numpy as np\n",
    "\n",
    "np.linspace(\n",
    "    0,  # where the interval starts\n",
    "    1,  # where the interval ends\n",
    "    11  # How many steps (elements) we want in the final array    \n",
    ")"
   ]
  },
  {
   "cell_type": "markdown",
   "metadata": {},
   "source": [
    "### We can assign time intervals to variables\n",
    "\n",
    "We can also try assigning that array to a variable, so we our later code can use it and refer back to it. Here, we'll:\n",
    "\n",
    "1. Make the same interval as before (0 to 1),\n",
    "2. With eleven steps,\n",
    "3. Assign it to a variable we'll call `trying_to_make_a_time_interval` (it helps when our names are descriptive)\n",
    "4. Check how many items are in the array we made. (It should be 11)."
   ]
  },
  {
   "cell_type": "code",
   "execution_count": null,
   "metadata": {
    "collapsed": false
   },
   "outputs": [],
   "source": [
    "import numpy as np\n",
    "\n",
    "# Make our array and assign it to `time`\n",
    "trying_to_make_a_time_interval = np.linspace(\n",
    "    0,  # where the interval starts\n",
    "    1,  # where the interval ends\n",
    "    11  # How many steps (elements) we want in the final array    \n",
    ")\n",
    "\n",
    "# Check that there are 11 elements in our array (which we asked for)\n",
    "trying_to_make_a_time_interval.size"
   ]
  },
  {
   "cell_type": "markdown",
   "metadata": {},
   "source": [
    "### Your Turn - 'Use `np.linspace()` to make a time interval for our model\n",
    "\n",
    "Now that you've seen how to make evenly-spaced time intervals, we'll start creating an array of time slices for our viral load model. Create a single array called `time` that:\n",
    "\n",
    "- Starts at 0,\n",
    "- Goes to 10, and\n",
    "- Has 101 elements in it"
   ]
  },
  {
   "cell_type": "code",
   "execution_count": null,
   "metadata": {
    "collapsed": false
   },
   "outputs": [],
   "source": [
    "# Create your time array here\n",
    "time = np.linspace(0, 10, 101)"
   ]
  },
  {
   "cell_type": "markdown",
   "metadata": {},
   "source": [
    "## We can set and change parameter values to see how the model behaves"
   ]
  },
  {
   "cell_type": "markdown",
   "metadata": {},
   "source": [
    "Remember how our model equation has four parameters $(A, \\alpha, B, \\beta )$? Below, you're going to use Python code to see what happens to the model when we try (and change) values for those parameters. Below, write  code that sets $B = 0$ and chooses non-zero values for the other three parameters."
   ]
  },
  {
   "cell_type": "code",
   "execution_count": null,
   "metadata": {
    "collapsed": true
   },
   "outputs": [],
   "source": [
    "# Make B equal to zero and set some non-zero values for the other parameters\n",
    "\n",
    "A = 3\n",
    "B = 0 \n",
    "alpha = 2\n",
    "beta = 5"
   ]
  },
  {
   "cell_type": "markdown",
   "metadata": {},
   "source": [
    "### PREDICT BEFORE YOU PLOT\n",
    "\n",
    "Here's that viral load equation again:\n",
    "\n",
    "$$  \n",
    "\\begin{equation}\n",
    "V(t) = \\textbf{A} e^{(-\\boldsymbol{\\alpha} t)} + \\textbf{B} e^{(- \\boldsymbol{\\beta} t)}  \n",
    "\\end{equation}\n",
    "$$\n",
    "\n",
    "Just like the order-of-magnitude approximations we've been doing, thinking *before* we plot and evaluate helps us develop our intution about models. In your code above, you've set $B = 0$. Use the markdown cell below to predict (**in words**) how you think setting $B = 0$ affects the equation (and by extension, the model).\n",
    "\n",
    "- How will the equation change?\n",
    "  - Setting $B = 0$ drops out the second term, which means the viral load is wholly determined by the first term\n",
    "- How does setting $B = 0$ affect the other model parameters (if at all)\n",
    "  - With $B = 0$, the value of $Beta$ is inconsequential because its term ultimately gets multiplied by zero."
   ]
  },
  {
   "cell_type": "markdown",
   "metadata": {},
   "source": [
    "#### Your Prediction\n",
    "\n",
    "When we set B = 0, we think what will happen is..."
   ]
  },
  {
   "cell_type": "markdown",
   "metadata": {},
   "source": [
    "## Explore the model"
   ]
  },
  {
   "cell_type": "markdown",
   "metadata": {},
   "source": [
    "### Explore the model by evaluating the equation\n",
    "\n",
    "We can write the viral load function (from above) in Python, using the parameters we set above and our `time` array. In the cell below, write `viral_load` as a function of `time`.\n",
    "\n",
    "**Note**: We can write exponentation in numpy using `np.exp()`. So,\n",
    "\n",
    "$$ \n",
    "\\begin{equation}\n",
    "e^{(\\dots)} = \\tt{np.exp(\\dots)}  \n",
    "\\end{equation}\n",
    "$$"
   ]
  },
  {
   "cell_type": "code",
   "execution_count": null,
   "metadata": {
    "collapsed": false
   },
   "outputs": [],
   "source": [
    "# Write and evaluate viral_load = ...\n",
    "viral_load = (A * np.exp(-alpha * time)) + (B * np.exp(-beta * time))"
   ]
  },
  {
   "cell_type": "markdown",
   "metadata": {},
   "source": [
    "### Explore the model by visualizing it\n",
    "\n",
    "You should now have two arrays of the same length, `time` and `viral load`. In the Python cell below, verify that they're the same length (have the same number of values), then plot them."
   ]
  },
  {
   "cell_type": "code",
   "execution_count": null,
   "metadata": {
    "collapsed": false
   },
   "outputs": [],
   "source": [
    "# Verify that both arrays are the same length. \n",
    "# You can use .size, as in time.size or viral_load.size\n",
    "\n",
    "# Then, try plotting viral_load vs. time\n",
    "\n",
    "# Make plots inline\n",
    "%matplotlib inline\n",
    "\n",
    "# Make inline plots vector graphics instead of raster graphics\n",
    "from IPython.display import set_matplotlib_formats\n",
    "set_matplotlib_formats('pdf', 'svg')\n",
    "import matplotlib.pyplot as plt\n",
    "\n",
    "# Put your plot code here\n",
    "plt.plot(viral_load, time)\n",
    "plt.yscale('log')"
   ]
  },
  {
   "cell_type": "markdown",
   "metadata": {},
   "source": [
    "### Explore the model by changing parameter values\n",
    "\n",
    "Create a few more plots using different values of the four model parameters. For each new plot, \n",
    "\n",
    "1. Use a Python cell to change the model parameters however you'd like,\n",
    "2. Re-evaluate the `viral_load`\n",
    "3. Use a markdown cell to explain how the curve changed\n",
    "\n",
    "**Remember**: You can try negative (and non-integer) values for parameters"
   ]
  },
  {
   "cell_type": "code",
   "execution_count": null,
   "metadata": {
    "collapsed": false
   },
   "outputs": [],
   "source": [
    "# Change the values and make a new plot\n",
    "\n",
    "A = 10\n",
    "B = -0.5\n",
    "alpha = 1\n",
    "beta = 1\n",
    "\n",
    "viral_load = (A * np.exp(-alpha * time)) + (B * np.exp(-beta * time))\n",
    "plt.plot(time, viral_load)"
   ]
  },
  {
   "cell_type": "markdown",
   "metadata": {},
   "source": [
    "// Note each change you made and what you saw"
   ]
  },
  {
   "cell_type": "markdown",
   "metadata": {},
   "source": [
    "## Loading and Examining Experimental Data\n",
    "\n",
    "\n",
    "### What is this data?\n",
    "\n",
    "We're going to use experimental data of actual viral loads provided by Kindler and Nelson (2015). They write:\n",
    "\n",
    "> File `HIVseries.mat` contains variable \"a\" with two columns of data.  The first is the time in days since administration of a treatment to an HIV positive patient; the second contains the concentration of virus in that patient's blood, in arbitrary units.\n",
    ">\n",
    "> `HIVseries.csv` and `HIVseries.npy` contain the same data in the same format. `HIVseries.npz` contains the same data in two separate arrays called `time_in_days` and `viral_load`.\n",
    ">\n",
    "> Data from A. Perelson. [Modelling viral and immune system dynamics][1]. Nature Revs. Immunol. (2002) vol. 2 (1) pp. 28--36 (Box 1).\n",
    "\n",
    "So, to summarize, the dataset `hiv_data` has 2 columns:\n",
    "\n",
    "- `time_in_days` is the number of days since an HIV-positive patient received a treatment.\n",
    "- `viral_load` is the concentraiton of the virus in that patients blood, in arbitrary units.\n",
    "\n",
    "[1]: http://www.nature.com/nri/journal/v2/n1/abs/nri700.html\n"
   ]
  },
  {
   "cell_type": "markdown",
   "metadata": {},
   "source": [
    "### Use `pandas.read_csv()` to Load the Data\n",
    "\n",
    "The data file we'll use is in a file format called [CSV][1], which stands for **comma-separated values**. It's a commonly used format for storing 2-dimensional data, and programs like Microsoft Excel can import and export .CSV files.\n",
    "\n",
    "The code below will use the [`read_csv()`][3] function from the [pandas data analysis library][2] to load the CSV file you need from the web, then store the data as a variable called `hiv_data`.\n",
    "\n",
    "[1]: https://en.wikipedia.org/wiki/Comma-separated_values\n",
    "[2]: http://pandas.pydata.org\n",
    "[3]: http://pandas.pydata.org/pandas-docs/stable/generated/pandas.read_csv.html?highlight=read_csv#pandas.read_csv"
   ]
  },
  {
   "cell_type": "code",
   "execution_count": null,
   "metadata": {
    "collapsed": false
   },
   "outputs": [],
   "source": [
    "# Loading the data\n",
    "hiv_data = pandas.read_csv(\n",
    "    \"https://raw.githubusercontent.com/ComputationalModeling/IPML-Data/master/01HIVseries/HIVseries.csv\",\n",
    "    header = None,\n",
    "    names = [\"time_in_days\", \"viral_load\"]\n",
    ")\n",
    "\n",
    "# the data type of hiv_data is \"dataframe\"\n",
    "type(hiv_data)"
   ]
  },
  {
   "cell_type": "markdown",
   "metadata": {},
   "source": [
    "### You Can View a Pandas DataFrame by Executing It"
   ]
  },
  {
   "cell_type": "code",
   "execution_count": null,
   "metadata": {
    "collapsed": false
   },
   "outputs": [],
   "source": [
    "# Execute this cell (Shift + Enter) to see the data\n",
    "hiv_data"
   ]
  },
  {
   "cell_type": "markdown",
   "metadata": {
    "collapsed": false
   },
   "source": [
    "### You can view the first/last few rows of data with `.head()` and `.tail()` functions"
   ]
  },
  {
   "cell_type": "code",
   "execution_count": null,
   "metadata": {
    "collapsed": false
   },
   "outputs": [],
   "source": [
    "# If you have a pandas dataframe, you can call `head()` on it like this:\n",
    "hiv_data.head()"
   ]
  },
  {
   "cell_type": "code",
   "execution_count": null,
   "metadata": {
    "collapsed": false
   },
   "outputs": [],
   "source": [
    "# To see the last few rows, call `tail()` on it\n",
    "hiv_data.tail()"
   ]
  },
  {
   "cell_type": "markdown",
   "metadata": {},
   "source": [
    "### Use `data[\"column_name\"]` to View or Refer to a Column of Data"
   ]
  },
  {
   "cell_type": "code",
   "execution_count": null,
   "metadata": {
    "collapsed": false
   },
   "outputs": [],
   "source": [
    "# How to view an individual column\n",
    "hiv_data[\"time_in_days\"] # or\n",
    "hiv_data[\"viral_load\"]"
   ]
  },
  {
   "cell_type": "markdown",
   "metadata": {},
   "source": [
    "### Pandas DataFrame Columns Behave Like Numpy Arrays"
   ]
  },
  {
   "cell_type": "code",
   "execution_count": null,
   "metadata": {
    "collapsed": false
   },
   "outputs": [],
   "source": [
    "# Here's the viral load column again\n",
    "hiv_data[\"viral_load\"]"
   ]
  },
  {
   "cell_type": "code",
   "execution_count": null,
   "metadata": {
    "collapsed": false
   },
   "outputs": [],
   "source": [
    "# And we can calulate its mean, max, size, and other properties\n",
    "# Just like we would on a numpy array\n",
    "hiv_data[\"viral_load\"].mean()"
   ]
  },
  {
   "cell_type": "code",
   "execution_count": null,
   "metadata": {
    "collapsed": false
   },
   "outputs": [],
   "source": [
    "hiv_data[\"viral_load\"].max()"
   ]
  },
  {
   "cell_type": "code",
   "execution_count": null,
   "metadata": {
    "collapsed": false
   },
   "outputs": [],
   "source": [
    "hiv_data[\"viral_load\"].size"
   ]
  },
  {
   "cell_type": "markdown",
   "metadata": {},
   "source": [
    "### Plotting the Experimental Data"
   ]
  },
  {
   "cell_type": "markdown",
   "metadata": {},
   "source": [
    "In a Python cell below, plot the viral load versus time from the `hiv_data` we loaded."
   ]
  },
  {
   "cell_type": "code",
   "execution_count": null,
   "metadata": {
    "collapsed": false
   },
   "outputs": [],
   "source": [
    "# Plot viral load vs. time\n",
    "\n",
    "plt.plot(hiv_data[\"time_in_days\"],hiv_data[\"viral_load\"],'ro')\n",
    "plt.yscale('log')\n",
    "# note that there's some very interesting double-exponential behavior here!"
   ]
  },
  {
   "cell_type": "markdown",
   "metadata": {},
   "source": [
    "## Fitting Our Model To Experimental Data"
   ]
  },
  {
   "cell_type": "markdown",
   "metadata": {},
   "source": [
    "Now that we've seen what the experimental data look like, we'll take our model one step further by putting the data and our model together on the same plot.\n",
    "\n",
    "### Plot the Data and Model Together\n",
    "\n",
    "In the Python Cell below, create a plot that contains both the data and the model we were working with earlier. So, we'll superimpose the datapoints on a plot of $V(t) = A e^{(-\\alpha t)} + B e^{(-\\beta t)}$. You may need to adjust the model parameters until you can see both the data and model in your plot."
   ]
  },
  {
   "cell_type": "code",
   "execution_count": null,
   "metadata": {
    "collapsed": false
   },
   "outputs": [],
   "source": [
    "# Plot the data and model together\n",
    "\n",
    "A = 95000\n",
    "B = 150000\n",
    "alpha = 0.3\n",
    "beta = 2.0\n",
    "\n",
    "viral_load = (A * np.exp(-alpha * time)) + (B * np.exp(-beta * time))\n",
    "\n",
    "plt.plot(\n",
    "    time, viral_load, \"r\",\n",
    "    hiv_data['time_in_days'], hiv_data['viral_load'], \"b.\"\n",
    ")\n",
    "\n",
    "#plt.plot(\n",
    "#    hiv_data['time_in_days'], hiv_data['viral_load'], \"b.\"\n",
    "#)\n",
    "\n",
    "#plt.yscale('log')  # much less clear what's going on here"
   ]
  },
  {
   "cell_type": "markdown",
   "metadata": {},
   "source": [
    "### THINK about Tuning the Model Parameters to Fit the Model to Data"
   ]
  },
  {
   "cell_type": "markdown",
   "metadata": {},
   "source": [
    "The goal will be to tune the four parameters of $V(t) = A e^{(-\\alpha t)} + B e^{(-\\beta t)}$ until the model agrees with the data. It is hard to find the right needle in a four-dimensional haystack! We need a more systematic approach than just guessing. **Consider and try to answer** each of the following in a Markdown cell below:\n",
    "\n",
    "1. Assuming $\\beta > \\alpha$, how does the trial solution behave at long times? \n",
    "2. If the data also behave that way, can we use the long-time behavior to determine two of the four unknown constants, then hold them fixed while adjusting the other two? \n",
    "3. Even two constants is a lot to adjust by hand, so let’s think some more: How does the initial value $V(0)$ depend on the four constant parameters? \n",
    "4. Can you vary these constants in a way that always gives the correct long-time behavior and initial value? (Kinder and Nelson, 2015, p. 62)"
   ]
  },
  {
   "cell_type": "markdown",
   "metadata": {},
   "source": [
    "// Answer the questions here"
   ]
  },
  {
   "cell_type": "markdown",
   "metadata": {},
   "source": [
    "### Make and Plot Multiple Models to Find Model Parameters that Best Fit the Model to the Data"
   ]
  },
  {
   "cell_type": "markdown",
   "metadata": {},
   "source": [
    "Kinder and Nelson (2015) recommend that you:\n",
    "\n",
    "> Carry out this analysis so that you have only one remaining free parameter, which you can adjust fairly easily. Adjust this parameter until you like what you see.\n",
    "\n",
    "We suggest you **try and save different models** by assigning those models to named variables. For example, you might try:\n",
    "\n",
    "```python\n",
    "# Parameters for Model 1\n",
    "A = 1\n",
    "B = 3\n",
    "\n",
    "### Evaluate model 1\n",
    "model_01 = (A * np.exp(alpha * time)) + (B * np.exp(beta * time))\n",
    "\n",
    "### Plot model 1\n",
    "plt.plot(time, model_01)\n",
    "\n",
    "# Trying new parameter values for Model 2\n",
    "A = 3\n",
    "B = -5\n",
    "alpha = 0.5\n",
    "\n",
    "# Evaluate model 2\n",
    "model_02 = (A * np.exp(alpha * time)) + (B * np.exp(beta * time))\n",
    "\n",
    "# Plot model 2\n",
    "plt.plot(time, viral_load)\n",
    "\n",
    "# and so on until you find values you like\n",
    "```\n",
    "\n",
    "Use one or more Python cells below to create multiple models and decide on good parameter values."
   ]
  },
  {
   "cell_type": "code",
   "execution_count": null,
   "metadata": {
    "collapsed": false
   },
   "outputs": [],
   "source": [
    "# Do whatever work you need here to determine\n",
    "#   the parameter values you think work best.\n",
    "# REMEMBER: You can assign each new model to a new variable,\n",
    "#   like `model_01`, `model_02`, ...\n",
    "\n",
    "# fiddle with parameters\n",
    "A = 10\n",
    "B = 160000 - A\n",
    "alpha = .002\n",
    "beta = 10\n",
    "\n",
    "time1 = np.linspace(0, 2, 100)\n",
    "slope1 = -np.log((106100 - 66435) / 2)\n",
    "y_int1 = np.log(106100)\n",
    "line1 = (slope1 * time1) + y_int1\n",
    "\n",
    "\n",
    "slope2 = -np.log((75906 / 5))\n",
    "y_int2 = np.log(4785.2)\n",
    "line2 = slope2 * (time - 7) + y_int2\n",
    "\n",
    "log_model = np.log((A * np.exp(-alpha * time)) + (B * np.exp(-beta * time)))\n",
    "log_hiv_data = np.log(hiv_data[\"viral_load\"])\n",
    "\n",
    "\n",
    "\n",
    "plt.plot(\n",
    "    hiv_data['time_in_days'], np.log(hiv_data['viral_load']), 'bo',\n",
    "#     ,time, line2, 'g'\n",
    "    time1, line1, 'r'\n",
    ")\n",
    "\n",
    "\n",
    "line1[0]\n",
    "hiv_data['viral_load'].where(hiv_data['viral_load'] < 60000)"
   ]
  },
  {
   "cell_type": "markdown",
   "metadata": {},
   "source": [
    "## Please [Give Feedback][1] on this assignment\n",
    "\n",
    "[1]: http://goo.gl/forms/v8oZUSLDaa"
   ]
  },
  {
   "cell_type": "code",
   "execution_count": null,
   "metadata": {
    "collapsed": false
   },
   "outputs": [],
   "source": [
    "from IPython.display import IFrame\n",
    "IFrame('http://goo.gl/forms/v8oZUSLDaa', width=800, height=1200)"
   ]
  },
  {
   "cell_type": "markdown",
   "metadata": {},
   "source": [
    "## How to submit this assignment\n",
    "\n",
    "Log into the course Desire2Learn website (d2l.msu.edu) and go to the \"In-class assignments\" folder.  There will be a dropbox labeled \"**`Day 6`**\".  Upload this notebook there (but not pictures of drawings, etc.).  You only have to upload one notebook per group - just make sure that everybody's name is at the top of the notebook! "
   ]
  },
  {
   "cell_type": "markdown",
   "metadata": {},
   "source": [
    "## Source\n",
    "\n",
    "This tutorial is adapted from:\n",
    "\n",
    "Kinder, Jesse M.; Nelson, Philip (2015-07-01). A Student's Guide to Python for Physical Modeling (pp. 61–64). Princeton University Press. Kindle Edition. "
   ]
  },
  {
   "cell_type": "code",
   "execution_count": null,
   "metadata": {
    "collapsed": true
   },
   "outputs": [],
   "source": []
  }
 ],
 "metadata": {
  "kernelspec": {
   "display_name": "Python 3",
   "language": "python",
   "name": "python3"
  },
  "language_info": {
   "codemirror_mode": {
    "name": "ipython",
    "version": 3
   },
   "file_extension": ".py",
   "mimetype": "text/x-python",
   "name": "python",
   "nbconvert_exporter": "python",
   "pygments_lexer": "ipython3",
   "version": "3.5.1"
  },
  "toc": {
   "toc_cell": true,
   "toc_number_sections": true,
   "toc_section_display": "block",
   "toc_threshold": 4,
   "toc_window_display": false
  }
 },
 "nbformat": 4,
 "nbformat_minor": 0
}
