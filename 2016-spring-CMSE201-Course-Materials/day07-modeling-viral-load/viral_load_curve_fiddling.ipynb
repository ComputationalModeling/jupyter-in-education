{
 "cells": [
  {
   "cell_type": "code",
   "execution_count": null,
   "metadata": {
    "collapsed": true
   },
   "outputs": [],
   "source": [
    "%matplotlib inline\n",
    "import matplotlib.pyplot as plt\n",
    "import numpy as np"
   ]
  },
  {
   "cell_type": "code",
   "execution_count": null,
   "metadata": {
    "collapsed": false
   },
   "outputs": [],
   "source": [
    "# generally produces a curve with the shape we want!\n",
    "\n",
    "N0 = 4\n",
    "\n",
    "A = 2.0\n",
    "alpha = 0.8\n",
    "B = -1\n",
    "beta = 2.0\n",
    "\n",
    "time = np.linspace(0.0,2.0,1000)\n",
    "\n",
    "Nvirus = A*np.exp(-alpha*time) + B*np.exp(-beta*time)\n",
    "\n",
    "time.size\n",
    "\n",
    "plt.plot(time,Nvirus)\n",
    "plt.yscale('log')"
   ]
  },
  {
   "cell_type": "code",
   "execution_count": null,
   "metadata": {
    "collapsed": false
   },
   "outputs": [],
   "source": [
    "# shows families of curves \n",
    "\n",
    "A = [-2,-1,0,1,2]\n",
    "#A = [2]\n",
    "alpha = [-2,-1,0,1,2]\n",
    "#alpha = [1]\n",
    "B = [-2,-1,0,1,2]\n",
    "#B = [-1]\n",
    "beta = [-2,-1,0,1,2]\n",
    "alpha_minus_beta = [-2,-1,0,1,2,3]\n",
    "\n",
    "time = np.linspace(-4.0,4.0,1000)\n",
    "\n",
    "\n",
    "\n",
    "for aval in A:\n",
    "    for bval in B:\n",
    "        for alphaval in alpha:\n",
    "            for betaval in beta:\n",
    "                Nvirus = aval*np.exp(-alphaval*time) + bval*np.exp(-betaval*time)\n",
    "                plt.plot(time,Nvirus)\n",
    " \n",
    "#                 if aval != 0 and bval !=0 and float(aval)/float(bval) < 0.0:\n",
    "#                     plt.plot(time,Nvirus,'r-')\n",
    "#                 else:\n",
    "#                     pass\n",
    "#                     #plt.plot(time,Nvirus,'b.')\n",
    "\n",
    "# for aval in A:\n",
    "#     for bval in B:\n",
    "#         for alphaval in alpha:\n",
    "#             for ambval in alpha_minus_beta:\n",
    "#                 #Nvirus = aval*np.exp(-alphaval*time) + bval*np.exp(-betaval*time)\n",
    "#                 Nvirus = aval*np.exp(-alphaval*time)*(1.0+ bval/aval*np.exp(ambval*time))\n",
    "#                 plt.plot(time,Nvirus)\n",
    "\n",
    "\n",
    "plt.yscale('log')\n",
    "\n"
   ]
  },
  {
   "cell_type": "code",
   "execution_count": null,
   "metadata": {
    "collapsed": true
   },
   "outputs": [],
   "source": []
  }
 ],
 "metadata": {
  "kernelspec": {
   "display_name": "Python 3",
   "language": "python",
   "name": "python3"
  },
  "language_info": {
   "codemirror_mode": {
    "name": "ipython",
    "version": 3
   },
   "file_extension": ".py",
   "mimetype": "text/x-python",
   "name": "python",
   "nbconvert_exporter": "python",
   "pygments_lexer": "ipython3",
   "version": "3.5.1"
  }
 },
 "nbformat": 4,
 "nbformat_minor": 0
}
