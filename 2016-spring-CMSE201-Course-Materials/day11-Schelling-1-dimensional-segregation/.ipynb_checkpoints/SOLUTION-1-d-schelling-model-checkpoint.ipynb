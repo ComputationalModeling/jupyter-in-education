{
 "cells": [
  {
   "cell_type": "markdown",
   "metadata": {},
   "source": [
    "```\n",
    "TO play schelling's game:\n",
    "    Create a town of size town_size\n",
    "    Set up the town\n",
    "    Play rounds\n",
    "    Stop\n",
    "    \n",
    "\n",
    "TO set up the town:\n",
    "    for slot in town:\n",
    "        populate slot \n",
    "    \n",
    "TO populate a slot:\n",
    "    Set the seed\n",
    "    Flip a coin\n",
    "    if the coin comes up heads:\n",
    "        Put a nickel in the slot\n",
    "    otherwise:\n",
    "        Put a penny in the slot\n",
    "        \n",
    "TO is_allowed_to_move(resident):\n",
    "    if (index > neighborhood_size \n",
    "        and index < (len(town) - neighborhood_size)\n",
    "        ):\n",
    "        resident[\"is_allowed_to_move\"] = True\n",
    "    else:\n",
    "        resident[\"is_allowed_to_move\"] = False\n",
    "    return resident\n",
    "\n",
    "TO resident_wants_to_move:\n",
    "    similar_neighbors = number of residents like target resident\n",
    "    if similar_neighbors / neighborhood size < 0.5:\n",
    "        resident[\"wants_to_move\"] = True\n",
    "```"
   ]
  },
  {
   "cell_type": "code",
   "execution_count": 25,
   "metadata": {
    "collapsed": false
   },
   "outputs": [
    {
     "ename": "NameError",
     "evalue": "name 'index' is not defined",
     "output_type": "error",
     "traceback": [
      "\u001b[0;31m---------------------------------------------------------------------------\u001b[0m",
      "\u001b[0;31mNameError\u001b[0m                                 Traceback (most recent call last)",
      "\u001b[0;32m<ipython-input-25-2de935bb1c26>\u001b[0m in \u001b[0;36m<module>\u001b[0;34m()\u001b[0m\n\u001b[1;32m     52\u001b[0m \u001b[0;34m\u001b[0m\u001b[0m\n\u001b[1;32m     53\u001b[0m \u001b[0;34m\u001b[0m\u001b[0m\n\u001b[0;32m---> 54\u001b[0;31m \u001b[0mplay_schellings_game\u001b[0m\u001b[0;34m(\u001b[0m\u001b[0mtown_size\u001b[0m \u001b[0;34m=\u001b[0m \u001b[0;36m100\u001b[0m\u001b[0;34m)\u001b[0m\u001b[0;34m\u001b[0m\u001b[0m\n\u001b[0m\u001b[1;32m     55\u001b[0m \u001b[0;34m\u001b[0m\u001b[0m\n",
      "\u001b[0;32m<ipython-input-25-2de935bb1c26>\u001b[0m in \u001b[0;36mplay_schellings_game\u001b[0;34m(town_size)\u001b[0m\n\u001b[1;32m      5\u001b[0m \u001b[0;34m\u001b[0m\u001b[0m\n\u001b[1;32m      6\u001b[0m \u001b[0;32mdef\u001b[0m \u001b[0mplay_schellings_game\u001b[0m\u001b[0;34m(\u001b[0m\u001b[0mtown_size\u001b[0m\u001b[0;34m)\u001b[0m\u001b[0;34m:\u001b[0m\u001b[0;34m\u001b[0m\u001b[0m\n\u001b[0;32m----> 7\u001b[0;31m     \u001b[0mtown\u001b[0m \u001b[0;34m=\u001b[0m \u001b[0mset_up_town\u001b[0m\u001b[0;34m(\u001b[0m\u001b[0mlist\u001b[0m\u001b[0;34m(\u001b[0m\u001b[0mrange\u001b[0m\u001b[0;34m(\u001b[0m\u001b[0mtown_size\u001b[0m\u001b[0;34m)\u001b[0m\u001b[0;34m)\u001b[0m\u001b[0;34m)\u001b[0m\u001b[0;34m\u001b[0m\u001b[0m\n\u001b[0m\u001b[1;32m      8\u001b[0m     \u001b[0mplay_rounds\u001b[0m\u001b[0;34m(\u001b[0m\u001b[0mtown\u001b[0m\u001b[0;34m)\u001b[0m\u001b[0;34m\u001b[0m\u001b[0m\n\u001b[1;32m      9\u001b[0m     \u001b[0mhalt_simulation\u001b[0m\u001b[0;34m(\u001b[0m\u001b[0mtown\u001b[0m\u001b[0;34m)\u001b[0m\u001b[0;34m\u001b[0m\u001b[0m\n",
      "\u001b[0;32m<ipython-input-25-2de935bb1c26>\u001b[0m in \u001b[0;36mset_up_town\u001b[0;34m(empty_town)\u001b[0m\n\u001b[1;32m     12\u001b[0m     \u001b[0mrandom\u001b[0m\u001b[0;34m.\u001b[0m\u001b[0mseed\u001b[0m\u001b[0;34m(\u001b[0m\u001b[0;36m1001\u001b[0m\u001b[0;34m)\u001b[0m\u001b[0;34m\u001b[0m\u001b[0m\n\u001b[1;32m     13\u001b[0m     \u001b[0mtown\u001b[0m \u001b[0;34m=\u001b[0m \u001b[0;34m[\u001b[0m\u001b[0mpopulate_slot\u001b[0m\u001b[0;34m(\u001b[0m\u001b[0mslot\u001b[0m\u001b[0;34m)\u001b[0m \u001b[0;32mfor\u001b[0m \u001b[0mslot\u001b[0m \u001b[0;32min\u001b[0m \u001b[0mempty_town\u001b[0m\u001b[0;34m]\u001b[0m\u001b[0;34m\u001b[0m\u001b[0m\n\u001b[0;32m---> 14\u001b[0;31m     \u001b[0mtown\u001b[0m \u001b[0;34m=\u001b[0m \u001b[0;34m[\u001b[0m\u001b[0mis_allowed_to_move\u001b[0m\u001b[0;34m(\u001b[0m\u001b[0mresident\u001b[0m\u001b[0;34m)\u001b[0m \u001b[0;32mfor\u001b[0m \u001b[0mresident\u001b[0m \u001b[0;32min\u001b[0m \u001b[0mtown\u001b[0m\u001b[0;34m]\u001b[0m\u001b[0;34m\u001b[0m\u001b[0m\n\u001b[0m\u001b[1;32m     15\u001b[0m     \u001b[0;32mreturn\u001b[0m\u001b[0;34m(\u001b[0m\u001b[0mtown\u001b[0m\u001b[0;34m)\u001b[0m\u001b[0;34m\u001b[0m\u001b[0m\n\u001b[1;32m     16\u001b[0m \u001b[0;34m\u001b[0m\u001b[0m\n",
      "\u001b[0;32m<ipython-input-25-2de935bb1c26>\u001b[0m in \u001b[0;36m<listcomp>\u001b[0;34m(.0)\u001b[0m\n\u001b[1;32m     12\u001b[0m     \u001b[0mrandom\u001b[0m\u001b[0;34m.\u001b[0m\u001b[0mseed\u001b[0m\u001b[0;34m(\u001b[0m\u001b[0;36m1001\u001b[0m\u001b[0;34m)\u001b[0m\u001b[0;34m\u001b[0m\u001b[0m\n\u001b[1;32m     13\u001b[0m     \u001b[0mtown\u001b[0m \u001b[0;34m=\u001b[0m \u001b[0;34m[\u001b[0m\u001b[0mpopulate_slot\u001b[0m\u001b[0;34m(\u001b[0m\u001b[0mslot\u001b[0m\u001b[0;34m)\u001b[0m \u001b[0;32mfor\u001b[0m \u001b[0mslot\u001b[0m \u001b[0;32min\u001b[0m \u001b[0mempty_town\u001b[0m\u001b[0;34m]\u001b[0m\u001b[0;34m\u001b[0m\u001b[0m\n\u001b[0;32m---> 14\u001b[0;31m     \u001b[0mtown\u001b[0m \u001b[0;34m=\u001b[0m \u001b[0;34m[\u001b[0m\u001b[0mis_allowed_to_move\u001b[0m\u001b[0;34m(\u001b[0m\u001b[0mresident\u001b[0m\u001b[0;34m)\u001b[0m \u001b[0;32mfor\u001b[0m \u001b[0mresident\u001b[0m \u001b[0;32min\u001b[0m \u001b[0mtown\u001b[0m\u001b[0;34m]\u001b[0m\u001b[0;34m\u001b[0m\u001b[0m\n\u001b[0m\u001b[1;32m     15\u001b[0m     \u001b[0;32mreturn\u001b[0m\u001b[0;34m(\u001b[0m\u001b[0mtown\u001b[0m\u001b[0;34m)\u001b[0m\u001b[0;34m\u001b[0m\u001b[0m\n\u001b[1;32m     16\u001b[0m \u001b[0;34m\u001b[0m\u001b[0m\n",
      "\u001b[0;32m<ipython-input-25-2de935bb1c26>\u001b[0m in \u001b[0;36mis_allowed_to_move\u001b[0;34m(resident)\u001b[0m\n\u001b[1;32m     43\u001b[0m \u001b[0;34m\u001b[0m\u001b[0m\n\u001b[1;32m     44\u001b[0m \u001b[0;32mdef\u001b[0m \u001b[0mis_allowed_to_move\u001b[0m\u001b[0;34m(\u001b[0m\u001b[0mresident\u001b[0m\u001b[0;34m)\u001b[0m\u001b[0;34m:\u001b[0m\u001b[0;34m\u001b[0m\u001b[0m\n\u001b[0;32m---> 45\u001b[0;31m     if (index > neighborhood_size \n\u001b[0m\u001b[1;32m     46\u001b[0m         \u001b[0;32mand\u001b[0m \u001b[0mindex\u001b[0m \u001b[0;34m<\u001b[0m \u001b[0;34m(\u001b[0m\u001b[0mlen\u001b[0m\u001b[0;34m(\u001b[0m\u001b[0mtown\u001b[0m\u001b[0;34m)\u001b[0m \u001b[0;34m-\u001b[0m \u001b[0mneighborhood_size\u001b[0m\u001b[0;34m)\u001b[0m\u001b[0;34m\u001b[0m\u001b[0m\n\u001b[1;32m     47\u001b[0m         ):\n",
      "\u001b[0;31mNameError\u001b[0m: name 'index' is not defined"
     ]
    }
   ],
   "source": [
    "import functools\n",
    "import random\n",
    "import numpy as np\n",
    "\n",
    "\n",
    "def play_schellings_game(town_size):\n",
    "    town = set_up_town(list(range(town_size)))\n",
    "    play_rounds(town)\n",
    "    halt_simulation(town)\n",
    "    \n",
    "def set_up_town(empty_town):\n",
    "    random.seed(1001)\n",
    "    town = [populate_slot(slot) for slot in empty_town]\n",
    "    town = [is_allowed_to_move(resident) for resident in town]\n",
    "    return(town)\n",
    "\n",
    "def populate_slot(slot):\n",
    "    coin_flip = random.random\n",
    "    resident = {\"wants_to_move\": True,\n",
    "                \"coin_type\": round(random.random())}\n",
    "    return resident\n",
    "\n",
    "def play_rounds(town):\n",
    "    print_town(town)\n",
    "\n",
    "def halt_simulation(town):\n",
    "    pass\n",
    "\n",
    "def print_town(town):\n",
    "    residents = [(index, resident[\"is_allowed_to_move\"])\n",
    "                 for index, resident \n",
    "                 in enumerate(town)]\n",
    "    print(residents)\n",
    "    \n",
    "# def resident_wants_to_move(index, town):\n",
    "#     neighborhood_size = 4\n",
    "#     tolerance = 0.5\n",
    "#     default_value = False\n",
    "#     if (index > neighborhood_size \n",
    "#         and index < (len(town) - neighborhood_size)\n",
    "#         and \n",
    "#        ):\n",
    "\n",
    "def is_allowed_to_move(resident_index, town):\n",
    "    if (resident_index > neighborhood_size \n",
    "        and resident_index < (len(town) - neighborhood_size)\n",
    "        ):\n",
    "        resident[\"is_allowed_to_move\"] = True\n",
    "    else:\n",
    "        resident[\"is_allowed_to_move\"] = False\n",
    "    return resident\n",
    "        \n",
    "\n",
    "play_schellings_game(town_size = 100)\n",
    "\n"
   ]
  },
  {
   "cell_type": "code",
   "execution_count": 26,
   "metadata": {
    "collapsed": false
   },
   "outputs": [
    {
     "ename": "SyntaxError",
     "evalue": "invalid syntax (<ipython-input-26-d45b1cdf1fa6>, line 5)",
     "output_type": "error",
     "traceback": [
      "\u001b[0;36m  File \u001b[0;32m\"<ipython-input-26-d45b1cdf1fa6>\"\u001b[0;36m, line \u001b[0;32m5\u001b[0m\n\u001b[0;31m    myTown = new town\u001b[0m\n\u001b[0m                    ^\u001b[0m\n\u001b[0;31mSyntaxError\u001b[0m\u001b[0;31m:\u001b[0m invalid syntax\n"
     ]
    }
   ],
   "source": [
    "class Town:\n",
    "    def __init__(self, town_size):\n",
    "        self.size = town_size\n",
    "        \n",
    "myTown = new town"
   ]
  },
  {
   "cell_type": "code",
   "execution_count": 22,
   "metadata": {
    "collapsed": false
   },
   "outputs": [
    {
     "data": {
      "text/plain": [
       "6"
      ]
     },
     "execution_count": 22,
     "metadata": {},
     "output_type": "execute_result"
    }
   ],
   "source": [
    "len(x) - 4"
   ]
  },
  {
   "cell_type": "code",
   "execution_count": 23,
   "metadata": {
    "collapsed": false
   },
   "outputs": [
    {
     "data": {
      "text/plain": [
       "[6, 7, 8, 9]"
      ]
     },
     "execution_count": 23,
     "metadata": {},
     "output_type": "execute_result"
    }
   ],
   "source": []
  },
  {
   "cell_type": "code",
   "execution_count": null,
   "metadata": {
    "collapsed": true
   },
   "outputs": [],
   "source": []
  }
 ],
 "metadata": {
  "kernelspec": {
   "display_name": "Python 3",
   "language": "python",
   "name": "python3"
  },
  "language_info": {
   "codemirror_mode": {
    "name": "ipython",
    "version": 3
   },
   "file_extension": ".py",
   "mimetype": "text/x-python",
   "name": "python",
   "nbconvert_exporter": "python",
   "pygments_lexer": "ipython3",
   "version": "3.5.1"
  }
 },
 "nbformat": 4,
 "nbformat_minor": 0
}
