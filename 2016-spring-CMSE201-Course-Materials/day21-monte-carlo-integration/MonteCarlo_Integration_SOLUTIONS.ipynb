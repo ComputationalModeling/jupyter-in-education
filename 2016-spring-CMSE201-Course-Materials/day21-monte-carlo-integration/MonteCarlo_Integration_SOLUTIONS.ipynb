{
 "cells": [
  {
   "cell_type": "markdown",
   "metadata": {},
   "source": [
    "# A New Hope (for integrating functions)\n",
    "\n"
   ]
  },
  {
   "cell_type": "markdown",
   "metadata": {},
   "source": [
    "## Names of group members"
   ]
  },
  {
   "cell_type": "markdown",
   "metadata": {},
   "source": [
    "// put your names here!"
   ]
  },
  {
   "cell_type": "markdown",
   "metadata": {},
   "source": [
    "## Goals of this assignment\n",
    "\n",
    "The main goal of this assignment is to use [https://en.wikipedia.org/wiki/Monte_Carlo_integration](Monte Carlo integration) - a  technique for numerical integration that uses random numbers to compute the value of a definite integral.  Monte Carlo integration works well for one-dimensional functions, but is especially helpful for higher-dimensional integrals or complicated functions."
   ]
  },
  {
   "cell_type": "markdown",
   "metadata": {},
   "source": [
    "----\n",
    "### Part 1\n",
    "\n",
    "Write a function that uses Monte Carlo integration to $f(x) = 2 x^2 + 3$ from $x_{beg}= -2$ to $x_{end} = +4$.  The analytic answer is:\n",
    "\n",
    " $\\int_{-2}^{4} (2x^2 + 3) dx = \\left. \\frac{2}{3}x^3 + 3x \\right|_{-2}^4 = 66$\n",
    "\n",
    "As you increase the number of samples ($N_{sampple}$) from 10 to $10^6$, how does your calculated solution approach the true answer?  In other words, calculate the fractional error defined as $\\epsilon = |\\frac{I - T}{T}|$, where I is the integrated answer, T is the true (i.e., analytic) answer, and the vertical bars denote that you take the absolute value.  This gives you the fractional difference between your integrated answer and the true answer."
   ]
  },
  {
   "cell_type": "code",
   "execution_count": null,
   "metadata": {
    "collapsed": false
   },
   "outputs": [],
   "source": [
    "# Put your code here!\n",
    "\n",
    "import random as rand\n",
    "import math\n",
    "\n",
    "def f(x):\n",
    "    return 2.0*(x**2) + 3.0\n",
    "\n",
    "# x min, max: -2, 4 (delta_x = 6)\n",
    "# y min, max: 0, 35\n",
    "\n",
    "Area = (35-0)*(4+2)\n",
    "real_area = 66.0\n",
    "\n",
    "samples = []\n",
    "errors = []\n",
    "\n",
    "for i in range(1,7):\n",
    "    \n",
    "    N_samples = 10**i\n",
    "    \n",
    "    N_below = 0\n",
    "    \n",
    "    for j in range(N_samples):\n",
    "\n",
    "        x = rand.uniform(-2,4)\n",
    "        y = rand.uniform(0,35)\n",
    "\n",
    "        if  y < f(x):\n",
    "            N_below += 1\n",
    "\n",
    "    est_area = Area * N_below/N_samples\n",
    "\n",
    "    error = math.fabs( (est_area - real_area)/real_area)\n",
    "    \n",
    "    samples.append(N_samples)\n",
    "    errors.append(error)\n",
    "    print(\"estimated area, real area, error:\", est_area, real_area, error)"
   ]
  },
  {
   "cell_type": "code",
   "execution_count": null,
   "metadata": {
    "collapsed": false
   },
   "outputs": [],
   "source": [
    "%matplotlib inline\n",
    "import matplotlib.pyplot as plt\n",
    "\n",
    "plt.plot(samples,errors,'b-',[1,1.0e+6],[1,1.0e-3],'r-')\n",
    "plt.xscale('log')\n",
    "plt.yscale('log')"
   ]
  },
  {
   "cell_type": "markdown",
   "metadata": {},
   "source": [
    "----\n",
    "### Part 2\n",
    "\n",
    "A [torus](http://en.wikipedia.org/wiki/Torus) that is radially symmetric about the z-axis (think of a donut pierced by the x-y plane) can be described by the equation:\n",
    "\n",
    "$\\large( R - \\sqrt{x^2 + y^2} \\large)^2 + z^2 = r^2$\n",
    "\n",
    "where R is the distance from the center of the tube to the center of the torus, and r is the radius of the tube (with the 'tube' meaning the tasty baked part of the donut).  Assuming that $R = 12$ cm, $r = 8$ cm, and $\\rho_{donut} = 0.8$ g cm$^{-3}$, use Monte Carlo integration to calculate the mass of this excessively large donut.  Note that for the situation described here, a point (x,y,z) is inside of the tasty cake part of the donut when:\n",
    "\n",
    "$\\large( R - \\sqrt{x^2 + y^2} \\large)^2 + z^2 < r^2$\n",
    "\n",
    "(Try testing this relation in the x-y plane to see that it is true.)  Assume that the donut is of uniform density and that the mass of the icing can be neglected.  You can use the formulae shown in the Wikipedia page linked above to get the analytic answer.  Run the test several times, both repeatedly with the same number of samples and with different numbers of samples.  How many points do you have to use to get an answer that converges to within 1%?  What about 0.1%?\n",
    "\n",
    "**Hint:** does the box that encompasses the donut have to be a cube?  I.e., when calculating this problem, what is the minimum practical bounding box that can be described simply and which fully encompasses the donut?"
   ]
  },
  {
   "cell_type": "code",
   "execution_count": null,
   "metadata": {
    "collapsed": false
   },
   "outputs": [],
   "source": [
    "# Put your code here!\n",
    "\n",
    "# z bounds: +/- 8 cm\n",
    "# x,y bounds: +/- 20 cm\n",
    "# bounding volume: 40*40*16 cm^3 = 25,600 cm^3\n",
    "\n",
    "R = 12\n",
    "r = 8\n",
    "rho = 0.8\n",
    "\n",
    "def f(x,y,z,R,r):\n",
    "    \n",
    "    if (R - (x**2 + y**2)**0.5)**2 + z**2 < r**2:\n",
    "        return 1\n",
    "    else:\n",
    "        return 0\n",
    "\n",
    "# x min, max: -20, 20\n",
    "# y min, max: -20, 20\n",
    "# z min, max: -8, 8\n",
    "\n",
    "sample_volume = 40*40*16\n",
    "real_volume = (math.pi*(8**2))*(2.0*math.pi*12)\n",
    "\n",
    "samples = []\n",
    "errors = []\n",
    "\n",
    "for i in range(1,7):\n",
    "    \n",
    "    N_samples = 10**i\n",
    "    \n",
    "    N_inside = 0\n",
    "    \n",
    "    for j in range(N_samples):\n",
    "\n",
    "        x = rand.uniform(-20,20)\n",
    "        y = rand.uniform(-20,20)\n",
    "        z = rand.uniform(-8,8)\n",
    "        \n",
    "        N_inside += f(x,y,z,R,r)\n",
    "\n",
    "    est_volume = sample_volume * N_inside/N_samples\n",
    "\n",
    "    error = math.fabs( (est_volume - real_volume)/real_volume)\n",
    "    \n",
    "    samples.append(N_samples)\n",
    "    errors.append(error)\n",
    "    print(\"estimated mass: {:.3f}, real mass:  {:.3f}, error {:.3e}\".format(est_volume*rho, real_volume*rho, error))\n"
   ]
  },
  {
   "cell_type": "code",
   "execution_count": null,
   "metadata": {
    "collapsed": false
   },
   "outputs": [],
   "source": [
    "%matplotlib inline\n",
    "import matplotlib.pyplot as plt\n",
    "\n",
    "plt.plot(samples,errors,'b-',[1,1.0e+6],[1,1.0e-3],'r-')\n",
    "plt.xscale('log')\n",
    "plt.yscale('log')"
   ]
  },
  {
   "cell_type": "markdown",
   "metadata": {},
   "source": [
    "## Wrapup\n",
    "\n",
    "Do you have any lingering questions that remain after this project?"
   ]
  },
  {
   "cell_type": "markdown",
   "metadata": {},
   "source": [
    "// put your answers here!"
   ]
  },
  {
   "cell_type": "markdown",
   "metadata": {},
   "source": [
    "## Turn it in!\n",
    "\n",
    "Turn this assignment in to the Day 21 dropbox in the \"in-class activities\" folder."
   ]
  }
 ],
 "metadata": {
  "kernelspec": {
   "display_name": "Python 3",
   "language": "python",
   "name": "python3"
  },
  "language_info": {
   "codemirror_mode": {
    "name": "ipython",
    "version": 3
   },
   "file_extension": ".py",
   "mimetype": "text/x-python",
   "name": "python",
   "nbconvert_exporter": "python",
   "pygments_lexer": "ipython3",
   "version": "3.5.1"
  }
 },
 "nbformat": 4,
 "nbformat_minor": 0
}
