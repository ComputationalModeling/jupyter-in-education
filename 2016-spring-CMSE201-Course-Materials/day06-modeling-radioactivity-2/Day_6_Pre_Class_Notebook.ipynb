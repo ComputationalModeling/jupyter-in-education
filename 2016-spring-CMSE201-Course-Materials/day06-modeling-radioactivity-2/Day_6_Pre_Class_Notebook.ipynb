{
 "cells": [
  {
   "cell_type": "markdown",
   "metadata": {},
   "source": [
    "# Day 6 - pre-class assignment\n",
    "\n",
    "## Goals for today's pre-class assignment\n",
    "\n",
    "* Use numpy and pyplot to create some plots!\n",
    "* Write a simple loop using numpy"
   ]
  },
  {
   "cell_type": "markdown",
   "metadata": {},
   "source": [
    "## Assignment instructions\n",
    "\n",
    "No need to watch any videos for this one.  Some useful resources are:\n",
    "\n",
    "* [The Numpy module and numpy arrays (video)](https://www.youtube.com/watch?v=BTXyE3KLIOs)\n",
    "* [The pyplot tutorial](http://matplotlib.org/users/pyplot_tutorial.html)\n",
    "* [The pyplot 'plot' command documentation](http://matplotlib.org/api/pyplot_api.html#matplotlib.pyplot.plot) -- this has instructions on how to change line color and type, and the shape of the line marker!\n",
    "\n",
    "Recall that to make notebook cells that have Python code in them do something, hold down the 'shift' key and then press the 'enter' key (you'll have to do this to get the YouTube videos to run).  To edit a cell (to add answers, for example) you double-click on the cell, add your text, and then enter it by holding down 'shift' and pressing 'enter'\n",
    "\n",
    "**This assignment is due by 11:59 p.m. the day before class,** and should be uploaded into the \"Pre-class assignments\" dropbox folder for Day 6.  Submission instructions can be found at the end of the notebook."
   ]
  },
  {
   "cell_type": "markdown",
   "metadata": {},
   "source": [
    "**Question 1:** In the cell below, use numpy's 'arange' method to create an array called 'x1' that goes from 0.0 to 20.0 with a stepsize of 4.0.  (hint: remember that you can look up how 'arange' works using the help() command or a question mark after the method name!).  After you do that, create an array called y1 that is equal to the sine of x1, using the numpy sine method (i.e., using np.sin() rather than the math module's sin() method).  Plot x1 and y2 with a red solid line."
   ]
  },
  {
   "cell_type": "code",
   "execution_count": null,
   "metadata": {
    "collapsed": false
   },
   "outputs": [],
   "source": [
    "# put your code here.\n"
   ]
  },
  {
   "cell_type": "markdown",
   "metadata": {
    "collapsed": false
   },
   "source": [
    "**Does the plot above**  *look* like a sine function?  Why or why not?"
   ]
  },
  {
   "cell_type": "markdown",
   "metadata": {},
   "source": [
    "put your answer here!"
   ]
  },
  {
   "cell_type": "markdown",
   "metadata": {},
   "source": [
    "**Question 2:**  In the space below, use the same methods as before to make an array called x2 that goes from 0.0 to 20.0 with a stepsize of 1.0.  Then, create an array called y2 that's equal to the sine of x2.  Plot x1 vs. y1 and x2 vs. y2 on the same plot, using a red solid line for x1/y1 and a blue solid line for x2/y2."
   ]
  },
  {
   "cell_type": "code",
   "execution_count": null,
   "metadata": {
    "collapsed": true
   },
   "outputs": [],
   "source": [
    "# put your code here.\n",
    "\n",
    "\n"
   ]
  },
  {
   "cell_type": "markdown",
   "metadata": {
    "collapsed": false
   },
   "source": [
    "**Question 3:**  Finally do the same thing as above, but with a third array x3 that goes from 0.0 to 20.0 with a stepsize of 0.1, and an array y3 that is the sine of x3.  Plot all three functions on the same plot, using the same colors as above for x1/y1 and x2/y2, but a black dashed line for x3/y3 (note: the symbol for black is 'k')."
   ]
  },
  {
   "cell_type": "code",
   "execution_count": null,
   "metadata": {
    "collapsed": true
   },
   "outputs": [],
   "source": [
    "# put your code here"
   ]
  },
  {
   "cell_type": "markdown",
   "metadata": {},
   "source": [
    "How did your plot of sin(x) change appearance as you increased the resolution of your x-array from dx = 4 to dx = 0.1?  What does this tell you?"
   ]
  },
  {
   "cell_type": "markdown",
   "metadata": {
    "collapsed": true
   },
   "source": [
    "Put your answer here!"
   ]
  },
  {
   "cell_type": "markdown",
   "metadata": {},
   "source": [
    "**Question 4:** Finally, write a small program that loops over the array x2, and for each value of x in x2 prints out x2, sin(x2) + cos(x2), and $\\sin^2(\\mathrm{x2}) + \\cos^2(\\mathrm{x2})$.\n",
    "\n",
    "(Hint: don't forget the numpy nditer() method and the [The numpy video from last week](https://www.youtube.com/watch?v=BTXyE3KLIOs)!)"
   ]
  },
  {
   "cell_type": "code",
   "execution_count": null,
   "metadata": {
    "collapsed": true
   },
   "outputs": [],
   "source": [
    "# put your code here!\n",
    "\n"
   ]
  },
  {
   "cell_type": "markdown",
   "metadata": {},
   "source": [
    "# Give us your feedback on the class!"
   ]
  },
  {
   "cell_type": "markdown",
   "metadata": {},
   "source": [
    "**Feedback 1:** How do you feel you’re doing in class?"
   ]
  },
  {
   "cell_type": "markdown",
   "metadata": {},
   "source": [
    "put your feedback here!"
   ]
  },
  {
   "cell_type": "markdown",
   "metadata": {},
   "source": [
    "**Feedback 2:** If you could change something about how your group works, what would it be?"
   ]
  },
  {
   "cell_type": "markdown",
   "metadata": {},
   "source": [
    "put your feedback here!"
   ]
  },
  {
   "cell_type": "markdown",
   "metadata": {},
   "source": [
    "**Feedback 3:** Do you have any other thoughts about how class is going so far, or how we could improve your learning environment?"
   ]
  },
  {
   "cell_type": "markdown",
   "metadata": {},
   "source": [
    "put your feedback here!"
   ]
  },
  {
   "cell_type": "markdown",
   "metadata": {},
   "source": [
    "### Assignment wrapup\n",
    "\n",
    "**Question 5:** What questions do you have, if any, about any of the topics discussed in this assignment \n",
    "after watching the videos, reading the link to the Python tutorial, and trying to write the programs?"
   ]
  },
  {
   "cell_type": "markdown",
   "metadata": {},
   "source": [
    "Put your answer here!"
   ]
  },
  {
   "cell_type": "markdown",
   "metadata": {},
   "source": [
    "**Question 6:**  Do you have any further questions or comments about this material, or anything else that's going on in class?"
   ]
  },
  {
   "cell_type": "markdown",
   "metadata": {},
   "source": [
    "Put your answer here!"
   ]
  },
  {
   "cell_type": "markdown",
   "metadata": {},
   "source": [
    "**Question 7:**  How long did this assignment take you to complete?"
   ]
  },
  {
   "cell_type": "markdown",
   "metadata": {},
   "source": [
    "Put your answer here!"
   ]
  },
  {
   "cell_type": "markdown",
   "metadata": {},
   "source": [
    "### Congratulations, you're done!\n",
    "\n",
    "Submit this assignment by uploading it to the course Desire2Learn web page.  Go to the \"Pre-class assignments\" folder, find the dropbox link for Day 6, and upload it there.\n",
    "\n",
    "See you in class!"
   ]
  }
 ],
 "metadata": {
  "kernelspec": {
   "display_name": "Python 3",
   "language": "python",
   "name": "python3"
  },
  "language_info": {
   "codemirror_mode": {
    "name": "ipython",
    "version": 3
   },
   "file_extension": ".py",
   "mimetype": "text/x-python",
   "name": "python",
   "nbconvert_exporter": "python",
   "pygments_lexer": "ipython3",
   "version": "3.5.1"
  }
 },
 "nbformat": 4,
 "nbformat_minor": 0
}
