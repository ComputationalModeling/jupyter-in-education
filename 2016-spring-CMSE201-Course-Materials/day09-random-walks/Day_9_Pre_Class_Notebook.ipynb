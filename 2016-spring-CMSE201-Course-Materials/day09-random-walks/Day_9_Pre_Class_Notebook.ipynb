{
 "cells": [
  {
   "cell_type": "markdown",
   "metadata": {},
   "source": [
    "# Day 9 - pre-class assignment\n",
    "\n",
    "## Goals for today's pre-class assignment\n",
    "\n",
    "* Use random number generators to create a sequence of random floats and integers\n",
    "* Create a function and use it to do something."
   ]
  },
  {
   "cell_type": "markdown",
   "metadata": {},
   "source": [
    "## Assignment instructions\n",
    "\n",
    "Watch the videos below, read through Section 4.6, 4.7.1, and 4.7.2 of the [Python Tutorial](https://docs.python.org/3/tutorial/controlflow.html), and complete the programming problems assigned below.\n",
    "\n",
    "**This assignment is due by 11:59 p.m. the day before class,** and should be uploaded into the \"Pre-class assignments\" dropbox folder for Day 9.  Submission instructions can be found at the end of the notebook."
   ]
  },
  {
   "cell_type": "code",
   "execution_count": null,
   "metadata": {
    "collapsed": true
   },
   "outputs": [],
   "source": [
    "# Imports the functionality that we need to display YouTube videos in a Jupyter Notebook.  \n",
    "# You need to run this cell before you run ANY of the YouTube videos.\n",
    "\n",
    "from IPython.display import YouTubeVideo "
   ]
  },
  {
   "cell_type": "code",
   "execution_count": null,
   "metadata": {
    "collapsed": false
   },
   "outputs": [],
   "source": [
    "# WATCH THE VIDEO IN FULL-SCREEN MODE\n",
    "\n",
    "YouTubeVideo(\"fF841G53fGo\",width=640,height=360)  # random numbers"
   ]
  },
  {
   "cell_type": "markdown",
   "metadata": {},
   "source": [
    "Some possibly useful links:\n",
    "\n",
    "* [Python \"random\" module documentation](https://docs.python.org/3/library/random.html)\n",
    "* [Numpy \"random\" module](http://docs.scipy.org/doc/numpy/reference/routines.random.html)\n",
    "\n",
    "And some interesting links on what you use random numbers to do in programming:\n",
    "\n",
    "* [Wikipedia article on \"Applications of randomness\"](https://en.wikipedia.org/wiki/Applications_of_randomness)\n",
    "* [Wikipedia article on random number generation](https://en.wikipedia.org/wiki/Random_number_generation)\n"
   ]
  },
  {
   "cell_type": "markdown",
   "metadata": {},
   "source": [
    "**Question 1:**  Using the Python ```random``` module, first seed the random number generator with a number of your choosing and then use a loop to create and print out several floating-point numbers whose values are between 5 and 10.  Verify that if you re-run this code several times, the random numbers stay the same, and that if you comment out the code they change!"
   ]
  },
  {
   "cell_type": "code",
   "execution_count": null,
   "metadata": {
    "collapsed": false
   },
   "outputs": [],
   "source": [
    "# put your code here.\n",
    "\n",
    "\n"
   ]
  },
  {
   "cell_type": "code",
   "execution_count": null,
   "metadata": {
    "collapsed": false,
    "scrolled": true
   },
   "outputs": [],
   "source": [
    "# WATCH THE VIDEO IN FULL-SCREEN MODE\n",
    "\n",
    "YouTubeVideo(\"o_wzbAUZWQk\",width=640,height=360)  # functions"
   ]
  },
  {
   "cell_type": "markdown",
   "metadata": {},
   "source": [
    "* [Tutorial on functions in python](https://docs.python.org/3/tutorial/controlflow.html#defining-functions)\n",
    "* [Dive Into Python - section on functions](http://www.diveintopython3.net/your-first-python-program.html#declaringfunctions)"
   ]
  },
  {
   "cell_type": "markdown",
   "metadata": {},
   "source": [
    "**Question 2:** Give a function a list of floating-point numbers and have it return the min, max, and average of them as three separate variables.  Store those in variables and print them out."
   ]
  },
  {
   "cell_type": "code",
   "execution_count": null,
   "metadata": {
    "collapsed": true
   },
   "outputs": [],
   "source": [
    "# put your code here.\n",
    "\n",
    "\n",
    "\n",
    "\n"
   ]
  },
  {
   "cell_type": "markdown",
   "metadata": {
    "collapsed": false
   },
   "source": [
    "**Question 3:**  Give a function a list of floating-point numbers and have it return *either* the min, max, or mean value, depending on an optional keyword (that you give it as a second argument).  The default should be to provide the mean value. Store that in a variable and print it out."
   ]
  },
  {
   "cell_type": "code",
   "execution_count": null,
   "metadata": {
    "collapsed": true
   },
   "outputs": [],
   "source": [
    "# put your code here\n",
    "\n"
   ]
  },
  {
   "cell_type": "markdown",
   "metadata": {},
   "source": [
    "### Assignment wrapup\n",
    "\n",
    "**Question 4:** What questions do you have, if any, about any of the topics discussed in this assignment \n",
    "after watching the videos, reading the link to the Python tutorial, and trying to write the programs?"
   ]
  },
  {
   "cell_type": "markdown",
   "metadata": {},
   "source": [
    "Put your answer here!"
   ]
  },
  {
   "cell_type": "markdown",
   "metadata": {},
   "source": [
    "**Question 5:**  Do you have any further questions or comments about this material, or anything else that's going on in class?"
   ]
  },
  {
   "cell_type": "markdown",
   "metadata": {},
   "source": [
    "Put your answer here!"
   ]
  },
  {
   "cell_type": "markdown",
   "metadata": {},
   "source": [
    "**Question 6:**  How long did this assignment take you to complete?"
   ]
  },
  {
   "cell_type": "markdown",
   "metadata": {},
   "source": [
    "Put your answer here!"
   ]
  },
  {
   "cell_type": "markdown",
   "metadata": {},
   "source": [
    "### Congratulations, you're done!\n",
    "\n",
    "Submit this assignment by uploading it to the course Desire2Learn web page.  Go to the \"Pre-class assignments\" folder, find the dropbox link for Day 9, and upload it there.\n",
    "\n",
    "See you in class!"
   ]
  }
 ],
 "metadata": {
  "kernelspec": {
   "display_name": "Python 3",
   "language": "python",
   "name": "python3"
  },
  "language_info": {
   "codemirror_mode": {
    "name": "ipython",
    "version": 3
   },
   "file_extension": ".py",
   "mimetype": "text/x-python",
   "name": "python",
   "nbconvert_exporter": "python",
   "pygments_lexer": "ipython3",
   "version": "3.5.1"
  }
 },
 "nbformat": 4,
 "nbformat_minor": 0
}
