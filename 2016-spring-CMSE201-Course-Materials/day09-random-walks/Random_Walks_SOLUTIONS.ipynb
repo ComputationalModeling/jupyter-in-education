{
 "cells": [
  {
   "cell_type": "markdown",
   "metadata": {},
   "source": [
    "# Random Walks\n",
    "\n",
    "In many situations, it is very useful to think of some sort of process that you wish to model as a succession of random steps.  This can describe a wide variety of phenomena - the behavior of the stock market, models of population dynamics in ecosystems, the properties of polymers, the movement of molecules in liquids or gases, modeling neurons in the brain, or in [building Google's PageRank search model](http://www.math.cmu.edu/~pmelsted/papers/pagerank.pdf).  This type of modeling is known as a [\"random walk\"](https://en.wikipedia.org/wiki/Random_walk), and while the process being modeled can vary tremendously, the underlying process is simple.  In this exercise, we are going to model such a random walk and learn about some of its behaviors!\n",
    "\n",
    "## Learning goals:\n",
    "\n",
    "* Model a random walk\n",
    "* Learn about the behavior of random walks in one and two dimensions\n",
    "* Plot both the distribution of random walks and the outcome of a single random walk \n",
    "\n",
    "## Group members\n",
    "\n"
   ]
  },
  {
   "cell_type": "markdown",
   "metadata": {},
   "source": [
    "Put the name of your group members here!"
   ]
  },
  {
   "cell_type": "markdown",
   "metadata": {},
   "source": [
    "# Part 1:  One-dimensional random walk.\n",
    "\n",
    "Imagine that you draw a line on the floor, with a mark every foot.  You start at the middle of the line (the point you have decided is the \"origin\").  You then flip a \"fair\" coin N times (\"fair\" means that it has equal chances of coming up heads and tails).  Every time the coin comes up heads, you take one step to the right.  Every time it comes up tails, you take a step to the left.  \n",
    "\n",
    "**Questions:**\n",
    "\n",
    "* After $N_{flip}$ coin flips and steps, how far are you from the origin?\n",
    "* If you repeat this experiment $N_{trial}$ times, what will the distribution of distances from the origin be, and what is the mean distance that you go from the origin?  (Note: \"distance\" means the absolute value of distance from the origin!)\n",
    "\n",
    "**First:** as a group, come up with a solution to this problem on your whiteboard.  Use a flow chart, pseudo-code, diagrams, or anything else that you need to get started.  Check with an instructor before you continue!\n",
    "\n",
    "**Then:** In pairs, write a code in the space provided below to answer these questions!  "
   ]
  },
  {
   "cell_type": "code",
   "execution_count": null,
   "metadata": {
    "collapsed": false
   },
   "outputs": [],
   "source": [
    "# put your code for Part 1 here.  Add extra cells as necessary!\n",
    "\n",
    "%matplotlib inline\n",
    "import matplotlib.pyplot as plt\n",
    "\n",
    "import random\n",
    "import math\n",
    "import numpy as np\n",
    "\n",
    "n_trials = 1000  # number of trials (i.e., number of independent walks)\n",
    "n_steps = 100   # number of steps taken during each trial\n",
    "\n",
    "distances = []  # use this empty list to keep track of distance for each trial\n",
    "\n",
    "this_trial = 0\n",
    "\n",
    "# loop over trials\n",
    "while this_trial < n_trials:\n",
    "\n",
    "    this_distance = 0  # distance gone in this trial - reset to zero each time\n",
    "    step=0  # what step this trial is on - reset to zero each time\n",
    "\n",
    "    # loop until we get to the right number of steps!\n",
    "    while(step < n_steps):\n",
    "\n",
    "        # random number is either 0 or 1 (heads or tails)\n",
    "        if random.randint(0,1) > 0:\n",
    "            this_distance += 1  # go right\n",
    "        else:\n",
    "            this_distance -= 1  # go left\n",
    "\n",
    "        step+=1\n",
    "    \n",
    "    # keep track of distances (absolute value)\n",
    "    distances.append(abs(this_distance))\n",
    "    \n",
    "    # keep track of number of trials\n",
    "    this_trial += 1\n",
    "    \n",
    "plt.hist(distances)\n",
    "\n",
    "distances = np.array(distances) # convert to numpy array to make life easier\n",
    "\n",
    "# in 1D, asymptotic solution for mean walk length is (n_steps*2/pi)**(1/2)\n",
    "print(\"expected mean:\", math.sqrt(n_steps*2.0/math.pi),\n",
    "      \"\\nactual mean:\", distances.mean(), \"\\nmin:\", distances.min(), \"\\nmax:\", distances.max())\n"
   ]
  },
  {
   "cell_type": "markdown",
   "metadata": {},
   "source": [
    "# Part 2:  Two-dimensional walk\n",
    "\n",
    "Now, we're going to do the same thing, but in two dimensions, x and y. This time, you will start at the origin, pick a random direction, and take a step one foot in that direction.  You will then randomly pick a new direction, take a step, and so on, for a total of $N_{step}$ steps.  \n",
    "\n",
    "\n",
    "**Questions:** \n",
    "\n",
    "* After $N_{step}$ random steps, how far are you from the origin?\n",
    "* If you repeat this experiment $N_{trial}$ times, what will the distribution of distances from the origin be, and what is the mean distance that you go from the origin?  (Note: \"distance\" means the absolute value of distance from the origin!)  Does the mean value differ from Part 1?\n",
    "* For one trial, plot out the steps taken in the x-y plane.  Does it look random?\n",
    "\n",
    "**First:** As before, come up with a solution to this problem on your whiteboard as a group. Check with an instructor before you continue!\n",
    "\n",
    "**Then:** In pairs, write a code in the space provided below to answer these questions!  "
   ]
  },
  {
   "cell_type": "code",
   "execution_count": null,
   "metadata": {
    "collapsed": true
   },
   "outputs": [],
   "source": [
    "# put your code for Part 2 here.  Add extra cells as necessary!\n",
    "\n",
    "n_trials_2D = 1000  # number of trials (i.e., number of walks)\n",
    "n_steps_2D = 100    # number of steps per trial\n",
    "\n",
    "distances_2D = []   # to keep track of distances of each walk\n",
    "\n",
    "this_trial = 0\n",
    "\n",
    "# lists for x, y position of *each step* for the last trial.\n",
    "# (This is just for visualization purposes - we want to make a plot.)\n",
    "xpos=[]\n",
    "ypos=[]\n",
    "    \n",
    "while this_trial < n_trials_2D:\n",
    "    x,y = 0.0,0.0\n",
    "\n",
    "    # keep track of walker position for last trial\n",
    "    if this_trial == n_trials_2D - 1:\n",
    "        xpos.append(x)\n",
    "        ypos.append(y)\n",
    "    \n",
    "    step=0\n",
    "\n",
    "    # go until we reach the number of steps we want to take\n",
    "    while(step < n_steps_2D):\n",
    "\n",
    "        # pick a random angle between zero and 2*pi\n",
    "        theta = random.random()*2.0*math.pi\n",
    "\n",
    "        # step x and y in that direction\n",
    "        x += math.cos(theta) \n",
    "        y += math.sin(theta)\n",
    "\n",
    "        # if last trial, keep track of walker positions\n",
    "        if this_trial == n_trials_2D - 1:\n",
    "            xpos.append(x)\n",
    "            ypos.append(y)\n",
    "        \n",
    "        step+=1\n",
    "\n",
    "    this_distance = (x**2 + y**2)**0.5\n",
    "\n",
    "    #print(this_trial, abs(this_distance))\n",
    "\n",
    "    distances_2D.append(abs(this_distance))\n",
    "    this_trial += 1\n",
    "\n"
   ]
  },
  {
   "cell_type": "code",
   "execution_count": null,
   "metadata": {
    "collapsed": false
   },
   "outputs": [],
   "source": [
    "plt.hist(distances_2D)\n",
    "\n",
    "distances_2D = np.array(distances_2D)\n",
    "\n",
    "# expect roughly sqrt(n_steps_2D) to be the right answer!\n",
    "print(\"expected mean:\", math.sqrt(n_steps_2D),\n",
    "      \"\\nactual mean:\", distances_2D.mean(),\n",
    "      \"\\nmin:\", distances_2D.min(),\n",
    "      \"\\nmax:\", distances_2D.max())\n"
   ]
  },
  {
   "cell_type": "code",
   "execution_count": null,
   "metadata": {
    "collapsed": false
   },
   "outputs": [],
   "source": [
    "plt.plot(0.0,0.0,'ro',xpos,ypos,'b-')\n",
    "#plt.xlim(-16,16)\n",
    "#plt.ylim(-16,16)"
   ]
  },
  {
   "cell_type": "markdown",
   "metadata": {},
   "source": [
    "## Part 3: A different kind of random walk.\n",
    "\n",
    "**If you have time,** copy and paste your 1D random walk code in the cell below.  This time, modify your code so that the coin toss is biased - that you are more likely to take a step in one direction than in the other (i.e., the probability of stepping to the right is $p_{step}$, of stepping to the left is $1-p_{step}$, and $p_{step} \\neq 0.5$).\n",
    "\n",
    "How does the distibution of distances gone, as well as the mean distance from the origin, change as $p_{step}$ varies from 0.5?\n"
   ]
  },
  {
   "cell_type": "code",
   "execution_count": null,
   "metadata": {
    "collapsed": false
   },
   "outputs": [],
   "source": [
    "# put your code for Part 3 here.  Add extra cells as necessary!\n",
    "\n",
    "n_trials = 100000\n",
    "n_steps = 100\n",
    "\n",
    "prob_right = 0.55\n",
    "\n",
    "distances = []\n",
    "\n",
    "this_trial = 0\n",
    "\n",
    "    \n",
    "while this_trial < n_trials:\n",
    "    this_distance = 0\n",
    "    step=0\n",
    "\n",
    "    while(step < n_steps):\n",
    "\n",
    "        if random.random() < prob_right:\n",
    "            this_distance += 1\n",
    "        else:\n",
    "            this_distance -= 1\n",
    "\n",
    "        step+=1\n",
    "    \n",
    "    distances.append(this_distance)\n",
    "    this_trial += 1\n",
    "    \n",
    "    \n",
    "plt.hist(distances)\n",
    "\n",
    "distances = np.array(distances)\n",
    "print(\"mean distance:\", distances.mean(),\n",
    "     \"\\nabs mean distance:\", np.abs(distances).mean())\n",
    "\n"
   ]
  },
  {
   "cell_type": "markdown",
   "metadata": {},
   "source": [
    "For 100 steps, P = probability of stepping to the right.  (I am only doing P >= 0.5 because the problem is symmetrical.)\n",
    "\n",
    "\n",
    "P    |   ```<dist>```   |   ```<abs_dist>```\n",
    "-----|------------|-----------\n",
    "0.5 | -0.01 | 8.03\n",
    "0.55| 9.96 | 11.62\n",
    "0.6 | 19.94 | 20.01\n",
    "0.8 | 60.06 | 60.06\n",
    "1.0 | 100.0 | 100.0\n"
   ]
  },
  {
   "cell_type": "markdown",
   "metadata": {},
   "source": [
    "## Wrapup\n",
    "\n",
    "**Question:** Do you have any lingering questions that remain after this project?"
   ]
  },
  {
   "cell_type": "markdown",
   "metadata": {},
   "source": [
    "Put your answers here!"
   ]
  },
  {
   "cell_type": "markdown",
   "metadata": {},
   "source": [
    "## Turn it in!\n",
    "Whether you've completed it or not, turn this assignment in to the Day 9 dropbox in the \"in-class activities\" folder.\""
   ]
  }
 ],
 "metadata": {
  "kernelspec": {
   "display_name": "Python 3",
   "language": "python",
   "name": "python3"
  },
  "language_info": {
   "codemirror_mode": {
    "name": "ipython",
    "version": 3
   },
   "file_extension": ".py",
   "mimetype": "text/x-python",
   "name": "python",
   "nbconvert_exporter": "python",
   "pygments_lexer": "ipython3",
   "version": "3.5.1"
  }
 },
 "nbformat": 4,
 "nbformat_minor": 0
}
