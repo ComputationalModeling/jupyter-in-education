{
 "cells": [
  {
   "cell_type": "code",
   "execution_count": 1,
   "metadata": {
    "collapsed": true
   },
   "outputs": [],
   "source": [
    "%matplotlib inline\n",
    "import matplotlib.pyplot as plt\n",
    "\n",
    "import random\n",
    "import math\n",
    "import numpy as np"
   ]
  },
  {
   "cell_type": "markdown",
   "metadata": {},
   "source": [
    "# 1D random walk\n",
    "\n",
    "50% chance of taking a step to either the left or the right"
   ]
  },
  {
   "cell_type": "code",
   "execution_count": 2,
   "metadata": {
    "collapsed": false
   },
   "outputs": [],
   "source": [
    "n_trials = 1000  # number of trials (i.e., number of walks)\n",
    "n_steps = 1000   # number of steps taken during each trial\n",
    "\n",
    "distances = []  # use this to keep track of distance for each trial\n",
    "\n",
    "this_trial = 0\n",
    "\n",
    "# loop over trials\n",
    "while this_trial < n_trials:\n",
    "\n",
    "    # reset step and distance to zero\n",
    "    this_distance = 0\n",
    "    step=0\n",
    "\n",
    "    while(step < n_steps):\n",
    "\n",
    "        # random number is either 0 or 1 (heads/tails)\n",
    "        if random.randint(0,1) > 0:\n",
    "            this_distance += 1\n",
    "        else:\n",
    "            this_distance -= 1\n",
    "\n",
    "        step+=1\n",
    "    \n",
    "    # keep track of distances\n",
    "    distances.append(abs(this_distance))\n",
    "    this_trial += 1"
   ]
  },
  {
   "cell_type": "code",
   "execution_count": 3,
   "metadata": {
    "collapsed": false
   },
   "outputs": [
    {
     "name": "stdout",
     "output_type": "stream",
     "text": [
      "25.2313252202016 25.422 0 110\n"
     ]
    },
    {
     "data": {
      "image/png": "[encoded data removed]",
      "text/plain": [
       "<matplotlib.figure.Figure at 0x10c2b4198>"
      ]
     },
     "metadata": {},
     "output_type": "display_data"
    }
   ],
   "source": [
    "plt.hist(distances)\n",
    "\n",
    "distances = np.array(distances) # convert to numpy array to make life easier\n",
    "\n",
    "# in 1D, asymptotic solution for mean walk length is (n_steps*2/pi)**(1/2)\n",
    "print(math.sqrt(n_steps*2.0/math.pi),distances.mean(),distances.min(),distances.max())\n"
   ]
  },
  {
   "cell_type": "markdown",
   "metadata": {},
   "source": [
    "# 2D random walk\n",
    "\n",
    "As above, but now in 2D.  Pick random direction, take step of unit length in that direction."
   ]
  },
  {
   "cell_type": "code",
   "execution_count": 4,
   "metadata": {
    "collapsed": false
   },
   "outputs": [],
   "source": [
    "n_trials_2D = 100  # number of trials (i.e., number of walks)\n",
    "n_steps_2D = 100    # number of steps per trial\n",
    "\n",
    "distances_2D = []   # to keep track of distances of each walk\n",
    "\n",
    "this_trial = 0\n",
    "\n",
    "# lists for x, y position of *each step* for the last trial.\n",
    "# (This is just for visualization purposes - we want to make a plot.)\n",
    "xpos=[]\n",
    "ypos=[]\n",
    "    \n",
    "while this_trial < n_trials_2D:\n",
    "    x,y = 0.0,0.0\n",
    "\n",
    "    # keep track of walker position for last trial\n",
    "    if this_trial == n_trials_2D - 1:\n",
    "        xpos.append(x)\n",
    "        ypos.append(y)\n",
    "    \n",
    "    step=0\n",
    "\n",
    "    # go until we reach the number of steps we want to take\n",
    "    while(step < n_steps_2D):\n",
    "\n",
    "        # pick a random angle between zero and 2*pi\n",
    "        theta = random.random()*2.0*math.pi\n",
    "\n",
    "        # step x and y in that direction\n",
    "        x += math.cos(theta) \n",
    "        y += math.sin(theta)\n",
    "\n",
    "        # if last trial, keep track of walker positions\n",
    "        if this_trial == n_trials_2D - 1:\n",
    "            xpos.append(x)\n",
    "            ypos.append(y)\n",
    "        \n",
    "        step+=1\n",
    "\n",
    "    this_distance = (x**2 + y**2)**0.5\n",
    "\n",
    "    #print(this_trial, abs(this_distance))\n",
    "\n",
    "    distances_2D.append(abs(this_distance))\n",
    "    this_trial += 1\n",
    "    \n"
   ]
  },
  {
   "cell_type": "code",
   "execution_count": 5,
   "metadata": {
    "collapsed": false
   },
   "outputs": [
    {
     "name": "stdout",
     "output_type": "stream",
     "text": [
      "10.0 9.60880519358 1.52530383509 25.4162114019\n"
     ]
    },
    {
     "data": {
      "image/png": "[encoded data removed]",
      "text/plain": [
       "<matplotlib.figure.Figure at 0x10e72e208>"
      ]
     },
     "metadata": {},
     "output_type": "display_data"
    }
   ],
   "source": [
    "plt.hist(distances_2D)\n",
    "\n",
    "distances_2D = np.array(distances_2D)\n",
    "\n",
    "# expect roughly sqrt(n_steps_2D) to be the right answer!\n",
    "print(math.sqrt(n_steps_2D),distances_2D.mean(),distances_2D.min(),distances_2D.max())\n",
    "\n"
   ]
  },
  {
   "cell_type": "code",
   "execution_count": 6,
   "metadata": {
    "collapsed": false
   },
   "outputs": [
    {
     "data": {
      "text/plain": [
       "[<matplotlib.lines.Line2D at 0x10ed2c160>,\n",
       " <matplotlib.lines.Line2D at 0x10ed2c320>]"
      ]
     },
     "execution_count": 6,
     "metadata": {},
     "output_type": "execute_result"
    },
    {
     "data": {
      "image/png": "[encoded data removed]",
      "text/plain": [
       "<matplotlib.figure.Figure at 0x10ebd9278>"
      ]
     },
     "metadata": {},
     "output_type": "display_data"
    }
   ],
   "source": [
    "plt.plot(0.0,0.0,'ro',xpos,ypos)\n",
    "#plt.xlim(-16,16)\n",
    "#plt.ylim(-16,16)"
   ]
  },
  {
   "cell_type": "markdown",
   "metadata": {
    "collapsed": true
   },
   "source": [
    "## asymmetric random walk\n",
    "\n",
    "in this case, it's somewhat more probable to take a step to the right than to the left.  (Or, if somebody has messed with the parameters, the other way around.)  Note: this reduces to the previous 2D case when prob_right = 0.5."
   ]
  },
  {
   "cell_type": "code",
   "execution_count": 7,
   "metadata": {
    "collapsed": false
   },
   "outputs": [
    {
     "data": {
      "image/png": "[encoded data removed]",
      "text/plain": [
       "<matplotlib.figure.Figure at 0x10ecf75f8>"
      ]
     },
     "metadata": {},
     "output_type": "display_data"
    }
   ],
   "source": [
    "n_trials = 100000\n",
    "n_steps = 100\n",
    "\n",
    "prob_right = 0.6\n",
    "\n",
    "distances = []\n",
    "\n",
    "this_trial = 0\n",
    "\n",
    "    \n",
    "while this_trial < n_trials:\n",
    "    this_distance = 0\n",
    "    step=0\n",
    "\n",
    "    while(step < n_steps):\n",
    "\n",
    "        if random.random() < prob_right:\n",
    "            this_distance += 1\n",
    "        else:\n",
    "            this_distance -= 1\n",
    "\n",
    "        step+=1\n",
    "    \n",
    "    #print(this_trial, abs(this_distance))\n",
    "\n",
    "    distances.append(this_distance)\n",
    "    this_trial += 1\n",
    "    \n",
    "    \n",
    "plt.hist(distances)\n",
    "\n",
    "distances = np.array(distances)\n",
    "#print(math.sqrt(n_steps*2.0/math.pi),distances.mean(),distances.min(),distances.max())\n"
   ]
  },
  {
   "cell_type": "code",
   "execution_count": null,
   "metadata": {
    "collapsed": true
   },
   "outputs": [],
   "source": []
  }
 ],
 "metadata": {
  "kernelspec": {
   "display_name": "Python 3",
   "language": "python",
   "name": "python3"
  },
  "language_info": {
   "codemirror_mode": {
    "name": "ipython",
    "version": 3
   },
   "file_extension": ".py",
   "mimetype": "text/x-python",
   "name": "python",
   "nbconvert_exporter": "python",
   "pygments_lexer": "ipython3",
   "version": "3.5.1"
  },
  "toc": {
   "toc_cell": false,
   "toc_number_sections": true,
   "toc_threshold": 4,
   "toc_window_display": false
  }
 },
 "nbformat": 4,
 "nbformat_minor": 0
}
