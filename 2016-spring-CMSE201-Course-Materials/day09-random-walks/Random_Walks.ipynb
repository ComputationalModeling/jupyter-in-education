{
 "cells": [
  {
   "cell_type": "markdown",
   "metadata": {},
   "source": [
    "# Random Walks\n",
    "\n",
    "In many situations, it is very useful to think of some sort of process that you wish to model as a succession of random steps.  This can describe a wide variety of phenomena - the behavior of the stock market, models of population dynamics in ecosystems, the properties of polymers, the movement of molecules in liquids or gases, modeling neurons in the brain, or in [building Google's PageRank search model](http://www.math.cmu.edu/~pmelsted/papers/pagerank.pdf).  This type of modeling is known as a [\"random walk\"](https://en.wikipedia.org/wiki/Random_walk), and while the process being modeled can vary tremendously, the underlying process is simple.  In this exercise, we are going to model such a random walk and learn about some of its behaviors!\n",
    "\n",
    "## Learning goals:\n",
    "\n",
    "* Model a random walk\n",
    "* Learn about the behavior of random walks in one and two dimensions\n",
    "* Plot both the distribution of random walks and the outcome of a single random walk \n",
    "\n",
    "## Group members\n",
    "\n"
   ]
  },
  {
   "cell_type": "markdown",
   "metadata": {},
   "source": [
    "Put the name of your group members here!"
   ]
  },
  {
   "cell_type": "markdown",
   "metadata": {},
   "source": [
    "# Part 1:  One-dimensional random walk.\n",
    "\n",
    "Imagine that you draw a line on the floor, with a mark every foot.  You start at the middle of the line (the point you have decided is the \"origin\").  You then flip a \"fair\" coin N times (\"fair\" means that it has equal chances of coming up heads and tails).  Every time the coin comes up heads, you take one step to the right.  Every time it comes up tails, you take a step to the left.  \n",
    "\n",
    "**Questions:**\n",
    "\n",
    "* After $N_{flip}$ coin flips and steps, how far are you from the origin?\n",
    "* If you repeat this experiment $N_{trial}$ times, what will the distribution of distances from the origin be, and what is the mean distance that you go from the origin?  (Note: \"distance\" means the absolute value of distance from the origin!)\n",
    "\n",
    "**First:** as a group, come up with a solution to this problem on your whiteboard.  Use a flow chart, pseudo-code, diagrams, or anything else that you need to get started.  Check with an instructor before you continue!\n",
    "\n",
    "**Then:** In pairs, write a code in the space provided below to answer these questions!  "
   ]
  },
  {
   "cell_type": "code",
   "execution_count": null,
   "metadata": {
    "collapsed": true
   },
   "outputs": [],
   "source": [
    "# put your code for Part 1 here.  Add extra cells as necessary!\n",
    "\n",
    "\n"
   ]
  },
  {
   "cell_type": "markdown",
   "metadata": {},
   "source": [
    "# Part 2:  Two-dimensional walk\n",
    "\n",
    "Now, we're going to do the same thing, but in two dimensions, x and y. This time, you will start at the origin, pick a random direction, and take a step one foot in that direction.  You will then randomly pick a new direction, take a step, and so on, for a total of $N_{step}$ steps.  \n",
    "\n",
    "\n",
    "**Questions:** \n",
    "\n",
    "* After $N_{step}$ random steps, how far are you from the origin?\n",
    "* If you repeat this experiment $N_{trial}$ times, what will the distribution of distances from the origin be, and what is the mean distance that you go from the origin?  (Note: \"distance\" means the absolute value of distance from the origin!)  Does the mean value differ from Part 1?\n",
    "* For one trial, plot out the steps taken in the x-y plane.  Does it look random?\n",
    "\n",
    "**First:** As before, come up with a solution to this problem on your whiteboard as a group. Check with an instructor before you continue!\n",
    "\n",
    "**Then:** In pairs, write a code in the space provided below to answer these questions!  "
   ]
  },
  {
   "cell_type": "code",
   "execution_count": null,
   "metadata": {
    "collapsed": true
   },
   "outputs": [],
   "source": [
    "# put your code for Part 2 here.  Add extra cells as necessary!\n",
    "\n",
    "\n"
   ]
  },
  {
   "cell_type": "markdown",
   "metadata": {},
   "source": [
    "## Part 3: A different kind of random walk.\n",
    "\n",
    "**If you have time,** copy and paste your 1D random walk code in the cell below.  This time, modify your code so that the coin toss is biased - that you are more likely to take a step in one direction than in the other (i.e., the probability of stepping to the right is $p_{step}$, of stepping to the left is $1-p_{step}$, and $p_{step} \\neq 0.5$).\n",
    "\n",
    "How does the distibution of distances gone, as well as the mean distance from the origin, change as $p_{step}$ varies from 0.5?\n"
   ]
  },
  {
   "cell_type": "code",
   "execution_count": null,
   "metadata": {
    "collapsed": true
   },
   "outputs": [],
   "source": [
    "# put your code for Part 3 here.  Add extra cells as necessary!\n",
    "\n",
    "\n"
   ]
  },
  {
   "cell_type": "markdown",
   "metadata": {},
   "source": [
    "## Wrapup\n",
    "\n",
    "**Question:** Do you have any lingering questions that remain after this project?"
   ]
  },
  {
   "cell_type": "markdown",
   "metadata": {},
   "source": [
    "Put your answers here!"
   ]
  },
  {
   "cell_type": "markdown",
   "metadata": {},
   "source": [
    "## Turn it in!\n",
    "Whether you've completed it or not, turn this assignment in to the Day 9 dropbox in the \"in-class activities\" folder.\""
   ]
  }
 ],
 "metadata": {
  "kernelspec": {
   "display_name": "Python 3",
   "language": "python",
   "name": "python3"
  },
  "language_info": {
   "codemirror_mode": {
    "name": "ipython",
    "version": 3
   },
   "file_extension": ".py",
   "mimetype": "text/x-python",
   "name": "python",
   "nbconvert_exporter": "python",
   "pygments_lexer": "ipython3",
   "version": "3.5.1"
  }
 },
 "nbformat": 4,
 "nbformat_minor": 0
}
