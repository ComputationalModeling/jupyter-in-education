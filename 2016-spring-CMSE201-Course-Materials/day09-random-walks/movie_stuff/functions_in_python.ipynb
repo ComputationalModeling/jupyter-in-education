{
 "cells": [
  {
   "cell_type": "code",
   "execution_count": null,
   "metadata": {
    "collapsed": true
   },
   "outputs": [],
   "source": [
    "def double_it(myvar):\n",
    "    new_var = 2*myvar\n",
    "    return new_var"
   ]
  },
  {
   "cell_type": "code",
   "execution_count": null,
   "metadata": {
    "collapsed": false
   },
   "outputs": [],
   "source": [
    "newnum = double_it(7.5)\n",
    "\n",
    "print(newnum)"
   ]
  },
  {
   "cell_type": "code",
   "execution_count": null,
   "metadata": {
    "collapsed": true
   },
   "outputs": [],
   "source": [
    "def multiply_it(var1,var2,var3):\n",
    "    newvar1 = var1*2\n",
    "    newvar2 = var2*3\n",
    "    newvar3 = var3*4\n",
    "    return newvar1, newvar2, newvar3"
   ]
  },
  {
   "cell_type": "code",
   "execution_count": null,
   "metadata": {
    "collapsed": false
   },
   "outputs": [],
   "source": [
    "v1, v2, v3 = multiply_it(5,6.0,7)\n",
    "\n",
    "print(v1,v2,v3)"
   ]
  },
  {
   "cell_type": "code",
   "execution_count": null,
   "metadata": {
    "collapsed": true
   },
   "outputs": [],
   "source": [
    "def multiply_it_new(var1,var2=6.0,var3=7):\n",
    "    newvar1 = var1*2\n",
    "    newvar2 = var2*3\n",
    "    newvar3 = var3*4\n",
    "    return newvar1, newvar2, newvar3"
   ]
  },
  {
   "cell_type": "code",
   "execution_count": null,
   "metadata": {
    "collapsed": false
   },
   "outputs": [],
   "source": [
    "v1, v2, v3 = multiply_it_new(5,var3=2,var2=15)\n",
    "\n",
    "print(v1,v2,v3)"
   ]
  },
  {
   "cell_type": "code",
   "execution_count": null,
   "metadata": {
    "collapsed": true
   },
   "outputs": [],
   "source": []
  }
 ],
 "metadata": {
  "kernelspec": {
   "display_name": "Python 3",
   "language": "python",
   "name": "python3"
  },
  "language_info": {
   "codemirror_mode": {
    "name": "ipython",
    "version": 3
   },
   "file_extension": ".py",
   "mimetype": "text/x-python",
   "name": "python",
   "nbconvert_exporter": "python",
   "pygments_lexer": "ipython3",
   "version": "3.5.1"
  }
 },
 "nbformat": 4,
 "nbformat_minor": 0
}
