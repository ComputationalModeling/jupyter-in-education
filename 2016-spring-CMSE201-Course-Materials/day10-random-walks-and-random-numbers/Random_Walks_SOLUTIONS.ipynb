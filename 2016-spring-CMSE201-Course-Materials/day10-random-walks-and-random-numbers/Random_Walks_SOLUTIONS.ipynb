{
 "cells": [
  {
   "cell_type": "markdown",
   "metadata": {},
   "source": [
    "# Random Walks\n",
    "\n",
    "## or, Einstein's \"other\" equation\n",
    "\n",
    "In many situations, it is very useful to think of some sort of process that you wish to model as a succession of random steps.  This can describe a wide variety of phenomena - the behavior of the stock market, models of population dynamics in ecosystems, the properties of polymers, the movement of molecules in liquids or gases, modeling neurons in the brain, or in [building Google's PageRank search model](http://www.math.cmu.edu/~pmelsted/papers/pagerank.pdf).  This type of modeling is known as a [\"random walk\"](https://en.wikipedia.org/wiki/Random_walk), and while the process being modeled can vary tremendously, the underlying process is simple.  In this exercise, we are going to model such a random walk and learn about some of its behaviors!\n",
    "\n",
    "## Learning goals:\n",
    "\n",
    "* Model a random walk\n",
    "* Learn about the behavior of random walks in one and two dimensions\n",
    "* Plot both the distribution of random walks and the outcome of a single random walk \n",
    "\n",
    "Random walks are a great first step towards modeling dynamic systems.  In fact, they provide a near-perfect description of diffusive processes like Brownian motion.  Here we will use our knowledge of loops and if-statements to run random walk simulations, study their properties, and connect them to the Einstein diffusion relation.\n",
    "\n",
    "\n",
    "## Group members\n",
    "\n"
   ]
  },
  {
   "cell_type": "markdown",
   "metadata": {},
   "source": [
    "Put the name of your group members here!"
   ]
  },
  {
   "cell_type": "markdown",
   "metadata": {},
   "source": [
    "# Some background"
   ]
  },
  {
   "cell_type": "markdown",
   "metadata": {},
   "source": [
    "![wiki random walk](https://upload.wikimedia.org/wikipedia/commons/3/39/Random_walk_in2D_closeup.png)"
   ]
  },
  {
   "cell_type": "markdown",
   "metadata": {},
   "source": [
    "[Brownian motion](https://en.wikipedia.org/wiki/Brownian_motion) is most commonly exemplified by a single grain of pollen suspended in a liquid solution.  It is named after Robert Brown, who studied such pollen grains under a microscope in 1829.  But in fact a little Wikipedia-ing reveals this phenomenon has been documented much earlier.  An excerpt from a poem by Lucreitus in 60 BC is remarkably on point:\n",
    "\n",
    ">\"Observe what happens when sunbeams are admitted into a building and shed light on its shadowy places. You will see a multitude of tiny particles mingling in a multitude of ways... their dancing is an actual indication of underlying movements of matter that are hidden from our sight... It originates with the atoms which move of themselves [i.e., spontaneously]. Then those small compound bodies that are least removed from the impetus of the atoms are set in motion by the impact of their invisible blows and in turn cannon against slightly larger bodies. So the movement mounts up from the atoms and gradually emerges to the level of our senses, so that those bodies are in motion that we see in sunbeams, moved by blows that remain invisible.\"\n",
    "\n",
    "Regardless, Einstein comes along in 1905 and rigorously ties the motion of the large particles (e.g. pollen) to the motions of individual atoms.  A result of this is the Einstein diffusion relation in 3 dimensions:\n",
    "\n",
    "$ <(r(t)-r(0))^2> = 6Dt$\n",
    "\n",
    "where $r(t)$ is the position of a particle at time $t$, $D$ is the diffusion coefficient, and the angle brackets denote an average over an ensemble of measurements.\n",
    "\n",
    "**Today we are going to run random walk simulations and test their ability to model the behavior of diffusive particles. **"
   ]
  },
  {
   "cell_type": "markdown",
   "metadata": {},
   "source": [
    "---\n",
    "\n",
    "# Part 1:  One-dimensional random walk.\n",
    "\n",
    "Imagine that you draw a line on the floor, with a mark every foot.  You start at the middle of the line (the point you have decided is the \"origin\", at $x=0$).  You then flip a \"fair\" coin N times (\"fair\" means that it has equal chances of coming up heads and tails).  Every time the coin comes up heads, you take one step to the right.  Every time it comes up tails, you take a step to the left.  \n",
    "\n",
    "**The questions we're going to answer:**\n",
    "\n",
    "* After $N_{step}$ coin flips and steps, how far are you from the origin?\n",
    "* If you repeat this experiment $N_{trial}$ times, what will the distribution of distances from the origin be, and what is the mean distance that you go from the origin?  (Note: \"distance\" means the absolute value of distance from the origin!)\n",
    "\n",
    "**First:** as a group, come up with a solution to this problem on your whiteboard.  Use a flow chart, pseudo-code, diagrams, or anything else that you need to get started.  Check with an instructor before you continue!\n",
    "\n",
    "**Then:** In pairs, write a code that creates a random integer, 1 or 0 (heads or tails).  Run it a few times and print out the value to make sure it works - we'll use this as the basis of our random walk model."
   ]
  },
  {
   "cell_type": "code",
   "execution_count": null,
   "metadata": {
    "collapsed": false
   },
   "outputs": [],
   "source": [
    "# put your code here.  \n",
    "\n",
    "import random\n",
    "a = random.randint(0,1)\n",
    "print(a)\n"
   ]
  },
  {
   "cell_type": "markdown",
   "metadata": {},
   "source": [
    "Now, write a code in the space provided below to do a **single** random walk with $N_{step} = 1000$.  You'll start at $x=0$ and take a step right if $a=1$ and left if $a=0$. At the end print the value of $x$.  Where did your particle go?  Run it a couple of times to see how this changes."
   ]
  },
  {
   "cell_type": "code",
   "execution_count": null,
   "metadata": {
    "collapsed": false
   },
   "outputs": [],
   "source": [
    "# put your code here.  \n",
    "\n",
    "x = 0  # initial position (will be modified)\n",
    "n_steps = 1000  # number of steps\n",
    "for i in range(0,n_steps):\n",
    "    a = random.randint(0,1)\n",
    "    if a == 0:\n",
    "        x -= 1\n",
    "    else:\n",
    "        x += 1\n",
    "\n",
    "print(x)"
   ]
  },
  {
   "cell_type": "markdown",
   "metadata": {},
   "source": [
    "OK, great!  But, it would be much better if we could see what is happening.  Copy the code from above and modify it to keep track of the number of each step and your distance from the origin, and plot it!  (**Hint:** start with empty arrays or lists, and append to them.)  Run this a couple of times to see how it changes."
   ]
  },
  {
   "cell_type": "code",
   "execution_count": null,
   "metadata": {
    "collapsed": false
   },
   "outputs": [],
   "source": [
    "# put your code here.  \n",
    "\n",
    "%matplotlib inline\n",
    "import matplotlib.pyplot as plt\n",
    "\n",
    "x = 0  # initial position (will be modified)\n",
    "n_steps = 1000  # number of steps\n",
    "\n",
    "traj = []\n",
    "step = []\n",
    "\n",
    "for i in range(0,n_steps):\n",
    "    a = random.randint(0,1)\n",
    "    if a == 0:\n",
    "        x -= 1\n",
    "    else:\n",
    "        x += 1\n",
    "\n",
    "    traj.append(x)\n",
    "    step.append(i)\n",
    "        \n",
    "print(x)\n",
    "\n",
    "\n",
    "plt.plot(step,traj)\n",
    "\n"
   ]
  },
  {
   "cell_type": "markdown",
   "metadata": {},
   "source": [
    "Now, we want to see how several of these trajectories look at the same time.  So, now copy and paste your code from above and add an additional loop where you make five seperate trajectories, and plot each of them separately.  There are several ways to store the trajectories - you can make a 2D array, or a list composed of lists of trajectories.  Your choice!"
   ]
  },
  {
   "cell_type": "code",
   "execution_count": null,
   "metadata": {
    "collapsed": false
   },
   "outputs": [],
   "source": [
    "# put your code here.  \n",
    "\n",
    "%matplotlib inline\n",
    "import matplotlib.pyplot as plt\n",
    "\n",
    "n_steps = 1000  # number of steps\n",
    "\n",
    "traj = []\n",
    "step = []\n",
    "\n",
    "for trj in range(0,5):\n",
    "    x = 0  # initial position (will be modified)\n",
    "    traj.append([])\n",
    "    step.append([])\n",
    "\n",
    "    for i in range(0,n_steps):\n",
    "        a = random.randint(0,1)\n",
    "        if a == 0:\n",
    "            x -= 1\n",
    "        else:\n",
    "            x += 1\n",
    "\n",
    "        traj[trj].append(x)\n",
    "        step[trj].append(i)\n",
    "        \n",
    "\n",
    "    plt.plot(step[trj],traj[trj])\n"
   ]
  },
  {
   "cell_type": "markdown",
   "metadata": {},
   "source": [
    "Ok.  Now we're getting somewhere.  Let's increase the number of trajectories from 5 to 1000.  But let's also be nice to our computer and not make it remember the whole trajectory, just the final points.  So get rid of the current append command, and instead calculate the ***average squared final position of the particle***., and also plot a histogram of the final distances!.  **Hint:**  use a numpy array and append distances to it - you can use the array's functionality to calculate the mean value."
   ]
  },
  {
   "cell_type": "code",
   "execution_count": null,
   "metadata": {
    "collapsed": false
   },
   "outputs": [],
   "source": [
    "# put your code here.  \n",
    "import numpy as np\n",
    "\n",
    "n_steps = 1000  # number of steps\n",
    "n_traj = 1000\n",
    "\n",
    "dist = np.array([])\n",
    "\n",
    "for trj in range(0,n_traj):\n",
    "    x = 0  # initial position (will be modified)\n",
    "\n",
    "    for i in range(0,n_steps):\n",
    "        a = random.randint(0,1)\n",
    "        if a == 0:\n",
    "            x -= 1\n",
    "        else:\n",
    "            x += 1\n",
    "\n",
    "    dist = np.append(dist,x**2)\n",
    "\n",
    "plt.hist(dist,bins=50)    \n",
    "    \n",
    "print(\"average distance is:\", dist.mean())"
   ]
  },
  {
   "cell_type": "markdown",
   "metadata": {},
   "source": [
    "We're almost ready for Einstein!  All we have to do is add another layer to our loop structure.  We need to get the average final position of the particle **as a function of time**.  Extend the code above to get the average final position at 10 different time points (t = 100, 200, ..., 1000), and save the results to a list.  Plot the results versus time below, and use axis labels.  "
   ]
  },
  {
   "cell_type": "code",
   "execution_count": null,
   "metadata": {
    "collapsed": false
   },
   "outputs": [],
   "source": [
    "# put your code here.  \n",
    "\n",
    "final_pos_avg = []\n",
    "times = range(100,1100,100)\n",
    "print(len(times))\n",
    "\n",
    "n_traj = 1000\n",
    "\n",
    "for ni in range(0,10):\n",
    "    n = times[ni]\n",
    "    final_pos_avg.append(0)\n",
    "\n",
    "    for trj in range(0,n_traj):\n",
    "        x=0\n",
    "        for i in range(0,n):\n",
    "            a = random.randint(0,1)\n",
    "            if a == 0:\n",
    "                x -= 1\n",
    "            else:\n",
    "                x += 1\n",
    "        final_pos_avg[ni] += x**2        \n",
    "    final_pos_avg[ni] /= n_traj\n"
   ]
  },
  {
   "cell_type": "code",
   "execution_count": null,
   "metadata": {
    "collapsed": false
   },
   "outputs": [],
   "source": [
    "plt.xlabel('t')\n",
    "plt.xlim(0,1200)\n",
    "plt.ylim(0,1200)\n",
    "plt.ylabel('<x**2>')\n",
    "plt.plot(times,final_pos_avg)\n",
    "plt.plot([0,1200],[0,1200],'r--')"
   ]
  },
  {
   "cell_type": "markdown",
   "metadata": {},
   "source": [
    "Look at the above plot.  Is this what you would have expected from the Einstein diffusion equation?  Why or why not?"
   ]
  },
  {
   "cell_type": "markdown",
   "metadata": {},
   "source": [
    "Put your answer there!"
   ]
  },
  {
   "cell_type": "markdown",
   "metadata": {},
   "source": [
    "---\n",
    "\n",
    "# Part 2:  Two-dimensional walk\n",
    "\n",
    "Now, we're going to do the same thing, but in two dimensions, x and y. This time, you will start at the origin, pick a random direction (up, down, left, or right), and take one step in that direction.  You will then randomly pick a new direction, take a step, and so on, for a total of $N_{step}$ steps.  \n",
    "\n",
    "\n",
    "**Questions:** \n",
    "\n",
    "* After $N_{step}$ random steps, how far are you from the origin?\n",
    "* If you repeat this experiment $N_{trial}$ times, what will the distribution of distances from the origin be, and what is the mean distance that you go from the origin?  (Note: \"distance\" means the absolute value of distance from the origin!)  Does the mean value differ from Part 1?\n",
    "* For one trial, plot out the steps taken in the x-y plane.  Does it look random?\n",
    "\n",
    "**First:** As before, come up with a solution to this problem on your whiteboard as a group. Check with an instructor before you continue!\n",
    "\n",
    "**Then:** In pairs, write a code in the space provided below to answer these questions! \n",
    "\n",
    "Start by modifying your coin-flip code to return an integer that is 0,1,2, or 3 (left, right, up, down).  Test it a couple of times to see if it works!"
   ]
  },
  {
   "cell_type": "code",
   "execution_count": null,
   "metadata": {
    "collapsed": false
   },
   "outputs": [],
   "source": [
    "# put your code here.\n",
    "\n",
    "import random\n",
    "a = random.randint(0,3)\n",
    "print(a)\n",
    "\n"
   ]
  },
  {
   "cell_type": "markdown",
   "metadata": {},
   "source": [
    "As above, loop over this, but this time use the following rule:  (0 => go left, 1 => go right, 2 => go up, 3 => go down).  Start at x=0,y=0, and run for 1000 steps, while keeping track of the trajectory.  Plot the result as x versus y.  Do this a few times and see how it changes!"
   ]
  },
  {
   "cell_type": "code",
   "execution_count": null,
   "metadata": {
    "collapsed": false
   },
   "outputs": [],
   "source": [
    "# put your code here.\n",
    "\n",
    "\n",
    "x = y = 0  # initial position (will be modified)\n",
    "n_steps = 1000  # number of steps\n",
    "\n",
    "x_traj = []\n",
    "y_traj = []\n",
    "step = []\n",
    "\n",
    "for i in range(0,n_steps):\n",
    "    a = random.randint(0,3)\n",
    "\n",
    "    if a == 0:  # go left\n",
    "        x -= 1\n",
    "    elif a==1:  # go right\n",
    "        x += 1\n",
    "    elif a==2:  # go down\n",
    "        y -= 1\n",
    "    else:  #go up\n",
    "        y += 1\n",
    "\n",
    "    x_traj.append(x)\n",
    "    y_traj.append(y)\n",
    "    step.append(i)\n",
    "\n",
    "\n",
    "plt.plot(x_traj,y_traj)\n",
    "\n"
   ]
  },
  {
   "cell_type": "markdown",
   "metadata": {},
   "source": [
    "Now plot the x and y values versus time, individually. \n"
   ]
  },
  {
   "cell_type": "code",
   "execution_count": null,
   "metadata": {
    "collapsed": false
   },
   "outputs": [],
   "source": [
    "# put your code here.\n",
    "\n",
    "\n",
    "plt.plot(step,x_traj,'r-')\n",
    "plt.plot(step,y_traj,'b-')"
   ]
  },
  {
   "cell_type": "markdown",
   "metadata": {},
   "source": [
    "How do these curves compare to the results of your 1D random walk?"
   ]
  },
  {
   "cell_type": "markdown",
   "metadata": {},
   "source": [
    "They look pretty much the same!"
   ]
  },
  {
   "cell_type": "markdown",
   "metadata": {},
   "source": [
    "Recall the Einstein equation for 3 dimensions:  $<(r(t)-r(0))^2> = 6Dt$.  Given that $r(0) = 0$ and that $r^2 = x^2 + y^2 + z^2$.  What do you think the corresponding Einstein equations are for 1D and 2D? "
   ]
  },
  {
   "cell_type": "markdown",
   "metadata": {},
   "source": [
    "I think that since $<x^2 + y^2 + z^2> = 6Dt$, and that since all directions should be treated equally, that each direction should contribute 2Dt to the sum.  So for 1D the r.h.s. is 2Dt, and for 2D the r.h.s. is 4Dt."
   ]
  },
  {
   "cell_type": "markdown",
   "metadata": {},
   "source": [
    "---\n",
    "\n",
    "## Part 3: A different kind of random walk.\n",
    "\n",
    "**If you have time,** copy and paste your 1D random walk code in the cell below.  This time, modify your code so that the coin toss is biased - that you are more likely to take a step in one direction than in the other (i.e., the probability of stepping to the right is $p_{step}$, of stepping to the left is $1-p_{step}$, and $p_{step} \\neq 0.5$).\n",
    "\n",
    "How does the distibution of distances gone, as well as the mean distance from the origin, change as $p_{step}$ varies from 0.5?\n",
    "\n",
    "**Hint:** How might you use the floating-point random number generator to calculate the chance of taking steps?"
   ]
  },
  {
   "cell_type": "code",
   "execution_count": null,
   "metadata": {
    "collapsed": false
   },
   "outputs": [],
   "source": [
    "# put your code for Part 3 here.  Add extra cells as necessary!\n",
    "\n",
    "n_steps = 100  # number of steps\n",
    "n_traj = 1000\n",
    "prob_right = 0.55\n",
    "\n",
    "dist = np.array([])\n",
    "\n",
    "for trj in range(0,n_traj):\n",
    "    x = 0  # initial position (will be modified)\n",
    "\n",
    "    for i in range(0,n_steps):\n",
    "        a = random.random()\n",
    "        if a > prob_right:  # step left\n",
    "            x -= 1\n",
    "        else:  # step right\n",
    "            x += 1 \n",
    "\n",
    "    dist = np.append(dist,x)\n",
    "\n",
    "plt.hist(dist) #,bins=50)    \n",
    "    \n",
    "print(\"average distance is:\", dist.mean(), \"average abs. distance is:\",np.abs(dist).mean())\n"
   ]
  },
  {
   "cell_type": "markdown",
   "metadata": {},
   "source": [
    "\n",
    "\n",
    "For 100 steps, P = probability of stepping to the right.  (I am only doing P >= 0.5 because the problem is symmetrical.)\n",
    "\n",
    "\n",
    "P    |   ```<dist>```   |   ```<abs_dist>```\n",
    "-----|------------|-----------\n",
    "0.5 | -0.01 | 8.03\n",
    "0.55| 9.96 | 11.62\n",
    "0.6 | 19.94 | 20.01\n",
    "0.8 | 60.06 | 60.06\n",
    "1.0 | 100.0 | 100.0\n",
    "​"
   ]
  },
  {
   "cell_type": "markdown",
   "metadata": {},
   "source": [
    "## Wrapup\n",
    "\n",
    "**Question:** Do you have any lingering questions that remain after completing this model?"
   ]
  },
  {
   "cell_type": "markdown",
   "metadata": {},
   "source": [
    "Put your answers here!"
   ]
  },
  {
   "cell_type": "markdown",
   "metadata": {},
   "source": [
    "## Turn it in!\n",
    "Whether you've completed it or not, turn this assignment in to the Day 10 dropbox in the \"in-class activities\" folder.\""
   ]
  }
 ],
 "metadata": {
  "kernelspec": {
   "display_name": "Python 3",
   "language": "python",
   "name": "python3"
  },
  "language_info": {
   "codemirror_mode": {
    "name": "ipython",
    "version": 3
   },
   "file_extension": ".py",
   "mimetype": "text/x-python",
   "name": "python",
   "nbconvert_exporter": "python",
   "pygments_lexer": "ipython3",
   "version": "3.5.1"
  }
 },
 "nbformat": 4,
 "nbformat_minor": 0
}
