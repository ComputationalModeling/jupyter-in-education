{
 "cells": [
  {
   "cell_type": "markdown",
   "metadata": {},
   "source": [
    "# Exploring Social Demographic Changes Through Simulation\n",
    "\n",
    "Today we're going to use a game-based simulation to try to see how small-scale individual preferences can have larger effects on society."
   ]
  },
  {
   "cell_type": "markdown",
   "metadata": {},
   "source": [
    "# Learning Goals\n",
    "\n",
    "We want you to:\n",
    "\n",
    "- Develop your intuition about emergent phenomena\n",
    "- Think about how they play out at larget scales\n",
    "- Build your own version of this simulation"
   ]
  },
  {
   "cell_type": "markdown",
   "metadata": {},
   "source": [
    "# Moving shapes manually to make them happier"
   ]
  },
  {
   "cell_type": "markdown",
   "metadata": {},
   "source": [
    "## Answer these questions before you play your first round of the shape-moving game"
   ]
  },
  {
   "cell_type": "code",
   "execution_count": null,
   "metadata": {
    "collapsed": false
   },
   "outputs": [],
   "source": [
    "# Import the IPython display module\n",
    "from IPython.display import IFrame\n",
    "\n",
    "IFrame(\n",
    "    'http://computationalmodeling.github.io/polygons/play/mini/mini_intro.html',\n",
    "    width = 800,\n",
    "    height = 385\n",
    ")"
   ]
  },
  {
   "cell_type": "markdown",
   "metadata": {},
   "source": [
    "The game describes polygons being happy or unhappy. How do you think this code is handling happiness as a value? Is it a number?"
   ]
  },
  {
   "cell_type": "markdown",
   "metadata": {},
   "source": [
    "`// Explain how you think happiness might be represented in the code for this simulation`"
   ]
  },
  {
   "cell_type": "markdown",
   "metadata": {},
   "source": [
    "If individual shapes have some value for happiness, how might we think about the overall happiness of the \"society\" of shapes? \n",
    "\n",
    "- Should all shapes make an equal contribution to the society's happiness?\n",
    "- Why, or why not?"
   ]
  },
  {
   "cell_type": "markdown",
   "metadata": {},
   "source": [
    "`// Put your thoughts here`"
   ]
  },
  {
   "cell_type": "markdown",
   "metadata": {},
   "source": [
    "What would the board look like if it tried to make sure that however we're measuring society-wide happiness, we try to optimize for it? In other words, \n",
    "\n",
    "- Given how you said *you'd* calculate society-level happiness (above),\n",
    "- And assuming you kept moving shapes until you maximized that happiness value,\n",
    "- **Describe what you think the board would look like. And, explain why you think that.**\n",
    "\n"
   ]
  },
  {
   "cell_type": "markdown",
   "metadata": {},
   "source": [
    "`// Put your thoughts here`"
   ]
  },
  {
   "cell_type": "code",
   "execution_count": null,
   "metadata": {
    "collapsed": false
   },
   "outputs": [],
   "source": [
    "from IPython.display import HTML\n",
    "\n",
    "IFrame(\n",
    "    'http://computationalmodeling.github.io/polygons/play/manual/manual.html',\n",
    "    width = 800,\n",
    "    height = 600\n",
    ")"
   ]
  },
  {
   "cell_type": "markdown",
   "metadata": {},
   "source": [
    "## Answer these after you've moved on to the simulation"
   ]
  },
  {
   "cell_type": "markdown",
   "metadata": {
    "collapsed": true
   },
   "source": [
    "Segregation gets plotted over time. But, \n",
    "\n",
    "- how do you think segregation is being calculated? "
   ]
  },
  {
   "cell_type": "markdown",
   "metadata": {},
   "source": [
    "`// Explain how you think the game is calculating the number for segregation`"
   ]
  },
  {
   "cell_type": "markdown",
   "metadata": {},
   "source": [
    "Now, try to develop how *you* would calculate the segregation of a 3x3 neighborhood grid (of triangles and squares). "
   ]
  },
  {
   "cell_type": "code",
   "execution_count": null,
   "metadata": {
    "collapsed": true
   },
   "outputs": [],
   "source": [
    "# Use this cell (or a markdown cell)\n",
    "#  to show how *you* would calculate segregation\n",
    "#  on a 3x3 neighborhood"
   ]
  },
  {
   "cell_type": "markdown",
   "metadata": {},
   "source": [
    "![What values would you compute as the segregation for these neighborhoods?][1]\n",
    "\n",
    "[1]: http://f.cl.ly/items/113e413u2W2P1K1a0Q1c/computing-segregation-metrics-on-shapes.pdf"
   ]
  },
  {
   "cell_type": "markdown",
   "metadata": {},
   "source": [
    "Now, \n",
    "\n",
    "- Use your group's method to compute the segregation measure of **at least 3 neighborhoods above**\n",
    "- *For the neighborhoods you chose*, try ranking them in relative order of what you think the total neighborhood happiness would be. (For example, you might say \"4 is happier than 7, which is as happy as 9\"\n",
    "- Explain whether the measures you got for the above neighborhoods agree with your intuitive sense of which are more and less segregated."
   ]
  },
  {
   "cell_type": "code",
   "execution_count": null,
   "metadata": {
    "collapsed": true
   },
   "outputs": [],
   "source": [
    "# Use this (and/or a markdown cell) to compute\n",
    "#   segregation values for at least 3 of the\n",
    "#   neighborhoods above."
   ]
  },
  {
   "cell_type": "markdown",
   "metadata": {},
   "source": [
    "`// Use this cell to rank the relative overall happiness of the neighborhoods you choose.`"
   ]
  },
  {
   "cell_type": "markdown",
   "metadata": {},
   "source": [
    "`// Use this cell to explain whether the measures you got for the above neighborhoods agree with your intuitive sense of which are more and less segregated.`"
   ]
  },
  {
   "cell_type": "markdown",
   "metadata": {
    "collapsed": true
   },
   "source": [
    "# Simulating many shape movements to understand patterns"
   ]
  },
  {
   "cell_type": "markdown",
   "metadata": {
    "collapsed": true
   },
   "source": [
    "In this next bit, unhappy shapes automatically move to random empty spots. There's also a graph that tracks how much segregation there is over time."
   ]
  },
  {
   "cell_type": "markdown",
   "metadata": {},
   "source": [
    "## Run Several Simulations with new boards"
   ]
  },
  {
   "cell_type": "markdown",
   "metadata": {},
   "source": [
    "Things to be thinking about as you run these simulations:\n",
    "\n",
    "- What are you noticing about the final state of the board?\n",
    "- When you run the simulation several times on new boards, do they seem to take the same amount of time to finish?\n",
    "    - Do they always have the same `segregation` percentage when they finish?\n",
    "- Why do you think the simulation stops?\n",
    "    - In other words, do you think there's some end condition that's triggering it to stop? What do you suppose that condition is?"
   ]
  },
  {
   "cell_type": "markdown",
   "metadata": {},
   "source": [
    "# Adjusting individual shape preferences during the simulation"
   ]
  },
  {
   "cell_type": "markdown",
   "metadata": {},
   "source": [
    "Now we have the ability to adjust the \"bias\" of individual shapes using a slider. The rule is, a shape wants to move if fewer than $x\\%$ of its neighbors are like it."
   ]
  },
  {
   "cell_type": "markdown",
   "metadata": {},
   "source": [
    "## How might we express shape preference in (pseudo)code?\n",
    "\n",
    "Let's assume:\n",
    "\n",
    "- any given shape has some property called `wants_to_move`\n",
    "- the `wants_to_move` value for shapes can be set to either `True` or `False`\n",
    "- we have some way (perhaps through magic or bribery?) to get the current value of the \"Individual Shape Bias\" slider, and that that value is a number.\n",
    "\n",
    "\n",
    "Try and **come up with a procedure in pseudo-code or a flowchart** (not necessarily strict Python code, but something that would at least make sense to a human) that uses the value from the slider to calculate whether a shape wants to move.\n",
    "\n",
    "Here's a skeleton of some pseudo-code to get you started\n",
    "\n",
    "```\n",
    "individual_bias = get_value_from_slider_somehow_maybe_through_magic\n",
    "\n",
    "look at every shape on the board:\n",
    "    if (# some condition we, the students, have to figure out):\n",
    "        the shape wants to move\n",
    "    otherwise:\n",
    "        # the shape DOESN'T want to move\n",
    "```"
   ]
  },
  {
   "cell_type": "markdown",
   "metadata": {},
   "source": [
    "### First, what parts of the pseudo-code do you think you'll need to know, add or change?"
   ]
  },
  {
   "cell_type": "markdown",
   "metadata": {},
   "source": [
    "// Explain what you think is missing, what you'd change, and/or what you'd need to know that you don't think you currently know."
   ]
  },
  {
   "cell_type": "markdown",
   "metadata": {},
   "source": [
    "### Now, give your pseudo-code explanation (or a picture of your flowchart)"
   ]
  },
  {
   "cell_type": "markdown",
   "metadata": {},
   "source": [
    "// Put your pseudo-code or flowchart here."
   ]
  },
  {
   "cell_type": "markdown",
   "metadata": {},
   "source": [
    "# Double-ended preferences\n",
    "\n",
    "Now, we'll add a new complication to the simulator: an extra boundary. "
   ]
  },
  {
   "cell_type": "markdown",
   "metadata": {},
   "source": [
    "## BEFORE YOU PLAY - predict what you think will happen"
   ]
  },
  {
   "cell_type": "markdown",
   "metadata": {},
   "source": [
    "// Put your prediction here"
   ]
  },
  {
   "cell_type": "markdown",
   "metadata": {},
   "source": [
    "## Play the simulation\n",
    "\n",
    "Try varying the values like this:\n",
    "\n",
    "- Predict what you think will happen when you change one\n",
    "- Change it\n",
    "- Observe the result\n",
    "- Reconcile it with your prediction"
   ]
  },
  {
   "cell_type": "markdown",
   "metadata": {},
   "source": [
    "## Modify your pseudo-code from above\n",
    "\n",
    "How would you change your pseudo-code and/or flowchart to accommodate the new complexity of a double-ended slider?"
   ]
  },
  {
   "cell_type": "markdown",
   "metadata": {},
   "source": [
    "// Put your new pseudo-code and/or flowchart here. Explain your changes."
   ]
  },
  {
   "cell_type": "markdown",
   "metadata": {},
   "source": [
    "## Why is this happening?\n",
    "\n",
    "It seems like adding this one additional complication (an extra slider endpoint) changed the dynamics of the system. Can you try to explain why?"
   ]
  },
  {
   "cell_type": "markdown",
   "metadata": {},
   "source": [
    "// Put your explanation here."
   ]
  },
  {
   "cell_type": "code",
   "execution_count": null,
   "metadata": {
    "collapsed": true
   },
   "outputs": [],
   "source": []
  }
 ],
 "metadata": {
  "kernelspec": {
   "display_name": "Python 3",
   "language": "python",
   "name": "python3"
  },
  "language_info": {
   "codemirror_mode": {
    "name": "ipython",
    "version": 3
   },
   "file_extension": ".py",
   "mimetype": "text/x-python",
   "name": "python",
   "nbconvert_exporter": "python",
   "pygments_lexer": "ipython3",
   "version": "3.5.1"
  },
  "toc": {
   "toc_cell": false,
   "toc_number_sections": true,
   "toc_threshold": 4,
   "toc_window_display": false
  },
  "toc_position": {
   "left": "1088px",
   "right": "20px",
   "top": "120px",
   "width": "300px"
  }
 },
 "nbformat": 4,
 "nbformat_minor": 0
}
