{
 "cells": [
  {
   "cell_type": "markdown",
   "metadata": {
    "collapsed": false
   },
   "source": [
    "# Welcome to the Nenterprize\n",
    "\n",
    "Welcome to the Nenterprize Computing Console. This is your main access point to the **Ship's Computer**. Remember, the computer handles almost every shipwide operation, including navigation, life support, and within-ship & ship-to-ship communications.\n",
    "\n",
    "Before we try to leave space dock, we'll need to take care of some pre-flight operations:\n",
    "\n",
    "1. Test the ship-wide announcement system.\n",
    "2. Make Sure A Disgruntled Former Computational Officer Hasn't Junked Up the Daily Annoucements.\n",
    "3. If the Daily Announcements Are Indeed Junked Up, Fix 'Em"
   ]
  },
  {
   "cell_type": "markdown",
   "metadata": {},
   "source": [
    "# 1. Test the ship-wide announcement system.\n",
    "\n",
    "From this console, you can make announcements to the entire ship. They'll be seen and heard by every being on board, but right now the ship is empty, so you can pretty much say whatever you want. \n",
    "\n",
    "## How to broadcast something to all the screens on the ship\n",
    "\n",
    "- Cover throwing quoted strings at the ship's computer (ex: `\"What's up Stardock 47-alpha. ARE YOU READY TO ROCK?!?\"`)\n",
    "- Maybe just explain that `print()` is the best way to make stuff appear on ship terminals"
   ]
  },
  {
   "cell_type": "code",
   "execution_count": 12,
   "metadata": {
    "collapsed": false
   },
   "outputs": [
    {
     "data": {
      "text/plain": [
       "'print()'"
      ]
     },
     "execution_count": 12,
     "metadata": {},
     "output_type": "execute_result"
    }
   ],
   "source": [
    "\"print(\"\")\""
   ]
  },
  {
   "cell_type": "markdown",
   "metadata": {},
   "source": [
    "# 2. Make Sure A Disgruntled Former Computational Officer Hasn't Junked Up the Daily Annoucements.\n",
    "\n",
    "Every day, there are automated announcements that are supposed to get printed on the ship's terminals. It's mostly mundane stuff, but it's *really really important* for making sure the ship functions:\n",
    "\n",
    "- Tell the children on the ship it's time for school\n",
    "- Indicate a shift change, so the crew knows when to be at their posts.\n",
    "- Warn that the ship is approaching a catastrophic event horizon/supernova boundary/gravitational wormhole, and add that probably everyone's gonna die. This one gets broadcast at least once a day because space is dangerous.\n",
    "\n",
    "\n",
    "The last computational officer who worked here set some stuff up to automate the daily announcements. They created some quick little procedures that tell the ship's computer what to say at the appropriate times:"
   ]
  },
  {
   "cell_type": "code",
   "execution_count": 13,
   "metadata": {
    "collapsed": false
   },
   "outputs": [
    {
     "name": "stdout",
     "output_type": "stream",
     "text": [
      "Hey terrible children! It's off to the indoctrination center for you!\n",
      "Hey, crew! It's time to stop doing your jobs poorly and take off so you can be\n",
      "        replaced by people who do an even *worse* job than you! What I mean is you all are very bad\n",
      "        at what you do. In case that wasn't clear.\n",
      "        \n",
      "You're all gonna die! And it's probably Ensign Ricky's fault, because, as I may have mentioned in another message, Ensign Ricky is on the crew, and everyone on the crew is bad at their jobs. So, with deductive logic, Ensign Ricky must be bad also.\n"
     ]
    }
   ],
   "source": [
    "def tell_kids_its_time_for_school ():\n",
    "    print(\"Hey WONDERFUL children! It's off to the indoctrination center for you!\")\n",
    "    \n",
    "    \n",
    "def announce_a_shift_change ():\n",
    "    print(\n",
    "        \"\"\"Hey, crew! It's time to stop doing your jobs poorly and take off so you can be\n",
    "        replaced by people who do an even *worse* job than you! What I mean is you all are very bad\n",
    "        at what you do. In case that wasn't clear.\n",
    "        \"\"\")\n",
    "\n",
    "def warn_crew_about_impending_doom ():\n",
    "    print(\"You're all gonna die! And it's probably Ensign Ricky's fault, because, as I may have mentioned in another message, Ensign Ricky is on the crew, and everyone on the crew is bad at their jobs. So, with deductive logic, Ensign Ricky must be bad also.\")\n",
    "    \n",
    "tell_kids_its_time_for_school()\n",
    "announce_a_shift_change()\n",
    "warn_crew_about_impending_doom()\n"
   ]
  },
  {
   "cell_type": "code",
   "execution_count": 15,
   "metadata": {
    "collapsed": false
   },
   "outputs": [
    {
     "name": "stdout",
     "output_type": "stream",
     "text": [
      "Hey, Vashti!\n"
     ]
    }
   ],
   "source": []
  },
  {
   "cell_type": "code",
   "execution_count": null,
   "metadata": {
    "collapsed": true
   },
   "outputs": [],
   "source": []
  },
  {
   "cell_type": "code",
   "execution_count": null,
   "metadata": {
    "collapsed": true
   },
   "outputs": [],
   "source": []
  },
  {
   "cell_type": "code",
   "execution_count": null,
   "metadata": {
    "collapsed": true
   },
   "outputs": [],
   "source": []
  },
  {
   "cell_type": "code",
   "execution_count": null,
   "metadata": {
    "collapsed": true
   },
   "outputs": [],
   "source": []
  }
 ],
 "metadata": {
  "kernelspec": {
   "display_name": "Python 3",
   "language": "python",
   "name": "python3"
  },
  "language_info": {
   "codemirror_mode": {
    "name": "ipython",
    "version": 3
   },
   "file_extension": ".py",
   "mimetype": "text/x-python",
   "name": "python",
   "nbconvert_exporter": "python",
   "pygments_lexer": "ipython3",
   "version": "3.4.3"
  }
 },
 "nbformat": 4,
 "nbformat_minor": 0
}
