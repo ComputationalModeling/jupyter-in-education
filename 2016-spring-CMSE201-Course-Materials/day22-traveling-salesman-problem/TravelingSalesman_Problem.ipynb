{
 "cells": [
  {
   "cell_type": "markdown",
   "metadata": {},
   "source": [
    "# The Traveling Salesman problem\n"
   ]
  },
  {
   "cell_type": "markdown",
   "metadata": {},
   "source": [
    "## Names of group members"
   ]
  },
  {
   "cell_type": "markdown",
   "metadata": {},
   "source": [
    "// put your names here!"
   ]
  },
  {
   "cell_type": "markdown",
   "metadata": {},
   "source": [
    "## Goals of this assignment\n",
    "\n",
    "The main goal of this assignment is to use Monte Carlo methods to find the shortest path between several cities - the \"Traveling Salesman\" problem.  This is an example of how randomization can be used to optimize problems that would be incredibly computationally expensive (and sometimes impossible) to solve exactly.\n",
    "\n",
    "## The Traveling Salesman problem\n",
    "\n",
    "The [Traveling Salesman Problem](https://simple.wikipedia.org/wiki/Travelling_salesman_problem) is a classic problem in computer science where the focus is on optimization.  The problem is as follows: Imagine there is a salesman who has to travel to N cities.  The order is unimportant, as long as he only visits each city once on each trip, and finishes where he started.  The salesman wants to keep the distance traveled (and thus travel costs) as low as possible.  This problem is interesting for a variety of reasons - it applies to transportation (finding the most efficient bus routes), logistics (finding the best UPS or FedEx delivery routes for some number of packages), or in optimizing manufacturing processes to reduce cost.\n",
    "\n",
    "The Traveling Salesman Problem is extremely difficult to solve for large numbers of cities - testing every possible combination of cities would take N! (N factorial) individual tests.  For 10 cities, this would require 3,628,800 separate tests.  For 20 cities, this would require 2,432,902,008,176,640,000 (approximately $2.4 \\times 10^{18}$) tests - if you could test one combination per microsecond ($10^{-6}$ s) it would take approximately 76,000 years!  For 30 cities, at the same rate testing every combination would take more than one billion times the age of the Universe.  As a result, this is the kind of problem where a \"good enough\" answer is sufficient, and where randomization comes in.\n",
    "\n",
    "A good local example of a solution to the Traveling Salesman Problem is [an optimized Michigan road trip](http://www.randalolson.com/2015/03/18/pure-michigan-road-trip-optimized/) calculated by a former MSU graduate student (and [one across the US](http://nbviewer.jupyter.org/github/rhiever/Data-Analysis-and-Machine-Learning-Projects/blob/master/optimal-road-trip/Computing%20the%20optimal%20road%20trip%20across%20the%20U.S..ipynb)).  There's also a widely-used [software library for solving the Traveling Salesman Problem](http://www.math.uwaterloo.ca/tsp/index.html); the website has some interesting applications of the problem!\n"
   ]
  },
  {
   "cell_type": "code",
   "execution_count": null,
   "metadata": {
    "collapsed": false
   },
   "outputs": [],
   "source": [
    "import numpy as np\n",
    "%matplotlib inline\n",
    "import matplotlib.pyplot as plt\n",
    "from IPython.display import display, clear_output"
   ]
  },
  {
   "cell_type": "code",
   "execution_count": null,
   "metadata": {
    "collapsed": false
   },
   "outputs": [],
   "source": [
    "def calc_total_distance(table_of_distances, city_order):\n",
    "    '''\n",
    "    Calculates distances between a sequence of cities.\n",
    "    \n",
    "    Inputs: N x N table containing distances between each pair of the N\n",
    "    cities, as well as an array of length N+1 containing the city order,\n",
    "    which starts and ends with the same city (ensuring that the path is\n",
    "    closed)\n",
    "\n",
    "    Returns: total path length for the closed loop.\n",
    "    '''\n",
    "    total_distance = 0.0\n",
    "\n",
    "    # loop over cities and sum up the path length between successive pairs\n",
    "    for i in range(city_order.size-1):\n",
    "        total_distance += table_of_distances[city_order[i]][city_order[i+1]]\n",
    "\n",
    "    return total_distance\n",
    "\n",
    "\n",
    "def plot_cities(city_order,city_x,city_y):\n",
    "    '''\n",
    "    Plots cities and the path between them.\n",
    "    \n",
    "    Inputs: ordering of cities, x and y coordinates of each city.  \n",
    "    \n",
    "    Returns: a plot showing the cities and the path between them.\n",
    "    '''\n",
    "    \n",
    "    # first make x,y arrays\n",
    "    x = []\n",
    "    y = []\n",
    "\n",
    "    # put together arrays of x and y positions that show the order that the\n",
    "    # salesman traverses the cities\n",
    "    for i in range(0, city_order.size):\n",
    "        x.append(city_x[city_order[i]])\n",
    "        y.append(city_y[city_order[i]])\n",
    "\n",
    "    # append the first city onto the end so the loop is closed\n",
    "    x.append(city_x[city_order[0]])\n",
    "    y.append(city_y[city_order[0]])\n",
    "\n",
    "    #time.sleep(0.1)  \n",
    "    clear_output(wait=True)\n",
    "    display(fig)            # Reset display\n",
    "    fig.clear()             # clear output for animation\n",
    "\n",
    "    plt.xlim(-0.2, 20.2)    # give a little space around the edges of the plot\n",
    "    plt.ylim(-0.2, 20.2)\n",
    "    \n",
    "    # plot city positions in blue, and path in red.\n",
    "    plt.plot(city_x,city_y, 'bo', x, y, 'r-')\n",
    "\n"
   ]
  },
  {
   "cell_type": "markdown",
   "metadata": {},
   "source": [
    "## This code sets up everything we need\n",
    "\n",
    "Given a number of cities, set up random x and y positions and calculate a table of distances between pairs of cities (used for calculating the total trip distance).  Then set up an array that controls the order that the salesman travels between cities, and plots out the initial path."
   ]
  },
  {
   "cell_type": "code",
   "execution_count": null,
   "metadata": {
    "collapsed": false
   },
   "outputs": [],
   "source": [
    "# number of cities we'll use.\n",
    "number_of_cities = 30\n",
    "\n",
    "# seed for random number generator so we get the same value every time!\n",
    "np.random.seed(2024561414)\n",
    "\n",
    "# create random x,y positions for our current number of cities.  (Distance scaling is arbitrary.)\n",
    "city_x = np.random.random(size=number_of_cities)*20.0\n",
    "city_y = np.random.random(size=number_of_cities)*20.0\n",
    "\n",
    "# table of city distances - empty for the moment\n",
    "city_distances = np.zeros((number_of_cities,number_of_cities))\n",
    "\n",
    "# calculate distnace between each pair of cities and store it in the table.\n",
    "# technically we're calculating 2x as many things as we need (as well as the\n",
    "# diagonal, which should all be zeros), but whatever, it's cheap.\n",
    "for a in range(number_of_cities):\n",
    "    for b in range(number_of_cities):\n",
    "        city_distances[a][b] = ((city_x[a]-city_x[b])**2 + (city_y[a]-city_y[b])**2 )**0.5\n",
    "\n",
    "# create the array of cities in the order we're going to go through them\n",
    "city_order = np.arange(city_distances.shape[0])\n",
    "\n",
    "# tack on the first city to the end of the array, since that ensures a closed loop\n",
    "city_order = np.append(city_order, city_order[0])\n"
   ]
  },
  {
   "cell_type": "markdown",
   "metadata": {},
   "source": [
    "## Put your code below this!\n",
    "\n",
    "Your code should take some number of steps, doing the following at each step:\n",
    "\n",
    "1. Randomly swap two cities in the array of cities (except for the first/last city)\n",
    "2. Check the total distance traversed by the salesman\n",
    "3. If the new ordering results in a shorter path, keep it.  If not, throw it away.\n",
    "4. Plot the shorter of the two paths (the original one or the new one)\n",
    "\n",
    "Also, keep track of the steps and the minimum distance traveled as a function of number of steps and plot out the minimum distance as a function of step!"
   ]
  },
  {
   "cell_type": "code",
   "execution_count": null,
   "metadata": {
    "collapsed": false
   },
   "outputs": [],
   "source": [
    "fig = plt.figure()\n",
    "\n",
    "# Put your code here!\n",
    "\n",
    "\n"
   ]
  },
  {
   "cell_type": "markdown",
   "metadata": {},
   "source": [
    "## Wrapup\n",
    "\n",
    "Do you have any lingering questions that remain after this project?"
   ]
  },
  {
   "cell_type": "markdown",
   "metadata": {},
   "source": [
    "// put your answers here!"
   ]
  },
  {
   "cell_type": "markdown",
   "metadata": {},
   "source": [
    "## Turn it in!\n",
    "\n",
    "Turn this assignment in to the Day 22 dropbox in the \"in-class activities\" folder."
   ]
  }
 ],
 "metadata": {
  "kernelspec": {
   "display_name": "Python 3",
   "language": "python",
   "name": "python3"
  },
  "language_info": {
   "codemirror_mode": {
    "name": "ipython",
    "version": 3
   },
   "file_extension": ".py",
   "mimetype": "text/x-python",
   "name": "python",
   "nbconvert_exporter": "python",
   "pygments_lexer": "ipython3",
   "version": "3.5.1"
  }
 },
 "nbformat": 4,
 "nbformat_minor": 0
}
