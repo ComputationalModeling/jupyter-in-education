{
 "cells": [
  {
   "cell_type": "markdown",
   "metadata": {},
   "source": [
    "## Goals for today's pre-class assignment\n",
    "\n",
    "* Write a Python program to make simple calculations\n",
    "* Work with number and string data types\n",
    "* Work with the list data type"
   ]
  },
  {
   "cell_type": "markdown",
   "metadata": {},
   "source": [
    "## Assignment instructions\n",
    "\n",
    "Watch the videos below, read through Section 3.1 of the [Python Tutorial](https://docs.python.org/3/tutorial/introduction.html), and complete the assigned programming problems.  Please get started early, and come to office hours if you have any questions!\n",
    "\n",
    "Recall that to make notebook cells that have Python code in them do something, hold down the 'shift' key and then press the 'enter' key (you'll have to do this to get the YouTube videos to run).  To edit a cell (to add answers, for example) you double-click on the cell, add your text, and then enter it by holding down 'shift' and pressing 'enter'\n",
    "\n",
    "**This assignment is due by 11:59 p.m. the day before class,** and should be uploaded into the \"Pre-class assignments\" dropbox folder for Day 3.  Submission instructions can be found at the end of the notebook."
   ]
  },
  {
   "cell_type": "code",
   "execution_count": null,
   "metadata": {
    "collapsed": true
   },
   "outputs": [],
   "source": [
    "# Imports the functionality that we need to display YouTube videos in a Jupyter Notebook.  \n",
    "# You need to run this cell before you run ANY of the YouTube videos.\n",
    "\n",
    "from IPython.display import YouTubeVideo  "
   ]
  },
  {
   "cell_type": "code",
   "execution_count": null,
   "metadata": {
    "collapsed": false
   },
   "outputs": [],
   "source": [
    "# Display a specific YouTube video, with a given width and height.  \n",
    "# WE STRONGLY RECOMMEND that you can watch the video in full-screen mode\n",
    "# (much higher resolution) by clicking the little box in the bottom-right \n",
    "# corner of the video.\n",
    "\n",
    "YouTubeVideo(\"cCLB1sNpNYo\",width=640,height=360)"
   ]
  },
  {
   "cell_type": "markdown",
   "metadata": {},
   "source": [
    "**Question 1:** In the cell below, write a simple program to calculate the area of a rectangle where you give it the length and width of the rectangle as variables, store it in a third variable, and print out the resulting area.  Add comments to each line to explain what you're doing!"
   ]
  },
  {
   "cell_type": "code",
   "execution_count": null,
   "metadata": {
    "collapsed": true
   },
   "outputs": [],
   "source": [
    "# write your program here.  Don't forget that you execute your program by holding\n",
    "# down 'shift' and pressing 'enter'\n",
    "\n",
    "\n"
   ]
  },
  {
   "cell_type": "code",
   "execution_count": null,
   "metadata": {
    "collapsed": false
   },
   "outputs": [],
   "source": [
    "# Don't forget to watch the video in full-screen mode!\n",
    "\n",
    "YouTubeVideo(\"yv7klK57Ezc\",width=640,height=360)"
   ]
  },
  {
   "cell_type": "markdown",
   "metadata": {},
   "source": [
    "**Question 2:** In the cells below, create a variable containing a floating-point number and a second variable containing an integer.  Turn both into strings and concatenate them, and store it in a new variable.  Finally, print out the *last* value in your newly-concatenated variable.  You can use more than one cell if you need to print out multiple quantities!"
   ]
  },
  {
   "cell_type": "code",
   "execution_count": null,
   "metadata": {
    "collapsed": true
   },
   "outputs": [],
   "source": [
    "# write your program here, using multiple cells if necessary (adding extra cells using\n",
    "# the 'Cell' menu at the top of this notebook).  Don't forget that you can execute \n",
    "# your program by holding down 'shift' and pressing 'enter' in each cell!\n",
    "\n",
    "\n"
   ]
  },
  {
   "cell_type": "code",
   "execution_count": null,
   "metadata": {
    "collapsed": false
   },
   "outputs": [],
   "source": [
    "# Don't forget to watch the video in full-screen mode!\n",
    "\n",
    "YouTubeVideo(\"TJ_bGrigAMg\",width=640,height=360)"
   ]
  },
  {
   "cell_type": "markdown",
   "metadata": {},
   "source": [
    "**Question 3:**  In the cells below, create a list that contains, in this order:\n",
    "\n",
    "1. your first name as a string\n",
    "2. your age as a floating-point number\n",
    "3. your room or apartment number as an integar\n",
    "\n",
    "Print this list out.  Then, after you print it out, replace your first name in the list with your last name, and replace your age with the current year as an integer.  Then, append one or more new variables (of whatever type), print out the length of the list using the len() function, and then print out the entire list again!"
   ]
  },
  {
   "cell_type": "code",
   "execution_count": null,
   "metadata": {
    "collapsed": true
   },
   "outputs": [],
   "source": [
    "# write your program here, using multiple cells if necessary (adding extra cells using\n",
    "# the 'Cell' menu at the top of this notebook).  Don't forget that you can execute \n",
    "# your program by holding down 'shift' and pressing 'enter' in each cell!\n",
    "\n",
    "\n"
   ]
  },
  {
   "cell_type": "markdown",
   "metadata": {},
   "source": [
    "### Assignment wrapup\n",
    "\n",
    "**Question 4:** What questions do you have, if any, about any of the topics discussed in this assignment \n",
    "after watching the videos, reading the link to the Python tutorial, and trying to write the programs?"
   ]
  },
  {
   "cell_type": "markdown",
   "metadata": {},
   "source": [
    "Put your answer here!"
   ]
  },
  {
   "cell_type": "markdown",
   "metadata": {},
   "source": [
    "**Question 5:**  Do you have any further questions or comments about this material, or anything else that's going on in class?"
   ]
  },
  {
   "cell_type": "markdown",
   "metadata": {},
   "source": [
    "Put your answer here!"
   ]
  },
  {
   "cell_type": "markdown",
   "metadata": {},
   "source": [
    "### Congratulations, you're done!\n",
    "\n",
    "Submit this assignment by uploading it to the course Desire2Learn web page.  Go to the \"Pre-class assignments\" folder, find the dropbox link for Day 3, and upload it there.\n",
    "\n",
    "See you in class!"
   ]
  }
 ],
 "metadata": {
  "kernelspec": {
   "display_name": "Python 3",
   "language": "python",
   "name": "python3"
  },
  "language_info": {
   "codemirror_mode": {
    "name": "ipython",
    "version": 3
   },
   "file_extension": ".py",
   "mimetype": "text/x-python",
   "name": "python",
   "nbconvert_exporter": "python",
   "pygments_lexer": "ipython3",
   "version": "3.5.1"
  }
 },
 "nbformat": 4,
 "nbformat_minor": 0
}
