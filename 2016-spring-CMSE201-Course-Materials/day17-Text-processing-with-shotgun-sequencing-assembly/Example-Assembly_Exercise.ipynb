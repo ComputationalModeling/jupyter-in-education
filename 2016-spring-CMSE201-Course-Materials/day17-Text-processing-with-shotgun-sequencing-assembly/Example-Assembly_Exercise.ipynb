{
 "cells": [
  {
   "cell_type": "markdown",
   "metadata": {},
   "source": [
    "## Example: Assembly Exersize\n",
    "\n",
    "Code adapted from shotgun.cgi file posted by C. Titus Brown on GitHub in the assembly-exercise repository:\n",
    "\n",
    "https://github.com/ctb/assembly-exercise\n",
    "\n",
    "This is a simple script that \"shotgun sequences\" paragraphs of text,\n",
    "by producing \"reads\" of a configurable length, mutation rate, and\n",
    "coverage.  Titus uses it to demonstrate shotgun sequencing and de novo\n",
    "assembly to students.  \n",
    "\n",
    "Run this entire notebook to create a file called `Genome_cuts.txt` in your current directory.\n"
   ]
  },
  {
   "cell_type": "code",
   "execution_count": null,
   "metadata": {
    "collapsed": false
   },
   "outputs": [],
   "source": [
    "import random\n",
    "\n",
    "DEFAULT_READ_LENGTH=50\n",
    "DEFAULT_COVERAGE=10\n",
    "DEFAULT_MUTATION_RATE=0.02\n",
    "DEFAULT_DO_SORT=True\n",
    "DEFAULT_DO_PAIRED=False\n",
    "DEFAULT_INSERT_SIZE=25\n",
    "COUNT=False\n",
    "DEFAULT_TEXT=\"\"\"It was the best of times, it was the worst of times, it was the age of wisdom, it was the age of foolishness, it was the epoch of belief, it was the epoch of incredulity, it was the season of Light, it was the season of Darkness, it was the spring of hope, it was the winter of despair, we had everything before us, we had nothing before us, we were all going direct to heaven, we were all going direct the other way - in short, the period was so far like the present period, that some of its noisiest authorities insisted on its being received, for good or for evil, in the superlative degree of comparison only.\"\"\"\n",
    "REFERENCE=False\n",
    "\n",
    "DEFAULT_TEXT"
   ]
  },
  {
   "cell_type": "code",
   "execution_count": null,
   "metadata": {
    "collapsed": false
   },
   "outputs": [],
   "source": [
    "#Preprocess text\n",
    "from string import punctuation\n",
    "def clean(text):\n",
    "    data = text.split('\\n\\n')\n",
    "\n",
    "    x = []\n",
    "    for k in data:\n",
    "        k = k.lower()\n",
    "        for p in list(punctuation):\n",
    "            k=k.replace(p,'')\n",
    "        k = k.replace(' ', '_') # make spaces into underscores\n",
    "        k = k.replace('\\n', '_') # make end of lines into underscores\n",
    "        x.append(k)\n",
    "\n",
    "    return x\n",
    "print(punctuation)"
   ]
  },
  {
   "cell_type": "code",
   "execution_count": null,
   "metadata": {
    "collapsed": true
   },
   "outputs": [],
   "source": [
    "def fragment(text, read_length, coverage, mutation_rate):\n",
    "    data = clean(text)\n",
    "\n",
    "    chooseme = []\n",
    "    for n, i in enumerate(data):\n",
    "        chooseme += [n] * len(i)\n",
    "\n",
    "    n_samples = int(len(chooseme) * coverage / float(read_length) + 0.5)\n",
    "\n",
    "    samples = []\n",
    "    for i in range(n_samples):\n",
    "        seq = data[random.choice(chooseme)]\n",
    "\n",
    "        start = random.choice(range(len(seq) - read_length))\n",
    "        read = seq[start:start + read_length]\n",
    "\n",
    "        for k in range(0, read_length):\n",
    "            if random.uniform(0, 1000) < mutation_rate*1000:\n",
    "                pos = random.choice(range(len(read)))\n",
    "                s = \"\"\n",
    "                for p in range(len(read)):\n",
    "                    if p == pos:\n",
    "                        s += random.choice('abcdefghijklmnopqrstuvwxyz_')\n",
    "                    else:\n",
    "                        s += read[p]\n",
    "                read = s\n",
    "\n",
    "        samples.append(read)\n",
    "\n",
    "    return samples\n"
   ]
  },
  {
   "cell_type": "code",
   "execution_count": null,
   "metadata": {
    "collapsed": true
   },
   "outputs": [],
   "source": [
    "\n",
    "def fragment_pe(text, read_length, insert_size, coverage, mutation_rate):\n",
    "    data = clean(text)\n",
    "\n",
    "    chooseme = []\n",
    "    for n, i in enumerate(data):\n",
    "        chooseme += [n] * len(i)\n",
    "\n",
    "    n_samples = int(len(chooseme) * coverage / float(read_length) + 0.5)\n",
    "\n",
    "    samples = []\n",
    "    for i in range(n_samples):\n",
    "        seq = data[random.choice(chooseme)]\n",
    "\n",
    "        start = random.choice(range(len(seq) - insert_size))\n",
    "        Lactual = insert_size - read_length + random.choice(range(2*read_length + 1))\n",
    "        read = seq[start:start + Lactual]\n",
    "\n",
    "        for k in range(0, insert_size):\n",
    "            if random.uniform(0, 1000) < mutation_rate*1000:\n",
    "                pos = random.choice(range(len(read)))\n",
    "                s = \"\"\n",
    "                for p in range(len(read)):\n",
    "                    if p == pos:\n",
    "                        s += random.choice('abcdefghijklmnopqrstuvwxyz_')\n",
    "                    else:\n",
    "                        s += read[p]\n",
    "                read = s\n",
    "\n",
    "        left, right = read[:read_length], read[-read_length:]\n",
    "        samples.append((left, right))\n",
    "\n",
    "    return samples\n"
   ]
  },
  {
   "cell_type": "code",
   "execution_count": null,
   "metadata": {
    "collapsed": false
   },
   "outputs": [],
   "source": [
    "coverage = DEFAULT_COVERAGE\n",
    "mutation_rate = 0\n",
    "read_length = DEFAULT_READ_LENGTH\n",
    "do_sort = DEFAULT_DO_SORT\n",
    "do_paired = False\n",
    "insert_size = DEFAULT_INSERT_SIZE\n",
    "text = DEFAULT_TEXT"
   ]
  },
  {
   "cell_type": "code",
   "execution_count": null,
   "metadata": {
    "collapsed": false
   },
   "outputs": [],
   "source": [
    "#What is this code doing?\n",
    "#h = hashlib.md5()\n",
    "#cleaned = clean(text)\n",
    "#for k in cleaned:\n",
    "#    h.update(k)\n",
    "#digest = h.hexdigest()\n"
   ]
  },
  {
   "cell_type": "code",
   "execution_count": null,
   "metadata": {
    "collapsed": false
   },
   "outputs": [],
   "source": [
    "cutlist = []\n",
    "if not do_paired:\n",
    "    samples = fragment(text, read_length, coverage, mutation_rate)\n",
    "    if do_sort:\n",
    "        samples.sort()\n",
    "\n",
    "    for n, i in enumerate(samples):\n",
    "        sequence = i\n",
    "        cutlist.append(sequence)\n",
    "else:\n",
    "    samples = fragment_pe(text,read_length, insert_size, coverage, mutation_rate)\n",
    "    if do_sort:\n",
    "        samples.sort()\n",
    "\n",
    "    #print('Content-type: text/html\\n\\n')\n",
    "    #print('Text ID:', digest)\n",
    "    #print('<!-- mut: %s / readlen: %d / cov: %s -->' % (mutation_rate,\n",
    "    #                                                    read_length,\n",
    "    #                                                    coverage))\n",
    "    #print('<pre>')\n",
    "    for n, i in enumerate(samples):\n",
    "        #if n and n % 3 == 0:\n",
    "        #    print('\\n')\n",
    "        sequence = '%s, %s' % i\n",
    "        cutlist.append(sequence)\n",
    "\n",
    "for cut in cutlist:\n",
    "    print(cut)"
   ]
  },
  {
   "cell_type": "markdown",
   "metadata": {},
   "source": [
    "Save the data to a file that we can print:"
   ]
  },
  {
   "cell_type": "code",
   "execution_count": null,
   "metadata": {
    "collapsed": false
   },
   "outputs": [],
   "source": [
    "f = open('Genome_cuts.txt', 'w')\n",
    "for cut in cutlist:\n",
    "    f.write(cut+'\\n')\n",
    "f.close()"
   ]
  }
 ],
 "metadata": {
  "kernelspec": {
   "display_name": "Python 3",
   "language": "python",
   "name": "python3"
  },
  "language_info": {
   "codemirror_mode": {
    "name": "ipython",
    "version": 3
   },
   "file_extension": ".py",
   "mimetype": "text/x-python",
   "name": "python",
   "nbconvert_exporter": "python",
   "pygments_lexer": "ipython3",
   "version": "3.4.3"
  }
 },
 "nbformat": 4,
 "nbformat_minor": 0
}
