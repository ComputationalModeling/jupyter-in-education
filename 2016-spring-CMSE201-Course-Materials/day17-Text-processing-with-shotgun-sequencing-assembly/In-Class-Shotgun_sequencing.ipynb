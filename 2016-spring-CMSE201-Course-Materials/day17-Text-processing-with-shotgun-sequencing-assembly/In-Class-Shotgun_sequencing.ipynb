{
 "cells": [
  {
   "cell_type": "markdown",
   "metadata": {},
   "source": [
    "# Day 17 In-class assignment: Shotgun Sequencing\n",
    "\n",
    "Today we are going to think about how we would write a program to do shotgun sequencing. "
   ]
  },
  {
   "cell_type": "markdown",
   "metadata": {},
   "source": [
    "### Student Names"
   ]
  },
  {
   "cell_type": "markdown",
   "metadata": {},
   "source": [
    "//Put the names of everybody in your group here!"
   ]
  },
  {
   "cell_type": "markdown",
   "metadata": {},
   "source": [
    "### Learning Goals \n"
   ]
  },
  {
   "cell_type": "markdown",
   "metadata": {},
   "source": [
    "* Understand genome sequencing\n",
    "* Get some practice working with functions, strings and loops"
   ]
  },
  {
   "cell_type": "markdown",
   "metadata": {},
   "source": [
    "# Work in pairs and Shotgun Assemble by hand\n",
    "\n",
    "We are going to try to assemble some sequences from a famous book in class.  Your instructor(s) will hand out strips of paper. See if you can assemble the original text from the strips of paper!\n"
   ]
  },
  {
   "cell_type": "markdown",
   "metadata": {},
   "source": [
    "**Question 1:** How hard was this task to do by hand?  Did you manage to get the entire text? (Also, please take a picture of what you have submit the picture to d2l with this notebook.)\n"
   ]
  },
  {
   "cell_type": "markdown",
   "metadata": {},
   "source": [
    "// put your answer here"
   ]
  },
  {
   "cell_type": "markdown",
   "metadata": {},
   "source": [
    "**Question 2:**  Write some pseudocode or a flowchart showing the steps you would take to write your own code to assemble strips of paper.  We strongly suggest that you describe this pseudocode as a bunch of high-level function calls with general descriptions of what your functions will look like.  "
   ]
  },
  {
   "cell_type": "markdown",
   "metadata": {},
   "source": [
    "// Include your pseudocode here or reference a picture that you will submit with your notebook to d2l."
   ]
  },
  {
   "cell_type": "markdown",
   "metadata": {},
   "source": [
    "**Question 3:** What functions do you think will be the most difficult to write?  Why?"
   ]
  },
  {
   "cell_type": "markdown",
   "metadata": {},
   "source": [
    "// put your answer here."
   ]
  },
  {
   "cell_type": "markdown",
   "metadata": {},
   "source": [
    "Before moving on, verify your answers to questions 1-3 with an instructor. "
   ]
  },
  {
   "cell_type": "markdown",
   "metadata": {},
   "source": [
    "# Code Review and Testing\n",
    "\n",
    "In this section we are going to program a basic shotgun assembler. With your group, read though the program and try to understand what it is doing.  Code review is an extreamly important skill in computational science - it's very common for people to inherit code from coworkers, or to find examples that they would like to use on the web.  Dissecting the code helps you to learn, and is a great way to make yourself a better programmer.  Some questions to ask yourself while looking at code include:\n",
    "\n",
    "1. Can you identify any clever techniques that you could use in your own coding practices?\n",
    "2. Can you identify any bad techniques that you could change to do better?\n",
    "3. What assumptions do you think the programmer is making about the model or problem? Are these assumptions well documented?\n",
    "4. Can you come up with nominally \"valid\" test cases that will break the code?\n",
    "\n",
    "Let's write the first piece of an assembler.  To start, consider the following example strings we will use as data.  Can you see how these strings go together?"
   ]
  },
  {
   "cell_type": "code",
   "execution_count": 1,
   "metadata": {
    "collapsed": false
   },
   "outputs": [],
   "source": [
    "start_string_list =  ['er_way__in_short_the_period_was_so_far_like_the_pr', \\\n",
    "                      '__in_short_the_period_was_so_far_like_the_present_', \\\n",
    "                      'he_present_period_that_some_of_its_noisiest_author', \\\n",
    "                      '_period_that_some_of_its_noisiest_authorities_insi']"
   ]
  },
  {
   "cell_type": "markdown",
   "metadata": {},
   "source": [
    "# Shotgun Assembly Program:\n",
    "\n",
    "Let us assume we have inherited the following code from a previous student in our research lab.  The student has most of the code written but did not get a chance to finish the ```slide_left_right``` function. The student let you know that everything is working and all you need to do to make a usable shotgun assembler is to finish ```slide_left_right```.  Run the program on the above string to see what it does. "
   ]
  },
  {
   "cell_type": "code",
   "execution_count": 2,
   "metadata": {
    "collapsed": false
   },
   "outputs": [],
   "source": [
    "#define the internal slide function\n",
    "# If the strings overlap, return the combined longer string and the length of the overlap\n",
    "def slide_left_right(left,right):\n",
    "    # remember to calculate the overlap here - THIS NEEDS TO BE FINISHED!\n",
    "    overlap=10\n",
    "    return([left[:-overlap]+right, overlap ])"
   ]
  },
  {
   "cell_type": "code",
   "execution_count": 3,
   "metadata": {
    "collapsed": false
   },
   "outputs": [],
   "source": [
    "def string_overlap(s1, s2):\n",
    "    #Slide string 1 over string 2 and calculate the overlap\n",
    "    [s3_1, i1] = slide_left_right(s1,s2)\n",
    "    \n",
    "    #Slide string 2 over string 1 and calculate the overlap\n",
    "    [s3_2, i2] = slide_left_right(s2,s1)\n",
    "    \n",
    "    #Check to see which overlap is biggest. \n",
    "    if(i1 > i2):\n",
    "        return(s3_1)    \n",
    "    if(i2 == 0):\n",
    "        #Return empty string if the strings do not overlap\n",
    "        return('')\n",
    "    return(s3_2)"
   ]
  },
  {
   "cell_type": "code",
   "execution_count": 4,
   "metadata": {
    "collapsed": false
   },
   "outputs": [],
   "source": [
    "#new shotgun function \n",
    "def shotgun(cuts):\n",
    "    #use the first cut to initialize the string\n",
    "    assembled_string = cuts[0]\n",
    "    \n",
    "    #Make a list of the remaining cuts\n",
    "    unassembled_cuts = cuts[1:]\n",
    "    #Counter to help us keep track if the list did not change\n",
    "    previous_list_len = 0; \n",
    "    \n",
    "    #Keep looping until we found all overlapping regions. \n",
    "    #i.e. there are still some unassembled_cuts and the list length is changing\n",
    "    while(unassembled_cuts and previous_list_len != len(unassembled_cuts)):\n",
    "        #reset list of unmatching cuts\n",
    "        non_overlapping_cuts = []\n",
    "        \n",
    "        #Record the previous list length\n",
    "        previous_list_len = len(unassembled_cuts)\n",
    "        \n",
    "        #Loop though unassembled cuts and add them to the assembled_string\n",
    "        for cut in unassembled_cuts:\n",
    "            s_tmp = string_overlap(assembled_string, cut)\n",
    "            \n",
    "            #If the temporary string is empty store the cut in the non_overlapping_cuts list\n",
    "            if(s_tmp == ''):\n",
    "                non_overlapping_cuts.append(cut)\n",
    "            else:\n",
    "                assembled_string = s_tmp;\n",
    "        unassembled_cuts = non_overlapping_cuts.copy()\n",
    "    return(assembled_string)"
   ]
  },
  {
   "cell_type": "code",
   "execution_count": 5,
   "metadata": {
    "collapsed": false
   },
   "outputs": [
    {
     "name": "stdout",
     "output_type": "stream",
     "text": [
      "_period_that_some_of_its_noisiest_authorhe_present_period_that_some_of_its_noisi__in_short_the_period_was_so_far_like_ther_way__in_short_the_period_was_so_far_like_the_pr\n"
     ]
    }
   ],
   "source": [
    "#Run the shotgun assembly\n",
    "print(shotgun(start_string_list))"
   ]
  },
  {
   "cell_type": "markdown",
   "metadata": {},
   "source": [
    "**Question 4:** Discuss this code with your partner or group and describe what it does.  What is the ```slide_left_right``` function supposed to do?  What are the inputs and outputs to ```slide_left_right```?"
   ]
  },
  {
   "cell_type": "markdown",
   "metadata": {},
   "source": [
    "//Put your answer here. "
   ]
  },
  {
   "cell_type": "markdown",
   "metadata": {},
   "source": [
    "**Question 5:** Assume for now, that the student who wrote this code is correct and it will work.  Help the student finish the program by writing the ```slide_right_left``` function."
   ]
  },
  {
   "cell_type": "code",
   "execution_count": 6,
   "metadata": {
    "collapsed": true
   },
   "outputs": [],
   "source": [
    "#copy, paste and modify the slide_left_right function from above"
   ]
  },
  {
   "cell_type": "markdown",
   "metadata": {},
   "source": [
    "### Unit Testing\n",
    "\n",
    "It is difficult to write code and have it work the first time. Before trying to run your function with the rest of the code, it is a good idea to test just the single function. This is sometimes called \"unit testing\", and is a standard programming practice.  For example, this code checks the ```slide_left_right``` function.  Before you execute this code, see if you can predict what the output will be!"
   ]
  },
  {
   "cell_type": "code",
   "execution_count": 7,
   "metadata": {
    "collapsed": false
   },
   "outputs": [
    {
     "name": "stdout",
     "output_type": "stream",
     "text": [
      "er_way__in_short_the_period_was_so_far_l__in_short_the_period_was_so_far_like_the_present_\n",
      "10\n"
     ]
    }
   ],
   "source": [
    "# Before running the code see if you can predict what the output will be.\n",
    "s3, i = slide_left_right(start_string_list[0],start_string_list[1])\n",
    "print(s3)\n",
    "print(i)"
   ]
  },
  {
   "cell_type": "markdown",
   "metadata": {},
   "source": [
    "Did that work?  Sometimes it is hard to tell. A better unit test is simple.  Consider the following example, and before you run it predict what you think the output will be:"
   ]
  },
  {
   "cell_type": "code",
   "execution_count": 8,
   "metadata": {
    "collapsed": false
   },
   "outputs": [
    {
     "name": "stdout",
     "output_type": "stream",
     "text": [
      "bbbbcccc\n",
      "10\n"
     ]
    }
   ],
   "source": [
    "#Before running the code see if you can predict what the output will be.\n",
    "s3,i= slide_left_right('aaabbb','bbbbcccc')\n",
    "print(s3)\n",
    "print(i)"
   ]
  },
  {
   "cell_type": "markdown",
   "metadata": {},
   "source": [
    "Using the much simpler imput strings helps you quickly see if the code is working. "
   ]
  },
  {
   "cell_type": "markdown",
   "metadata": {},
   "source": [
    "**Question 6: (Unit Testing, four parts).** Now, let's write your own test cases. Since this is your first time, we will be very specfic about what tests you should write.  However, you want to be able to write your own unit tests.  Always write tests for odd, but valid, inputs.  For example, write a unit test for each of the four cases below. \n",
    "\n",
    "In each case shown below you should be able to just copy the test case from above and make some minor changes.  The goal is to learn something different for each case.  Write a test case for each of the following conditions:"
   ]
  },
  {
   "cell_type": "markdown",
   "metadata": {},
   "source": [
    "**1) Write a test case to see what happens if you pass ```slide_left_right``` two strings that are the same.**"
   ]
  },
  {
   "cell_type": "code",
   "execution_count": null,
   "metadata": {
    "collapsed": false
   },
   "outputs": [],
   "source": [
    "#Test to see if the function works with exactly the same strings\n",
    "#Put your test code here"
   ]
  },
  {
   "cell_type": "markdown",
   "metadata": {},
   "source": [
    "**2) Write a test case to see what happends if the strings do not overlap (i.e., they are entirely different).**"
   ]
  },
  {
   "cell_type": "code",
   "execution_count": null,
   "metadata": {
    "collapsed": false
   },
   "outputs": [],
   "source": [
    "#Test to see if the code works for non-overlapping strings\n",
    "#Put your test code here"
   ]
  },
  {
   "cell_type": "markdown",
   "metadata": {},
   "source": [
    "**3) Write a test case to see what happens if the right string is entirely inside the left string**"
   ]
  },
  {
   "cell_type": "code",
   "execution_count": null,
   "metadata": {
    "collapsed": false
   },
   "outputs": [],
   "source": [
    "#Test to see if the code works if the right string is entirely inside the left one\n",
    "#Put your test code here"
   ]
  },
  {
   "cell_type": "markdown",
   "metadata": {},
   "source": [
    "**4) Write a test case to see what happens if the right string is empty. (i.e. '')**"
   ]
  },
  {
   "cell_type": "code",
   "execution_count": 9,
   "metadata": {
    "collapsed": false
   },
   "outputs": [],
   "source": [
    "#Test to see if the right string is empty\n",
    "#Put your test code here"
   ]
  },
  {
   "cell_type": "markdown",
   "metadata": {},
   "source": [
    "**Question 7:** As a group, discuss the unit tests shown above. What did you learn from these test cases? Can you think of any additional test cases that you haven't implemented?  And, finally, did the code do what you expected it to do?"
   ]
  },
  {
   "cell_type": "markdown",
   "metadata": {},
   "source": [
    "//Write your answers here"
   ]
  },
  {
   "cell_type": "markdown",
   "metadata": {},
   "source": [
    "## Before you go any further:\n",
    "\n",
    "Make sure that you check with one of the instructors to make sure your answers make sense!"
   ]
  },
  {
   "cell_type": "markdown",
   "metadata": {},
   "source": [
    "# Full Test:\n",
    "\n",
    "Before moving to this section, make sure you are comfortable with the above tests. Now let's test the entire shotgun program again using the new function you have written:"
   ]
  },
  {
   "cell_type": "code",
   "execution_count": 10,
   "metadata": {
    "collapsed": false
   },
   "outputs": [
    {
     "data": {
      "text/plain": [
       "'_period_that_some_of_its_noisiest_authorhe_present_period_that_some_of_its_noisi__in_short_the_period_was_so_far_like_ther_way__in_short_the_period_was_so_far_like_the_pr'"
      ]
     },
     "execution_count": 10,
     "metadata": {},
     "output_type": "execute_result"
    }
   ],
   "source": [
    "#Run the shotgun assembly on the orginial string list\n",
    "shotgun(start_string_list)"
   ]
  },
  {
   "cell_type": "markdown",
   "metadata": {},
   "source": [
    "Make sure this got the answer you are expecting.  Let's try a different order to the strings to make sure that is working as well:"
   ]
  },
  {
   "cell_type": "code",
   "execution_count": 11,
   "metadata": {
    "collapsed": false
   },
   "outputs": [
    {
     "name": "stdout",
     "output_type": "stream",
     "text": [
      "__in_short_the_period_was_so_far_like_thhe_present_period_that_some_of_its_noisi_period_that_some_of_its_noisiest_authorer_way__in_short_the_period_was_so_far_like_the_pr\n"
     ]
    }
   ],
   "source": [
    "second_string_list = [start_string_list[0], \\\n",
    "                      start_string_list[3], \\\n",
    "                      start_string_list[2], \\\n",
    "                      start_string_list[1]]\n",
    "\n",
    "print(shotgun(second_string_list))"
   ]
  },
  {
   "cell_type": "markdown",
   "metadata": {},
   "source": [
    "Before moving on, make sure you got the same answer for both inputs. Adjust the function ```slide_left_right``` as needed to make sure this happens!"
   ]
  },
  {
   "cell_type": "markdown",
   "metadata": {},
   "source": [
    "# Generate Genome Cuts\n",
    "\n",
    "Now let's download a really big test to see if the code can do what you did with the slips of paper in class. \n",
    "\n",
    "First, download the \"Example-Assembly_Exercise.ipynb\" notebook from the d2l website.  Run the notebook to generate the \"Genome_cuts.txt\" file.  You do not need to understand the notebook in order to generate the file. However, it would be a good exercise to read though the notebook and see what pieces make sense.\n",
    "\n",
    "Open the \"Genome_cuts.txt\" file using the following command:"
   ]
  },
  {
   "cell_type": "code",
   "execution_count": null,
   "metadata": {
    "collapsed": false
   },
   "outputs": [],
   "source": [
    "cuts = open(\"Genome_cuts.txt\").read()\n",
    "cuts=cuts.split('\\n')"
   ]
  },
  {
   "cell_type": "markdown",
   "metadata": {},
   "source": [
    "Run the shotgun assembler on the code and talk about the outputs with your group members:"
   ]
  },
  {
   "cell_type": "code",
   "execution_count": null,
   "metadata": {
    "collapsed": false
   },
   "outputs": [],
   "source": [
    "print(shotgun(cuts))"
   ]
  },
  {
   "cell_type": "markdown",
   "metadata": {},
   "source": [
    "** Question 8:** Although it is possible that the randomly-generated \"Genome_cuts.txt\" produced input to the function that work, most likely the above string is not fully assembled (i.e., the assembly doesn't produce the paragraph of text  you would expect). Why do you think this may not have worked?"
   ]
  },
  {
   "cell_type": "markdown",
   "metadata": {},
   "source": [
    "//put your answer here"
   ]
  },
  {
   "cell_type": "markdown",
   "metadata": {},
   "source": [
    "** Question 9:** When writing unit tests. It is generally best to come up with the smallest test that reproduces the error.  This small tests help you isolate the problem. Come up with a very short unit test that demonstrates the failure exhibited above."
   ]
  },
  {
   "cell_type": "markdown",
   "metadata": {},
   "source": [
    "//put your answer here"
   ]
  },
  {
   "cell_type": "markdown",
   "metadata": {},
   "source": [
    "** Question 10:** Sequencing machines are not always correct. How would you change the program to account for errors in some of the letters? "
   ]
  },
  {
   "cell_type": "markdown",
   "metadata": {},
   "source": [
    "//put your answer here"
   ]
  },
  {
   "cell_type": "markdown",
   "metadata": {},
   "source": [
    "# Feedback on this assignment"
   ]
  },
  {
   "cell_type": "markdown",
   "metadata": {},
   "source": [
    "**Question 11:** What questions do you (or does your group) have after this assignment?"
   ]
  },
  {
   "cell_type": "markdown",
   "metadata": {},
   "source": [
    "*Put your answer here.*"
   ]
  },
  {
   "cell_type": "markdown",
   "metadata": {},
   "source": [
    "# Submit this assignment"
   ]
  },
  {
   "cell_type": "markdown",
   "metadata": {},
   "source": [
    "Log into the course Desire2Learn website (d2l.msu.edu) and go to the \"In-class assignments\" and the \"Day 17\" folder.  Upload this notebook there. You only have to upload one notebook per group - just make sure that everybody's name is at the top of the notebook! "
   ]
  }
 ],
 "metadata": {
  "kernelspec": {
   "display_name": "Python 3",
   "language": "python",
   "name": "python3"
  },
  "language_info": {
   "codemirror_mode": {
    "name": "ipython",
    "version": 3
   },
   "file_extension": ".py",
   "mimetype": "text/x-python",
   "name": "python",
   "nbconvert_exporter": "python",
   "pygments_lexer": "ipython3",
   "version": "3.5.1"
  }
 },
 "nbformat": 4,
 "nbformat_minor": 0
}
