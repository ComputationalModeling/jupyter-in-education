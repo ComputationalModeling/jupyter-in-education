{
 "cells": [
  {
   "cell_type": "markdown",
   "metadata": {},
   "source": [
    "# Day 17 Pre-Class Assignment: Shotgun Sequencing\n",
    "\n",
    "DNA, or deoxyribonucleic acid, is the molecule that carries most of the genetic instructions used by living organisms.  It is often modeled as a sequence of the letters G, C, A and T.  These letters represent strands of Guanine, Cytosine, Adenine and Thymine, the four nucleotides that form the basis of DNA. Watch the following video:"
   ]
  },
  {
   "cell_type": "code",
   "execution_count": null,
   "metadata": {
    "collapsed": false
   },
   "outputs": [],
   "source": [
    "from IPython.display import YouTubeVideo\n",
    "YouTubeVideo(\"MvuYATh7Y74\",width=640,height=360)"
   ]
  },
  {
   "cell_type": "markdown",
   "metadata": {},
   "source": [
    "A string of DNA is very long. No one has developed the technology to measure a single DNA (or RNA) molecule sequence in one pass. We can sequence smaller pieces (\"sequences\") of DNA, however.  The trick then becomes to figure out a way to use small-sequence technology to measure the entire big sequence (i.e., the entire DNA molecule).\n",
    "\n",
    "A solution that seems to work quite well is to take DNA (actually, a lot of DNA molecules) and cut it up into short pieces that we can read.  We can read these small pieces easily, but then we need to figure out how to put them together to get the original long DNA sequence.  This is challenging because there are many little pieces that overlap with each other, and reassembling this into the correct sequence may take quite a bit of effort.  This type of assembly is often called \"shotgun sequencing.\"\n",
    "\n",
    "![wiki shotgun sequencing](https://upload.wikimedia.org/wikipedia/commons/d/dd/Seqassemble.png)\n",
    "\n"
   ]
  },
  {
   "cell_type": "markdown",
   "metadata": {},
   "source": [
    "Whatch the following video about shotgun sequencing:"
   ]
  },
  {
   "cell_type": "code",
   "execution_count": null,
   "metadata": {
    "collapsed": false
   },
   "outputs": [],
   "source": [
    "from IPython.display import YouTubeVideo\n",
    "YouTubeVideo(\"vg7Y5EeZsjk\",width=640,height=360)"
   ]
  },
  {
   "cell_type": "markdown",
   "metadata": {
    "collapsed": true
   },
   "source": [
    "The goal of shotgun sequencing is to take all of the short reads and assemble them back into the original genome.  "
   ]
  },
  {
   "cell_type": "markdown",
   "metadata": {
    "collapsed": true
   },
   "source": [
    "**Question 1:** Describe the model that is being used in shotgun sequencing."
   ]
  },
  {
   "cell_type": "markdown",
   "metadata": {},
   "source": [
    "//put your answer here"
   ]
  },
  {
   "cell_type": "markdown",
   "metadata": {},
   "source": [
    "**Question 2:** What are some of the limitations of this model?"
   ]
  },
  {
   "cell_type": "markdown",
   "metadata": {},
   "source": [
    "//put your answer here"
   ]
  },
  {
   "cell_type": "markdown",
   "metadata": {},
   "source": [
    "**Question 3:** Write some high level pseudocode or create a flowchart that explains how you would develop your own shotgun sequencer."
   ]
  },
  {
   "cell_type": "markdown",
   "metadata": {},
   "source": [
    "//put your answer here or reference an attached file."
   ]
  },
  {
   "cell_type": "markdown",
   "metadata": {},
   "source": [
    "### Practice\n",
    "Consider the following string:"
   ]
  },
  {
   "cell_type": "code",
   "execution_count": null,
   "metadata": {
    "collapsed": false
   },
   "outputs": [],
   "source": [
    "st = 'This is a string'\n",
    "print(st)"
   ]
  },
  {
   "cell_type": "markdown",
   "metadata": {},
   "source": [
    "A string is a list of characters. You can access individual characters using brackets and an index. For example, the following prints out charicters 4 though 9:"
   ]
  },
  {
   "cell_type": "code",
   "execution_count": null,
   "metadata": {
    "collapsed": false
   },
   "outputs": [],
   "source": [
    "print(st[4:10])"
   ]
  },
  {
   "cell_type": "markdown",
   "metadata": {},
   "source": [
    "Here's a neat trick.  You can access the string using both positive and negative indexes.  A positive index counts from the beginnning of the string and a negative index counts from the end of the string. For example:"
   ]
  },
  {
   "cell_type": "code",
   "execution_count": null,
   "metadata": {
    "collapsed": false
   },
   "outputs": [],
   "source": [
    "print(st[4:-4])"
   ]
  },
  {
   "cell_type": "markdown",
   "metadata": {},
   "source": [
    "Remember indexing starts at zero (0) and the left index is \"inclusive\" while the right index is \"excluded\".  So, to print the second-to-last letter in a string, all we need to do is the following:"
   ]
  },
  {
   "cell_type": "code",
   "execution_count": null,
   "metadata": {
    "collapsed": false
   },
   "outputs": [],
   "source": [
    "print(st[len(st)-2])"
   ]
  },
  {
   "cell_type": "markdown",
   "metadata": {},
   "source": [
    "**Question 4:** Write a loop that loops over the string backwards using negative indexing. Have the loop print each character backwards.  It should look something like this:\n",
    "\n",
    "```\n",
    "g\n",
    "n\n",
    "i\n",
    "r\n",
    "t\n",
    "s\n",
    " \n",
    "a\n",
    " \n",
    "s\n",
    "i\n",
    " \n",
    "s\n",
    "i\n",
    "h\n",
    "T\n",
    "```"
   ]
  },
  {
   "cell_type": "code",
   "execution_count": null,
   "metadata": {
    "collapsed": false
   },
   "outputs": [],
   "source": [
    "#put your code here\n",
    "for c in range(0,len(st)):\n",
    "    print(st[-(c+1)])"
   ]
  },
  {
   "cell_type": "markdown",
   "metadata": {},
   "source": [
    "### Assignment wrapup"
   ]
  },
  {
   "cell_type": "markdown",
   "metadata": {},
   "source": [
    "**Question 5:** What questions do you have, if any, about any of the topics discussed in this assignment after watching the video and reading the links?"
   ]
  },
  {
   "cell_type": "markdown",
   "metadata": {},
   "source": [
    "//put your answer here"
   ]
  },
  {
   "cell_type": "markdown",
   "metadata": {},
   "source": [
    "**Question 6:** Do you have any further questions or comments about this material, or anything else that's going on in class?"
   ]
  },
  {
   "cell_type": "markdown",
   "metadata": {},
   "source": [
    "//put your answer here"
   ]
  },
  {
   "cell_type": "markdown",
   "metadata": {},
   "source": [
    "### Congratulations, now you're done!\n",
    "\n",
    "Now, you just need to submit this assignment by uploading the notebook to the course Desire2Learn web page.  Go to the \"Pre-class assignments\" folder, find the dropbox link for Day 17, and upload it there.\n",
    "\n",
    "In class we are going to have you use what you have learned to write your own assembler. See you there!"
   ]
  }
 ],
 "metadata": {
  "kernelspec": {
   "display_name": "Python 3",
   "language": "python",
   "name": "python3"
  },
  "language_info": {
   "codemirror_mode": {
    "name": "ipython",
    "version": 3
   },
   "file_extension": ".py",
   "mimetype": "text/x-python",
   "name": "python",
   "nbconvert_exporter": "python",
   "pygments_lexer": "ipython3",
   "version": "3.4.3"
  }
 },
 "nbformat": 4,
 "nbformat_minor": 0
}
