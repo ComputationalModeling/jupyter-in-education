{
 "cells": [
  {
   "cell_type": "markdown",
   "metadata": {},
   "source": [
    "# There Ain't No Party Like a Rhinovirus Party - Group Activity"
   ]
  },
  {
   "cell_type": "markdown",
   "metadata": {},
   "source": [
    "## Student Names"
   ]
  },
  {
   "cell_type": "markdown",
   "metadata": {},
   "source": [
    "Put the names of everybody in your group here!"
   ]
  },
  {
   "cell_type": "markdown",
   "metadata": {},
   "source": [
    "## Learning Goals (Why are we asking you to do this?)\n",
    "\n",
    "\n",
    "A huge part of modeling involves coming to a new situation and trying to decide what the entities and rules of behavior are. This activity will be our first chance to do that as teams, and later, as a class. And, this activity encourages all of us (instructors included) to: \n",
    "\n",
    "- try to express in words and pictures how we see a system\n",
    "- create rules for how that system behaves\n",
    "- justify our rules and representations to each other\n"
   ]
  },
  {
   "cell_type": "markdown",
   "metadata": {},
   "source": [
    "## Core Question\n",
    "\n",
    "**If there were a party, and one or more people came with a cold, who's going to wake up the next morning with the sniffles?**\n",
    "\n",
    " We want you to think about the information you think you would need to solve it, which includes making up the rules you think you would need to make up. We encourage you to describe your group's ideas using drawings, sketches, cartoons, and diagrams."
   ]
  },
  {
   "cell_type": "markdown",
   "metadata": {},
   "source": [
    "**Briefly describe your model here.** (Double-click on this cell to edit it.)\n",
    "\n"
   ]
  },
  {
   "cell_type": "markdown",
   "metadata": {},
   "source": [
    "## In case you were wondering\n",
    "\n",
    "The question is ambiguous on purpose. You have the freedom to think carefully and be imaginative. If you feel like you don't have enough information to get started, turn that weakness into a strength. *You* get to make up and establish rules about the party that help you tackle the question. When you share out, you'll be sharing what rules you've decided to lay down. And remember, everyone (including the instructors) is doing what you're doing: trying to identify, articulate, and explain their model."
   ]
  },
  {
   "cell_type": "markdown",
   "metadata": {},
   "source": [
    "# Feedback on this assignment"
   ]
  },
  {
   "cell_type": "markdown",
   "metadata": {},
   "source": [
    "**Question 1:**  What parts of this assignment did you feel worked well and/or didn't work well?"
   ]
  },
  {
   "cell_type": "markdown",
   "metadata": {},
   "source": [
    "*Put your answer here.*"
   ]
  },
  {
   "cell_type": "markdown",
   "metadata": {},
   "source": [
    "**Question 2:** What questions do you (or does your group) have after this assignment?"
   ]
  },
  {
   "cell_type": "markdown",
   "metadata": {},
   "source": [
    "*Put your answer here.*"
   ]
  },
  {
   "cell_type": "markdown",
   "metadata": {},
   "source": [
    "**Question 3:** Can you suggest any improvements we should think about?"
   ]
  },
  {
   "cell_type": "markdown",
   "metadata": {},
   "source": [
    "*Put your answer here.*"
   ]
  },
  {
   "cell_type": "markdown",
   "metadata": {},
   "source": [
    "# How to submit this assignment"
   ]
  },
  {
   "cell_type": "markdown",
   "metadata": {
    "collapsed": true
   },
   "source": [
    "Log into the course Desire2Learn website (d2l.msu.edu) and go to the \"In-class assignments\" folder.  There will be a dropbox labeled \"Day 2\".  Upload this notebook there (but not pictures of drawings, etc.).  You only have to upload one notebook per group - just make sure that everybody's name is at the top of the notebook! "
   ]
  },
  {
   "cell_type": "code",
   "execution_count": null,
   "metadata": {
    "collapsed": true
   },
   "outputs": [],
   "source": []
  }
 ],
 "metadata": {
  "kernelspec": {
   "display_name": "Python 3",
   "language": "python",
   "name": "python3"
  },
  "language_info": {
   "codemirror_mode": {
    "name": "ipython",
    "version": 3
   },
   "file_extension": ".py",
   "mimetype": "text/x-python",
   "name": "python",
   "nbconvert_exporter": "python",
   "pygments_lexer": "ipython3",
   "version": "3.5.1"
  }
 },
 "nbformat": 4,
 "nbformat_minor": 0
}
