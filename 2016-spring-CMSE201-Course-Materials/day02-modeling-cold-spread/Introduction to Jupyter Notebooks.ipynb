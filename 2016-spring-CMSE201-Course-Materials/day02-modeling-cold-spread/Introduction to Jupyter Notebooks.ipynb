{
 "cells": [
  {
   "cell_type": "markdown",
   "metadata": {},
   "source": [
    "# Introducing Jupyter Notebooks\n",
    "\n",
    "What you're looking at is a Jupyter notebook. These will be the foundation for nearly all of our computational work in the course.\n",
    "\n",
    "Scientists, engineers, mathematicians, and [all sorts of technical folks](http://nbviewer.ipython.org/gist/darribas/4121857) use [Jupyter Notebooks](http://jupyter.org) to get work done. That means the tools you're working with (including other parts of Python we'll see) are exactly the same tools being used every day in industry and research.  Take a look at [this list of interesting Jupyter notebooks](https://github.com/ipython/ipython/wiki/A-gallery-of-interesting-IPython-Notebooks) to see some neat ones!"
   ]
  },
  {
   "cell_type": "markdown",
   "metadata": {},
   "source": [
    "## What is a Jupyter Notebook?\n",
    "\n",
    "A Notebook is made up of *cells*, like this one. We'll mainly be using two types of cells:\n",
    "\n",
    "- **Markdown Cells**, which will use to write in text\n",
    "- **Python Cells**, where we can write Python code, run that code, and get results\n",
    "\n",
    "To see how cells work, try double-clicking on this text and seeing what happens."
   ]
  },
  {
   "cell_type": "markdown",
   "metadata": {},
   "source": [
    "## What can we do with Jupyter Notebooks?\n",
    "\n",
    "Lots! We can run python code, like this:"
   ]
  },
  {
   "cell_type": "code",
   "execution_count": null,
   "metadata": {
    "collapsed": false
   },
   "outputs": [],
   "source": [
    "print(\"Inspirational Astronauts\")\n",
    "\n",
    "astronauts = [\n",
    "    \"Sally Ride\",\n",
    "    \"Mae Jemison\",\n",
    "    \"Ronald McNair\",\n",
    "    \"Judith Resnick\"\n",
    "]\n",
    "\n",
    "for astronaut in astronauts:\n",
    "    print(\"Dr. %s\" % astronaut)"
   ]
  },
  {
   "cell_type": "code",
   "execution_count": null,
   "metadata": {
    "collapsed": true
   },
   "outputs": [],
   "source": []
  },
  {
   "cell_type": "code",
   "execution_count": null,
   "metadata": {
    "collapsed": true
   },
   "outputs": [],
   "source": []
  }
 ],
 "metadata": {
  "kernelspec": {
   "display_name": "Python 3",
   "language": "python",
   "name": "python3"
  },
  "language_info": {
   "codemirror_mode": {
    "name": "ipython",
    "version": 3
   },
   "file_extension": ".py",
   "mimetype": "text/x-python",
   "name": "python",
   "nbconvert_exporter": "python",
   "pygments_lexer": "ipython3",
   "version": "3.5.1"
  }
 },
 "nbformat": 4,
 "nbformat_minor": 0
}
