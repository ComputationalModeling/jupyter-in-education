{
 "cells": [
  {
   "cell_type": "code",
   "execution_count": null,
   "metadata": {
    "collapsed": true
   },
   "outputs": [],
   "source": [
    "# This is some configuration stuff for our plots.\n",
    "# You don't have to worry about trying to understand it now, but\n",
    "# if you're interested, you can read this boring reference:\n",
    "# https://ipython.org/ipython-doc/3/interactive/magics.html?highlight=magic#magic-matplotlib\n",
    "\n",
    "import matplotlib.pyplot as plt\n",
    "import numpy as np\n",
    "from IPython.display import set_matplotlib_formats\n",
    "\n",
    "# Set up matplotlib\n",
    "set_matplotlib_formats('pdf', 'svg')\n",
    "%matplotlib inline"
   ]
  },
  {
   "cell_type": "code",
   "execution_count": null,
   "metadata": {
    "collapsed": false
   },
   "outputs": [],
   "source": [
    "times = [\n",
    "    \"8:56\",\n",
    "    \"9:01\",\n",
    "    \"9:03\",\n",
    "    \"8:57\",\n",
    "    \"9:00\",\n",
    "    \"12:02\",\n",
    "    \"12:00\",\n",
    "    \"11:55\",\n",
    "    \"12:30\",\n",
    "    \"12:04\",\n",
    "    \"3:04\",\n",
    "    \"3:00\",\n",
    "    \"3:01\",\n",
    "    \"2:58\",\n",
    "    \"3:08\"\n",
    "]\n",
    "\n",
    "blood_sugar = [\n",
    "    110,\n",
    "    108,\n",
    "    113,\n",
    "    114,\n",
    "    99,\n",
    "    137,\n",
    "    154,\n",
    "    139,\n",
    "    147,\n",
    "    151,\n",
    "    120,\n",
    "    122,\n",
    "    130,\n",
    "    128,\n",
    "    121\n",
    "]"
   ]
  },
  {
   "cell_type": "code",
   "execution_count": null,
   "metadata": {
    "collapsed": false
   },
   "outputs": [],
   "source": [
    "len(blood_sugar)"
   ]
  },
  {
   "cell_type": "code",
   "execution_count": null,
   "metadata": {
    "collapsed": false
   },
   "outputs": [],
   "source": [
    "plt.plot(times, blood_sugar)"
   ]
  },
  {
   "cell_type": "code",
   "execution_count": null,
   "metadata": {
    "collapsed": false
   },
   "outputs": [],
   "source": [
    "np.datetime64('8:45')"
   ]
  },
  {
   "cell_type": "code",
   "execution_count": null,
   "metadata": {
    "collapsed": true
   },
   "outputs": [],
   "source": []
  }
 ],
 "metadata": {
  "kernelspec": {
   "display_name": "Python 3",
   "language": "python",
   "name": "python3"
  },
  "language_info": {
   "codemirror_mode": {
    "name": "ipython",
    "version": 3
   },
   "file_extension": ".py",
   "mimetype": "text/x-python",
   "name": "python",
   "nbconvert_exporter": "python",
   "pygments_lexer": "ipython3",
   "version": "3.4.3"
  }
 },
 "nbformat": 4,
 "nbformat_minor": 0
}
