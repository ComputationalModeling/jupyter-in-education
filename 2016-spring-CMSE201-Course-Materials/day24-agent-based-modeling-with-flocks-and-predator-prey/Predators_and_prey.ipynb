{
 "cells": [
  {
   "cell_type": "markdown",
   "metadata": {},
   "source": [
    "# Modeling the interaction of predators and prey"
   ]
  },
  {
   "cell_type": "markdown",
   "metadata": {},
   "source": [
    "## Names of group members"
   ]
  },
  {
   "cell_type": "markdown",
   "metadata": {},
   "source": [
    "// put your names here!"
   ]
  },
  {
   "cell_type": "markdown",
   "metadata": {},
   "source": [
    "## Goals of this assignment\n",
    "\n",
    "The main goal of this assignment is to create an agent-based model to explore the interactions between a predator species and a prey species in an isolated environment.  A second goal is to help you think about what you've learned since the beginning of this semester!  You will do this by thinking about and modeling the interactions between coyotes and deer on [North Manitou Island](https://en.wikipedia.org/wiki/North_Manitou_Island) (part of [Sleeping Bear Dunes National Lakeshore](https://en.wikipedia.org/wiki/Sleeping_Bear_Dunes_National_Lakeshore)).  Note that this is part of the last homework of the semester, and will help you get started on that homework assignment!"
   ]
  },
  {
   "cell_type": "markdown",
   "metadata": {},
   "source": [
    "## Core Question\n",
    "\n",
    "Examine the Jupyter notebook for Homework 7, which you can find on the course D2L page.  Fundamentally, the question we're trying to answer is **how do you model the interactions between two species, including outside influences such as hunters?**  You're going to do this by developing an agent-based model of the interactions between coyotes, deer, and humans, and you will vary the parameters of the model to examine how the populations change in relation to each other.  \n",
    "\n",
    "**Before you do anything else,** read through the assignment for Homework 7.  In today's class, we want you to think about the information you will need to solve this problem, including the rules that your agents must obey during the simulation.  We want you to work with your group to figure out how to solve this problem and turn in joint notes today - however, **the assignment that you turn in next week must be entirely your own work!**\n",
    "\n",
    "----\n",
    "\n",
    "## Thinking about the big picture\n",
    "\n",
    "Spend some time talking to the people at your table and work out the details of your model.  In particular, discuss:\n",
    "\n",
    "1. The information you need to have in order to implement the model.\n",
    "2. The rules that each of the agents will use to determine their actions.  Be as specific as possible!\n",
    "\n",
    "Make notes on this in the cell below, or do it using your table's whiteboard.  If you use the whiteboard, take a picture and upload it with your notebook.  **If you want a second whiteboard to work on, please ask your TA!**"
   ]
  },
  {
   "cell_type": "markdown",
   "metadata": {},
   "source": [
    "// put the notes on your model here!  (And don't forget to upload any whiteboard pictures!)"
   ]
  },
  {
   "cell_type": "markdown",
   "metadata": {},
   "source": [
    "### Before you move on:\n",
    "\n",
    "Check in with an instructor and explain what you're doing! "
   ]
  },
  {
   "cell_type": "markdown",
   "metadata": {},
   "source": [
    "----\n",
    "\n",
    "## Figuring out how to implement your model\n",
    "\n",
    "Now, use the whiteboard to create pseudo-code that shows how the code will work.  Don't worry about syntax - think about writing that code at the flowchart and function level.  Take a picture of this pseudo-code and upload it with your notebook!  In addition, think about:\n",
    "\n",
    "1. How you will start and end the simulation, and how you will evolve it from the starting state to the end.\n",
    "2. How you will visualize the state of your model as it evolves over time, including displaying the number of coyotes and deer over time!\n",
    "3. **What code have you written from previous in-class or homework assignments, or that has been provided to you at some point, that might help you out?** (Remember - reusing code is a very good idea!)"
   ]
  },
  {
   "cell_type": "markdown",
   "metadata": {
    "collapsed": true
   },
   "source": [
    "// put the notes on your model here!  (And don't forget to upload any whiteboard pictures!)"
   ]
  },
  {
   "cell_type": "markdown",
   "metadata": {},
   "source": [
    "### Before you move on:\n",
    "\n",
    "Check in with an instructor and explain what you're doing! "
   ]
  },
  {
   "cell_type": "markdown",
   "metadata": {},
   "source": [
    "----\n",
    "\n",
    "## Thinking about models\n",
    "\n",
    "How has the way that you've thought about models changed between the beginning of the semester and now?  Please give as thorough of an answer as you can!"
   ]
  },
  {
   "cell_type": "markdown",
   "metadata": {},
   "source": [
    "// put your answer here!"
   ]
  },
  {
   "cell_type": "markdown",
   "metadata": {},
   "source": [
    "## Wrapup\n",
    "\n",
    "Do you have any lingering questions that remain after this project?"
   ]
  },
  {
   "cell_type": "markdown",
   "metadata": {},
   "source": [
    "// put your answer here!"
   ]
  },
  {
   "cell_type": "markdown",
   "metadata": {},
   "source": [
    "## Turn it in!\n",
    "\n",
    "Turn this assignment in to the Day 24 dropbox in the \"in-class activities\" folder."
   ]
  }
 ],
 "metadata": {
  "kernelspec": {
   "display_name": "Python 3",
   "language": "python",
   "name": "python3"
  },
  "language_info": {
   "codemirror_mode": {
    "name": "ipython",
    "version": 3
   },
   "file_extension": ".py",
   "mimetype": "text/x-python",
   "name": "python",
   "nbconvert_exporter": "python",
   "pygments_lexer": "ipython3",
   "version": "3.5.1"
  }
 },
 "nbformat": 4,
 "nbformat_minor": 0
}
