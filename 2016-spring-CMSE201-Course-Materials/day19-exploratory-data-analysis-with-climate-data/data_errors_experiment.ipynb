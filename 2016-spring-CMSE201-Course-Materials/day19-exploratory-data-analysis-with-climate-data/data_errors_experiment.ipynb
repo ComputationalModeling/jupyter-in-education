{
 "cells": [
  {
   "cell_type": "code",
   "execution_count": null,
   "metadata": {
    "collapsed": true
   },
   "outputs": [],
   "source": [
    "import numpy as np\n",
    "%matplotlib inline\n",
    "import matplotlib.pyplot as plt"
   ]
  },
  {
   "cell_type": "code",
   "execution_count": null,
   "metadata": {
    "collapsed": false
   },
   "outputs": [],
   "source": [
    "import codecs\n",
    "#filecp = codecs.open('edc-na-cl-no3.txt',encoding='cp1252')\n",
    "#no3_data = np.loadtxt(filecp,dtype='float64',skiprows=92,unpack=True)\n",
    "\n",
    "no3_data = np.loadtxt('edc-na-cl-no3.txt',dtype='float64',skiprows=92,unpack=True)\n"
   ]
  },
  {
   "cell_type": "code",
   "execution_count": null,
   "metadata": {
    "collapsed": false
   },
   "outputs": [],
   "source": [
    "plt.plot(no3_data[1],no3_data[5],no3_data[1],no3_data[6])\n",
    "plt.xlim(50000,0)"
   ]
  },
  {
   "cell_type": "code",
   "execution_count": null,
   "metadata": {
    "collapsed": false
   },
   "outputs": [],
   "source": [
    "temp_data = np.loadtxt('edc3deuttemp2007.txt',dtype='float64',skiprows=104,unpack=True)"
   ]
  },
  {
   "cell_type": "code",
   "execution_count": null,
   "metadata": {
    "collapsed": false
   },
   "outputs": [],
   "source": [
    "plt.plot(temp_data[2],temp_data[4],no3_data[1],no3_data[5])\n",
    "plt.xlim(100000,0)"
   ]
  },
  {
   "cell_type": "code",
   "execution_count": null,
   "metadata": {
    "collapsed": false
   },
   "outputs": [],
   "source": [
    "ch4_data = np.loadtxt('domec_ch4.txt',skiprows=93,unpack=True)\n",
    "\n",
    "co2_data = np.loadtxt('domec_co2.txt',skiprows=76,unpack=True)"
   ]
  },
  {
   "cell_type": "code",
   "execution_count": null,
   "metadata": {
    "collapsed": false
   },
   "outputs": [],
   "source": [
    "#plt.plot(ch4_data[1],ch4_data[2],'r-',co2_data[1],co2_data[2],'g-',no3_data[1],no3_data[5],'b-')\n",
    "plt.plot(temp_data[2],temp_data[4],'m-')\n",
    "plt.xlim(50000,0)"
   ]
  },
  {
   "cell_type": "code",
   "execution_count": null,
   "metadata": {
    "collapsed": false
   },
   "outputs": [],
   "source": [
    "plt.plot(ch4_data[1],ch4_data[2],'r-',co2_data[1],co2_data[2],'g-',no3_data[1],no3_data[5],'b-')\n",
    "#plt.plot(temp_data[2],temp_data[4],'m-')\n",
    "plt.xlim(50000,0)"
   ]
  },
  {
   "cell_type": "code",
   "execution_count": null,
   "metadata": {
    "collapsed": false
   },
   "outputs": [],
   "source": [
    "plt.plot(temp_data[2],temp_data[4])\n",
    "plt.xlim(8.0e+5,0)\n",
    "plt.ylim(-10,10)"
   ]
  },
  {
   "cell_type": "code",
   "execution_count": null,
   "metadata": {
    "collapsed": false
   },
   "outputs": [],
   "source": [
    "global_temp = np.loadtxt('GLB.Ts.csv',skiprows=1,unpack=True,delimiter=',')"
   ]
  },
  {
   "cell_type": "code",
   "execution_count": null,
   "metadata": {
    "collapsed": false
   },
   "outputs": [],
   "source": [
    "for i in range(1,13):\n",
    "    plt.plot(global_temp[0],global_temp[i]/100.0,'r-')\n",
    "    \n",
    "plt.plot(global_temp[0],global_temp[13]/100.0,'b.')\n",
    "#plt.xlim(2000,2020)"
   ]
  },
  {
   "cell_type": "code",
   "execution_count": null,
   "metadata": {
    "collapsed": false
   },
   "outputs": [],
   "source": [
    "global_temp_3myr = np.loadtxt('bintanja2008.txt',skiprows=110,unpack=True)"
   ]
  },
  {
   "cell_type": "code",
   "execution_count": null,
   "metadata": {
    "collapsed": false
   },
   "outputs": [],
   "source": [
    "tbegin = 100\n",
    "tend = 0\n",
    "\n",
    "plt.subplot(4, 1, 1)\n",
    "plt.plot(global_temp_3myr[0],global_temp_3myr[4],'k-')\n",
    "plt.title('Data over 3 Myr')\n",
    "plt.ylabel('Sfc Temperature')\n",
    "plt.xlabel('time (kyr)')\n",
    "plt.xlim(tbegin,0)\n",
    "\n",
    "plt.subplot(4, 1, 2)\n",
    "plt.plot(global_temp_3myr[0],global_temp_3myr[3],'r-')\n",
    "plt.ylabel('deep sea temperature')\n",
    "plt.xlabel('time (kyr)')\n",
    "plt.xlim(tbegin,0)\n",
    "\n",
    "plt.subplot(4, 1, 3)\n",
    "plt.plot(global_temp_3myr[0],global_temp_3myr[7],'r-')\n",
    "plt.ylabel('ice volume')\n",
    "plt.xlabel('time (kyr)')\n",
    "plt.xlim(tbegin,0)\n",
    "\n",
    "plt.subplot(4, 1, 4)\n",
    "plt.plot(global_temp_3myr[0],-global_temp_3myr[8],'b-')\n",
    "plt.ylabel('sea level')\n",
    "plt.xlabel('time (kyr)')\n",
    "plt.xlim(tbegin,0)\n",
    "\n"
   ]
  },
  {
   "cell_type": "code",
   "execution_count": null,
   "metadata": {
    "collapsed": false
   },
   "outputs": [],
   "source": [
    "plt.plot(global_temp_3myr[4],global_temp_3myr[8],'r.')\n",
    "#plt.xlim(100,0)"
   ]
  },
  {
   "cell_type": "code",
   "execution_count": null,
   "metadata": {
    "collapsed": false
   },
   "outputs": [],
   "source": [
    "plt.plot(global_temp_3myr[0],global_temp_3myr[8],'g-')\n",
    "plt.xlim(100,0)"
   ]
  },
  {
   "cell_type": "code",
   "execution_count": null,
   "metadata": {
    "collapsed": false
   },
   "outputs": [],
   "source": [
    "foo = np.correlate(global_temp_3myr[4],global_temp_3myr[4],mode='full')"
   ]
  },
  {
   "cell_type": "code",
   "execution_count": null,
   "metadata": {
    "collapsed": false
   },
   "outputs": [],
   "source": [
    "foo.shape"
   ]
  },
  {
   "cell_type": "code",
   "execution_count": null,
   "metadata": {
    "collapsed": false
   },
   "outputs": [],
   "source": [
    "plt.plot(foo)\n",
    "plt.xlim(30000,34000)"
   ]
  },
  {
   "cell_type": "code",
   "execution_count": null,
   "metadata": {
    "collapsed": true
   },
   "outputs": [],
   "source": [
    "temperature = global_temp_3myr[4]"
   ]
  },
  {
   "cell_type": "code",
   "execution_count": null,
   "metadata": {
    "collapsed": false
   },
   "outputs": [],
   "source": []
  },
  {
   "cell_type": "code",
   "execution_count": null,
   "metadata": {
    "collapsed": true
   },
   "outputs": [],
   "source": []
  }
 ],
 "metadata": {
  "kernelspec": {
   "display_name": "Python 3",
   "language": "python",
   "name": "python3"
  },
  "language_info": {
   "codemirror_mode": {
    "name": "ipython",
    "version": 3
   },
   "file_extension": ".py",
   "mimetype": "text/x-python",
   "name": "python",
   "nbconvert_exporter": "python",
   "pygments_lexer": "ipython3",
   "version": "3.5.1"
  }
 },
 "nbformat": 4,
 "nbformat_minor": 0
}
