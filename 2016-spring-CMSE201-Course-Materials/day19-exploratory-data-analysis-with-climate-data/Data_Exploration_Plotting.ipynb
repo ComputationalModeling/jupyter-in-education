{
 "cells": [
  {
   "cell_type": "markdown",
   "metadata": {},
   "source": [
    "# Exploring data"
   ]
  },
  {
   "cell_type": "markdown",
   "metadata": {},
   "source": [
    "## Names of group members"
   ]
  },
  {
   "cell_type": "markdown",
   "metadata": {},
   "source": [
    "// Put your names here!"
   ]
  },
  {
   "cell_type": "markdown",
   "metadata": {},
   "source": [
    "## Goals of this assignment\n",
    "\n",
    "The purpose of this assignment is to explore data using visualization and statistics.  "
   ]
  },
  {
   "cell_type": "markdown",
   "metadata": {},
   "source": [
    "## Section 1\n",
    "\n",
    "The file ```datafile_1.csv``` contains a three-dimensional dataset and associated uncertainty in the data.  Read the data file into numpy arrays and visualize it using two new types of plots:\n",
    "\n",
    "1. 2D plots of the various combinations of dimensions (x-y, x-z, y-z), including error bars (using the pyplot [errorbar()](http://matplotlib.org/1.2.1/examples/pylab_examples/errorbar_demo.html) method).  Try plotting using symbols instead of lines, and make the error bars a different color than the points themselves.\n",
    "2. 3D plots of all three dimensions at the same time using the [mplot3d toolkit](http://matplotlib.org/mpl_toolkits/mplot3d/) - in particular, look at the [scatter()](http://matplotlib.org/mpl_toolkits/mplot3d/tutorial.html#scatter-plots) method. \n",
    "\n",
    "Hints:\n",
    "\n",
    "* Look at the documentation for numpy's [loadtxt()](http://docs.scipy.org/doc/numpy/reference/generated/numpy.loadtxt.html) method - in particular, what do the parameters ```skiprows```, ```comments```, and ```unpack``` do?\n",
    "* If you set up the 3D plot as described above, you can adjust the viewing angle with the command ```ax.view_init(elev=ANGLE1,azim=ANGLE2)```, where ANGLE1 and ANGLE2 are in degrees.\n",
    "\n"
   ]
  },
  {
   "cell_type": "code",
   "execution_count": null,
   "metadata": {
    "collapsed": false
   },
   "outputs": [],
   "source": [
    "# put your code here, and add additional cells as necessary.\n",
    "\n"
   ]
  },
  {
   "cell_type": "markdown",
   "metadata": {},
   "source": [
    "## Section 2\n",
    "\n",
    "Now, we're going to experiment with data exploration.  You have two data files to examine:\n",
    "\n",
    "1. ```GLB.Ts.csv```, which contains mean global air temperature from 1880 through the present day (retrieved from the [NASA GISS surface temperature website](http://data.giss.nasa.gov/gistemp/), \"Global-mean monthly, seasonal, and annual means, 1880-present\"). Each row in the data file contains the year, monthly global average, yearly global average, and seasonal global average.  See [this file](http://data.giss.nasa.gov/gistemp/tabledata_v3/GLB.Ts.txt) for clues as to what the columns mean.\n",
    "2. ```bintanja2008.txt```, which is a reconstruction of the global surface temperature, deep-sea temperature, ice volume, and relative sea level for the last **3 million years**.  This data comes from the National Oceanic and Atmospheric Administration's National Climatic Data Center website, and can be [found here](https://www.ncdc.noaa.gov/cdo/f?p=519:1:::::P1_study_id:11933).\n",
    "\n",
    "**Some important notes:**\n",
    "\n",
    "* These data files are slightly modified versions of those on the website - they have been altered to remove some characters that don't play nicely with numpy (letters with accents), and symbols for missing data have been replaced with 'NaN', or \"Not a Number\", which numpy knows to ignore.  No actual data has been changed.\n",
    "* In the file ```GLB.Ts.csv```, the temperature units are in 0.01 degrees Celsius difference from the reference period 1950-1980 - in other words, the number 40 corresponds to a difference of +0.4 degrees C compared to the average temperature between 1950 and 1980.  (This means you'll have to renormalize your values by a factor of 100.)\n",
    "* In the file ```bintanja2008.txt```, column 9, \"Global sea level relative to present,\" is in confusing units - more positive values actually correspond to *lower* sea levels than less positive values.  You may want to multiply column 9 by -1 in order to get more sensible values.\n",
    "\n",
    "There are many possible ways to examine this data.  First, read both data files into numpy arrays - it's fine to load them into a single combined multi-dimensional array if you want, or split the data into multiple arrays.  We'll then try a few things:\n",
    "\n",
    "1. For both datasets, make some plots of the raw data, particularly as a function of time.  What do you see?  How is the data \"shaped\"?  Is there periodicity?\n",
    "2. Do some simple data analysis.  What are the minimum, maximum, and mean values of the various quantities?  (You may have problems with NaN - see [nanmin](http://docs.scipy.org/doc/numpy-1.10.1/reference/generated/numpy.nanmin.html) and similar methods)\n",
    "3. If you calculate some sort of average for annual temperature in ```GLB.Ts.csv``` (say, the average temperature smoothed over 10 years), how might you characterize the yearly variability?  Try plotting the smoothed value along with the raw data and show how they differ.\n",
    "4. There are several variables in the file ```bintanja2008.txt``` - try plotting multiple variables as a function of time together using the pyplot [subplot](http://matplotlib.org/examples/pylab_examples/subplot_demo.html) functionality (and some [more complicated subplot examples](http://matplotlib.org/examples/pylab_examples/subplots_demo.html) for further help).  Do they seem to be related in some way?  (Hint: plot surface temperature, deep sea temperature, ice volume, and sea level, and zoom in from 3 Myr to ~100,000 years)\n",
    "5. What about plotting the non-time quantities in ```bintanja2008.txt``` versus each other (i.e., surface temperature vs. ice volume or sea level) - do you see correlations?\n"
   ]
  },
  {
   "cell_type": "code",
   "execution_count": null,
   "metadata": {
    "collapsed": false
   },
   "outputs": [],
   "source": [
    "# put your code here, and add additional cells as necessary.\n",
    "\n"
   ]
  },
  {
   "cell_type": "markdown",
   "metadata": {},
   "source": [
    "**In the cell below,** describe some of the conclusions that you've drawn from the data you have just explored!"
   ]
  },
  {
   "cell_type": "markdown",
   "metadata": {},
   "source": [
    "// put your thoughts here."
   ]
  },
  {
   "cell_type": "markdown",
   "metadata": {},
   "source": [
    "## Wrapup\n",
    "\n",
    "Do you have any lingering questions that remain after this project?"
   ]
  },
  {
   "cell_type": "markdown",
   "metadata": {},
   "source": [
    "// put your answers here!"
   ]
  },
  {
   "cell_type": "markdown",
   "metadata": {},
   "source": [
    "## Turn it in!\n",
    "\n",
    "Turn this assignment in to the Day 19 dropbox in the \"in-class activities\" folder."
   ]
  }
 ],
 "metadata": {
  "kernelspec": {
   "display_name": "Python 3",
   "language": "python",
   "name": "python3"
  },
  "language_info": {
   "codemirror_mode": {
    "name": "ipython",
    "version": 3
   },
   "file_extension": ".py",
   "mimetype": "text/x-python",
   "name": "python",
   "nbconvert_exporter": "python",
   "pygments_lexer": "ipython3",
   "version": "3.5.1"
  }
 },
 "nbformat": 4,
 "nbformat_minor": 0
}
