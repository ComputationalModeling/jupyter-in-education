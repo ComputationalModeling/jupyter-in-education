{
 "cells": [
  {
   "cell_type": "markdown",
   "metadata": {},
   "source": [
    "This notebook creates one of the datesets used for this week's homework, and also has some miscellaneous messing around."
   ]
  },
  {
   "cell_type": "code",
   "execution_count": null,
   "metadata": {
    "collapsed": true
   },
   "outputs": [],
   "source": [
    "%matplotlib inline\n",
    "import matplotlib.pyplot as plt\n",
    "\n",
    "import numpy as np\n",
    "\n",
    "# interesting function; semi-randomly chosen.\n",
    "x = np.arange(-4.0,14.0,0.5)\n",
    "y = 3.0*np.exp(-(x-2.0)**2/4.0) + 0.5*x\n",
    "z = np.sin(x)"
   ]
  },
  {
   "cell_type": "code",
   "execution_count": null,
   "metadata": {
    "collapsed": false
   },
   "outputs": [],
   "source": [
    "# now add noise\n",
    "\n",
    "xnew = x + 0.05*np.random.randn(x.size)\n",
    "ynew = y + 0.2*np.random.randn(y.size)\n",
    "znew = z + 0.2*np.random.randn(z.size)\n",
    "\n",
    "xerror = np.abs(0.05*np.random.randn(x.size) + 0.25)\n",
    "yerror = np.abs(0.2*np.random.randn(y.size) + 0.1)\n",
    "zerror = np.abs(0.2*np.random.randn(z.size) + 0.2)\n"
   ]
  },
  {
   "cell_type": "code",
   "execution_count": null,
   "metadata": {
    "collapsed": false
   },
   "outputs": [],
   "source": [
    "#plot just so we can see what's going on\n",
    "\n",
    "plt.plot(xnew,ynew,'bo',x,y,'r-')"
   ]
  },
  {
   "cell_type": "code",
   "execution_count": null,
   "metadata": {
    "collapsed": false
   },
   "outputs": [],
   "source": [
    "# now with error bars!\n",
    "\n",
    "plt.errorbar(xnew,ynew,yerror,xerror,'b.',ecolor='r')\n",
    "plt.plot(x,y,'g-')"
   ]
  },
  {
   "cell_type": "code",
   "execution_count": null,
   "metadata": {
    "collapsed": false
   },
   "outputs": [],
   "source": [
    "# 3d plot\n",
    "\n",
    "from mpl_toolkits.mplot3d import Axes3D\n",
    "import numpy as np\n",
    "\n",
    "fig = plt.figure()\n",
    "ax = fig.gca(projection='3d')\n",
    "ax.plot(xnew, ynew, znew,'bo')\n",
    "ax.plot(xnew, ynew, znew,'r-')\n",
    "\n",
    "ax.view_init(elev=30., azim=10)"
   ]
  },
  {
   "cell_type": "code",
   "execution_count": null,
   "metadata": {
    "collapsed": true
   },
   "outputs": [],
   "source": [
    "# creates the data file we use in the in-class assignment\n",
    "\n",
    "import csv\n",
    "cvsfile = open('datafile_1.csv','w',newline='')\n",
    "\n",
    "cvswriter = csv.writer(cvsfile,delimiter=',')\n",
    "\n",
    "cvswriter.writerow(['# content of each column:'])\n",
    "cvswriter.writerow([\"# 1. x value\"])\n",
    "cvswriter.writerow([\"# 2. x error\"])\n",
    "cvswriter.writerow([\"# 3. y value\"])\n",
    "cvswriter.writerow([\"# 4. y error\"])\n",
    "cvswriter.writerow([\"# 5. z value\"])\n",
    "cvswriter.writerow([\"# 6. z error\"])\n",
    "\n",
    "for i in range(xnew.size):\n",
    "    cvswriter.writerow([xnew[i],xerror[i],ynew[i],yerror[i],znew[i],zerror[i]])\n",
    "cvsfile.close()"
   ]
  },
  {
   "cell_type": "code",
   "execution_count": null,
   "metadata": {
    "collapsed": true
   },
   "outputs": [],
   "source": [
    "# example simple python file to write a CSV file\n",
    "\n",
    "f = open('file_of_arrays.csv','w')\n",
    "\n",
    "f.write(\"xval,yval,zval\\n\")\n",
    "for i in range(x.size):\n",
    "    line = str(x[i]) + ',' + str(y[i]) + ',' + str(z[i]) + '\\n'\n",
    "    f.write(line)\n",
    "\n",
    "f.close()"
   ]
  },
  {
   "cell_type": "code",
   "execution_count": null,
   "metadata": {
    "collapsed": false
   },
   "outputs": [],
   "source": [
    "# example to read the CSV file written above!\n",
    "\n",
    "csvfile = open('file_of_arrays.csv','r')\n",
    "csvreader = csv.reader(csvfile,delimiter=',')\n",
    "for row in csvreader:\n",
    "    print(row)"
   ]
  },
  {
   "cell_type": "code",
   "execution_count": null,
   "metadata": {
    "collapsed": false
   },
   "outputs": [],
   "source": [
    "# saves a couple of numpy arrays with keywords\n",
    "np.savez('thisfile',xarray=x,yarray=y)"
   ]
  },
  {
   "cell_type": "code",
   "execution_count": null,
   "metadata": {
    "collapsed": false
   },
   "outputs": [],
   "source": [
    "data = np.load('thisfile.npz')"
   ]
  },
  {
   "cell_type": "code",
   "execution_count": null,
   "metadata": {
    "collapsed": false
   },
   "outputs": [],
   "source": [
    "data.files"
   ]
  },
  {
   "cell_type": "code",
   "execution_count": null,
   "metadata": {
    "collapsed": false
   },
   "outputs": [],
   "source": [
    "print(data['xarray'])"
   ]
  },
  {
   "cell_type": "code",
   "execution_count": null,
   "metadata": {
    "collapsed": false
   },
   "outputs": [],
   "source": [
    "type(data)"
   ]
  },
  {
   "cell_type": "code",
   "execution_count": null,
   "metadata": {
    "collapsed": false
   },
   "outputs": [],
   "source": [
    "print(data.files)"
   ]
  }
 ],
 "metadata": {
  "kernelspec": {
   "display_name": "Python 3",
   "language": "python",
   "name": "python3"
  },
  "language_info": {
   "codemirror_mode": {
    "name": "ipython",
    "version": 3
   },
   "file_extension": ".py",
   "mimetype": "text/x-python",
   "name": "python",
   "nbconvert_exporter": "python",
   "pygments_lexer": "ipython3",
   "version": "3.5.1"
  }
 },
 "nbformat": 4,
 "nbformat_minor": 0
}
