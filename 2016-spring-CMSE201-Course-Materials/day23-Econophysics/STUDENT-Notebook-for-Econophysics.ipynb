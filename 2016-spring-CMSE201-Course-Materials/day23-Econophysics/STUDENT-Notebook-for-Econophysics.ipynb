{
 "cells": [
  {
   "cell_type": "markdown",
   "metadata": {},
   "source": [
    "# Econophysics"
   ]
  },
  {
   "cell_type": "markdown",
   "metadata": {},
   "source": [
    "## Names of group members"
   ]
  },
  {
   "cell_type": "markdown",
   "metadata": {},
   "source": [
    "// put your names here!"
   ]
  },
  {
   "cell_type": "markdown",
   "metadata": {},
   "source": [
    "## Goals of this assignment\n",
    "\n",
    "- **Witness** what we call \"emergent behavior\"; large patterns manifesting from the simple interactions of tiny agents\n",
    "- **Develop** a graphical way to show the dispersion of money across a society.\n",
    "- **Create** a working implementation of an econophysics game you'll design"
   ]
  },
  {
   "cell_type": "markdown",
   "metadata": {},
   "source": [
    "## Playing In For a Penny\n",
    "\n",
    "### Each Student Should Check Their Intuition\n",
    "\n",
    "**Before Playing**, Take 60 seconds to think. When we start the game, say with 17 agents, here's what it could look like if we plotted how much money each agent had:\n",
    "\n",
    "<img src=\"starting-money-in-for-a-penny.png\" width=400 alt=\"Starting Money for Each Agent in In For a Penny\">\n",
    "\n",
    "### Does That Plot Make Sense?"
   ]
  },
  {
   "cell_type": "markdown",
   "metadata": {},
   "source": [
    "### Each Student Should Do This Now\n",
    "\n",
    "1. What do you think will that graph look like after one round of the game?\n",
    "\t1. Why?\n",
    "2. What do you think that graph will look like after many rounds of the game?\n",
    "\t1. Why?\n",
    "3. How much money do you expect to end up with? Don't share your predictions! It'll be more fun that way ;-)"
   ]
  },
  {
   "cell_type": "markdown",
   "metadata": {},
   "source": [
    "### Put Your Answers Here\n",
    "\n",
    "`// right here`"
   ]
  },
  {
   "cell_type": "markdown",
   "metadata": {},
   "source": [
    "### Play the Game!\n",
    "\n",
    "When you are finished, report how many pennies you have in each round in the following spreadsheet (use the **\"In for a Penny\"** sheet, listed at the bottom):\n",
    "\n",
    "https://docs.google.com/spreadsheets/d/1PvX_IdjdDrKTdH6Ic5I6p_eLeveaGNkE45syjxJBgFA/edit?usp=sharing"
   ]
  },
  {
   "cell_type": "markdown",
   "metadata": {},
   "source": [
    "### Each Student Should Fill In This Plot\n",
    "\n",
    "Use Python to [create a bar plot like this](http://matplotlib.org/examples/api/barchart_demo.html) in your own individual notebook.\n",
    "\n",
    "<img src=\"blank_money_plot.png\" width=400 alt=\"A blank plot of agent_id versus money that students should fill in\">"
   ]
  },
  {
   "cell_type": "code",
   "execution_count": 1,
   "metadata": {
    "collapsed": true
   },
   "outputs": [],
   "source": [
    "# Use Python to make a filled-in plot\n",
    "#   from the data that got reported out"
   ]
  },
  {
   "cell_type": "markdown",
   "metadata": {},
   "source": [
    "## In For A Pound"
   ]
  },
  {
   "cell_type": "markdown",
   "metadata": {},
   "source": [
    "### Play the Game!\n",
    "\n",
    "When you are finished, report how many pennies you have in each round in the following spreadsheet (use the **\"In for a Pound\"** sheet, listed at the bottom):\n",
    "\n",
    "https://docs.google.com/spreadsheets/d/1PvX_IdjdDrKTdH6Ic5I6p_eLeveaGNkE45syjxJBgFA/edit?usp=sharing"
   ]
  },
  {
   "cell_type": "markdown",
   "metadata": {},
   "source": [
    "### Each Student Should Fill In This Plot\n",
    "\n",
    "Use Python to [create a bar plot like this](http://matplotlib.org/examples/api/barchart_demo.html) in your own individual notebook.\n",
    "\n",
    "<img src=\"blank_money_plot.png\" width=400 alt=\"A blank plot of agent_id versus money that students should fill in\">"
   ]
  },
  {
   "cell_type": "code",
   "execution_count": 3,
   "metadata": {
    "collapsed": true
   },
   "outputs": [],
   "source": [
    "# Use Python to make a filled-in plot\n",
    "#   from the data that got reported out"
   ]
  },
  {
   "cell_type": "markdown",
   "metadata": {},
   "source": [
    "## Finishing Up\n",
    "\n",
    "Do you have any lingering questions that remain after this project?"
   ]
  },
  {
   "cell_type": "markdown",
   "metadata": {},
   "source": [
    "// put your answers here!"
   ]
  },
  {
   "cell_type": "markdown",
   "metadata": {},
   "source": [
    "## Turn it in!\n",
    "\n",
    "Turn this assignment in to the Econophysics dropbox in the \"in-class activities\" folder."
   ]
  },
  {
   "cell_type": "code",
   "execution_count": null,
   "metadata": {
    "collapsed": true
   },
   "outputs": [],
   "source": []
  }
 ],
 "metadata": {
  "kernelspec": {
   "display_name": "Python 3",
   "language": "python",
   "name": "python3"
  },
  "language_info": {
   "codemirror_mode": {
    "name": "ipython",
    "version": 3
   },
   "file_extension": ".py",
   "mimetype": "text/x-python",
   "name": "python",
   "nbconvert_exporter": "python",
   "pygments_lexer": "ipython3",
   "version": "3.5.1"
  },
  "toc": {
   "toc_cell": false,
   "toc_number_sections": true,
   "toc_threshold": 4,
   "toc_window_display": false
  }
 },
 "nbformat": 4,
 "nbformat_minor": 0
}
