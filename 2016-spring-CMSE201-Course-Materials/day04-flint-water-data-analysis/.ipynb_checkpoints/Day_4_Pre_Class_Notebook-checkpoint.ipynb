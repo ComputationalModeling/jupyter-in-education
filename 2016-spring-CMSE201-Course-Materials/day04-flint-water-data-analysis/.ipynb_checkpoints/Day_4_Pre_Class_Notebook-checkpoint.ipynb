{
 "cells": [
  {
   "cell_type": "markdown",
   "metadata": {},
   "source": [
    "# Day 4 pre-class assignment"
   ]
  },
  {
   "cell_type": "markdown",
   "metadata": {},
   "source": [
    "## Goals for today's pre-class assignment\n",
    "\n",
    "* Use the pyplot module to make a figure\n",
    "* Use the NumPy module to manipulate arrays of data\n"
   ]
  },
  {
   "cell_type": "markdown",
   "metadata": {},
   "source": [
    "## Assignment instructions\n",
    "\n",
    "Watch the videos below, do the readings linked to below the videos, and complete the assigned programming problems.  Please get started early, and come to office hours if you have any questions!\n",
    "\n",
    "Recall that to make notebook cells that have Python code in them do something, hold down the 'shift' key and then press the 'enter' key (you'll have to do this to get the YouTube videos to run).  To edit a cell (to add answers, for example) you double-click on the cell, add your text, and then enter it by holding down 'shift' and pressing 'enter'\n",
    "\n",
    "**This assignment is due by 11:59 p.m. the day before class,** and should be uploaded into the \"Pre-class assignments\" dropbox folder for Day 4.  Submission instructions can be found at the end of the notebook."
   ]
  },
  {
   "cell_type": "markdown",
   "metadata": {},
   "source": [
    "### Some possibly useful links\n",
    "\n",
    "[IPython tutorial](http://ipython.readthedocs.org/en/stable/interactive/tutorial.html) -- this contains some *very* useful suggestions about IPython commands that allow you to get help on Python, figure out what specific variables or objects do, and many other things.\n",
    "\n",
    "[Jupyter notebook tips and tricks](http://blog.dominodatalab.com/lesser-known-ways-of-using-notebooks/) -- some clever things you can do with Jupyter notebooks\n",
    "\n",
    "[Another Jupyter notebook tip page](http://jupyter.cs.brynmawr.edu/hub/dblank/public/Jupyter%20Magics.ipynb)\n"
   ]
  },
  {
   "cell_type": "code",
   "execution_count": null,
   "metadata": {
    "collapsed": true
   },
   "outputs": [],
   "source": [
    "# Imports the functionality that we need to display YouTube videos in a Jupyter Notebook.  \n",
    "# You need to run this cell before you run ANY of the YouTube videos.\n",
    "\n",
    "from IPython.display import YouTubeVideo  "
   ]
  },
  {
   "cell_type": "code",
   "execution_count": null,
   "metadata": {
    "collapsed": false
   },
   "outputs": [],
   "source": [
    "# Display a specific YouTube video, with a given width and height.  \n",
    "# WE STRONGLY RECOMMEND that you can watch the video in full-screen mode\n",
    "# (much higher resolution) by clicking the little box in the bottom-right \n",
    "# corner of the video.\n",
    "\n",
    "YouTubeVideo(\"chBLLNBGoEE\",width=640,height=360)  # modules and pyplot"
   ]
  },
  {
   "cell_type": "markdown",
   "metadata": {},
   "source": [
    "### Useful references:\n",
    "\n",
    "* [The Python math module](https://docs.python.org/3/library/math.html) - contains a list of math commands\n",
    "* [The matplotlib website](http://matplotlib.org/index.html) - where you can find all information about the matplotlib package\n",
    "* [The matplotlib gallery](http://matplotlib.org/gallery.html) - lots of cool visualizations that can be made with matplotlib\n",
    "* [The Pyplot tutorial](http://matplotlib.org/users/pyplot_tutorial.html) - the pyplot tutorial.  A good place to get started.\n",
    "* [A summary of pyplot commands](http://matplotlib.org/api/pyplot_summary.html) - more extensive documentation on pyplot.\n"
   ]
  },
  {
   "cell_type": "markdown",
   "metadata": {},
   "source": [
    "**Question 1:** The cell below contains **four** lists of data, which correspond to two sets of X and Y values.  Use matplotlib to make a plot of these datasets.  The first pair of lists (x1, y1) should be drawn with a **thick blue dashed line** and the second pair of lists (x2, y2) should be drawn with **red diamonds**.  Make the width and height of the plot a bit wider than the region occupied by the points, so that you can see the shape that is drawn. Add axis labels to the x and y axes, with whatever text you like.  Use the [Pyplot Tutorial](http://matplotlib.org/users/pyplot_tutorial.html) for inspiration, and in particular you can find instructions on how to create different types of characters and line types in the [pyplot 'plot' command documentation](http://matplotlib.org/api/pyplot_api.html#matplotlib.pyplot.plot).\n"
   ]
  },
  {
   "cell_type": "code",
   "execution_count": null,
   "metadata": {
    "collapsed": false
   },
   "outputs": [],
   "source": [
    "# imports the pyplot module from matplotlib\n",
    "import matplotlib.pyplot as plt    \n",
    "\n",
    "# ensures that the plots made by matplotlib/pyplot show up in the notebook!\n",
    "%matplotlib inline                 \n",
    "\n",
    "x1 = [2,4,6,8,10,12,14,16,18]\n",
    "y1 = [10,8.25,7.5,7,6.5,7,7.5,8.25,10]\n",
    "\n",
    "x2 = [5, 15]\n",
    "y2 = [15, 15]\n",
    "\n",
    "# put your plotting commands here!"
   ]
  },
  {
   "cell_type": "code",
   "execution_count": null,
   "metadata": {
    "collapsed": false
   },
   "outputs": [],
   "source": [
    "# Display a specific YouTube video, with a given width and height.  \n",
    "# WE STRONGLY RECOMMEND that you can watch the video in full-screen mode\n",
    "# (much higher resolution) by clicking the little box in the bottom-right \n",
    "# corner of the video.\n",
    "\n",
    "YouTubeVideo(\"BTXyE3KLIOs\",width=640,height=360)  # numpy"
   ]
  },
  {
   "cell_type": "markdown",
   "metadata": {},
   "source": [
    "### Useful references\n",
    "\n",
    "* The [NumPy Quick Start Guide](https://docs.scipy.org/doc/numpy-dev/user/quickstart.html)\n",
    "* [An introduction to numpy](http://www.scipy-lectures.org/intro/numpy/numpy.html)\n"
   ]
  },
  {
   "cell_type": "markdown",
   "metadata": {
    "collapsed": false
   },
   "source": [
    "**Question 2:** In the cell below, import the numpy module and then create two arrays with the same number of elements in each one (pick the number of elements and the value of each yourself, making sure they're numbers and not strings!).  Then, add those arrays together and store it in a third array, and print it out.  Sort the values of the third array, and print that out again. "
   ]
  },
  {
   "cell_type": "code",
   "execution_count": null,
   "metadata": {
    "collapsed": false
   },
   "outputs": [],
   "source": [
    "# put your code here!\n"
   ]
  },
  {
   "cell_type": "markdown",
   "metadata": {
    "collapsed": false
   },
   "source": [
    "### Assignment wrapup\n",
    "\n",
    "**Question 3:** What questions do you have, if any, about any of the topics discussed in this assignment \n",
    "after watching the videos, reading the links, and trying to write the programs?"
   ]
  },
  {
   "cell_type": "markdown",
   "metadata": {
    "collapsed": false
   },
   "source": [
    "Put your answer here!"
   ]
  },
  {
   "cell_type": "markdown",
   "metadata": {
    "collapsed": true
   },
   "source": [
    "**Question 4:**  Do you have any further questions or comments about this material, or anything else that's going on in class?"
   ]
  },
  {
   "cell_type": "markdown",
   "metadata": {},
   "source": [
    "Put your answer here!"
   ]
  },
  {
   "cell_type": "markdown",
   "metadata": {},
   "source": [
    "**Question 5:**  Approximately how long did it take you to finish this assignment?"
   ]
  },
  {
   "cell_type": "markdown",
   "metadata": {},
   "source": [
    "Put your answer here!"
   ]
  },
  {
   "cell_type": "markdown",
   "metadata": {},
   "source": [
    "### Congratulations, you're done!\n",
    "\n",
    "Submit this assignment by uploading it to the course Desire2Learn web page.  Go to the \"Pre-class assignments\" folder, find the dropbox link for Day 3, and upload it there.\n",
    "\n",
    "See you in class!"
   ]
  },
  {
   "cell_type": "code",
   "execution_count": null,
   "metadata": {
    "collapsed": true
   },
   "outputs": [],
   "source": []
  }
 ],
 "metadata": {
  "kernelspec": {
   "display_name": "Python 3",
   "language": "python",
   "name": "python3"
  },
  "language_info": {
   "codemirror_mode": {
    "name": "ipython",
    "version": 3
   },
   "file_extension": ".py",
   "mimetype": "text/x-python",
   "name": "python",
   "nbconvert_exporter": "python",
   "pygments_lexer": "ipython3",
   "version": "3.5.1"
  }
 },
 "nbformat": 4,
 "nbformat_minor": 0
}
