{
 "cells": [
  {
   "cell_type": "markdown",
   "metadata": {},
   "source": [
    "# Get the Lead Out: Homework"
   ]
  },
  {
   "cell_type": "markdown",
   "metadata": {},
   "source": [
    "## Homework - Informing Government\n",
    "\n",
    "**You're going to create a letter to [send to the Governor's office](http://michigan.gov/snyder/0,4668,7-277--267869--,00.html)** based on your data anlysis here. Use the rest of this notebook (starting with the \"Your Document to the Governor's Office\") to write that letter. Consider this core question:\n",
    "\n",
    "**Did water lead levels exceed the EPA's action limits? And if they did, how can we understand how badly it exceeded the limits?**\n",
    "\n",
    "Your document should be about 3-4 paragraphs long. You're encouraged to use code and results from your in-class work in your document. And, your  should do the following:\n",
    "\n",
    "1. *State your position* on whether lead levels exceeded EPA limits. Make it clear what your investigation found.\n",
    "2. *Justify your position* with graphics and written analysis to explain why you think what you think.\n",
    "3. *Consider counterarguments*. Could someone try to use the same data to arrive at a different conclusion than yours? If they could, explain why you think that position is flawed.\n",
    "\n",
    "Remember: *This is real data.* So,\n",
    "\n",
    "- **The conclusions you draw matter.** These are Flint resident's actual living conditions.\n",
    "- You may find other results online, but you still have to do your own analysis to decide whether you agree with their results. \n",
    "- Any numerical conclusions you draw should be backed up by your code. If you say the average lead level was below EPA limits, you'll need to be able to back up that claim in your notebook either with graphical evidence or numerical evidence (calculations)."
   ]
  },
  {
   "cell_type": "markdown",
   "metadata": {},
   "source": [
    "## Your Letter to the Governor's Office"
   ]
  },
  {
   "cell_type": "code",
   "execution_count": 2,
   "metadata": {
    "collapsed": true
   },
   "outputs": [],
   "source": [
    "#   Create any Python and Markdown cells you need \n",
    "#   to write your letter, do calculations, and make figures"
   ]
  },
  {
   "cell_type": "markdown",
   "metadata": {},
   "source": [
    "# Feedback (this is required, so please do it!)"
   ]
  },
  {
   "cell_type": "markdown",
   "metadata": {},
   "source": [
    "## How far did you get on this in class?"
   ]
  },
  {
   "cell_type": "markdown",
   "metadata": {},
   "source": [
    "// Write your answer here"
   ]
  },
  {
   "cell_type": "markdown",
   "metadata": {},
   "source": [
    "## How long did you spend on the homework?"
   ]
  },
  {
   "cell_type": "markdown",
   "metadata": {},
   "source": [
    "// Write your answer here"
   ]
  },
  {
   "cell_type": "markdown",
   "metadata": {},
   "source": [
    "## What questions do you (or does your group) have after this assignment?"
   ]
  },
  {
   "cell_type": "markdown",
   "metadata": {},
   "source": [
    "// Write your answer here"
   ]
  }
 ],
 "metadata": {
  "kernelspec": {
   "display_name": "Python 3",
   "language": "python",
   "name": "python3"
  },
  "language_info": {
   "codemirror_mode": {
    "name": "ipython",
    "version": 3
   },
   "file_extension": ".py",
   "mimetype": "text/x-python",
   "name": "python",
   "nbconvert_exporter": "python",
   "pygments_lexer": "ipython3",
   "version": "3.5.1"
  }
 },
 "nbformat": 4,
 "nbformat_minor": 0
}
