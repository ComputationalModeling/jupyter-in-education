{
 "cells": [
  {
   "cell_type": "markdown",
   "metadata": {},
   "source": [
    "# Modules"
   ]
  },
  {
   "cell_type": "markdown",
   "metadata": {},
   "source": [
    "* A module is a way for python to bundle together a set of several functions and statements\n",
    "* You can then import these modules into programs and use them\n",
    "* A module is usually made of a set of tools that are used for a single type of task"
   ]
  },
  {
   "cell_type": "code",
   "execution_count": null,
   "metadata": {
    "collapsed": true
   },
   "outputs": [],
   "source": [
    "import math"
   ]
  },
  {
   "cell_type": "code",
   "execution_count": null,
   "metadata": {
    "collapsed": false
   },
   "outputs": [],
   "source": [
    "math.log10(200)"
   ]
  },
  {
   "cell_type": "code",
   "execution_count": null,
   "metadata": {
    "collapsed": false
   },
   "outputs": [],
   "source": [
    "math.pi"
   ]
  },
  {
   "cell_type": "code",
   "execution_count": null,
   "metadata": {
    "collapsed": false
   },
   "outputs": [],
   "source": [
    "math.degrees(math.pi/2.0)"
   ]
  },
  {
   "cell_type": "code",
   "execution_count": null,
   "metadata": {
    "collapsed": false
   },
   "outputs": [],
   "source": [
    "import matplotlib.pyplot as plt\n",
    "%matplotlib inline"
   ]
  },
  {
   "cell_type": "code",
   "execution_count": null,
   "metadata": {
    "collapsed": false
   },
   "outputs": [],
   "source": [
    "xvals = [0.5, 1, 2.5, 3, 3.1]\n",
    "yvals = [1,5,2,3,0]\n",
    "xvals2 = [1,2,3,4]\n",
    "yvals2 = [1,2,3,4]\n",
    "\n",
    "plt.plot(xvals,yvals,'r-',xvals2,yvals2,'b--',linewidth=3)\n",
    "plt.axis([0,4,-1,6])\n",
    "plt.title(\"clever title\")\n",
    "plt.xlabel(\"time\")\n",
    "plt.ylabel(\"some values\")\n",
    "plt.savefig(\"my_first_figure.pdf\")"
   ]
  },
  {
   "cell_type": "markdown",
   "metadata": {},
   "source": [
    "## what have we learned?\n",
    "\n",
    "* People have written all sorts of useful tools for python\n",
    "* Modules are a way to access this, by typing \"import modulename\" or a variant\n",
    "* The Python math module and matplotlib.pyplot are two examples of python modules\n",
    "* pyplot lets make and modify figures in all sorts of useful ways"
   ]
  },
  {
   "cell_type": "code",
   "execution_count": null,
   "metadata": {
    "collapsed": true
   },
   "outputs": [],
   "source": []
  }
 ],
 "metadata": {
  "kernelspec": {
   "display_name": "Python 3",
   "language": "python",
   "name": "python3"
  },
  "language_info": {
   "codemirror_mode": {
    "name": "ipython",
    "version": 3
   },
   "file_extension": ".py",
   "mimetype": "text/x-python",
   "name": "python",
   "nbconvert_exporter": "python",
   "pygments_lexer": "ipython3",
   "version": "3.5.1"
  }
 },
 "nbformat": 4,
 "nbformat_minor": 0
}
