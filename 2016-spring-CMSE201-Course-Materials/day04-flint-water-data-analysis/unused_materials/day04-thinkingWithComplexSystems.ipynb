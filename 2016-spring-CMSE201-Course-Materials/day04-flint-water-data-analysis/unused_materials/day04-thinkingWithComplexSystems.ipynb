{
 "cells": [
  {
   "cell_type": "markdown",
   "metadata": {},
   "source": [
    "# Title"
   ]
  },
  {
   "cell_type": "markdown",
   "metadata": {},
   "source": [
    "## Student Names"
   ]
  },
  {
   "cell_type": "markdown",
   "metadata": {},
   "source": []
  },
  {
   "cell_type": "markdown",
   "metadata": {},
   "source": [
    "## Learning Goals (Why are we asking you to do this?)"
   ]
  },
  {
   "cell_type": "markdown",
   "metadata": {},
   "source": []
  },
  {
   "cell_type": "markdown",
   "metadata": {},
   "source": [
    "## Core Assignment"
   ]
  },
  {
   "cell_type": "code",
   "execution_count": 13,
   "metadata": {
    "collapsed": true
   },
   "outputs": [],
   "source": [
    "# Some setup to load outside web page elements\n",
    "from IPython.display import IFrame"
   ]
  },
  {
   "cell_type": "code",
   "execution_count": 14,
   "metadata": {
    "collapsed": false
   },
   "outputs": [
    {
     "data": {
      "text/html": [
       "\n",
       "        <iframe\n",
       "            width=\"800\"\n",
       "            height=\"400\"\n",
       "            src=\"http://ncase.me/simulating/model?local=forest/0_growth&play=0&edit=1\"\n",
       "            frameborder=\"0\"\n",
       "            allowfullscreen\n",
       "        ></iframe>\n",
       "        "
      ],
      "text/plain": [
       "<IPython.lib.display.IFrame at 0x1064662b0>"
      ]
     },
     "execution_count": 14,
     "metadata": {},
     "output_type": "execute_result"
    }
   ],
   "source": [
    "# When you execute this cell, it'll reset the simulationb\n",
    "IFrame(\"http://ncase.me/simulating/model?local=forest/0_growth&play=0&edit=1\", width=800, height=400)"
   ]
  },
  {
   "cell_type": "markdown",
   "metadata": {},
   "source": [
    "## Experimenting with this simulation"
   ]
  },
  {
   "cell_type": "markdown",
   "metadata": {},
   "source": [
    "### **A Forest** With Thunderbolt & Lightning, Very Very Frightening"
   ]
  },
  {
   "cell_type": "code",
   "execution_count": 15,
   "metadata": {
    "collapsed": false
   },
   "outputs": [
    {
     "data": {
      "text/html": [
       "\n",
       "        <iframe\n",
       "            width=\"800\"\n",
       "            height=\"450\"\n",
       "            src=\"http://ncase.me/simulating/model?local=forest/1_fire&play=1&edit=1\"\n",
       "            frameborder=\"0\"\n",
       "            allowfullscreen\n",
       "        ></iframe>\n",
       "        "
      ],
      "text/plain": [
       "<IPython.lib.display.IFrame at 0x106580080>"
      ]
     },
     "execution_count": 15,
     "metadata": {},
     "output_type": "execute_result"
    }
   ],
   "source": [
    "IFrame(\"http://ncase.me/simulating/model?local=forest/1_fire&play=1&edit=1\", width=800, height=450)"
   ]
  },
  {
   "cell_type": "markdown",
   "metadata": {},
   "source": [
    "### A Forest Where You Show Trees No Mercy"
   ]
  },
  {
   "cell_type": "code",
   "execution_count": 16,
   "metadata": {
    "collapsed": false
   },
   "outputs": [
    {
     "data": {
      "text/html": [
       "\n",
       "        <iframe\n",
       "            width=\"800\"\n",
       "            height=\"450\"\n",
       "            src=\"http://ncase.me/simulating/model?local=forest/2_firebreak&edit=1&paused=1\"\n",
       "            frameborder=\"0\"\n",
       "            allowfullscreen\n",
       "        ></iframe>\n",
       "        "
      ],
      "text/plain": [
       "<IPython.lib.display.IFrame at 0x106580128>"
      ]
     },
     "execution_count": 16,
     "metadata": {},
     "output_type": "execute_result"
    }
   ],
   "source": [
    "IFrame(\"http://ncase.me/simulating/model?local=forest/2_firebreak&edit=1&paused=1\", width=800, height=450)"
   ]
  },
  {
   "cell_type": "markdown",
   "metadata": {},
   "source": [
    "## Practical Questions to Think About"
   ]
  },
  {
   "cell_type": "markdown",
   "metadata": {},
   "source": [
    "- What questions can we pose now that we have access to this thing? How do we think about thinking about things models can help us understand and questions they can help us answer?\n",
    "- How does something like this get built? Obviously someone made it. Could we make something like it? If we could access their code and copy it, is that the same thing as understanding how it works for ourselves?\n",
    "- **What's missing?**: What features does this thing not have that you'd like to see? Or, if we pose particular questions, what could we build onto this that would help us answer them better, more clearly, more easily, or more obviously?\n",
    "  - The state of the system (counts of things that live-update)\n",
    "  - How the state changes (changes in those counts? Graphs?)\n",
    "  - What else?"
   ]
  },
  {
   "cell_type": "markdown",
   "metadata": {},
   "source": [
    "## Intuition Questions to Think About\n",
    "\n",
    "1. What did you notice that agreed with your intuition? And why did your intuition make sense to you?\n",
    "2. What did you notice that surprised you, or was something you wouldn't have guessed going into this? *(It helps to be honest here. Being surprised and reflecting on our own intuitions is a great thing. People have [literally won](https://en.wikipedia.org/wiki/Elinor_Ostrom) [Nobel Prizes](https://en.wikipedia.org/wiki/Thomas_Schelling) for it.)\n",
    "3. If you want another group to see something you saw in your simulation, how would you tell them to set up their screen? What would happen if they didn't see the thing you saw happen in your simulation?\n",
    "\n",
    "## Not so fun fact\n",
    "\n",
    "To date, [Elinor Ostrom](https://en.wikipedia.org/wiki/Elinor_Ostrom) is the [only woman](http://www.nobelprize.org/nobel_prizes/lists/women.html) to have won the Nobel Prize in Economic Sciences. To put that in perspective, 1 out of 44 U.S. Presidents has been African American. [1 out of 76](http://www.wolframalpha.com/share/clip?f=d41d8cd98f00b204e9800998ecf8427ertb9fq1kdp) Nobel Laureates in Economics has been a woman."
   ]
  },
  {
   "cell_type": "markdown",
   "metadata": {},
   "source": [
    "## In case you were wondering (FAQs)"
   ]
  },
  {
   "cell_type": "markdown",
   "metadata": {},
   "source": []
  },
  {
   "cell_type": "markdown",
   "metadata": {},
   "source": [
    "# Feedback (this is required, so please do it!)"
   ]
  },
  {
   "cell_type": "markdown",
   "metadata": {},
   "source": [
    "## What parts of this assignment did you feel worked well?"
   ]
  },
  {
   "cell_type": "markdown",
   "metadata": {},
   "source": []
  },
  {
   "cell_type": "markdown",
   "metadata": {},
   "source": [
    "## What parts of this assignment didn't work as well?"
   ]
  },
  {
   "cell_type": "markdown",
   "metadata": {},
   "source": []
  },
  {
   "cell_type": "markdown",
   "metadata": {},
   "source": [
    "## What questions do you (or does your group) have after this assignment?"
   ]
  },
  {
   "cell_type": "markdown",
   "metadata": {},
   "source": []
  },
  {
   "cell_type": "markdown",
   "metadata": {},
   "source": [
    "## Can you suggest any improvements we should think about?"
   ]
  },
  {
   "cell_type": "markdown",
   "metadata": {},
   "source": []
  },
  {
   "cell_type": "markdown",
   "metadata": {},
   "source": [
    "# How to submit this assignment"
   ]
  },
  {
   "cell_type": "markdown",
   "metadata": {
    "collapsed": true
   },
   "source": []
  },
  {
   "cell_type": "markdown",
   "metadata": {},
   "source": [
    "## Want to learn more?"
   ]
  },
  {
   "cell_type": "markdown",
   "metadata": {},
   "source": []
  }
 ],
 "metadata": {
  "kernelspec": {
   "display_name": "Python 3",
   "language": "python",
   "name": "python3"
  },
  "language_info": {
   "codemirror_mode": {
    "name": "ipython",
    "version": 3
   },
   "file_extension": ".py",
   "mimetype": "text/x-python",
   "name": "python",
   "nbconvert_exporter": "python",
   "pygments_lexer": "ipython3",
   "version": "3.5.1"
  }
 },
 "nbformat": 4,
 "nbformat_minor": 0
}
