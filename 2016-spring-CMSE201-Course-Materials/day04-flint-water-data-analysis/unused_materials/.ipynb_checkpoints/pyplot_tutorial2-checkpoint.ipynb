{
 "cells": [
  {
   "cell_type": "markdown",
   "metadata": {},
   "source": [
    "# Get the Lead Out: Understanding The Water Crisis in Flint, MI"
   ]
  },
  {
   "cell_type": "markdown",
   "metadata": {},
   "source": [
    "## Student Names"
   ]
  },
  {
   "cell_type": "markdown",
   "metadata": {},
   "source": [
    "// Type them here :-)"
   ]
  },
  {
   "cell_type": "markdown",
   "metadata": {},
   "source": [
    "## Learning Goals (Why are we asking you to do this?)"
   ]
  },
  {
   "cell_type": "markdown",
   "metadata": {},
   "source": [
    "First, because data analysis is something that can and should be used for (among other things): \n",
    "\n",
    "- [improving local government][4] \n",
    "- [improving the Federal government][5], and\n",
    "- [serving humanity][3]\n",
    "\n",
    "Second, because data visualization is one of the most important parts of modeling and understanding a system. How we represent data affects everything from to [understanding poverty in the developing world][2] to [grappling with the global spread of lethal diseases][1]. We want you to be able to find things out about the models you create and use visual information to make convincing arguments. So, in this tutorial we'll learn some of the nuts and bolts of using Python to create data visualizations. When you're done, you'll be able to use the industry-standard `matplotlib` plotting package to:\n",
    "\n",
    "- **Create** plots from data (Use code to make pictures!)\n",
    "- **Modify** plots using color, size, and shape to help pull out patterns in data\n",
    "- **Combine** different sets of data into the same plot\n",
    "- **Communicate** plots by supplying axis titles, legends, and annotations\n",
    "\n",
    "[1]: http://www.ted.com/talks/hans_rosling_the_truth_about_hiv\n",
    "[2]: http://www.ted.com/talks/hans_rosling_shows_the_best_stats_you_ve_ever_seen\n",
    "[3]: http://www.datakind.org\n",
    "[4]: http://www.codeforamerica.org\n",
    "[5]: https://www.whitehouse.gov/digital/united-states-digital-service"
   ]
  },
  {
   "cell_type": "markdown",
   "metadata": {},
   "source": [
    "## In-Class Activity"
   ]
  },
  {
   "cell_type": "markdown",
   "metadata": {},
   "source": [
    "We'll be looking at the recently released [Flint Water Quality dataset](http://flintwaterstudy.org/2015/12/complete-dataset-lead-results-in-tap-water-for-271-flint-samples/). This is a dataset of nearly 300 tests run by volunteers at Virginia Tech on water samples obtained from Flint residents. The water testing method involves collecting three different bottles worth of water at timed intervals; our analysis will focus on just the first collection at each testing site. \n",
    "\n",
    "You'll be considering the following questions in the context of U.S. Environmental Protection Agency (EPA) guidelines about lead contaminants, which state:\n",
    "\n",
    "> Lead and copper are regulated by a treatment technique that requires systems to control the corrosiveness of their water. If more than 10% of tap water samples exceed the action level, water systems must take additional steps. For copper, the action level is 1.3 mg/L, and for lead is 0.015 mg/L. \n",
    ">\n",
    "> Source: (http://www.epa.gov/your-drinking-water/table-regulated-drinking-water-contaminants#seven). "
   ]
  },
  {
   "cell_type": "markdown",
   "metadata": {},
   "source": [
    "For simplicity, the data we'll consider will be two 1-dimensional numpy arrays. The code below loads the data, then creates those two numpy arrays for you to reference in your code."
   ]
  },
  {
   "cell_type": "code",
   "execution_count": 23,
   "metadata": {
    "collapsed": false
   },
   "outputs": [],
   "source": [
    "# Loading the data\n",
    "\n",
    "from IPython.display import set_matplotlib_formats\n",
    "set_matplotlib_formats('pdf', 'svg')\n",
    "import matplotlib.pyplot as plt\n",
    "import numpy as np\n",
    "import pandas\n",
    "\n",
    "flint_data = pandas.read_json(\"\"\"[{\"SampleID\":1,\"Zip Code\":48504,\"Ward\":6,\"Pb Bottle 1 (ppb) - First Draw\":0.344,\"Pb Bottle 2 (ppb) - 45 secs flushing\":0.226,\"Pb Bottle 3 (ppb) - 2 mins flushing\":0.145},{\"SampleID\":2,\"Zip Code\":48507,\"Ward\":9,\"Pb Bottle 1 (ppb) - First Draw\":8.133,\"Pb Bottle 2 (ppb) - 45 secs flushing\":10.77,\"Pb Bottle 3 (ppb) - 2 mins flushing\":2.761},{\"SampleID\":4,\"Zip Code\":48504,\"Ward\":1,\"Pb Bottle 1 (ppb) - First Draw\":1.111,\"Pb Bottle 2 (ppb) - 45 secs flushing\":0.11,\"Pb Bottle 3 (ppb) - 2 mins flushing\":0.123},{\"SampleID\":5,\"Zip Code\":48507,\"Ward\":8,\"Pb Bottle 1 (ppb) - First Draw\":8.007,\"Pb Bottle 2 (ppb) - 45 secs flushing\":7.446,\"Pb Bottle 3 (ppb) - 2 mins flushing\":3.384},{\"SampleID\":6,\"Zip Code\":48505,\"Ward\":3,\"Pb Bottle 1 (ppb) - First Draw\":1.951,\"Pb Bottle 2 (ppb) - 45 secs flushing\":0.048,\"Pb Bottle 3 (ppb) - 2 mins flushing\":0.035},{\"SampleID\":7,\"Zip Code\":48507,\"Ward\":9,\"Pb Bottle 1 (ppb) - First Draw\":7.2,\"Pb Bottle 2 (ppb) - 45 secs flushing\":1.4,\"Pb Bottle 3 (ppb) - 2 mins flushing\":0.2},{\"SampleID\":8,\"Zip Code\":48507,\"Ward\":9,\"Pb Bottle 1 (ppb) - First Draw\":40.63,\"Pb Bottle 2 (ppb) - 45 secs flushing\":9.726,\"Pb Bottle 3 (ppb) - 2 mins flushing\":6.132},{\"SampleID\":9,\"Zip Code\":48503,\"Ward\":5,\"Pb Bottle 1 (ppb) - First Draw\":1.1,\"Pb Bottle 2 (ppb) - 45 secs flushing\":2.5,\"Pb Bottle 3 (ppb) - 2 mins flushing\":0.1},{\"SampleID\":12,\"Zip Code\":48507,\"Ward\":9,\"Pb Bottle 1 (ppb) - First Draw\":10.6,\"Pb Bottle 2 (ppb) - 45 secs flushing\":1.038,\"Pb Bottle 3 (ppb) - 2 mins flushing\":1.294},{\"SampleID\":13,\"Zip Code\":48505,\"Ward\":3,\"Pb Bottle 1 (ppb) - First Draw\":6.2,\"Pb Bottle 2 (ppb) - 45 secs flushing\":4.2,\"Pb Bottle 3 (ppb) - 2 mins flushing\":2.3},{\"SampleID\":15,\"Zip Code\":48507,\"Ward\":9,\"Pb Bottle 1 (ppb) - First Draw\":4.358,\"Pb Bottle 2 (ppb) - 45 secs flushing\":0.822,\"Pb Bottle 3 (ppb) - 2 mins flushing\":0.147},{\"SampleID\":16,\"Zip Code\":48505,\"Ward\":5,\"Pb Bottle 1 (ppb) - First Draw\":24.37,\"Pb Bottle 2 (ppb) - 45 secs flushing\":8.796,\"Pb Bottle 3 (ppb) - 2 mins flushing\":4.347},{\"SampleID\":17,\"Zip Code\":48505,\"Ward\":2,\"Pb Bottle 1 (ppb) - First Draw\":6.609,\"Pb Bottle 2 (ppb) - 45 secs flushing\":5.752,\"Pb Bottle 3 (ppb) - 2 mins flushing\":1.433},{\"SampleID\":18,\"Zip Code\":48503,\"Ward\":7,\"Pb Bottle 1 (ppb) - First Draw\":4.062,\"Pb Bottle 2 (ppb) - 45 secs flushing\":1.099,\"Pb Bottle 3 (ppb) - 2 mins flushing\":1.085},{\"SampleID\":19,\"Zip Code\":48507,\"Ward\":9,\"Pb Bottle 1 (ppb) - First Draw\":2.484,\"Pb Bottle 2 (ppb) - 45 secs flushing\":0.72,\"Pb Bottle 3 (ppb) - 2 mins flushing\":0.565},{\"SampleID\":20,\"Zip Code\":48507,\"Ward\":9,\"Pb Bottle 1 (ppb) - First Draw\":0.438,\"Pb Bottle 2 (ppb) - 45 secs flushing\":1.046,\"Pb Bottle 3 (ppb) - 2 mins flushing\":0.511},{\"SampleID\":21,\"Zip Code\":48503,\"Ward\":5,\"Pb Bottle 1 (ppb) - First Draw\":1.29,\"Pb Bottle 2 (ppb) - 45 secs flushing\":0.243,\"Pb Bottle 3 (ppb) - 2 mins flushing\":0.225},{\"SampleID\":22,\"Zip Code\":48504,\"Ward\":6,\"Pb Bottle 1 (ppb) - First Draw\":0.548,\"Pb Bottle 2 (ppb) - 45 secs flushing\":0.622,\"Pb Bottle 3 (ppb) - 2 mins flushing\":0.361},{\"SampleID\":23,\"Zip Code\":48504,\"Ward\":2,\"Pb Bottle 1 (ppb) - First Draw\":3.131,\"Pb Bottle 2 (ppb) - 45 secs flushing\":0.674,\"Pb Bottle 3 (ppb) - 2 mins flushing\":0.683},{\"SampleID\":24,\"Zip Code\":48504,\"Ward\":6,\"Pb Bottle 1 (ppb) - First Draw\":120,\"Pb Bottle 2 (ppb) - 45 secs flushing\":239.7,\"Pb Bottle 3 (ppb) - 2 mins flushing\":29.71},{\"SampleID\":25,\"Zip Code\":48505,\"Ward\":1,\"Pb Bottle 1 (ppb) - First Draw\":2.911,\"Pb Bottle 2 (ppb) - 45 secs flushing\":0.406,\"Pb Bottle 3 (ppb) - 2 mins flushing\":0.237},{\"SampleID\":26,\"Zip Code\":48505,\"Ward\":5,\"Pb Bottle 1 (ppb) - First Draw\":16.52,\"Pb Bottle 2 (ppb) - 45 secs flushing\":10.26,\"Pb Bottle 3 (ppb) - 2 mins flushing\":2.762},{\"SampleID\":27,\"Zip Code\":48505,\"Ward\":1,\"Pb Bottle 1 (ppb) - First Draw\":1.984,\"Pb Bottle 2 (ppb) - 45 secs flushing\":1.13,\"Pb Bottle 3 (ppb) - 2 mins flushing\":0.712},{\"SampleID\":28,\"Zip Code\":48503,\"Ward\":7,\"Pb Bottle 1 (ppb) - First Draw\":5.367,\"Pb Bottle 2 (ppb) - 45 secs flushing\":2.474,\"Pb Bottle 3 (ppb) - 2 mins flushing\":1.616},{\"SampleID\":29,\"Zip Code\":48504,\"Ward\":2,\"Pb Bottle 1 (ppb) - First Draw\":5.5,\"Pb Bottle 2 (ppb) - 45 secs flushing\":8.4,\"Pb Bottle 3 (ppb) - 2 mins flushing\":2.4},{\"SampleID\":30,\"Zip Code\":48506,\"Ward\":4,\"Pb Bottle 1 (ppb) - First Draw\":0.639,\"Pb Bottle 2 (ppb) - 45 secs flushing\":0.223,\"Pb Bottle 3 (ppb) - 2 mins flushing\":0.194},{\"SampleID\":31,\"Zip Code\":48503,\"Ward\":7,\"Pb Bottle 1 (ppb) - First Draw\":6.087,\"Pb Bottle 2 (ppb) - 45 secs flushing\":28.87,\"Pb Bottle 3 (ppb) - 2 mins flushing\":2.13,\"Notes\":\"*house sampled twice\"},{\"SampleID\":31,\"Zip Code\":48503,\"Ward\":7,\"Pb Bottle 1 (ppb) - First Draw\":10.32,\"Pb Bottle 2 (ppb) - 45 secs flushing\":13.47,\"Pb Bottle 3 (ppb) - 2 mins flushing\":18.19,\"Notes\":\"*house sampled twice\"},{\"SampleID\":33,\"Zip Code\":48503,\"Ward\":6,\"Pb Bottle 1 (ppb) - First Draw\":66.88,\"Pb Bottle 2 (ppb) - 45 secs flushing\":2.662,\"Pb Bottle 3 (ppb) - 2 mins flushing\":2.082},{\"SampleID\":34,\"Zip Code\":48505,\"Ward\":1,\"Pb Bottle 1 (ppb) - First Draw\":20.41,\"Pb Bottle 2 (ppb) - 45 secs flushing\":3.543,\"Pb Bottle 3 (ppb) - 2 mins flushing\":2.344},{\"SampleID\":35,\"Zip Code\":48504,\"Ward\":6,\"Pb Bottle 1 (ppb) - First Draw\":109.6,\"Pb Bottle 2 (ppb) - 45 secs flushing\":80.47,\"Pb Bottle 3 (ppb) - 2 mins flushing\":94.52},{\"SampleID\":36,\"Zip Code\":48503,\"Ward\":8,\"Pb Bottle 1 (ppb) - First Draw\":5.06,\"Pb Bottle 2 (ppb) - 45 secs flushing\":3.406,\"Pb Bottle 3 (ppb) - 2 mins flushing\":4.088},{\"SampleID\":37,\"Zip Code\":48504,\"Ward\":2,\"Pb Bottle 1 (ppb) - First Draw\":2.774,\"Pb Bottle 2 (ppb) - 45 secs flushing\":0.21,\"Pb Bottle 3 (ppb) - 2 mins flushing\":0.264},{\"SampleID\":38,\"Zip Code\":48505,\"Ward\":3,\"Pb Bottle 1 (ppb) - First Draw\":4.453,\"Pb Bottle 2 (ppb) - 45 secs flushing\":3.679,\"Pb Bottle 3 (ppb) - 2 mins flushing\":3.523},{\"SampleID\":39,\"Zip Code\":48505,\"Ward\":1,\"Pb Bottle 1 (ppb) - First Draw\":0.4,\"Pb Bottle 2 (ppb) - 45 secs flushing\":0.3,\"Pb Bottle 3 (ppb) - 2 mins flushing\":0.7},{\"SampleID\":40,\"Zip Code\":48529,\"Ward\":9,\"Pb Bottle 1 (ppb) - First Draw\":0.974,\"Pb Bottle 2 (ppb) - 45 secs flushing\":0.142,\"Pb Bottle 3 (ppb) - 2 mins flushing\":0.118},{\"SampleID\":41,\"Zip Code\":48505,\"Ward\":5,\"Pb Bottle 1 (ppb) - First Draw\":3.228,\"Pb Bottle 2 (ppb) - 45 secs flushing\":2.534,\"Pb Bottle 3 (ppb) - 2 mins flushing\":2.222},{\"SampleID\":42,\"Zip Code\":48505,\"Ward\":2,\"Pb Bottle 1 (ppb) - First Draw\":12.55,\"Pb Bottle 2 (ppb) - 45 secs flushing\":4.132,\"Pb Bottle 3 (ppb) - 2 mins flushing\":0.12},{\"SampleID\":43,\"Zip Code\":48505,\"Ward\":3,\"Pb Bottle 1 (ppb) - First Draw\":0.501,\"Pb Bottle 2 (ppb) - 45 secs flushing\":0.156,\"Pb Bottle 3 (ppb) - 2 mins flushing\":15.14},{\"SampleID\":44,\"Zip Code\":48504,\"Ward\":2,\"Pb Bottle 1 (ppb) - First Draw\":2.448,\"Pb Bottle 2 (ppb) - 45 secs flushing\":0.373,\"Pb Bottle 3 (ppb) - 2 mins flushing\":0.288},{\"SampleID\":45,\"Zip Code\":48505,\"Ward\":3,\"Pb Bottle 1 (ppb) - First Draw\":5.508,\"Pb Bottle 2 (ppb) - 45 secs flushing\":5.157,\"Pb Bottle 3 (ppb) - 2 mins flushing\":2.621},{\"SampleID\":46,\"Zip Code\":48504,\"Ward\":6,\"Pb Bottle 1 (ppb) - First Draw\":1.293,\"Pb Bottle 2 (ppb) - 45 secs flushing\":0.441,\"Pb Bottle 3 (ppb) - 2 mins flushing\":0.281},{\"SampleID\":47,\"Zip Code\":48505,\"Ward\":1,\"Pb Bottle 1 (ppb) - First Draw\":4.699,\"Pb Bottle 2 (ppb) - 45 secs flushing\":1.395,\"Pb Bottle 3 (ppb) - 2 mins flushing\":0.329},{\"SampleID\":48,\"Zip Code\":48504,\"Ward\":6,\"Pb Bottle 1 (ppb) - First Draw\":6.093,\"Pb Bottle 2 (ppb) - 45 secs flushing\":2.682,\"Pb Bottle 3 (ppb) - 2 mins flushing\":1.458},{\"SampleID\":49,\"Zip Code\":48504,\"Ward\":2,\"Pb Bottle 1 (ppb) - First Draw\":0.8,\"Pb Bottle 2 (ppb) - 45 secs flushing\":0.8,\"Pb Bottle 3 (ppb) - 2 mins flushing\":0.5},{\"SampleID\":50,\"Zip Code\":48503,\"Ward\":5,\"Pb Bottle 1 (ppb) - First Draw\":1.626,\"Pb Bottle 2 (ppb) - 45 secs flushing\":1.332,\"Pb Bottle 3 (ppb) - 2 mins flushing\":0.327},{\"SampleID\":51,\"Zip Code\":48507,\"Ward\":8,\"Pb Bottle 1 (ppb) - First Draw\":2.576,\"Pb Bottle 2 (ppb) - 45 secs flushing\":2.852,\"Pb Bottle 3 (ppb) - 2 mins flushing\":1.48},{\"SampleID\":52,\"Zip Code\":48504,\"Ward\":1,\"Pb Bottle 1 (ppb) - First Draw\":2.362,\"Pb Bottle 2 (ppb) - 45 secs flushing\":0.467,\"Pb Bottle 3 (ppb) - 2 mins flushing\":0.339},{\"SampleID\":53,\"Zip Code\":48503,\"Ward\":5,\"Pb Bottle 1 (ppb) - First Draw\":1.585,\"Pb Bottle 2 (ppb) - 45 secs flushing\":0.494,\"Pb Bottle 3 (ppb) - 2 mins flushing\":1.232},{\"SampleID\":54,\"Zip Code\":48506,\"Ward\":4,\"Pb Bottle 1 (ppb) - First Draw\":3.058,\"Pb Bottle 2 (ppb) - 45 secs flushing\":1.808,\"Pb Bottle 3 (ppb) - 2 mins flushing\":1.169},{\"SampleID\":55,\"Zip Code\":48506,\"Ward\":4,\"Pb Bottle 1 (ppb) - First Draw\":2.423,\"Pb Bottle 2 (ppb) - 45 secs flushing\":0.393,\"Pb Bottle 3 (ppb) - 2 mins flushing\":0.373},{\"SampleID\":56,\"Zip Code\":48503,\"Ward\":8,\"Pb Bottle 1 (ppb) - First Draw\":30.91,\"Pb Bottle 2 (ppb) - 45 secs flushing\":42.58,\"Pb Bottle 3 (ppb) - 2 mins flushing\":44.6},{\"SampleID\":57,\"Zip Code\":48503,\"Ward\":8,\"Pb Bottle 1 (ppb) - First Draw\":4.47,\"Pb Bottle 2 (ppb) - 45 secs flushing\":3.649,\"Pb Bottle 3 (ppb) - 2 mins flushing\":1},{\"SampleID\":58,\"Zip Code\":48505,\"Ward\":1,\"Pb Bottle 1 (ppb) - First Draw\":2.172,\"Pb Bottle 2 (ppb) - 45 secs flushing\":1.76,\"Pb Bottle 3 (ppb) - 2 mins flushing\":1.44},{\"SampleID\":59,\"Zip Code\":48505,\"Ward\":3,\"Pb Bottle 1 (ppb) - First Draw\":1.8,\"Pb Bottle 2 (ppb) - 45 secs flushing\":0.5,\"Pb Bottle 3 (ppb) - 2 mins flushing\":0.2},{\"SampleID\":63,\"Zip Code\":48503,\"Ward\":5,\"Pb Bottle 1 (ppb) - First Draw\":0.965,\"Pb Bottle 2 (ppb) - 45 secs flushing\":0.166,\"Pb Bottle 3 (ppb) - 2 mins flushing\":0.319},{\"SampleID\":65,\"Zip Code\":48505,\"Ward\":1,\"Pb Bottle 1 (ppb) - First Draw\":7.636,\"Pb Bottle 2 (ppb) - 45 secs flushing\":5.206,\"Pb Bottle 3 (ppb) - 2 mins flushing\":9.239},{\"SampleID\":66,\"Zip Code\":48506,\"Ward\":3,\"Pb Bottle 1 (ppb) - First Draw\":3.158,\"Pb Bottle 2 (ppb) - 45 secs flushing\":1.948,\"Pb Bottle 3 (ppb) - 2 mins flushing\":2.802},{\"SampleID\":67,\"Zip Code\":48503,\"Ward\":7,\"Pb Bottle 1 (ppb) - First Draw\":105.3,\"Pb Bottle 2 (ppb) - 45 secs flushing\":12.84,\"Pb Bottle 3 (ppb) - 2 mins flushing\":4.534},{\"SampleID\":68,\"Zip Code\":48506,\"Ward\":3,\"Pb Bottle 1 (ppb) - First Draw\":4.476,\"Pb Bottle 2 (ppb) - 45 secs flushing\":0.355,\"Pb Bottle 3 (ppb) - 2 mins flushing\":0.334},{\"SampleID\":69,\"Zip Code\":48504,\"Ward\":1,\"Pb Bottle 1 (ppb) - First Draw\":2.828,\"Pb Bottle 2 (ppb) - 45 secs flushing\":6.694,\"Pb Bottle 3 (ppb) - 2 mins flushing\":20.99},{\"SampleID\":71,\"Zip Code\":48503,\"Ward\":5,\"Pb Bottle 1 (ppb) - First Draw\":2.481,\"Pb Bottle 2 (ppb) - 45 secs flushing\":3.86,\"Pb Bottle 3 (ppb) - 2 mins flushing\":24.64},{\"SampleID\":72,\"Zip Code\":48507,\"Ward\":5,\"Pb Bottle 1 (ppb) - First Draw\":11.52,\"Pb Bottle 2 (ppb) - 45 secs flushing\":0.288,\"Pb Bottle 3 (ppb) - 2 mins flushing\":0.215},{\"SampleID\":73,\"Zip Code\":48507,\"Ward\":8,\"Pb Bottle 1 (ppb) - First Draw\":3.784,\"Pb Bottle 2 (ppb) - 45 secs flushing\":0.292,\"Pb Bottle 3 (ppb) - 2 mins flushing\":0.258},{\"SampleID\":74,\"Zip Code\":48503,\"Ward\":5,\"Pb Bottle 1 (ppb) - First Draw\":1.344,\"Pb Bottle 2 (ppb) - 45 secs flushing\":0.729,\"Pb Bottle 3 (ppb) - 2 mins flushing\":1.226},{\"SampleID\":75,\"Zip Code\":48504,\"Ward\":6,\"Pb Bottle 1 (ppb) - First Draw\":11.93,\"Pb Bottle 2 (ppb) - 45 secs flushing\":9.645,\"Pb Bottle 3 (ppb) - 2 mins flushing\":3.514},{\"SampleID\":76,\"Zip Code\":48507,\"Ward\":9,\"Pb Bottle 1 (ppb) - First Draw\":10.96,\"Pb Bottle 2 (ppb) - 45 secs flushing\":7.744,\"Pb Bottle 3 (ppb) - 2 mins flushing\":4.16},{\"SampleID\":77,\"Zip Code\":48504,\"Ward\":6,\"Pb Bottle 1 (ppb) - First Draw\":3.341,\"Pb Bottle 2 (ppb) - 45 secs flushing\":0.555,\"Pb Bottle 3 (ppb) - 2 mins flushing\":0.917},{\"SampleID\":78,\"Zip Code\":48503,\"Ward\":5,\"Pb Bottle 1 (ppb) - First Draw\":1.229,\"Pb Bottle 2 (ppb) - 45 secs flushing\":1.192,\"Pb Bottle 3 (ppb) - 2 mins flushing\":0.218},{\"SampleID\":79,\"Zip Code\":48503,\"Ward\":6,\"Pb Bottle 1 (ppb) - First Draw\":6.3,\"Pb Bottle 2 (ppb) - 45 secs flushing\":1.1,\"Pb Bottle 3 (ppb) - 2 mins flushing\":0.3,\"Notes\":\"*house sampled twice\"},{\"SampleID\":79,\"Zip Code\":48503,\"Ward\":6,\"Pb Bottle 1 (ppb) - First Draw\":5.153,\"Pb Bottle 2 (ppb) - 45 secs flushing\":0.385,\"Pb Bottle 3 (ppb) - 2 mins flushing\":0.322,\"Notes\":\"*house sampled twice\"},{\"SampleID\":80,\"Zip Code\":48504,\"Ward\":6,\"Pb Bottle 1 (ppb) - First Draw\":6.054,\"Pb Bottle 2 (ppb) - 45 secs flushing\":0.927,\"Pb Bottle 3 (ppb) - 2 mins flushing\":0.676},{\"SampleID\":82,\"Zip Code\":48504,\"Ward\":2,\"Pb Bottle 1 (ppb) - First Draw\":31.14,\"Pb Bottle 2 (ppb) - 45 secs flushing\":4.73,\"Pb Bottle 3 (ppb) - 2 mins flushing\":3.188},{\"SampleID\":83,\"Zip Code\":48504,\"Ward\":6,\"Pb Bottle 1 (ppb) - First Draw\":102.7,\"Pb Bottle 2 (ppb) - 45 secs flushing\":9.894,\"Pb Bottle 3 (ppb) - 2 mins flushing\":3.133},{\"SampleID\":84,\"Zip Code\":48504,\"Ward\":2,\"Pb Bottle 1 (ppb) - First Draw\":1.38,\"Pb Bottle 2 (ppb) - 45 secs flushing\":3.734,\"Pb Bottle 3 (ppb) - 2 mins flushing\":0.524},{\"SampleID\":85,\"Zip Code\":48505,\"Ward\":3,\"Pb Bottle 1 (ppb) - First Draw\":1.132,\"Pb Bottle 2 (ppb) - 45 secs flushing\":2.17,\"Pb Bottle 3 (ppb) - 2 mins flushing\":0.465},{\"SampleID\":87,\"Zip Code\":48507,\"Ward\":9,\"Pb Bottle 1 (ppb) - First Draw\":3.232,\"Pb Bottle 2 (ppb) - 45 secs flushing\":2.989,\"Pb Bottle 3 (ppb) - 2 mins flushing\":1.927},{\"SampleID\":88,\"Zip Code\":48532,\"Ward\":8,\"Pb Bottle 1 (ppb) - First Draw\":0.507,\"Pb Bottle 2 (ppb) - 45 secs flushing\":2.315,\"Pb Bottle 3 (ppb) - 2 mins flushing\":0.231},{\"SampleID\":90,\"Zip Code\":48506,\"Ward\":4,\"Pb Bottle 1 (ppb) - First Draw\":8.561,\"Pb Bottle 2 (ppb) - 45 secs flushing\":5.141,\"Pb Bottle 3 (ppb) - 2 mins flushing\":4.724},{\"SampleID\":91,\"Zip Code\":48505,\"Ward\":3,\"Pb Bottle 1 (ppb) - First Draw\":9.997,\"Pb Bottle 2 (ppb) - 45 secs flushing\":0.983,\"Pb Bottle 3 (ppb) - 2 mins flushing\":0.611},{\"SampleID\":92,\"Zip Code\":48504,\"Ward\":1,\"Pb Bottle 1 (ppb) - First Draw\":4.152,\"Pb Bottle 2 (ppb) - 45 secs flushing\":0.758,\"Pb Bottle 3 (ppb) - 2 mins flushing\":0.433},{\"SampleID\":93,\"Zip Code\":48504,\"Ward\":2,\"Pb Bottle 1 (ppb) - First Draw\":75.82,\"Pb Bottle 2 (ppb) - 45 secs flushing\":11.65,\"Pb Bottle 3 (ppb) - 2 mins flushing\":3.942},{\"SampleID\":95,\"Zip Code\":48506,\"Ward\":4,\"Pb Bottle 1 (ppb) - First Draw\":138.8,\"Pb Bottle 2 (ppb) - 45 secs flushing\":2.745,\"Pb Bottle 3 (ppb) - 2 mins flushing\":0.797},{\"SampleID\":96,\"Zip Code\":48507,\"Ward\":9,\"Pb Bottle 1 (ppb) - First Draw\":0.8,\"Pb Bottle 2 (ppb) - 45 secs flushing\":0.2,\"Pb Bottle 3 (ppb) - 2 mins flushing\":0.2},{\"SampleID\":97,\"Zip Code\":48504,\"Ward\":2,\"Pb Bottle 1 (ppb) - First Draw\":7.244,\"Pb Bottle 2 (ppb) - 45 secs flushing\":1051,\"Pb Bottle 3 (ppb) - 2 mins flushing\":1.328},{\"SampleID\":98,\"Zip Code\":48506,\"Ward\":3,\"Pb Bottle 1 (ppb) - First Draw\":1.621,\"Pb Bottle 2 (ppb) - 45 secs flushing\":0.3,\"Pb Bottle 3 (ppb) - 2 mins flushing\":0.238},{\"SampleID\":99,\"Zip Code\":48505,\"Ward\":1,\"Pb Bottle 1 (ppb) - First Draw\":1.032,\"Pb Bottle 2 (ppb) - 45 secs flushing\":0.363,\"Pb Bottle 3 (ppb) - 2 mins flushing\":0.216},{\"SampleID\":100,\"Zip Code\":48504,\"Ward\":2,\"Pb Bottle 1 (ppb) - First Draw\":0.866,\"Pb Bottle 2 (ppb) - 45 secs flushing\":0.292,\"Pb Bottle 3 (ppb) - 2 mins flushing\":0.269},{\"SampleID\":101,\"Zip Code\":48504,\"Ward\":2,\"Pb Bottle 1 (ppb) - First Draw\":2.525,\"Pb Bottle 2 (ppb) - 45 secs flushing\":0.59,\"Pb Bottle 3 (ppb) - 2 mins flushing\":0.438},{\"SampleID\":102,\"Zip Code\":48505,\"Ward\":5,\"Pb Bottle 1 (ppb) - First Draw\":9.408,\"Pb Bottle 2 (ppb) - 45 secs flushing\":4.444,\"Pb Bottle 3 (ppb) - 2 mins flushing\":3.935},{\"SampleID\":103,\"Zip Code\":48505,\"Ward\":0,\"Pb Bottle 1 (ppb) - First Draw\":0.739,\"Pb Bottle 2 (ppb) - 45 secs flushing\":4.883,\"Pb Bottle 3 (ppb) - 2 mins flushing\":0.953},{\"SampleID\":104,\"Zip Code\":48505,\"Ward\":1,\"Pb Bottle 1 (ppb) - First Draw\":0.9,\"Pb Bottle 2 (ppb) - 45 secs flushing\":0.2,\"Pb Bottle 3 (ppb) - 2 mins flushing\":0.1},{\"SampleID\":105,\"Zip Code\":48504,\"Ward\":2,\"Pb Bottle 1 (ppb) - First Draw\":1.403,\"Pb Bottle 2 (ppb) - 45 secs flushing\":0.142,\"Pb Bottle 3 (ppb) - 2 mins flushing\":0.121},{\"SampleID\":106,\"Zip Code\":48503,\"Ward\":8,\"Pb Bottle 1 (ppb) - First Draw\":5.655,\"Pb Bottle 2 (ppb) - 45 secs flushing\":5.882,\"Pb Bottle 3 (ppb) - 2 mins flushing\":10.66},{\"SampleID\":107,\"Zip Code\":48505,\"Ward\":2,\"Pb Bottle 1 (ppb) - First Draw\":31.06,\"Pb Bottle 2 (ppb) - 45 secs flushing\":8.578,\"Pb Bottle 3 (ppb) - 2 mins flushing\":3.176},{\"SampleID\":108,\"Zip Code\":48506,\"Ward\":4,\"Pb Bottle 1 (ppb) - First Draw\":1.469,\"Pb Bottle 2 (ppb) - 45 secs flushing\":0.291,\"Pb Bottle 3 (ppb) - 2 mins flushing\":0.25},{\"SampleID\":109,\"Zip Code\":48505,\"Ward\":1,\"Pb Bottle 1 (ppb) - First Draw\":23.85,\"Pb Bottle 2 (ppb) - 45 secs flushing\":2.301,\"Pb Bottle 3 (ppb) - 2 mins flushing\":1.62},{\"SampleID\":110,\"Zip Code\":48505,\"Ward\":2,\"Pb Bottle 1 (ppb) - First Draw\":9.766,\"Pb Bottle 2 (ppb) - 45 secs flushing\":11.13,\"Pb Bottle 3 (ppb) - 2 mins flushing\":7.144},{\"SampleID\":111,\"Zip Code\":48505,\"Ward\":1,\"Pb Bottle 1 (ppb) - First Draw\":4.69,\"Pb Bottle 2 (ppb) - 45 secs flushing\":0.953,\"Pb Bottle 3 (ppb) - 2 mins flushing\":0.929},{\"SampleID\":112,\"Zip Code\":48505,\"Ward\":3,\"Pb Bottle 1 (ppb) - First Draw\":4.066,\"Pb Bottle 2 (ppb) - 45 secs flushing\":5.894,\"Pb Bottle 3 (ppb) - 2 mins flushing\":4.76},{\"SampleID\":113,\"Zip Code\":48505,\"Ward\":1,\"Pb Bottle 1 (ppb) - First Draw\":0.846,\"Pb Bottle 2 (ppb) - 45 secs flushing\":0.455,\"Pb Bottle 3 (ppb) - 2 mins flushing\":0.366},{\"SampleID\":114,\"Zip Code\":48505,\"Ward\":1,\"Pb Bottle 1 (ppb) - First Draw\":2.054,\"Pb Bottle 2 (ppb) - 45 secs flushing\":3.978,\"Pb Bottle 3 (ppb) - 2 mins flushing\":0.355},{\"SampleID\":115,\"Zip Code\":48506,\"Ward\":7,\"Pb Bottle 1 (ppb) - First Draw\":3.744,\"Pb Bottle 2 (ppb) - 45 secs flushing\":5.592,\"Pb Bottle 3 (ppb) - 2 mins flushing\":2.476},{\"SampleID\":116,\"Zip Code\":48507,\"Ward\":9,\"Pb Bottle 1 (ppb) - First Draw\":12.9,\"Pb Bottle 2 (ppb) - 45 secs flushing\":2.202,\"Pb Bottle 3 (ppb) - 2 mins flushing\":1.667},{\"SampleID\":117,\"Zip Code\":48505,\"Ward\":1,\"Pb Bottle 1 (ppb) - First Draw\":0.543,\"Pb Bottle 2 (ppb) - 45 secs flushing\":0.183,\"Pb Bottle 3 (ppb) - 2 mins flushing\":0.162},{\"SampleID\":118,\"Zip Code\":48503,\"Ward\":7,\"Pb Bottle 1 (ppb) - First Draw\":6.877,\"Pb Bottle 2 (ppb) - 45 secs flushing\":2.984,\"Pb Bottle 3 (ppb) - 2 mins flushing\":2.201},{\"SampleID\":119,\"Zip Code\":48505,\"Ward\":1,\"Pb Bottle 1 (ppb) - First Draw\":0.552,\"Pb Bottle 2 (ppb) - 45 secs flushing\":0.19,\"Pb Bottle 3 (ppb) - 2 mins flushing\":0.205},{\"SampleID\":121,\"Zip Code\":48506,\"Ward\":3,\"Pb Bottle 1 (ppb) - First Draw\":59,\"Pb Bottle 2 (ppb) - 45 secs flushing\":2.9,\"Pb Bottle 3 (ppb) - 2 mins flushing\":0.5},{\"SampleID\":122,\"Zip Code\":48506,\"Ward\":4,\"Pb Bottle 1 (ppb) - First Draw\":0.349,\"Pb Bottle 2 (ppb) - 45 secs flushing\":0.13,\"Pb Bottle 3 (ppb) - 2 mins flushing\":0.131},{\"SampleID\":123,\"Zip Code\":48506,\"Ward\":4,\"Pb Bottle 1 (ppb) - First Draw\":4.764,\"Pb Bottle 2 (ppb) - 45 secs flushing\":1.388,\"Pb Bottle 3 (ppb) - 2 mins flushing\":1.06},{\"SampleID\":124,\"Zip Code\":48506,\"Ward\":4,\"Pb Bottle 1 (ppb) - First Draw\":0.832,\"Pb Bottle 2 (ppb) - 45 secs flushing\":0.284,\"Pb Bottle 3 (ppb) - 2 mins flushing\":0.214},{\"SampleID\":125,\"Zip Code\":48506,\"Ward\":4,\"Pb Bottle 1 (ppb) - First Draw\":1.224,\"Pb Bottle 2 (ppb) - 45 secs flushing\":0.568,\"Pb Bottle 3 (ppb) - 2 mins flushing\":0.465},{\"SampleID\":126,\"Zip Code\":48507,\"Ward\":9,\"Pb Bottle 1 (ppb) - First Draw\":15.9,\"Pb Bottle 2 (ppb) - 45 secs flushing\":3.7,\"Pb Bottle 3 (ppb) - 2 mins flushing\":2.2},{\"SampleID\":127,\"Zip Code\":48506,\"Ward\":4,\"Pb Bottle 1 (ppb) - First Draw\":5.667,\"Pb Bottle 2 (ppb) - 45 secs flushing\":1.405,\"Pb Bottle 3 (ppb) - 2 mins flushing\":0.896},{\"SampleID\":128,\"Zip Code\":48506,\"Ward\":4,\"Pb Bottle 1 (ppb) - First Draw\":3.564,\"Pb Bottle 2 (ppb) - 45 secs flushing\":2.767,\"Pb Bottle 3 (ppb) - 2 mins flushing\":2.127},{\"SampleID\":129,\"Zip Code\":48506,\"Ward\":4,\"Pb Bottle 1 (ppb) - First Draw\":0.475,\"Pb Bottle 2 (ppb) - 45 secs flushing\":0.2,\"Pb Bottle 3 (ppb) - 2 mins flushing\":0.268},{\"SampleID\":130,\"Zip Code\":48507,\"Ward\":9,\"Pb Bottle 1 (ppb) - First Draw\":5.3,\"Pb Bottle 2 (ppb) - 45 secs flushing\":0.5,\"Pb Bottle 3 (ppb) - 2 mins flushing\":0.2},{\"SampleID\":131,\"Zip Code\":48506,\"Ward\":4,\"Pb Bottle 1 (ppb) - First Draw\":1.166,\"Pb Bottle 2 (ppb) - 45 secs flushing\":0.736,\"Pb Bottle 3 (ppb) - 2 mins flushing\":0.269},{\"SampleID\":132,\"Zip Code\":48506,\"Ward\":4,\"Pb Bottle 1 (ppb) - First Draw\":0.684,\"Pb Bottle 2 (ppb) - 45 secs flushing\":0.306,\"Pb Bottle 3 (ppb) - 2 mins flushing\":0.094},{\"SampleID\":133,\"Zip Code\":48503,\"Ward\":8,\"Pb Bottle 1 (ppb) - First Draw\":6.347,\"Pb Bottle 2 (ppb) - 45 secs flushing\":1.724,\"Pb Bottle 3 (ppb) - 2 mins flushing\":0.678},{\"SampleID\":134,\"Zip Code\":48507,\"Ward\":9,\"Pb Bottle 1 (ppb) - First Draw\":10.56,\"Pb Bottle 2 (ppb) - 45 secs flushing\":5.672,\"Pb Bottle 3 (ppb) - 2 mins flushing\":4.813},{\"SampleID\":135,\"Zip Code\":48502,\"Ward\":5,\"Pb Bottle 1 (ppb) - First Draw\":2.273,\"Pb Bottle 2 (ppb) - 45 secs flushing\":2.808,\"Pb Bottle 3 (ppb) - 2 mins flushing\":3.048},{\"SampleID\":136,\"Zip Code\":48505,\"Ward\":1,\"Pb Bottle 1 (ppb) - First Draw\":1.571,\"Pb Bottle 2 (ppb) - 45 secs flushing\":1.265,\"Pb Bottle 3 (ppb) - 2 mins flushing\":0.316},{\"SampleID\":137,\"Zip Code\":48503,\"Ward\":8,\"Pb Bottle 1 (ppb) - First Draw\":5.402,\"Pb Bottle 2 (ppb) - 45 secs flushing\":4.196,\"Pb Bottle 3 (ppb) - 2 mins flushing\":1.945},{\"SampleID\":138,\"Zip Code\":48504,\"Ward\":6,\"Pb Bottle 1 (ppb) - First Draw\":43.19,\"Pb Bottle 2 (ppb) - 45 secs flushing\":7.688,\"Pb Bottle 3 (ppb) - 2 mins flushing\":4.39},{\"SampleID\":139,\"Zip Code\":48503,\"Ward\":8,\"Pb Bottle 1 (ppb) - First Draw\":1.492,\"Pb Bottle 2 (ppb) - 45 secs flushing\":1.409,\"Pb Bottle 3 (ppb) - 2 mins flushing\":0.378},{\"SampleID\":140,\"Zip Code\":48503,\"Ward\":5,\"Pb Bottle 1 (ppb) - First Draw\":66.24,\"Pb Bottle 2 (ppb) - 45 secs flushing\":17.75,\"Pb Bottle 3 (ppb) - 2 mins flushing\":8.815},{\"SampleID\":141,\"Zip Code\":48505,\"Ward\":1,\"Pb Bottle 1 (ppb) - First Draw\":1.799,\"Pb Bottle 2 (ppb) - 45 secs flushing\":0.032,\"Pb Bottle 3 (ppb) - 2 mins flushing\":0.031},{\"SampleID\":142,\"Zip Code\":48503,\"Ward\":8,\"Pb Bottle 1 (ppb) - First Draw\":1.861,\"Pb Bottle 2 (ppb) - 45 secs flushing\":1.355,\"Pb Bottle 3 (ppb) - 2 mins flushing\":0.64},{\"SampleID\":143,\"Zip Code\":48503,\"Ward\":8,\"Pb Bottle 1 (ppb) - First Draw\":2.672,\"Pb Bottle 2 (ppb) - 45 secs flushing\":2.001,\"Pb Bottle 3 (ppb) - 2 mins flushing\":1.094},{\"SampleID\":144,\"Zip Code\":48505,\"Ward\":1,\"Pb Bottle 1 (ppb) - First Draw\":3.741,\"Pb Bottle 2 (ppb) - 45 secs flushing\":1.211,\"Pb Bottle 3 (ppb) - 2 mins flushing\":0.258},{\"SampleID\":145,\"Zip Code\":48506,\"Ward\":4,\"Pb Bottle 1 (ppb) - First Draw\":1.934,\"Pb Bottle 2 (ppb) - 45 secs flushing\":0.374,\"Pb Bottle 3 (ppb) - 2 mins flushing\":0.424},{\"SampleID\":146,\"Zip Code\":48506,\"Ward\":4,\"Pb Bottle 1 (ppb) - First Draw\":27.05,\"Pb Bottle 2 (ppb) - 45 secs flushing\":0.902,\"Pb Bottle 3 (ppb) - 2 mins flushing\":0.61},{\"SampleID\":147,\"Zip Code\":48506,\"Ward\":4,\"Pb Bottle 1 (ppb) - First Draw\":1.174,\"Pb Bottle 2 (ppb) - 45 secs flushing\":0.291,\"Pb Bottle 3 (ppb) - 2 mins flushing\":4.055},{\"SampleID\":148,\"Zip Code\":48507,\"Ward\":9,\"Pb Bottle 1 (ppb) - First Draw\":2.325,\"Pb Bottle 2 (ppb) - 45 secs flushing\":1.099,\"Pb Bottle 3 (ppb) - 2 mins flushing\":0.466},{\"SampleID\":149,\"Zip Code\":48506,\"Ward\":4,\"Pb Bottle 1 (ppb) - First Draw\":1.966,\"Pb Bottle 2 (ppb) - 45 secs flushing\":0.253,\"Pb Bottle 3 (ppb) - 2 mins flushing\":0.201},{\"SampleID\":150,\"Zip Code\":48506,\"Ward\":4,\"Pb Bottle 1 (ppb) - First Draw\":1.959,\"Pb Bottle 2 (ppb) - 45 secs flushing\":0.438,\"Pb Bottle 3 (ppb) - 2 mins flushing\":0.448},{\"SampleID\":151,\"Zip Code\":48506,\"Ward\":4,\"Pb Bottle 1 (ppb) - First Draw\":0.823,\"Pb Bottle 2 (ppb) - 45 secs flushing\":1.881,\"Pb Bottle 3 (ppb) - 2 mins flushing\":0.412},{\"SampleID\":152,\"Zip Code\":48506,\"Ward\":4,\"Pb Bottle 1 (ppb) - First Draw\":11.2,\"Pb Bottle 2 (ppb) - 45 secs flushing\":7.553,\"Pb Bottle 3 (ppb) - 2 mins flushing\":12.21},{\"SampleID\":153,\"Zip Code\":48504,\"Ward\":2,\"Pb Bottle 1 (ppb) - First Draw\":5.668,\"Pb Bottle 2 (ppb) - 45 secs flushing\":3.341,\"Pb Bottle 3 (ppb) - 2 mins flushing\":3.268},{\"SampleID\":154,\"Zip Code\":48506,\"Ward\":4,\"Pb Bottle 1 (ppb) - First Draw\":6.261,\"Pb Bottle 2 (ppb) - 45 secs flushing\":1.316,\"Pb Bottle 3 (ppb) - 2 mins flushing\":0.5},{\"SampleID\":155,\"Zip Code\":48506,\"Ward\":4,\"Pb Bottle 1 (ppb) - First Draw\":4.797,\"Pb Bottle 2 (ppb) - 45 secs flushing\":1.594,\"Pb Bottle 3 (ppb) - 2 mins flushing\":1.264},{\"SampleID\":156,\"Zip Code\":48506,\"Ward\":4,\"Pb Bottle 1 (ppb) - First Draw\":0.64,\"Pb Bottle 2 (ppb) - 45 secs flushing\":0.905,\"Pb Bottle 3 (ppb) - 2 mins flushing\":0.151},{\"SampleID\":158,\"Zip Code\":48507,\"Ward\":9,\"Pb Bottle 1 (ppb) - First Draw\":8.713,\"Pb Bottle 2 (ppb) - 45 secs flushing\":2.799,\"Pb Bottle 3 (ppb) - 2 mins flushing\":50.97},{\"SampleID\":159,\"Zip Code\":48507,\"Ward\":9,\"Pb Bottle 1 (ppb) - First Draw\":2.544,\"Pb Bottle 2 (ppb) - 45 secs flushing\":1.099,\"Pb Bottle 3 (ppb) - 2 mins flushing\":0.498},{\"SampleID\":161,\"Zip Code\":48507,\"Ward\":9,\"Pb Bottle 1 (ppb) - First Draw\":0.41,\"Pb Bottle 2 (ppb) - 45 secs flushing\":0.096,\"Pb Bottle 3 (ppb) - 2 mins flushing\":0.116},{\"SampleID\":162,\"Zip Code\":48503,\"Ward\":7,\"Pb Bottle 1 (ppb) - First Draw\":32.85,\"Pb Bottle 2 (ppb) - 45 secs flushing\":35.76,\"Pb Bottle 3 (ppb) - 2 mins flushing\":9.103},{\"SampleID\":163,\"Zip Code\":48503,\"Ward\":7,\"Pb Bottle 1 (ppb) - First Draw\":12.87,\"Pb Bottle 2 (ppb) - 45 secs flushing\":14.87,\"Pb Bottle 3 (ppb) - 2 mins flushing\":6.326},{\"SampleID\":164,\"Zip Code\":48503,\"Ward\":8,\"Pb Bottle 1 (ppb) - First Draw\":38.02,\"Pb Bottle 2 (ppb) - 45 secs flushing\":38.7,\"Pb Bottle 3 (ppb) - 2 mins flushing\":38.94},{\"SampleID\":165,\"Zip Code\":48507,\"Ward\":9,\"Pb Bottle 1 (ppb) - First Draw\":2.435,\"Pb Bottle 2 (ppb) - 45 secs flushing\":8.183,\"Pb Bottle 3 (ppb) - 2 mins flushing\":1.296},{\"SampleID\":166,\"Zip Code\":48507,\"Ward\":9,\"Pb Bottle 1 (ppb) - First Draw\":2.997,\"Pb Bottle 2 (ppb) - 45 secs flushing\":1.867,\"Pb Bottle 3 (ppb) - 2 mins flushing\":1.512},{\"SampleID\":167,\"Zip Code\":48507,\"Ward\":9,\"Pb Bottle 1 (ppb) - First Draw\":11,\"Pb Bottle 2 (ppb) - 45 secs flushing\":10.53,\"Pb Bottle 3 (ppb) - 2 mins flushing\":8.688},{\"SampleID\":168,\"Zip Code\":48507,\"Ward\":9,\"Pb Bottle 1 (ppb) - First Draw\":6.219,\"Pb Bottle 2 (ppb) - 45 secs flushing\":12.33,\"Pb Bottle 3 (ppb) - 2 mins flushing\":4.202},{\"SampleID\":169,\"Zip Code\":48503,\"Ward\":8,\"Pb Bottle 1 (ppb) - First Draw\":8.8,\"Pb Bottle 2 (ppb) - 45 secs flushing\":3.1,\"Pb Bottle 3 (ppb) - 2 mins flushing\":4.5},{\"SampleID\":170,\"Zip Code\":48504,\"Ward\":6,\"Pb Bottle 1 (ppb) - First Draw\":8.071,\"Pb Bottle 2 (ppb) - 45 secs flushing\":0.947,\"Pb Bottle 3 (ppb) - 2 mins flushing\":0.839},{\"SampleID\":171,\"Zip Code\":48507,\"Ward\":9,\"Pb Bottle 1 (ppb) - First Draw\":3.262,\"Pb Bottle 2 (ppb) - 45 secs flushing\":0.453,\"Pb Bottle 3 (ppb) - 2 mins flushing\":0.252},{\"SampleID\":172,\"Zip Code\":48503,\"Ward\":8,\"Pb Bottle 1 (ppb) - First Draw\":2.267,\"Pb Bottle 2 (ppb) - 45 secs flushing\":0.541,\"Pb Bottle 3 (ppb) - 2 mins flushing\":0.391},{\"SampleID\":173,\"Zip Code\":48505,\"Ward\":3,\"Pb Bottle 1 (ppb) - First Draw\":0.922,\"Pb Bottle 2 (ppb) - 45 secs flushing\":0.878,\"Pb Bottle 3 (ppb) - 2 mins flushing\":0.491},{\"SampleID\":174,\"Zip Code\":48504,\"Ward\":6,\"Pb Bottle 1 (ppb) - First Draw\":27.02,\"Pb Bottle 2 (ppb) - 45 secs flushing\":31.25,\"Pb Bottle 3 (ppb) - 2 mins flushing\":11.37},{\"SampleID\":176,\"Zip Code\":48503,\"Ward\":8,\"Pb Bottle 1 (ppb) - First Draw\":0.906,\"Pb Bottle 2 (ppb) - 45 secs flushing\":0.961,\"Pb Bottle 3 (ppb) - 2 mins flushing\":1.052},{\"SampleID\":177,\"Zip Code\":48507,\"Ward\":9,\"Pb Bottle 1 (ppb) - First Draw\":2.85,\"Pb Bottle 2 (ppb) - 45 secs flushing\":6.862,\"Pb Bottle 3 (ppb) - 2 mins flushing\":0.951},{\"SampleID\":178,\"Zip Code\":48504,\"Ward\":2,\"Pb Bottle 1 (ppb) - First Draw\":1.852,\"Pb Bottle 2 (ppb) - 45 secs flushing\":0.472,\"Pb Bottle 3 (ppb) - 2 mins flushing\":0.422},{\"SampleID\":179,\"Zip Code\":48506,\"Ward\":4,\"Pb Bottle 1 (ppb) - First Draw\":5.35,\"Pb Bottle 2 (ppb) - 45 secs flushing\":1.328,\"Pb Bottle 3 (ppb) - 2 mins flushing\":0.595},{\"SampleID\":180,\"Zip Code\":48503,\"Ward\":7,\"Pb Bottle 1 (ppb) - First Draw\":25.21,\"Pb Bottle 2 (ppb) - 45 secs flushing\":4.337,\"Pb Bottle 3 (ppb) - 2 mins flushing\":1.019},{\"SampleID\":182,\"Zip Code\":48504,\"Ward\":6,\"Pb Bottle 1 (ppb) - First Draw\":15.55,\"Pb Bottle 2 (ppb) - 45 secs flushing\":3.962,\"Pb Bottle 3 (ppb) - 2 mins flushing\":1.861},{\"SampleID\":183,\"Zip Code\":48506,\"Ward\":4,\"Pb Bottle 1 (ppb) - First Draw\":0.793,\"Pb Bottle 2 (ppb) - 45 secs flushing\":0.533,\"Pb Bottle 3 (ppb) - 2 mins flushing\":0.391},{\"SampleID\":184,\"Zip Code\":48506,\"Ward\":4,\"Pb Bottle 1 (ppb) - First Draw\":5.068,\"Pb Bottle 2 (ppb) - 45 secs flushing\":0.683,\"Pb Bottle 3 (ppb) - 2 mins flushing\":0.489},{\"SampleID\":185,\"Zip Code\":48507,\"Ward\":8,\"Pb Bottle 1 (ppb) - First Draw\":26.64,\"Pb Bottle 2 (ppb) - 45 secs flushing\":8.878,\"Pb Bottle 3 (ppb) - 2 mins flushing\":6.619},{\"SampleID\":186,\"Zip Code\":48506,\"Ward\":4,\"Pb Bottle 1 (ppb) - First Draw\":1.867,\"Pb Bottle 2 (ppb) - 45 secs flushing\":0.165,\"Pb Bottle 3 (ppb) - 2 mins flushing\":0.175},{\"SampleID\":189,\"Zip Code\":48506,\"Ward\":4,\"Pb Bottle 1 (ppb) - First Draw\":19.16,\"Pb Bottle 2 (ppb) - 45 secs flushing\":12.54,\"Pb Bottle 3 (ppb) - 2 mins flushing\":7.719},{\"SampleID\":191,\"Zip Code\":48503,\"Ward\":5,\"Pb Bottle 1 (ppb) - First Draw\":28.7,\"Pb Bottle 2 (ppb) - 45 secs flushing\":12.7,\"Pb Bottle 3 (ppb) - 2 mins flushing\":8.6},{\"SampleID\":192,\"Zip Code\":48507,\"Ward\":9,\"Pb Bottle 1 (ppb) - First Draw\":20.22,\"Pb Bottle 2 (ppb) - 45 secs flushing\":8.908,\"Pb Bottle 3 (ppb) - 2 mins flushing\":6.677},{\"SampleID\":193,\"Zip Code\":48507,\"Ward\":8,\"Pb Bottle 1 (ppb) - First Draw\":2.9,\"Pb Bottle 2 (ppb) - 45 secs flushing\":0.6,\"Pb Bottle 3 (ppb) - 2 mins flushing\":0.7},{\"SampleID\":194,\"Zip Code\":48503,\"Ward\":7,\"Pb Bottle 1 (ppb) - First Draw\":18.86,\"Pb Bottle 2 (ppb) - 45 secs flushing\":5.051,\"Pb Bottle 3 (ppb) - 2 mins flushing\":2.548},{\"SampleID\":195,\"Zip Code\":48507,\"Ward\":9,\"Pb Bottle 1 (ppb) - First Draw\":2.816,\"Pb Bottle 2 (ppb) - 45 secs flushing\":0.324,\"Pb Bottle 3 (ppb) - 2 mins flushing\":0.362},{\"SampleID\":196,\"Zip Code\":48506,\"Ward\":3,\"Pb Bottle 1 (ppb) - First Draw\":118.4,\"Pb Bottle 2 (ppb) - 45 secs flushing\":40.78,\"Pb Bottle 3 (ppb) - 2 mins flushing\":39.99},{\"SampleID\":197,\"Zip Code\":48506,\"Ward\":3,\"Pb Bottle 1 (ppb) - First Draw\":27.45,\"Pb Bottle 2 (ppb) - 45 secs flushing\":0.939,\"Pb Bottle 3 (ppb) - 2 mins flushing\":0.533},{\"SampleID\":198,\"Zip Code\":48503,\"Ward\":7,\"Pb Bottle 1 (ppb) - First Draw\":1.2,\"Pb Bottle 2 (ppb) - 45 secs flushing\":0.1,\"Pb Bottle 3 (ppb) - 2 mins flushing\":0.1},{\"SampleID\":200,\"Zip Code\":48506,\"Ward\":4,\"Pb Bottle 1 (ppb) - First Draw\":4.681,\"Pb Bottle 2 (ppb) - 45 secs flushing\":0.755,\"Pb Bottle 3 (ppb) - 2 mins flushing\":0.456},{\"SampleID\":201,\"Zip Code\":48506,\"Ward\":3,\"Pb Bottle 1 (ppb) - First Draw\":11.57,\"Pb Bottle 2 (ppb) - 45 secs flushing\":6.08,\"Pb Bottle 3 (ppb) - 2 mins flushing\":1.782},{\"SampleID\":202,\"Zip Code\":48532,\"Ward\":8,\"Pb Bottle 1 (ppb) - First Draw\":6.557,\"Pb Bottle 2 (ppb) - 45 secs flushing\":0.289,\"Pb Bottle 3 (ppb) - 2 mins flushing\":0.371},{\"SampleID\":203,\"Zip Code\":48505,\"Ward\":3,\"Pb Bottle 1 (ppb) - First Draw\":3.4,\"Pb Bottle 2 (ppb) - 45 secs flushing\":9.6,\"Pb Bottle 3 (ppb) - 2 mins flushing\":1.7},{\"SampleID\":204,\"Zip Code\":48504,\"Ward\":6,\"Pb Bottle 1 (ppb) - First Draw\":0.7,\"Pb Bottle 2 (ppb) - 45 secs flushing\":0.2,\"Pb Bottle 3 (ppb) - 2 mins flushing\":0.2},{\"SampleID\":205,\"Zip Code\":48507,\"Ward\":8,\"Pb Bottle 1 (ppb) - First Draw\":158,\"Pb Bottle 2 (ppb) - 45 secs flushing\":90.83,\"Pb Bottle 3 (ppb) - 2 mins flushing\":91.69},{\"SampleID\":206,\"Zip Code\":48506,\"Ward\":4,\"Pb Bottle 1 (ppb) - First Draw\":0.977,\"Pb Bottle 2 (ppb) - 45 secs flushing\":0.47,\"Pb Bottle 3 (ppb) - 2 mins flushing\":0.381},{\"SampleID\":207,\"Zip Code\":48503,\"Ward\":8,\"Pb Bottle 1 (ppb) - First Draw\":8.471,\"Pb Bottle 2 (ppb) - 45 secs flushing\":4.692,\"Pb Bottle 3 (ppb) - 2 mins flushing\":1.48},{\"SampleID\":208,\"Zip Code\":48507,\"Ward\":9,\"Pb Bottle 1 (ppb) - First Draw\":11.47,\"Pb Bottle 2 (ppb) - 45 secs flushing\":23.15,\"Pb Bottle 3 (ppb) - 2 mins flushing\":7.129},{\"SampleID\":209,\"Zip Code\":48503,\"Ward\":7,\"Pb Bottle 1 (ppb) - First Draw\":5.228,\"Pb Bottle 2 (ppb) - 45 secs flushing\":2.477,\"Pb Bottle 3 (ppb) - 2 mins flushing\":1.014},{\"SampleID\":210,\"Zip Code\":48507,\"Ward\":9,\"Pb Bottle 1 (ppb) - First Draw\":0.956,\"Pb Bottle 2 (ppb) - 45 secs flushing\":0.196,\"Pb Bottle 3 (ppb) - 2 mins flushing\":0.157},{\"SampleID\":211,\"Zip Code\":48504,\"Ward\":6,\"Pb Bottle 1 (ppb) - First Draw\":1.671,\"Pb Bottle 2 (ppb) - 45 secs flushing\":0.405,\"Pb Bottle 3 (ppb) - 2 mins flushing\":4.721},{\"SampleID\":212,\"Zip Code\":48507,\"Ward\":9,\"Pb Bottle 1 (ppb) - First Draw\":1.152,\"Pb Bottle 2 (ppb) - 45 secs flushing\":0.708,\"Pb Bottle 3 (ppb) - 2 mins flushing\":0.282},{\"SampleID\":213,\"Zip Code\":48507,\"Ward\":9,\"Pb Bottle 1 (ppb) - First Draw\":0.5,\"Pb Bottle 2 (ppb) - 45 secs flushing\":0.1,\"Pb Bottle 3 (ppb) - 2 mins flushing\":0.1},{\"SampleID\":214,\"Zip Code\":48503,\"Ward\":5,\"Pb Bottle 1 (ppb) - First Draw\":10.74,\"Pb Bottle 2 (ppb) - 45 secs flushing\":2.331,\"Pb Bottle 3 (ppb) - 2 mins flushing\":1.628},{\"SampleID\":215,\"Zip Code\":48507,\"Ward\":9,\"Pb Bottle 1 (ppb) - First Draw\":3.9,\"Pb Bottle 2 (ppb) - 45 secs flushing\":0.4,\"Pb Bottle 3 (ppb) - 2 mins flushing\":0.2},{\"SampleID\":216,\"Zip Code\":48507,\"Ward\":9,\"Pb Bottle 1 (ppb) - First Draw\":2.149,\"Pb Bottle 2 (ppb) - 45 secs flushing\":0.368,\"Pb Bottle 3 (ppb) - 2 mins flushing\":0.333},{\"SampleID\":217,\"Zip Code\":48506,\"Ward\":4,\"Pb Bottle 1 (ppb) - First Draw\":1.1,\"Pb Bottle 2 (ppb) - 45 secs flushing\":0.4,\"Pb Bottle 3 (ppb) - 2 mins flushing\":0.2},{\"SampleID\":218,\"Zip Code\":48507,\"Ward\":9,\"Pb Bottle 1 (ppb) - First Draw\":7.087,\"Pb Bottle 2 (ppb) - 45 secs flushing\":9.467,\"Pb Bottle 3 (ppb) - 2 mins flushing\":1.28},{\"SampleID\":219,\"Zip Code\":48505,\"Ward\":1,\"Pb Bottle 1 (ppb) - First Draw\":1.329,\"Pb Bottle 2 (ppb) - 45 secs flushing\":0.609,\"Pb Bottle 3 (ppb) - 2 mins flushing\":0.527},{\"SampleID\":220,\"Zip Code\":48507,\"Ward\":9,\"Pb Bottle 1 (ppb) - First Draw\":6.2,\"Pb Bottle 2 (ppb) - 45 secs flushing\":0.7,\"Pb Bottle 3 (ppb) - 2 mins flushing\":0.6},{\"SampleID\":221,\"Zip Code\":48505,\"Ward\":3,\"Pb Bottle 1 (ppb) - First Draw\":0.8,\"Pb Bottle 2 (ppb) - 45 secs flushing\":0.26,\"Pb Bottle 3 (ppb) - 2 mins flushing\":0.255},{\"SampleID\":222,\"Zip Code\":48503,\"Ward\":8,\"Pb Bottle 1 (ppb) - First Draw\":9.3,\"Pb Bottle 2 (ppb) - 45 secs flushing\":9.7,\"Pb Bottle 3 (ppb) - 2 mins flushing\":5},{\"SampleID\":223,\"Zip Code\":48504,\"Ward\":2,\"Pb Bottle 1 (ppb) - First Draw\":2.1,\"Pb Bottle 2 (ppb) - 45 secs flushing\":1.2,\"Pb Bottle 3 (ppb) - 2 mins flushing\":0.5},{\"SampleID\":224,\"Zip Code\":48505,\"Ward\":1,\"Pb Bottle 1 (ppb) - First Draw\":4.563,\"Pb Bottle 2 (ppb) - 45 secs flushing\":3.106,\"Pb Bottle 3 (ppb) - 2 mins flushing\":2.997},{\"SampleID\":225,\"Zip Code\":48504,\"Ward\":2,\"Pb Bottle 1 (ppb) - First Draw\":4.808,\"Pb Bottle 2 (ppb) - 45 secs flushing\":6.196,\"Pb Bottle 3 (ppb) - 2 mins flushing\":1.523},{\"SampleID\":226,\"Zip Code\":48504,\"Ward\":2,\"Pb Bottle 1 (ppb) - First Draw\":0.753,\"Pb Bottle 2 (ppb) - 45 secs flushing\":2.526,\"Pb Bottle 3 (ppb) - 2 mins flushing\":0.549},{\"SampleID\":227,\"Zip Code\":48505,\"Ward\":1,\"Pb Bottle 1 (ppb) - First Draw\":1.862,\"Pb Bottle 2 (ppb) - 45 secs flushing\":1.213,\"Pb Bottle 3 (ppb) - 2 mins flushing\":0.898},{\"SampleID\":228,\"Zip Code\":48503,\"Ward\":7,\"Pb Bottle 1 (ppb) - First Draw\":1.183,\"Pb Bottle 2 (ppb) - 45 secs flushing\":0.366,\"Pb Bottle 3 (ppb) - 2 mins flushing\":0.201},{\"SampleID\":229,\"Zip Code\":48503,\"Ward\":7,\"Pb Bottle 1 (ppb) - First Draw\":8.2,\"Pb Bottle 2 (ppb) - 45 secs flushing\":3.2,\"Pb Bottle 3 (ppb) - 2 mins flushing\":2.6},{\"SampleID\":230,\"Zip Code\":48504,\"Ward\":6,\"Pb Bottle 1 (ppb) - First Draw\":3.679,\"Pb Bottle 2 (ppb) - 45 secs flushing\":0.498,\"Pb Bottle 3 (ppb) - 2 mins flushing\":0.288},{\"SampleID\":231,\"Zip Code\":48505,\"Ward\":1,\"Pb Bottle 1 (ppb) - First Draw\":2.37,\"Pb Bottle 2 (ppb) - 45 secs flushing\":7.333,\"Pb Bottle 3 (ppb) - 2 mins flushing\":3.797},{\"SampleID\":234,\"Zip Code\":48504,\"Ward\":2,\"Pb Bottle 1 (ppb) - First Draw\":0.828,\"Pb Bottle 2 (ppb) - 45 secs flushing\":1.318,\"Pb Bottle 3 (ppb) - 2 mins flushing\":0.233},{\"SampleID\":235,\"Zip Code\":48503,\"Ward\":7,\"Pb Bottle 1 (ppb) - First Draw\":0.719,\"Pb Bottle 2 (ppb) - 45 secs flushing\":0.254,\"Pb Bottle 3 (ppb) - 2 mins flushing\":0.058},{\"SampleID\":236,\"Zip Code\":48504,\"Ward\":1,\"Pb Bottle 1 (ppb) - First Draw\":2.822,\"Pb Bottle 2 (ppb) - 45 secs flushing\":1.221,\"Pb Bottle 3 (ppb) - 2 mins flushing\":0.258},{\"SampleID\":237,\"Zip Code\":48504,\"Ward\":8,\"Pb Bottle 1 (ppb) - First Draw\":2.867,\"Pb Bottle 2 (ppb) - 45 secs flushing\":0.723,\"Pb Bottle 3 (ppb) - 2 mins flushing\":0.744},{\"SampleID\":238,\"Zip Code\":48503,\"Ward\":7,\"Pb Bottle 1 (ppb) - First Draw\":2.332,\"Pb Bottle 2 (ppb) - 45 secs flushing\":3.588,\"Pb Bottle 3 (ppb) - 2 mins flushing\":1.221},{\"SampleID\":240,\"Zip Code\":48503,\"Ward\":8,\"Pb Bottle 1 (ppb) - First Draw\":4.401,\"Pb Bottle 2 (ppb) - 45 secs flushing\":2.111,\"Pb Bottle 3 (ppb) - 2 mins flushing\":1.572},{\"SampleID\":241,\"Zip Code\":48504,\"Ward\":6,\"Pb Bottle 1 (ppb) - First Draw\":2.708,\"Pb Bottle 2 (ppb) - 45 secs flushing\":2.238,\"Pb Bottle 3 (ppb) - 2 mins flushing\":0.809},{\"SampleID\":242,\"Zip Code\":48504,\"Ward\":6,\"Pb Bottle 1 (ppb) - First Draw\":34.13,\"Pb Bottle 2 (ppb) - 45 secs flushing\":6.002,\"Pb Bottle 3 (ppb) - 2 mins flushing\":1.71},{\"SampleID\":243,\"Zip Code\":48503,\"Ward\":7,\"Pb Bottle 1 (ppb) - First Draw\":5.218,\"Pb Bottle 2 (ppb) - 45 secs flushing\":2.614,\"Pb Bottle 3 (ppb) - 2 mins flushing\":0.831},{\"SampleID\":244,\"Zip Code\":48503,\"Ward\":7,\"Pb Bottle 1 (ppb) - First Draw\":15.73,\"Pb Bottle 2 (ppb) - 45 secs flushing\":13.95,\"Pb Bottle 3 (ppb) - 2 mins flushing\":3.584},{\"SampleID\":245,\"Zip Code\":48504,\"Ward\":6,\"Pb Bottle 1 (ppb) - First Draw\":3.045,\"Pb Bottle 2 (ppb) - 45 secs flushing\":2.744,\"Pb Bottle 3 (ppb) - 2 mins flushing\":0.299},{\"SampleID\":246,\"Zip Code\":48503,\"Ward\":7,\"Pb Bottle 1 (ppb) - First Draw\":1.1,\"Pb Bottle 2 (ppb) - 45 secs flushing\":0.5,\"Pb Bottle 3 (ppb) - 2 mins flushing\":0.3},{\"SampleID\":247,\"Zip Code\":48503,\"Ward\":7,\"Pb Bottle 1 (ppb) - First Draw\":1.386,\"Pb Bottle 2 (ppb) - 45 secs flushing\":0.288,\"Pb Bottle 3 (ppb) - 2 mins flushing\":0.432},{\"SampleID\":248,\"Zip Code\":48504,\"Ward\":6,\"Pb Bottle 1 (ppb) - First Draw\":0.915,\"Pb Bottle 2 (ppb) - 45 secs flushing\":0.354,\"Pb Bottle 3 (ppb) - 2 mins flushing\":0.306},{\"SampleID\":249,\"Zip Code\":48504,\"Ward\":6,\"Pb Bottle 1 (ppb) - First Draw\":2.145,\"Pb Bottle 2 (ppb) - 45 secs flushing\":0.345,\"Pb Bottle 3 (ppb) - 2 mins flushing\":3.738},{\"SampleID\":250,\"Zip Code\":48507,\"Ward\":8,\"Pb Bottle 1 (ppb) - First Draw\":4.056,\"Pb Bottle 2 (ppb) - 45 secs flushing\":0.547,\"Pb Bottle 3 (ppb) - 2 mins flushing\":0.378},{\"SampleID\":251,\"Zip Code\":48503,\"Ward\":7,\"Pb Bottle 1 (ppb) - First Draw\":1.668,\"Pb Bottle 2 (ppb) - 45 secs flushing\":1.508,\"Pb Bottle 3 (ppb) - 2 mins flushing\":2.72},{\"SampleID\":252,\"Zip Code\":48503,\"Ward\":7,\"Pb Bottle 1 (ppb) - First Draw\":7.575,\"Pb Bottle 2 (ppb) - 45 secs flushing\":1.362,\"Pb Bottle 3 (ppb) - 2 mins flushing\":1.094},{\"SampleID\":253,\"Zip Code\":48507,\"Ward\":8,\"Pb Bottle 1 (ppb) - First Draw\":5.59,\"Pb Bottle 2 (ppb) - 45 secs flushing\":4.306,\"Pb Bottle 3 (ppb) - 2 mins flushing\":2.019},{\"SampleID\":254,\"Zip Code\":48503,\"Ward\":5,\"Pb Bottle 1 (ppb) - First Draw\":0.708,\"Pb Bottle 2 (ppb) - 45 secs flushing\":0.326,\"Pb Bottle 3 (ppb) - 2 mins flushing\":0.303},{\"SampleID\":255,\"Zip Code\":48504,\"Ward\":6,\"Pb Bottle 1 (ppb) - First Draw\":1.701,\"Pb Bottle 2 (ppb) - 45 secs flushing\":4.397,\"Pb Bottle 3 (ppb) - 2 mins flushing\":1.287},{\"SampleID\":256,\"Zip Code\":48504,\"Ward\":6,\"Pb Bottle 1 (ppb) - First Draw\":1.467,\"Pb Bottle 2 (ppb) - 45 secs flushing\":0.149,\"Pb Bottle 3 (ppb) - 2 mins flushing\":0.137},{\"SampleID\":258,\"Zip Code\":48504,\"Ward\":2,\"Pb Bottle 1 (ppb) - First Draw\":2.582,\"Pb Bottle 2 (ppb) - 45 secs flushing\":259.8,\"Pb Bottle 3 (ppb) - 2 mins flushing\":61.96},{\"SampleID\":259,\"Zip Code\":48505,\"Ward\":2,\"Pb Bottle 1 (ppb) - First Draw\":22.08,\"Pb Bottle 2 (ppb) - 45 secs flushing\":15.86,\"Pb Bottle 3 (ppb) - 2 mins flushing\":9.262},{\"SampleID\":260,\"Zip Code\":48507,\"Ward\":8,\"Pb Bottle 1 (ppb) - First Draw\":16.51,\"Pb Bottle 2 (ppb) - 45 secs flushing\":2.024,\"Pb Bottle 3 (ppb) - 2 mins flushing\":7.068},{\"SampleID\":262,\"Zip Code\":48507,\"Ward\":8,\"Pb Bottle 1 (ppb) - First Draw\":56.26,\"Pb Bottle 2 (ppb) - 45 secs flushing\":4.692,\"Pb Bottle 3 (ppb) - 2 mins flushing\":1.243},{\"SampleID\":263,\"Zip Code\":48504,\"Ward\":6,\"Pb Bottle 1 (ppb) - First Draw\":2.433,\"Pb Bottle 2 (ppb) - 45 secs flushing\":1.334,\"Pb Bottle 3 (ppb) - 2 mins flushing\":1.376},{\"SampleID\":264,\"Zip Code\":48503,\"Ward\":7,\"Pb Bottle 1 (ppb) - First Draw\":0.5,\"Pb Bottle 2 (ppb) - 45 secs flushing\":0.2,\"Pb Bottle 3 (ppb) - 2 mins flushing\":0.5},{\"SampleID\":265,\"Zip Code\":48504,\"Ward\":6,\"Pb Bottle 1 (ppb) - First Draw\":29.13,\"Pb Bottle 2 (ppb) - 45 secs flushing\":11.57,\"Pb Bottle 3 (ppb) - 2 mins flushing\":6.388},{\"SampleID\":266,\"Zip Code\":48505,\"Ward\":1,\"Pb Bottle 1 (ppb) - First Draw\":12.3,\"Pb Bottle 2 (ppb) - 45 secs flushing\":0.5,\"Pb Bottle 3 (ppb) - 2 mins flushing\":0.4},{\"SampleID\":267,\"Zip Code\":48504,\"Ward\":6,\"Pb Bottle 1 (ppb) - First Draw\":3.445,\"Pb Bottle 2 (ppb) - 45 secs flushing\":0.29,\"Pb Bottle 3 (ppb) - 2 mins flushing\":0.167},{\"SampleID\":268,\"Zip Code\":48507,\"Ward\":9,\"Pb Bottle 1 (ppb) - First Draw\":16.49,\"Pb Bottle 2 (ppb) - 45 secs flushing\":12.83,\"Pb Bottle 3 (ppb) - 2 mins flushing\":9.018},{\"SampleID\":269,\"Zip Code\":48503,\"Ward\":7,\"Pb Bottle 1 (ppb) - First Draw\":3.365,\"Pb Bottle 2 (ppb) - 45 secs flushing\":2.45,\"Pb Bottle 3 (ppb) - 2 mins flushing\":1.675},{\"SampleID\":270,\"Zip Code\":48503,\"Ward\":7,\"Pb Bottle 1 (ppb) - First Draw\":1.154,\"Pb Bottle 2 (ppb) - 45 secs flushing\":0.176,\"Pb Bottle 3 (ppb) - 2 mins flushing\":0.12},{\"SampleID\":271,\"Zip Code\":48507,\"Ward\":9,\"Pb Bottle 1 (ppb) - First Draw\":13.53,\"Pb Bottle 2 (ppb) - 45 secs flushing\":21.91,\"Pb Bottle 3 (ppb) - 2 mins flushing\":4.675},{\"SampleID\":272,\"Zip Code\":48504,\"Ward\":6,\"Pb Bottle 1 (ppb) - First Draw\":2.229,\"Pb Bottle 2 (ppb) - 45 secs flushing\":1.573,\"Pb Bottle 3 (ppb) - 2 mins flushing\":0.84},{\"SampleID\":273,\"Zip Code\":48503,\"Ward\":7,\"Pb Bottle 1 (ppb) - First Draw\":28.91,\"Pb Bottle 2 (ppb) - 45 secs flushing\":5.471,\"Pb Bottle 3 (ppb) - 2 mins flushing\":3.056},{\"SampleID\":274,\"Zip Code\":48503,\"Ward\":7,\"Pb Bottle 1 (ppb) - First Draw\":6.601,\"Pb Bottle 2 (ppb) - 45 secs flushing\":1.929,\"Pb Bottle 3 (ppb) - 2 mins flushing\":0.417},{\"SampleID\":275,\"Zip Code\":48507,\"Ward\":9,\"Pb Bottle 1 (ppb) - First Draw\":0.948,\"Pb Bottle 2 (ppb) - 45 secs flushing\":0.27,\"Pb Bottle 3 (ppb) - 2 mins flushing\":0.207},{\"SampleID\":276,\"Zip Code\":48505,\"Ward\":3,\"Pb Bottle 1 (ppb) - First Draw\":3.484,\"Pb Bottle 2 (ppb) - 45 secs flushing\":0.434,\"Pb Bottle 3 (ppb) - 2 mins flushing\":0.306},{\"SampleID\":278,\"Zip Code\":48503,\"Ward\":7,\"Pb Bottle 1 (ppb) - First Draw\":1.888,\"Pb Bottle 2 (ppb) - 45 secs flushing\":0.359,\"Pb Bottle 3 (ppb) - 2 mins flushing\":0.322},{\"SampleID\":279,\"Zip Code\":48503,\"Ward\":7,\"Pb Bottle 1 (ppb) - First Draw\":13.95,\"Pb Bottle 2 (ppb) - 45 secs flushing\":12.2,\"Pb Bottle 3 (ppb) - 2 mins flushing\":8.251},{\"SampleID\":280,\"Zip Code\":48504,\"Ward\":6,\"Pb Bottle 1 (ppb) - First Draw\":6.27,\"Pb Bottle 2 (ppb) - 45 secs flushing\":4.036,\"Pb Bottle 3 (ppb) - 2 mins flushing\":1.182},{\"SampleID\":281,\"Zip Code\":48506,\"Ward\":7,\"Pb Bottle 1 (ppb) - First Draw\":19.12,\"Pb Bottle 2 (ppb) - 45 secs flushing\":22.02,\"Pb Bottle 3 (ppb) - 2 mins flushing\":7.968},{\"SampleID\":282,\"Zip Code\":48507,\"Ward\":9,\"Pb Bottle 1 (ppb) - First Draw\":1.633,\"Pb Bottle 2 (ppb) - 45 secs flushing\":0.465,\"Pb Bottle 3 (ppb) - 2 mins flushing\":0.238},{\"SampleID\":283,\"Zip Code\":48503,\"Ward\":7,\"Pb Bottle 1 (ppb) - First Draw\":1.114,\"Pb Bottle 2 (ppb) - 45 secs flushing\":0.605,\"Pb Bottle 3 (ppb) - 2 mins flushing\":0.255},{\"SampleID\":284,\"Zip Code\":48503,\"Ward\":7,\"Pb Bottle 1 (ppb) - First Draw\":3.9,\"Pb Bottle 2 (ppb) - 45 secs flushing\":0.558,\"Pb Bottle 3 (ppb) - 2 mins flushing\":0.504},{\"SampleID\":285,\"Zip Code\":48504,\"Ward\":1,\"Pb Bottle 1 (ppb) - First Draw\":3.521,\"Pb Bottle 2 (ppb) - 45 secs flushing\":0.45,\"Pb Bottle 3 (ppb) - 2 mins flushing\":0.321},{\"SampleID\":286,\"Zip Code\":48507,\"Ward\":9,\"Pb Bottle 1 (ppb) - First Draw\":3.832,\"Pb Bottle 2 (ppb) - 45 secs flushing\":0.794,\"Pb Bottle 3 (ppb) - 2 mins flushing\":0.339},{\"SampleID\":287,\"Zip Code\":48505,\"Ward\":3,\"Pb Bottle 1 (ppb) - First Draw\":3.243,\"Pb Bottle 2 (ppb) - 45 secs flushing\":0.738,\"Pb Bottle 3 (ppb) - 2 mins flushing\":0.27},{\"SampleID\":289,\"Zip Code\":48503,\"Ward\":7,\"Pb Bottle 1 (ppb) - First Draw\":0.99,\"Pb Bottle 2 (ppb) - 45 secs flushing\":0.25,\"Pb Bottle 3 (ppb) - 2 mins flushing\":0.263},{\"SampleID\":290,\"Zip Code\":48507,\"Ward\":9,\"Pb Bottle 1 (ppb) - First Draw\":1.203,\"Pb Bottle 2 (ppb) - 45 secs flushing\":19.26,\"Pb Bottle 3 (ppb) - 2 mins flushing\":1.626},{\"SampleID\":291,\"Zip Code\":48506,\"Ward\":3,\"Pb Bottle 1 (ppb) - First Draw\":2.261,\"Pb Bottle 2 (ppb) - 45 secs flushing\":0.102,\"Pb Bottle 3 (ppb) - 2 mins flushing\":0.407},{\"SampleID\":292,\"Zip Code\":48503,\"Ward\":4,\"Pb Bottle 1 (ppb) - First Draw\":16.99,\"Pb Bottle 2 (ppb) - 45 secs flushing\":6.32,\"Pb Bottle 3 (ppb) - 2 mins flushing\":3.585},{\"SampleID\":293,\"Zip Code\":48503,\"Ward\":7,\"Pb Bottle 1 (ppb) - First Draw\":3.322,\"Pb Bottle 2 (ppb) - 45 secs flushing\":2.559,\"Pb Bottle 3 (ppb) - 2 mins flushing\":1.512},{\"SampleID\":294,\"Zip Code\":48506,\"Ward\":4,\"Pb Bottle 1 (ppb) - First Draw\":14.33,\"Pb Bottle 2 (ppb) - 45 secs flushing\":1.284,\"Pb Bottle 3 (ppb) - 2 mins flushing\":0.323},{\"SampleID\":295,\"Zip Code\":48503,\"Ward\":7,\"Pb Bottle 1 (ppb) - First Draw\":18.11,\"Pb Bottle 2 (ppb) - 45 secs flushing\":20.21,\"Pb Bottle 3 (ppb) - 2 mins flushing\":4.263},{\"SampleID\":296,\"Zip Code\":48503,\"Ward\":7,\"Pb Bottle 1 (ppb) - First Draw\":12.81,\"Pb Bottle 2 (ppb) - 45 secs flushing\":7.874,\"Pb Bottle 3 (ppb) - 2 mins flushing\":1.78},{\"SampleID\":298,\"Zip Code\":48503,\"Ward\":7,\"Pb Bottle 1 (ppb) - First Draw\":1.083,\"Pb Bottle 2 (ppb) - 45 secs flushing\":0.322,\"Pb Bottle 3 (ppb) - 2 mins flushing\":0.26},{\"SampleID\":299,\"Zip Code\":48503,\"Ward\":7,\"Pb Bottle 1 (ppb) - First Draw\":29.59,\"Pb Bottle 2 (ppb) - 45 secs flushing\":3.258,\"Pb Bottle 3 (ppb) - 2 mins flushing\":1.843},{\"SampleID\":300,\"Zip Code\":48505,\"Ward\":1,\"Pb Bottle 1 (ppb) - First Draw\":4.287,\"Pb Bottle 2 (ppb) - 45 secs flushing\":4.345,\"Pb Bottle 3 (ppb) - 2 mins flushing\":4.905}]\"\"\")"
   ]
  },
  {
   "cell_type": "code",
   "execution_count": 24,
   "metadata": {
    "collapsed": false
   },
   "outputs": [
    {
     "data": {
      "text/html": [
       "<div>\n",
       "<table border=\"1\" class=\"dataframe\">\n",
       "  <thead>\n",
       "    <tr style=\"text-align: right;\">\n",
       "      <th></th>\n",
       "      <th>Notes</th>\n",
       "      <th>Pb Bottle 1 (ppb) - First Draw</th>\n",
       "      <th>Pb Bottle 2 (ppb) - 45 secs flushing</th>\n",
       "      <th>Pb Bottle 3 (ppb) - 2 mins flushing</th>\n",
       "      <th>SampleID</th>\n",
       "      <th>Ward</th>\n",
       "      <th>Zip Code</th>\n",
       "    </tr>\n",
       "  </thead>\n",
       "  <tbody>\n",
       "    <tr>\n",
       "      <th>0</th>\n",
       "      <td>NaN</td>\n",
       "      <td>0.344</td>\n",
       "      <td>0.226</td>\n",
       "      <td>0.145</td>\n",
       "      <td>1</td>\n",
       "      <td>6</td>\n",
       "      <td>48504</td>\n",
       "    </tr>\n",
       "    <tr>\n",
       "      <th>1</th>\n",
       "      <td>NaN</td>\n",
       "      <td>8.133</td>\n",
       "      <td>10.770</td>\n",
       "      <td>2.761</td>\n",
       "      <td>2</td>\n",
       "      <td>9</td>\n",
       "      <td>48507</td>\n",
       "    </tr>\n",
       "    <tr>\n",
       "      <th>2</th>\n",
       "      <td>NaN</td>\n",
       "      <td>1.111</td>\n",
       "      <td>0.110</td>\n",
       "      <td>0.123</td>\n",
       "      <td>4</td>\n",
       "      <td>1</td>\n",
       "      <td>48504</td>\n",
       "    </tr>\n",
       "    <tr>\n",
       "      <th>3</th>\n",
       "      <td>NaN</td>\n",
       "      <td>8.007</td>\n",
       "      <td>7.446</td>\n",
       "      <td>3.384</td>\n",
       "      <td>5</td>\n",
       "      <td>8</td>\n",
       "      <td>48507</td>\n",
       "    </tr>\n",
       "    <tr>\n",
       "      <th>4</th>\n",
       "      <td>NaN</td>\n",
       "      <td>1.951</td>\n",
       "      <td>0.048</td>\n",
       "      <td>0.035</td>\n",
       "      <td>6</td>\n",
       "      <td>3</td>\n",
       "      <td>48505</td>\n",
       "    </tr>\n",
       "  </tbody>\n",
       "</table>\n",
       "</div>"
      ],
      "text/plain": [
       "  Notes  Pb Bottle 1 (ppb) - First Draw  Pb Bottle 2 (ppb) - 45 secs flushing  \\\n",
       "0   NaN                           0.344                                 0.226   \n",
       "1   NaN                           8.133                                10.770   \n",
       "2   NaN                           1.111                                 0.110   \n",
       "3   NaN                           8.007                                 7.446   \n",
       "4   NaN                           1.951                                 0.048   \n",
       "\n",
       "   Pb Bottle 3 (ppb) - 2 mins flushing  SampleID  Ward  Zip Code  \n",
       "0                                0.145         1     6     48504  \n",
       "1                                2.761         2     9     48507  \n",
       "2                                0.123         4     1     48504  \n",
       "3                                3.384         5     8     48507  \n",
       "4                                0.035         6     3     48505  "
      ]
     },
     "execution_count": 24,
     "metadata": {},
     "output_type": "execute_result"
    }
   ],
   "source": [
    "# Creating Numpy Arrays from the Data\n",
    "\n",
    "## lead_levels are in                               \n",
    "lead_levels_first_draw = np.array(flint_data[\"Pb Bottle 1 (ppb) - First Draw\"])\n",
    "\n",
    "## zip_code data are in\n",
    "zip_code = np.array(flint_data[\"Zip Code\"])\n",
    "\n",
    "## For reference, the full dataset looks like this\n",
    "flint_data.head()"
   ]
  },
  {
   "cell_type": "markdown",
   "metadata": {},
   "source": [
    "### Data Cleaning\n",
    "\n",
    "The sample readings are in ppb (parts per billion). But, the U.S. Environmental Protection Agency's guidelines are expressed in mg/L, or milligrams per liter. What will we need to do in order to compare the data collected to the EPA's guideline threshold?"
   ]
  },
  {
   "cell_type": "code",
   "execution_count": 25,
   "metadata": {
    "collapsed": true
   },
   "outputs": [],
   "source": [
    "# Write any python you need to here\n"
   ]
  },
  {
   "cell_type": "markdown",
   "metadata": {},
   "source": [
    "// write any markdown here"
   ]
  },
  {
   "cell_type": "markdown",
   "metadata": {},
   "source": [
    "### Getting a Sense of the Data\n",
    "\n",
    "What's the mean of all the lead readings?"
   ]
  },
  {
   "cell_type": "code",
   "execution_count": 26,
   "metadata": {
    "collapsed": true
   },
   "outputs": [],
   "source": [
    "# Write any python you need to here\n"
   ]
  },
  {
   "cell_type": "markdown",
   "metadata": {},
   "source": [
    "// write any markdown here"
   ]
  },
  {
   "cell_type": "markdown",
   "metadata": {},
   "source": [
    "Do you think the mean is representative of how good (or bad) the overall lead levels in Flint water? If so, why; if not, why not? **Really take some time to think this one through.** Try to justify your group's opinions by using plots, calculations, or anything else you feel appropriately supports your point."
   ]
  },
  {
   "cell_type": "code",
   "execution_count": 27,
   "metadata": {
    "collapsed": true
   },
   "outputs": [],
   "source": [
    "# Write any python you need to here\n"
   ]
  },
  {
   "cell_type": "markdown",
   "metadata": {},
   "source": [
    "// write any markdown here"
   ]
  },
  {
   "cell_type": "markdown",
   "metadata": {},
   "source": [
    "How does the mean for all the readings compare to the EPA's \"action level\"? As a reminder, here's what the EPA guidelines say:\n",
    "\n",
    "> Lead and copper are regulated by a treatment technique that requires systems to control the corrosiveness of their water. If more than 10% of tap water samples exceed the action level, water systems must take additional steps. For copper, the action level is 1.3 mg/L, and for lead is 0.015 mg/L. \n",
    ">\n",
    "> Source: (http://www.epa.gov/your-drinking-water/table-regulated-drinking-water-contaminants#seven). "
   ]
  },
  {
   "cell_type": "code",
   "execution_count": 28,
   "metadata": {
    "collapsed": true
   },
   "outputs": [],
   "source": [
    "# Write any python you need to here\n"
   ]
  },
  {
   "cell_type": "markdown",
   "metadata": {},
   "source": [
    "// write any markdown here"
   ]
  },
  {
   "cell_type": "markdown",
   "metadata": {},
   "source": [
    "### Analysis"
   ]
  },
  {
   "cell_type": "markdown",
   "metadata": {},
   "source": [
    "Is comparing the mean to the action level enough to tell us whether Flint had a definite problem with its drinking water? If so, why? If not, why not? Take some time to think this through."
   ]
  },
  {
   "cell_type": "code",
   "execution_count": 29,
   "metadata": {
    "collapsed": true
   },
   "outputs": [],
   "source": [
    "# Write any python you need to here\n"
   ]
  },
  {
   "cell_type": "markdown",
   "metadata": {},
   "source": [
    "// write any markdown here"
   ]
  },
  {
   "cell_type": "markdown",
   "metadata": {},
   "source": [
    "---"
   ]
  },
  {
   "cell_type": "markdown",
   "metadata": {
    "collapsed": false
   },
   "source": [
    "## Homework - Informing Government\n",
    "\n",
    "**You're going to create a letter to [send to the Governor's office](http://michigan.gov/snyder/0,4668,7-277--267869--,00.html)** based on your data anlysis here. Use the rest of this notebook (starting with the \"Your Document to the Governor's Office\") to write that letter. Consider this core question:\n",
    "\n",
    "**Did water lead levels exceed the EPA's action limits? And if they did, how can we understand how badly it exceeded the limits?**\n",
    "\n",
    "Your document should be about 3-4 paragraphs long. You're encouraged to use code and results from your in-class work in your document. And, your  should do the following:\n",
    "\n",
    "1. *State your position* on whether lead levels exceeded EPA limits. Make it clear what your investigation found.\n",
    "2. *Justify your position* with graphics and written analysis to explain why you think what you think.\n",
    "3. *Consider counterarguments*. Could someone try to use the same data to arrive at a different conclusion than yours? If they could, explain why you think that position is flawed.\n",
    "\n",
    "Remember: *This is real data.* So,\n",
    "\n",
    "- **The conclusions you draw matter.** These are Flint resident's actual living conditions.\n",
    "- You may find other results online, but you still have to do your own analysis to decide whether you agree with their results. \n",
    "- Any numerical conclusions you draw should be backed up by your code. If you say the average lead level was below EPA limits, you'll need to be able to back up that claim in your notebook either with graphical evidence or numerical evidence (calculations)."
   ]
  },
  {
   "cell_type": "markdown",
   "metadata": {},
   "source": [
    "## Your Letter to the Governor's Office"
   ]
  },
  {
   "cell_type": "code",
   "execution_count": 30,
   "metadata": {
    "collapsed": true
   },
   "outputs": [],
   "source": [
    "#   Create any Python and Markdown cells you need \n",
    "#   to write your letter, do calculations, and make figures"
   ]
  },
  {
   "cell_type": "markdown",
   "metadata": {},
   "source": [
    "# Feedback (this is required, so please do it!)"
   ]
  },
  {
   "cell_type": "markdown",
   "metadata": {},
   "source": [
    "## How far did you get on this in class?"
   ]
  },
  {
   "cell_type": "markdown",
   "metadata": {},
   "source": [
    "// Write your answer here"
   ]
  },
  {
   "cell_type": "markdown",
   "metadata": {},
   "source": [
    "## How long did you spend on the homework?"
   ]
  },
  {
   "cell_type": "markdown",
   "metadata": {},
   "source": [
    "// Write your answer here"
   ]
  },
  {
   "cell_type": "markdown",
   "metadata": {},
   "source": [
    "## What parts of this assignment did you feel worked well?"
   ]
  },
  {
   "cell_type": "markdown",
   "metadata": {},
   "source": []
  },
  {
   "cell_type": "markdown",
   "metadata": {},
   "source": [
    "## What parts of this assignment didn't work as well?"
   ]
  },
  {
   "cell_type": "markdown",
   "metadata": {},
   "source": []
  },
  {
   "cell_type": "markdown",
   "metadata": {},
   "source": [
    "## What questions do you (or does your group) have after this assignment?"
   ]
  },
  {
   "cell_type": "markdown",
   "metadata": {},
   "source": []
  },
  {
   "cell_type": "markdown",
   "metadata": {},
   "source": [
    "## Want to learn more?"
   ]
  },
  {
   "cell_type": "markdown",
   "metadata": {},
   "source": [
    "- [Two][1] [talks][2] by Hans Rosling on visualizing public health data\n",
    "- [DataKind][3]: data analysis for humanity\n",
    "- [Code For America][4]\n",
    "- [The U.S. Digital Service][5]\n",
    "\n",
    "[1]: http://www.ted.com/talks/hans_rosling_the_truth_about_hiv\n",
    "[2]: http://www.ted.com/talks/hans_rosling_shows_the_best_stats_you_ve_ever_seen\n",
    "[3]: http://www.datakind.org\n",
    "[4]: http://www.codeforamerica.org\n",
    "[5]: https://www.whitehouse.gov/digital/united-states-digital-service"
   ]
  }
 ],
 "metadata": {
  "kernelspec": {
   "display_name": "Python 3",
   "language": "python",
   "name": "python3"
  },
  "language_info": {
   "codemirror_mode": {
    "name": "ipython",
    "version": 3
   },
   "file_extension": ".py",
   "mimetype": "text/x-python",
   "name": "python",
   "nbconvert_exporter": "python",
   "pygments_lexer": "ipython3",
   "version": "3.5.1"
  }
 },
 "nbformat": 4,
 "nbformat_minor": 0
}
